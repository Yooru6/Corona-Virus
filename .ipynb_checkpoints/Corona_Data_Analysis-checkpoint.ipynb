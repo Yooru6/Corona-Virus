{
 "cells": [
  {
   "cell_type": "code",
   "execution_count": 161,
   "metadata": {},
   "outputs": [],
   "source": [
    "import pandas as pd\n",
    "import numpy\n",
    "import sklearn as sk\n",
    "import matplotlib.pyplot as plt"
   ]
  },
  {
   "cell_type": "markdown",
   "metadata": {},
   "source": [
    "# DATA"
   ]
  },
  {
   "cell_type": "markdown",
   "metadata": {},
   "source": [
    "## Data sets:"
   ]
  },
  {
   "cell_type": "code",
   "execution_count": 162,
   "metadata": {},
   "outputs": [],
   "source": [
    "filename_confirmed_net='https://raw.githubusercontent.com/CSSEGISandData/COVID-19/master/csse_covid_19_data/csse_covid_19_time_series/time_series_19-covid-Confirmed.csv'\n",
    "filename_deaths_net='https://raw.githubusercontent.com/CSSEGISandData/COVID-19/master/csse_covid_19_data/csse_covid_19_time_series/time_series_19-covid-Deaths.csv'\n",
    "filename_recovered_net='https://raw.githubusercontent.com/CSSEGISandData/COVID-19/master/csse_covid_19_data/csse_covid_19_time_series/time_series_19-covid-Recovered.csv'"
   ]
  },
  {
   "cell_type": "code",
   "execution_count": 163,
   "metadata": {},
   "outputs": [],
   "source": [
    "filename1=r'data/covid_19_data.csv'\n",
    "filename_deaths=r'data/time_series_covid_19_deaths.csv'\n",
    "filename_recovered=r'data/time_series_covid_19_recovered.csv'\n",
    "filename_confirmed=r'data/time_series_covid_19_confirmed.csv'\n",
    "\n",
    "data_common = pd.read_csv(filename1,index_col=None,sep=',',na_values='?')\n",
    "data_deaths=pd.read_csv(filename_deaths_net,index_col=None,na_values='?',sep=',')\n",
    "data_recovered=pd.read_csv(filename_recovered_net,index_col=None,na_values='?',sep=',')\n",
    "data_confirmed=pd.read_csv(filename_confirmed_net,index_col=None,na_values='?',sep=',')"
   ]
  },
  {
   "cell_type": "markdown",
   "metadata": {},
   "source": [
    "### Corona-virus default dataset"
   ]
  },
  {
   "cell_type": "code",
   "execution_count": 164,
   "metadata": {},
   "outputs": [
    {
     "data": {
      "text/html": [
       "<div>\n",
       "<style scoped>\n",
       "    .dataframe tbody tr th:only-of-type {\n",
       "        vertical-align: middle;\n",
       "    }\n",
       "\n",
       "    .dataframe tbody tr th {\n",
       "        vertical-align: top;\n",
       "    }\n",
       "\n",
       "    .dataframe thead th {\n",
       "        text-align: right;\n",
       "    }\n",
       "</style>\n",
       "<table border=\"1\" class=\"dataframe\">\n",
       "  <thead>\n",
       "    <tr style=\"text-align: right;\">\n",
       "      <th></th>\n",
       "      <th>SNo</th>\n",
       "      <th>ObservationDate</th>\n",
       "      <th>Province/State</th>\n",
       "      <th>Country/Region</th>\n",
       "      <th>Last Update</th>\n",
       "      <th>Confirmed</th>\n",
       "      <th>Deaths</th>\n",
       "      <th>Recovered</th>\n",
       "    </tr>\n",
       "  </thead>\n",
       "  <tbody>\n",
       "    <tr>\n",
       "      <td>0</td>\n",
       "      <td>1</td>\n",
       "      <td>01/22/2020</td>\n",
       "      <td>Anhui</td>\n",
       "      <td>Mainland China</td>\n",
       "      <td>1/22/2020 17:00</td>\n",
       "      <td>1.0</td>\n",
       "      <td>0.0</td>\n",
       "      <td>0.0</td>\n",
       "    </tr>\n",
       "    <tr>\n",
       "      <td>1</td>\n",
       "      <td>2</td>\n",
       "      <td>01/22/2020</td>\n",
       "      <td>Beijing</td>\n",
       "      <td>Mainland China</td>\n",
       "      <td>1/22/2020 17:00</td>\n",
       "      <td>14.0</td>\n",
       "      <td>0.0</td>\n",
       "      <td>0.0</td>\n",
       "    </tr>\n",
       "    <tr>\n",
       "      <td>2</td>\n",
       "      <td>3</td>\n",
       "      <td>01/22/2020</td>\n",
       "      <td>Chongqing</td>\n",
       "      <td>Mainland China</td>\n",
       "      <td>1/22/2020 17:00</td>\n",
       "      <td>6.0</td>\n",
       "      <td>0.0</td>\n",
       "      <td>0.0</td>\n",
       "    </tr>\n",
       "    <tr>\n",
       "      <td>3</td>\n",
       "      <td>4</td>\n",
       "      <td>01/22/2020</td>\n",
       "      <td>Fujian</td>\n",
       "      <td>Mainland China</td>\n",
       "      <td>1/22/2020 17:00</td>\n",
       "      <td>1.0</td>\n",
       "      <td>0.0</td>\n",
       "      <td>0.0</td>\n",
       "    </tr>\n",
       "    <tr>\n",
       "      <td>4</td>\n",
       "      <td>5</td>\n",
       "      <td>01/22/2020</td>\n",
       "      <td>Gansu</td>\n",
       "      <td>Mainland China</td>\n",
       "      <td>1/22/2020 17:00</td>\n",
       "      <td>0.0</td>\n",
       "      <td>0.0</td>\n",
       "      <td>0.0</td>\n",
       "    </tr>\n",
       "  </tbody>\n",
       "</table>\n",
       "</div>"
      ],
      "text/plain": [
       "   SNo ObservationDate Province/State  Country/Region      Last Update  \\\n",
       "0    1      01/22/2020          Anhui  Mainland China  1/22/2020 17:00   \n",
       "1    2      01/22/2020        Beijing  Mainland China  1/22/2020 17:00   \n",
       "2    3      01/22/2020      Chongqing  Mainland China  1/22/2020 17:00   \n",
       "3    4      01/22/2020         Fujian  Mainland China  1/22/2020 17:00   \n",
       "4    5      01/22/2020          Gansu  Mainland China  1/22/2020 17:00   \n",
       "\n",
       "   Confirmed  Deaths  Recovered  \n",
       "0        1.0     0.0        0.0  \n",
       "1       14.0     0.0        0.0  \n",
       "2        6.0     0.0        0.0  \n",
       "3        1.0     0.0        0.0  \n",
       "4        0.0     0.0        0.0  "
      ]
     },
     "execution_count": 164,
     "metadata": {},
     "output_type": "execute_result"
    }
   ],
   "source": [
    "data_common.head(5)"
   ]
  },
  {
   "cell_type": "markdown",
   "metadata": {},
   "source": [
    "### Corona-virus Deaths"
   ]
  },
  {
   "cell_type": "code",
   "execution_count": 165,
   "metadata": {},
   "outputs": [
    {
     "data": {
      "text/html": [
       "<div>\n",
       "<style scoped>\n",
       "    .dataframe tbody tr th:only-of-type {\n",
       "        vertical-align: middle;\n",
       "    }\n",
       "\n",
       "    .dataframe tbody tr th {\n",
       "        vertical-align: top;\n",
       "    }\n",
       "\n",
       "    .dataframe thead th {\n",
       "        text-align: right;\n",
       "    }\n",
       "</style>\n",
       "<table border=\"1\" class=\"dataframe\">\n",
       "  <thead>\n",
       "    <tr style=\"text-align: right;\">\n",
       "      <th></th>\n",
       "      <th>Province/State</th>\n",
       "      <th>Country/Region</th>\n",
       "      <th>Lat</th>\n",
       "      <th>Long</th>\n",
       "      <th>1/22/20</th>\n",
       "      <th>1/23/20</th>\n",
       "      <th>1/24/20</th>\n",
       "      <th>1/25/20</th>\n",
       "      <th>1/26/20</th>\n",
       "      <th>1/27/20</th>\n",
       "      <th>...</th>\n",
       "      <th>2/26/20</th>\n",
       "      <th>2/27/20</th>\n",
       "      <th>2/28/20</th>\n",
       "      <th>2/29/20</th>\n",
       "      <th>3/1/20</th>\n",
       "      <th>3/2/20</th>\n",
       "      <th>3/3/20</th>\n",
       "      <th>3/4/20</th>\n",
       "      <th>3/5/20</th>\n",
       "      <th>3/6/20</th>\n",
       "    </tr>\n",
       "  </thead>\n",
       "  <tbody>\n",
       "    <tr>\n",
       "      <td>0</td>\n",
       "      <td>Anhui</td>\n",
       "      <td>Mainland China</td>\n",
       "      <td>31.8257</td>\n",
       "      <td>117.2264</td>\n",
       "      <td>0</td>\n",
       "      <td>0</td>\n",
       "      <td>0</td>\n",
       "      <td>0</td>\n",
       "      <td>0</td>\n",
       "      <td>0</td>\n",
       "      <td>...</td>\n",
       "      <td>6</td>\n",
       "      <td>6</td>\n",
       "      <td>6</td>\n",
       "      <td>6</td>\n",
       "      <td>6</td>\n",
       "      <td>6</td>\n",
       "      <td>6</td>\n",
       "      <td>6</td>\n",
       "      <td>6</td>\n",
       "      <td>6</td>\n",
       "    </tr>\n",
       "    <tr>\n",
       "      <td>1</td>\n",
       "      <td>Beijing</td>\n",
       "      <td>Mainland China</td>\n",
       "      <td>40.1824</td>\n",
       "      <td>116.4142</td>\n",
       "      <td>0</td>\n",
       "      <td>0</td>\n",
       "      <td>0</td>\n",
       "      <td>0</td>\n",
       "      <td>0</td>\n",
       "      <td>1</td>\n",
       "      <td>...</td>\n",
       "      <td>4</td>\n",
       "      <td>5</td>\n",
       "      <td>7</td>\n",
       "      <td>8</td>\n",
       "      <td>8</td>\n",
       "      <td>8</td>\n",
       "      <td>8</td>\n",
       "      <td>8</td>\n",
       "      <td>8</td>\n",
       "      <td>8</td>\n",
       "    </tr>\n",
       "    <tr>\n",
       "      <td>2</td>\n",
       "      <td>Chongqing</td>\n",
       "      <td>Mainland China</td>\n",
       "      <td>30.0572</td>\n",
       "      <td>107.8740</td>\n",
       "      <td>0</td>\n",
       "      <td>0</td>\n",
       "      <td>0</td>\n",
       "      <td>0</td>\n",
       "      <td>0</td>\n",
       "      <td>0</td>\n",
       "      <td>...</td>\n",
       "      <td>6</td>\n",
       "      <td>6</td>\n",
       "      <td>6</td>\n",
       "      <td>6</td>\n",
       "      <td>6</td>\n",
       "      <td>6</td>\n",
       "      <td>6</td>\n",
       "      <td>6</td>\n",
       "      <td>6</td>\n",
       "      <td>6</td>\n",
       "    </tr>\n",
       "    <tr>\n",
       "      <td>3</td>\n",
       "      <td>Fujian</td>\n",
       "      <td>Mainland China</td>\n",
       "      <td>26.0789</td>\n",
       "      <td>117.9874</td>\n",
       "      <td>0</td>\n",
       "      <td>0</td>\n",
       "      <td>0</td>\n",
       "      <td>0</td>\n",
       "      <td>0</td>\n",
       "      <td>0</td>\n",
       "      <td>...</td>\n",
       "      <td>1</td>\n",
       "      <td>1</td>\n",
       "      <td>1</td>\n",
       "      <td>1</td>\n",
       "      <td>1</td>\n",
       "      <td>1</td>\n",
       "      <td>1</td>\n",
       "      <td>1</td>\n",
       "      <td>1</td>\n",
       "      <td>1</td>\n",
       "    </tr>\n",
       "    <tr>\n",
       "      <td>4</td>\n",
       "      <td>Gansu</td>\n",
       "      <td>Mainland China</td>\n",
       "      <td>36.0611</td>\n",
       "      <td>103.8343</td>\n",
       "      <td>0</td>\n",
       "      <td>0</td>\n",
       "      <td>0</td>\n",
       "      <td>0</td>\n",
       "      <td>0</td>\n",
       "      <td>0</td>\n",
       "      <td>...</td>\n",
       "      <td>2</td>\n",
       "      <td>2</td>\n",
       "      <td>2</td>\n",
       "      <td>2</td>\n",
       "      <td>2</td>\n",
       "      <td>2</td>\n",
       "      <td>2</td>\n",
       "      <td>2</td>\n",
       "      <td>2</td>\n",
       "      <td>2</td>\n",
       "    </tr>\n",
       "  </tbody>\n",
       "</table>\n",
       "<p>5 rows × 49 columns</p>\n",
       "</div>"
      ],
      "text/plain": [
       "  Province/State  Country/Region      Lat      Long  1/22/20  1/23/20  \\\n",
       "0          Anhui  Mainland China  31.8257  117.2264        0        0   \n",
       "1        Beijing  Mainland China  40.1824  116.4142        0        0   \n",
       "2      Chongqing  Mainland China  30.0572  107.8740        0        0   \n",
       "3         Fujian  Mainland China  26.0789  117.9874        0        0   \n",
       "4          Gansu  Mainland China  36.0611  103.8343        0        0   \n",
       "\n",
       "   1/24/20  1/25/20  1/26/20  1/27/20  ...  2/26/20  2/27/20  2/28/20  \\\n",
       "0        0        0        0        0  ...        6        6        6   \n",
       "1        0        0        0        1  ...        4        5        7   \n",
       "2        0        0        0        0  ...        6        6        6   \n",
       "3        0        0        0        0  ...        1        1        1   \n",
       "4        0        0        0        0  ...        2        2        2   \n",
       "\n",
       "   2/29/20  3/1/20  3/2/20  3/3/20  3/4/20  3/5/20  3/6/20  \n",
       "0        6       6       6       6       6       6       6  \n",
       "1        8       8       8       8       8       8       8  \n",
       "2        6       6       6       6       6       6       6  \n",
       "3        1       1       1       1       1       1       1  \n",
       "4        2       2       2       2       2       2       2  \n",
       "\n",
       "[5 rows x 49 columns]"
      ]
     },
     "execution_count": 165,
     "metadata": {},
     "output_type": "execute_result"
    }
   ],
   "source": [
    "data_deaths.head(5)"
   ]
  },
  {
   "cell_type": "markdown",
   "metadata": {},
   "source": [
    "## Pandas - Functions for filtering"
   ]
  },
  {
   "cell_type": "code",
   "execution_count": 166,
   "metadata": {},
   "outputs": [],
   "source": [
    "#Filter Data. Return df where column name == vale\n",
    "def filterByColumnValue(data, columnName, value):\n",
    "    filtered=data.loc[data[columnName].isin(value)]\n",
    "    return filtered\n",
    "\n",
    "#Return df which contains string 'value'\n",
    "def filterByColumnHas(data, columnName, value):\n",
    "    filtered=data.loc[data[columnName].str.contains(value)]\n",
    "    return filtered"
   ]
  },
  {
   "cell_type": "code",
   "execution_count": 167,
   "metadata": {},
   "outputs": [],
   "source": [
    "#filterByColumnValue(data_deaths,\"Country/Region\",[\"Mainland China\",'Finland'])"
   ]
  },
  {
   "cell_type": "code",
   "execution_count": 168,
   "metadata": {},
   "outputs": [],
   "source": [
    "#filterByColumnHas(data_deaths,\"Country/Region\",\"Malaysia\")"
   ]
  },
  {
   "cell_type": "markdown",
   "metadata": {},
   "source": [
    "## Functions:"
   ]
  },
  {
   "cell_type": "markdown",
   "metadata": {},
   "source": [
    "### Map Plot:"
   ]
  },
  {
   "cell_type": "code",
   "execution_count": 169,
   "metadata": {},
   "outputs": [],
   "source": [
    "import plotly.express as px\n",
    "import chart_studio.plotly as py\n",
    "import chart_studio.plotly as py\n",
    "import plotly.graph_objects as go"
   ]
  },
  {
   "cell_type": "code",
   "execution_count": 170,
   "metadata": {},
   "outputs": [],
   "source": [
    "import plotly.express as px\n",
    "\n",
    "## Plot basic map\n",
    "def plotMapCases(data,title):\n",
    "    #Delete rows where value on last column is 0\n",
    "    data=data[data.iloc[:,-1] != 0]\n",
    "    \n",
    "    \n",
    "    #Plot Body\n",
    "    fig = px.scatter_mapbox(data, lat=\"Lat\", lon=\"Long\",\n",
    "                            hover_name=data.iloc[:,-1],\n",
    "                            hover_data=[\"Country/Region\",'Province/State'],\n",
    "                            zoom=1, height=600,\n",
    "                            labels={'hover_name':'Cases','hover_data_0':'Cases'},\n",
    "                            color_discrete_sequence=[\"red\"])#size=data.iloc[:,-1]*0.1\n",
    "    \n",
    "    # Configure settings and map layout for body\n",
    "    fig.update_traces(texttemplate='%{text:.2s}', textposition='top center')   \n",
    "    fig.update_layout(mapbox_style=\"carto-darkmatter\",title=title)\n",
    "    fig.update_layout(margin={\"r\":0,\"t\":0,\"l\":0,\"b\":0})\n",
    "    \n",
    "    #Plot\n",
    "    fig.show()\n",
    "\n",
    "# Plot Geo map   \n",
    "def plotMapGeo(data,title):\n",
    "    fig = px.scatter_geo(data, lat=\"Lat\", lon=\"Long\",text=\"Country/Region\", \n",
    "                         hover_name=\"Country/Region\", \n",
    "                         hover_data=['Province/State',data.iloc[:,-1]],\n",
    "                         height=600)#size=data.iloc[:,-1]*0.1\n",
    "    \n",
    "    fig.update_traces(texttemplate='%{text:.2s}', textposition='top center')\n",
    "    \n",
    "    \n",
    "    fig.update_layout(mapbox_style=\"open-street-map\",title=title,uniformtext_minsize=200)\n",
    "    fig.update_layout(margin={\"r\":0,\"t\":0,\"l\":0,\"b\":0})\n",
    "    fig.show()"
   ]
  },
  {
   "cell_type": "markdown",
   "metadata": {},
   "source": [
    "### Bar Plot:"
   ]
  },
  {
   "cell_type": "code",
   "execution_count": 171,
   "metadata": {},
   "outputs": [],
   "source": [
    "import chart_studio.plotly as py\n",
    "import plotly.graph_objects as go\n",
    "import plotly.express as px\n",
    "\n",
    "def plotBars(dataSet,startFrom):\n",
    "    \n",
    "    #Store Unique Column Values from country/region\n",
    "    columns_country=dataSet['Country/Region'].unique()\n",
    "    \n",
    "    #Make Data set which contains latest death counts by country\n",
    "    latest_death_count=pd.concat([dataSet['Country/Region'],dataSet.iloc[:,-1]], axis=1)\n",
    "\n",
    "    graph_death=pd.DataFrame()\n",
    "    \n",
    "    #Calculate total death count in each country and append results on the graph_death dataframe\n",
    "    for i in range (len(columns_country)):\n",
    "        pickedCountry=filterByColumnValue(latest_death_count,\"Country/Region\",[columns_country[i]])\n",
    "        deathsCount=pickedCountry.iloc[:,1:].sum(axis = 0, skipna = True)\n",
    "        graph_death= graph_death.append(deathsCount,ignore_index=True)\n",
    "\n",
    "    #add country names to df\n",
    "    graph_death.insert(0, 'Country', columns_country)\n",
    "    graph_death.rename(columns={graph_death.columns.values[1]:'Deaths'}, inplace=True)#'2/20/20'\n",
    "    #graph_death=graph_death.iloc[1:,:]\n",
    "    \n",
    "    #Make variable for plotting and insert data\n",
    "    data = [go.Bar(x=graph_death.iloc[startFrom:,:]['Country'],y=graph_death.iloc[startFrom:,:]['Deaths'])]\n",
    "    \n",
    "    \n",
    "    print(graph_death)  \n",
    "    return data\n",
    "\n",
    "def plotBarsSimple(dataSet,startFrom,title):\n",
    "    \n",
    "    dataSet=dataSet[dataSet.iloc[:,-1] != 0]\n",
    "    \n",
    "    #Store Unique Column Values from country/region\n",
    "    columns_country=dataSet['Country/Region'].unique()\n",
    "    \n",
    "    #Make Data set which contains latest death counts by country\n",
    "    latest_count=pd.concat([dataSet['Country/Region'],dataSet.iloc[:,-1]], axis=1)\n",
    "\n",
    "    #Make empy dataframe\n",
    "    graph_data=pd.DataFrame()\n",
    "    \n",
    "    #Calculate total death count in each country and append results on the graph_death dataframe\n",
    "    for i in range (len(columns_country)):\n",
    "        pickedCountry=filterByColumnValue(latest_count,\"Country/Region\",[columns_country[i]])\n",
    "        caseCount=pickedCountry.iloc[:,1:].sum(axis = 0, skipna = True)\n",
    "        graph_data = graph_data.append(caseCount,ignore_index=True)\n",
    "\n",
    "    #add country names to df\n",
    "    graph_data.insert(0, 'Country', columns_country)\n",
    "    graph_data.rename(columns={graph_data.columns.values[1]:'Cases'}, inplace=True)\n",
    "    \n",
    "\n",
    "    #df = px.data.gapminder() #.query(\"continent == 'Europe' and year == 2007 and pop > 2.e6\")\n",
    "    fig = px.bar(graph_data.iloc[startFrom:,:], \n",
    "          y=graph_data.iloc[startFrom:,:]['Cases'],\n",
    "          x=graph_data.iloc[startFrom:,:]['Country'],\n",
    "          text='Cases',height=700)\n",
    "    \n",
    "    fig.update_traces(texttemplate='%{text:.2s}', textposition='outside')\n",
    "    \n",
    "    #X and Y axis label names and sizes\n",
    "    fig.update_layout(\n",
    "    xaxis = dict(\n",
    "        tickangle = 90,\n",
    "        title_text = \"Country\",\n",
    "        title_font = {\"size\": 15},\n",
    "        title_standoff = 15),\n",
    "    yaxis = dict(\n",
    "        title_text = \"Cases\",\n",
    "        title_standoff = 15))\n",
    "    \n",
    "    fig.update_layout(uniformtext_minsize=5, uniformtext_mode='hide',title=title,)\n",
    "    graph_data\n",
    "    plotTable(graph_data)\n",
    "    fig.show()\n",
    "    \n",
    "def plotTable(dataT):\n",
    "    fig = go.Figure(data=[go.Table(\n",
    "        header=dict(values=list(dataT.columns),\n",
    "                    fill_color='lavender',\n",
    "                    align='left'),\n",
    "        cells=dict(values=[dataT.iloc[:,:-1],dataT.iloc[:,-1:]],\n",
    "                   fill_color='light blue',\n",
    "                   align='left'))\n",
    "    ])\n",
    "\n",
    "    fig.show()"
   ]
  },
  {
   "cell_type": "markdown",
   "metadata": {},
   "source": [
    "## Plot Confirmed Cases\n",
    "-Map<br>\n",
    "-table<br>\n",
    "-bar<br>"
   ]
  },
  {
   "cell_type": "code",
   "execution_count": 172,
   "metadata": {},
   "outputs": [
    {
     "data": {
      "application/vnd.plotly.v1+json": {
       "config": {
        "plotlyServerURL": "https://plot.ly"
       },
       "data": [
        {
         "customdata": [
          [
           "Mainland China",
           "Anhui"
          ],
          [
           "Mainland China",
           "Beijing"
          ],
          [
           "Mainland China",
           "Chongqing"
          ],
          [
           "Mainland China",
           "Fujian"
          ],
          [
           "Mainland China",
           "Gansu"
          ],
          [
           "Mainland China",
           "Guangdong"
          ],
          [
           "Mainland China",
           "Guangxi"
          ],
          [
           "Mainland China",
           "Guizhou"
          ],
          [
           "Mainland China",
           "Hainan"
          ],
          [
           "Mainland China",
           "Hebei"
          ],
          [
           "Mainland China",
           "Heilongjiang"
          ],
          [
           "Mainland China",
           "Henan"
          ],
          [
           "Mainland China",
           "Hubei"
          ],
          [
           "Mainland China",
           "Hunan"
          ],
          [
           "Mainland China",
           "Inner Mongolia"
          ],
          [
           "Mainland China",
           "Jiangsu"
          ],
          [
           "Mainland China",
           "Jiangxi"
          ],
          [
           "Mainland China",
           "Jilin"
          ],
          [
           "Mainland China",
           "Liaoning"
          ],
          [
           "Mainland China",
           "Ningxia"
          ],
          [
           "Mainland China",
           "Qinghai"
          ],
          [
           "Mainland China",
           "Shaanxi"
          ],
          [
           "Mainland China",
           "Shandong"
          ],
          [
           "Mainland China",
           "Shanghai"
          ],
          [
           "Mainland China",
           "Shanxi"
          ],
          [
           "Mainland China",
           "Sichuan"
          ],
          [
           "Mainland China",
           "Tianjin"
          ],
          [
           "Mainland China",
           "Tibet"
          ],
          [
           "Mainland China",
           "Xinjiang"
          ],
          [
           "Mainland China",
           "Yunnan"
          ],
          [
           "Mainland China",
           "Zhejiang"
          ],
          [
           "Thailand",
           null
          ],
          [
           "Japan",
           null
          ],
          [
           "South Korea",
           null
          ],
          [
           "Taiwan",
           "Taiwan"
          ],
          [
           "US",
           "King County, WA"
          ],
          [
           "US",
           "Cook County, IL"
          ],
          [
           "US",
           "Tempe, AZ"
          ],
          [
           "Macau",
           "Macau"
          ],
          [
           "Hong Kong",
           "Hong Kong"
          ],
          [
           "Singapore",
           null
          ],
          [
           "Vietnam",
           null
          ],
          [
           "France",
           null
          ],
          [
           "Nepal",
           null
          ],
          [
           "Malaysia",
           null
          ],
          [
           "Canada",
           "Toronto, ON"
          ],
          [
           "Canada",
           "British Columbia"
          ],
          [
           "US",
           "Los Angeles, CA"
          ],
          [
           "Australia",
           "New South Wales"
          ],
          [
           "Australia",
           "Victoria"
          ],
          [
           "Australia",
           "Queensland"
          ],
          [
           "Cambodia",
           null
          ],
          [
           "Sri Lanka",
           null
          ],
          [
           "Germany",
           null
          ],
          [
           "Finland",
           null
          ],
          [
           "United Arab Emirates",
           null
          ],
          [
           "Philippines",
           null
          ],
          [
           "India",
           null
          ],
          [
           "Canada",
           "London, ON"
          ],
          [
           "Italy",
           null
          ],
          [
           "UK",
           null
          ],
          [
           "Russia",
           null
          ],
          [
           "Sweden",
           null
          ],
          [
           "US",
           "Santa Clara, CA"
          ],
          [
           "Spain",
           null
          ],
          [
           "Australia",
           "South Australia"
          ],
          [
           "US",
           "San Benito, CA"
          ],
          [
           "Belgium",
           null
          ],
          [
           "US",
           "Madison, WI"
          ],
          [
           "Others",
           "Diamond Princess cruise ship"
          ],
          [
           "US",
           "San Diego County, CA"
          ],
          [
           "US",
           "San Antonio, TX"
          ],
          [
           "Egypt",
           null
          ],
          [
           "Iran",
           null
          ],
          [
           "Lebanon",
           null
          ],
          [
           "US",
           "Humboldt County, CA"
          ],
          [
           "US",
           "Sacramento County, CA"
          ],
          [
           "Iraq",
           null
          ],
          [
           "US",
           "Unassigned Location (From Diamond Princess)"
          ],
          [
           "Oman",
           null
          ],
          [
           "Afghanistan",
           null
          ],
          [
           "Bahrain",
           null
          ],
          [
           "Kuwait",
           null
          ],
          [
           "Algeria",
           null
          ],
          [
           "Croatia",
           null
          ],
          [
           "Switzerland",
           null
          ],
          [
           "Austria",
           null
          ],
          [
           "Israel",
           null
          ],
          [
           "Pakistan",
           null
          ],
          [
           "Brazil",
           null
          ],
          [
           "Georgia",
           null
          ],
          [
           "Greece",
           null
          ],
          [
           "North Macedonia",
           null
          ],
          [
           "Norway",
           null
          ],
          [
           "Romania",
           null
          ],
          [
           "Denmark",
           null
          ],
          [
           "Estonia",
           null
          ],
          [
           "Netherlands",
           null
          ],
          [
           "San Marino",
           null
          ],
          [
           "Belarus",
           null
          ],
          [
           "Canada",
           " Montreal, QC"
          ],
          [
           "Iceland",
           null
          ],
          [
           "Lithuania",
           null
          ],
          [
           "Mexico",
           null
          ],
          [
           "New Zealand",
           null
          ],
          [
           "Nigeria",
           null
          ],
          [
           "Australia",
           "Western Australia"
          ],
          [
           "Ireland",
           null
          ],
          [
           "Luxembourg",
           null
          ],
          [
           "Monaco",
           null
          ],
          [
           "Qatar",
           null
          ],
          [
           "US",
           "Snohomish County, WA"
          ],
          [
           "Ecuador",
           null
          ],
          [
           "Azerbaijan",
           null
          ],
          [
           "Czech Republic",
           null
          ],
          [
           "Armenia",
           null
          ],
          [
           "Dominican Republic",
           null
          ],
          [
           "US",
           "Providence, RI"
          ],
          [
           "Indonesia",
           null
          ],
          [
           "Portugal",
           null
          ],
          [
           "Andorra",
           null
          ],
          [
           "Australia",
           "Tasmania"
          ],
          [
           "Latvia",
           null
          ],
          [
           "Morocco",
           null
          ],
          [
           "Saudi Arabia",
           null
          ],
          [
           "Senegal",
           null
          ],
          [
           "US",
           "Grafton County, NH"
          ],
          [
           "US",
           "Hillsborough, FL"
          ],
          [
           "US",
           "Placer County, CA"
          ],
          [
           "US",
           "San Mateo, CA"
          ],
          [
           "US",
           "Sarasota, FL"
          ],
          [
           "US",
           "Sonoma County, CA"
          ],
          [
           "US",
           "Umatilla, OR"
          ],
          [
           "US",
           "Fulton County, GA"
          ],
          [
           "US",
           "Washington County, OR"
          ],
          [
           "Argentina",
           null
          ],
          [
           "Chile",
           null
          ],
          [
           "Jordan",
           null
          ],
          [
           "US",
           " Norfolk County, MA"
          ],
          [
           "US",
           "Berkeley, CA"
          ],
          [
           "US",
           "Maricopa County, AZ"
          ],
          [
           "US",
           "Wake County, NC"
          ],
          [
           "US",
           "Westchester County, NY"
          ],
          [
           "Ukraine",
           null
          ],
          [
           "Saint Barthelemy",
           null
          ],
          [
           "US",
           "Orange County, CA"
          ],
          [
           "Hungary",
           null
          ],
          [
           "Faroe Islands",
           null
          ],
          [
           "Gibraltar",
           null
          ],
          [
           "Liechtenstein",
           null
          ],
          [
           "Poland",
           null
          ],
          [
           "Tunisia",
           null
          ],
          [
           "US",
           "Contra Costa County, CA"
          ],
          [
           "Palestine",
           null
          ],
          [
           "Bosnia and Herzegovina",
           null
          ],
          [
           "Slovenia",
           null
          ],
          [
           "US",
           "Bergen County, NJ"
          ],
          [
           "US",
           "Harris County, TX"
          ],
          [
           "US",
           "San Francisco County, CA"
          ],
          [
           "South Africa",
           null
          ],
          [
           "US",
           "Clark County, NV"
          ],
          [
           "US",
           "Fort Bend County, TX"
          ],
          [
           "US",
           "Grant County, WA"
          ],
          [
           "US",
           "Santa Rosa County, FL"
          ],
          [
           "US",
           "Williamson County, TN"
          ],
          [
           "US",
           "New York County, NY"
          ],
          [
           "US",
           "Unassigned Location, WA"
          ],
          [
           "US",
           "Montgomery County, MD"
          ],
          [
           "US",
           "Suffolk County, MA"
          ],
          [
           "US",
           "Denver County, CO"
          ],
          [
           "US",
           "Summit County, CO"
          ],
          [
           "Bhutan",
           null
          ],
          [
           "Cameroon",
           null
          ],
          [
           "Canada",
           "Calgary, Alberta"
          ],
          [
           "Colombia",
           null
          ],
          [
           "Costa Rica",
           null
          ],
          [
           "Peru",
           null
          ],
          [
           "Serbia",
           null
          ],
          [
           "Slovakia",
           null
          ],
          [
           "Togo",
           null
          ],
          [
           "US",
           "Chatham County, NC"
          ],
          [
           "US",
           "Delaware County, PA"
          ],
          [
           "US",
           "Douglas County, NE"
          ],
          [
           "US",
           "Fayette County, KY"
          ],
          [
           "US",
           "Floyd County, GA"
          ],
          [
           "US",
           "Marion County, IN"
          ],
          [
           "US",
           "Middlesex County, MA"
          ],
          [
           "US",
           "Nassau County, NY"
          ],
          [
           "US",
           "Norwell County, MA"
          ],
          [
           "US",
           "Ramsey County, MN"
          ],
          [
           "US",
           "Washoe County, NV"
          ],
          [
           "US",
           "Wayne County, PA"
          ],
          [
           "US",
           "Yolo County, CA"
          ],
          [
           "Vatican City",
           null
          ]
         ],
         "hoverlabel": {
          "namelength": 0
         },
         "hovertemplate": "<b>%{hovertext}</b><br><br>Country/Region=%{customdata[0]}<br>Province/State=%{customdata[1]}<br>Lat=%{lat}<br>Long=%{lon}",
         "hovertext": [
          990,
          422,
          576,
          296,
          119,
          1352,
          252,
          146,
          168,
          318,
          481,
          1272,
          67592,
          1018,
          75,
          631,
          935,
          93,
          125,
          75,
          18,
          245,
          758,
          342,
          133,
          539,
          136,
          1,
          76,
          174,
          1215,
          48,
          420,
          6593,
          45,
          58,
          5,
          1,
          10,
          107,
          130,
          16,
          653,
          1,
          83,
          24,
          21,
          13,
          26,
          10,
          13,
          1,
          1,
          670,
          15,
          29,
          5,
          31,
          1,
          4636,
          163,
          13,
          101,
          20,
          400,
          7,
          2,
          109,
          1,
          696,
          3,
          1,
          15,
          4747,
          22,
          1,
          2,
          40,
          45,
          16,
          1,
          60,
          58,
          17,
          11,
          214,
          55,
          21,
          6,
          13,
          4,
          45,
          3,
          108,
          9,
          23,
          10,
          128,
          21,
          6,
          2,
          43,
          1,
          6,
          4,
          1,
          3,
          18,
          2,
          1,
          8,
          19,
          13,
          6,
          18,
          1,
          2,
          2,
          4,
          13,
          1,
          1,
          1,
          2,
          5,
          4,
          2,
          2,
          5,
          2,
          1,
          1,
          1,
          2,
          2,
          2,
          4,
          1,
          2,
          1,
          2,
          1,
          19,
          1,
          3,
          3,
          2,
          1,
          1,
          1,
          5,
          1,
          3,
          16,
          2,
          7,
          2,
          3,
          2,
          1,
          1,
          1,
          1,
          1,
          1,
          16,
          5,
          3,
          3,
          2,
          2,
          1,
          1,
          1,
          1,
          1,
          1,
          1,
          1,
          1,
          1,
          1,
          1,
          1,
          1,
          1,
          1,
          1,
          1,
          1,
          1,
          1,
          1,
          1
         ],
         "lat": [
          31.8257,
          40.1824,
          30.0572,
          26.0789,
          36.0611,
          23.3417,
          23.8298,
          26.8154,
          19.1959,
          38.0428,
          47.861999999999995,
          33.882020000000004,
          30.9756,
          27.6104,
          44.0935,
          32.9711,
          27.614,
          43.6661,
          41.2956,
          37.2692,
          35.7452,
          35.1917,
          36.3427,
          31.201999999999998,
          37.5777,
          30.6171,
          39.3054,
          31.6927,
          41.1129,
          24.974,
          29.1832,
          15,
          36,
          36,
          23.7,
          47.6062,
          41.7377,
          33.4255,
          22.1667,
          22.3,
          1.2833,
          16,
          47,
          28.1667,
          2.5,
          43.6532,
          49.2827,
          34.0522,
          -33.8688,
          -37.8136,
          -28.0167,
          11.55,
          7,
          51,
          64,
          24,
          13,
          21,
          42.9849,
          43,
          55,
          60,
          63,
          37.3541,
          40,
          -34.9285,
          36.5761,
          50.8333,
          43.0731,
          35.4437,
          32.7157,
          29.4241,
          26,
          32,
          33.8547,
          40.745,
          38.4747,
          33,
          35.4437,
          21,
          33,
          26.0275,
          29.5,
          28.0339,
          45.1,
          46.8182,
          47.5162,
          31,
          30.3753,
          -14.235,
          42.3154,
          39.0742,
          41.6086,
          60.472,
          45.9432,
          56.2639,
          58.5953,
          52.1326,
          43.9424,
          53.7098,
          45.5017,
          64.9631,
          55.1694,
          23.6345,
          -40.9006,
          9.082,
          -31.9505,
          53.1424,
          49.8153,
          43.7333,
          25.3548,
          48.033,
          -1.8312,
          40.1431,
          49.8175,
          40.0691,
          18.7357,
          41.824,
          -0.7893,
          39.3999,
          42.5063,
          -41.4545,
          56.8796,
          31.7917,
          24,
          14.4974,
          43.9088,
          27.9904,
          39.0916,
          37.563,
          27.3364,
          38.578,
          45.775,
          33.8034,
          45.547,
          -38.4161,
          -35.6751,
          31.24,
          42.1767,
          37.8715,
          33.2918,
          35.8032,
          41.122,
          48.3794,
          17.9,
          33.7879,
          47.1625,
          61.8926,
          36.1408,
          47.14,
          51.9194,
          34,
          37.8534,
          31.9522,
          43.9159,
          46.1512,
          40.9263,
          29.7752,
          37.7749,
          -30.5595,
          36.0796,
          29.5693,
          47.1981,
          30.769000000000002,
          35.9179,
          40.7128,
          47.7511,
          39.1547,
          42.3601,
          39.7392,
          39.5912,
          27.5142,
          3.8480000000000003,
          51.0447,
          4.5709,
          9.7489,
          -9.19,
          44.0165,
          48.669,
          8.6195,
          35.7211,
          39.9078,
          41.3148,
          38.0606,
          34.2829,
          39.8362,
          42.4672,
          40.6546,
          42.1615,
          44.9964,
          40.5608,
          41.6739,
          38.7646,
          41.9029
         ],
         "legendgroup": "",
         "lon": [
          117.2264,
          116.4142,
          107.874,
          117.9874,
          103.8343,
          113.4244,
          108.7881,
          106.8748,
          109.7453,
          114.5149,
          127.7615,
          113.61399999999999,
          112.2707,
          111.7088,
          113.9448,
          119.455,
          115.7221,
          126.1923,
          122.6085,
          106.1655,
          95.9956,
          108.8701,
          118.1498,
          121.4491,
          112.2922,
          102.7103,
          117.323,
          88.0924,
          85.2401,
          101.48700000000001,
          120.0934,
          101,
          138,
          128,
          121,
          -122.3321,
          -87.6976,
          -111.94,
          113.55,
          114.2,
          103.8333,
          108,
          2,
          84.25,
          112.5,
          -79.3832,
          -123.1207,
          -118.2437,
          151.2093,
          144.9631,
          153.4,
          104.9167,
          81,
          9,
          26,
          54,
          122,
          78,
          -81.2453,
          12,
          -3,
          90,
          16,
          -121.9552,
          -4,
          138.6007,
          -120.9876,
          4,
          -89.4012,
          139.638,
          -117.1611,
          -98.4936,
          30,
          53,
          35.8623,
          -123.8695,
          -121.3542,
          44,
          139.638,
          57,
          65,
          50.55,
          47.75,
          1.6596,
          15.2,
          8.2275,
          14.5501,
          35,
          69.3451,
          -51.9253,
          43.3569,
          21.8243,
          21.7453,
          8.4689,
          24.9668,
          9.5018,
          25.0136,
          5.2913,
          12.4578,
          27.9534,
          -73.5673,
          -19.0208,
          23.8813,
          -102.5528,
          174.886,
          8.6753,
          115.8605,
          -7.6921,
          6.1296,
          7.4167,
          51.1839,
          -121.8339,
          -78.1834,
          47.5769,
          15.472999999999999,
          45.0382,
          -70.1627,
          -71.4128,
          113.9213,
          -8.2245,
          1.5218,
          145.9707,
          24.6032,
          -7.0926,
          45,
          -14.4524,
          -71.82600000000001,
          -82.3018,
          -120.8039,
          -122.3255,
          -82.5307,
          -122.9888,
          -118.7606,
          -84.3963,
          -123.1386,
          -63.6167,
          -71.543,
          36.51,
          -71.1449,
          -122.273,
          -112.4291,
          -78.5661,
          -73.7949,
          31.1656,
          -62.8333,
          -117.8531,
          19.5033,
          -6.9118,
          -5.3536,
          9.55,
          19.1451,
          9,
          -121.9018,
          35.2332,
          17.6791,
          14.9955,
          -74.077,
          -95.3103,
          -122.4194,
          22.9375,
          -115.094,
          -95.8143,
          -119.3732,
          -86.9824,
          -86.8622,
          -74.006,
          -120.7401,
          -77.2405,
          -71.0589,
          -104.9903,
          -106.064,
          90.4336,
          11.5021,
          -114.0719,
          -74.2973,
          -83.7534,
          -75.0152,
          21.0059,
          19.699,
          0.8248,
          -79.1781,
          -75.3879,
          -96.1951,
          -84.4803,
          -85.2308,
          -86.1752,
          -71.2874,
          -73.5594,
          -70.7928,
          -93.0616,
          -119.6035,
          -75.2479,
          -121.9018,
          12.4534
         ],
         "marker": {
          "color": "red"
         },
         "mode": "markers",
         "name": "",
         "showlegend": false,
         "subplot": "mapbox",
         "textposition": "top center",
         "texttemplate": "%{text:.2s}",
         "type": "scattermapbox"
        }
       ],
       "layout": {
        "height": 600,
        "legend": {
         "tracegroupgap": 0
        },
        "mapbox": {
         "center": {
          "lat": 31.978380000000012,
          "lon": 5.969891752577316
         },
         "domain": {
          "x": [
           0,
           1
          ],
          "y": [
           0,
           1
          ]
         },
         "style": "carto-darkmatter",
         "zoom": 1
        },
        "margin": {
         "b": 0,
         "l": 0,
         "r": 0,
         "t": 0
        },
        "template": {
         "data": {
          "bar": [
           {
            "error_x": {
             "color": "#2a3f5f"
            },
            "error_y": {
             "color": "#2a3f5f"
            },
            "marker": {
             "line": {
              "color": "#E5ECF6",
              "width": 0.5
             }
            },
            "type": "bar"
           }
          ],
          "barpolar": [
           {
            "marker": {
             "line": {
              "color": "#E5ECF6",
              "width": 0.5
             }
            },
            "type": "barpolar"
           }
          ],
          "carpet": [
           {
            "aaxis": {
             "endlinecolor": "#2a3f5f",
             "gridcolor": "white",
             "linecolor": "white",
             "minorgridcolor": "white",
             "startlinecolor": "#2a3f5f"
            },
            "baxis": {
             "endlinecolor": "#2a3f5f",
             "gridcolor": "white",
             "linecolor": "white",
             "minorgridcolor": "white",
             "startlinecolor": "#2a3f5f"
            },
            "type": "carpet"
           }
          ],
          "choropleth": [
           {
            "colorbar": {
             "outlinewidth": 0,
             "ticks": ""
            },
            "type": "choropleth"
           }
          ],
          "contour": [
           {
            "colorbar": {
             "outlinewidth": 0,
             "ticks": ""
            },
            "colorscale": [
             [
              0,
              "#0d0887"
             ],
             [
              0.1111111111111111,
              "#46039f"
             ],
             [
              0.2222222222222222,
              "#7201a8"
             ],
             [
              0.3333333333333333,
              "#9c179e"
             ],
             [
              0.4444444444444444,
              "#bd3786"
             ],
             [
              0.5555555555555556,
              "#d8576b"
             ],
             [
              0.6666666666666666,
              "#ed7953"
             ],
             [
              0.7777777777777778,
              "#fb9f3a"
             ],
             [
              0.8888888888888888,
              "#fdca26"
             ],
             [
              1,
              "#f0f921"
             ]
            ],
            "type": "contour"
           }
          ],
          "contourcarpet": [
           {
            "colorbar": {
             "outlinewidth": 0,
             "ticks": ""
            },
            "type": "contourcarpet"
           }
          ],
          "heatmap": [
           {
            "colorbar": {
             "outlinewidth": 0,
             "ticks": ""
            },
            "colorscale": [
             [
              0,
              "#0d0887"
             ],
             [
              0.1111111111111111,
              "#46039f"
             ],
             [
              0.2222222222222222,
              "#7201a8"
             ],
             [
              0.3333333333333333,
              "#9c179e"
             ],
             [
              0.4444444444444444,
              "#bd3786"
             ],
             [
              0.5555555555555556,
              "#d8576b"
             ],
             [
              0.6666666666666666,
              "#ed7953"
             ],
             [
              0.7777777777777778,
              "#fb9f3a"
             ],
             [
              0.8888888888888888,
              "#fdca26"
             ],
             [
              1,
              "#f0f921"
             ]
            ],
            "type": "heatmap"
           }
          ],
          "heatmapgl": [
           {
            "colorbar": {
             "outlinewidth": 0,
             "ticks": ""
            },
            "colorscale": [
             [
              0,
              "#0d0887"
             ],
             [
              0.1111111111111111,
              "#46039f"
             ],
             [
              0.2222222222222222,
              "#7201a8"
             ],
             [
              0.3333333333333333,
              "#9c179e"
             ],
             [
              0.4444444444444444,
              "#bd3786"
             ],
             [
              0.5555555555555556,
              "#d8576b"
             ],
             [
              0.6666666666666666,
              "#ed7953"
             ],
             [
              0.7777777777777778,
              "#fb9f3a"
             ],
             [
              0.8888888888888888,
              "#fdca26"
             ],
             [
              1,
              "#f0f921"
             ]
            ],
            "type": "heatmapgl"
           }
          ],
          "histogram": [
           {
            "marker": {
             "colorbar": {
              "outlinewidth": 0,
              "ticks": ""
             }
            },
            "type": "histogram"
           }
          ],
          "histogram2d": [
           {
            "colorbar": {
             "outlinewidth": 0,
             "ticks": ""
            },
            "colorscale": [
             [
              0,
              "#0d0887"
             ],
             [
              0.1111111111111111,
              "#46039f"
             ],
             [
              0.2222222222222222,
              "#7201a8"
             ],
             [
              0.3333333333333333,
              "#9c179e"
             ],
             [
              0.4444444444444444,
              "#bd3786"
             ],
             [
              0.5555555555555556,
              "#d8576b"
             ],
             [
              0.6666666666666666,
              "#ed7953"
             ],
             [
              0.7777777777777778,
              "#fb9f3a"
             ],
             [
              0.8888888888888888,
              "#fdca26"
             ],
             [
              1,
              "#f0f921"
             ]
            ],
            "type": "histogram2d"
           }
          ],
          "histogram2dcontour": [
           {
            "colorbar": {
             "outlinewidth": 0,
             "ticks": ""
            },
            "colorscale": [
             [
              0,
              "#0d0887"
             ],
             [
              0.1111111111111111,
              "#46039f"
             ],
             [
              0.2222222222222222,
              "#7201a8"
             ],
             [
              0.3333333333333333,
              "#9c179e"
             ],
             [
              0.4444444444444444,
              "#bd3786"
             ],
             [
              0.5555555555555556,
              "#d8576b"
             ],
             [
              0.6666666666666666,
              "#ed7953"
             ],
             [
              0.7777777777777778,
              "#fb9f3a"
             ],
             [
              0.8888888888888888,
              "#fdca26"
             ],
             [
              1,
              "#f0f921"
             ]
            ],
            "type": "histogram2dcontour"
           }
          ],
          "mesh3d": [
           {
            "colorbar": {
             "outlinewidth": 0,
             "ticks": ""
            },
            "type": "mesh3d"
           }
          ],
          "parcoords": [
           {
            "line": {
             "colorbar": {
              "outlinewidth": 0,
              "ticks": ""
             }
            },
            "type": "parcoords"
           }
          ],
          "pie": [
           {
            "automargin": true,
            "type": "pie"
           }
          ],
          "scatter": [
           {
            "marker": {
             "colorbar": {
              "outlinewidth": 0,
              "ticks": ""
             }
            },
            "type": "scatter"
           }
          ],
          "scatter3d": [
           {
            "line": {
             "colorbar": {
              "outlinewidth": 0,
              "ticks": ""
             }
            },
            "marker": {
             "colorbar": {
              "outlinewidth": 0,
              "ticks": ""
             }
            },
            "type": "scatter3d"
           }
          ],
          "scattercarpet": [
           {
            "marker": {
             "colorbar": {
              "outlinewidth": 0,
              "ticks": ""
             }
            },
            "type": "scattercarpet"
           }
          ],
          "scattergeo": [
           {
            "marker": {
             "colorbar": {
              "outlinewidth": 0,
              "ticks": ""
             }
            },
            "type": "scattergeo"
           }
          ],
          "scattergl": [
           {
            "marker": {
             "colorbar": {
              "outlinewidth": 0,
              "ticks": ""
             }
            },
            "type": "scattergl"
           }
          ],
          "scattermapbox": [
           {
            "marker": {
             "colorbar": {
              "outlinewidth": 0,
              "ticks": ""
             }
            },
            "type": "scattermapbox"
           }
          ],
          "scatterpolar": [
           {
            "marker": {
             "colorbar": {
              "outlinewidth": 0,
              "ticks": ""
             }
            },
            "type": "scatterpolar"
           }
          ],
          "scatterpolargl": [
           {
            "marker": {
             "colorbar": {
              "outlinewidth": 0,
              "ticks": ""
             }
            },
            "type": "scatterpolargl"
           }
          ],
          "scatterternary": [
           {
            "marker": {
             "colorbar": {
              "outlinewidth": 0,
              "ticks": ""
             }
            },
            "type": "scatterternary"
           }
          ],
          "surface": [
           {
            "colorbar": {
             "outlinewidth": 0,
             "ticks": ""
            },
            "colorscale": [
             [
              0,
              "#0d0887"
             ],
             [
              0.1111111111111111,
              "#46039f"
             ],
             [
              0.2222222222222222,
              "#7201a8"
             ],
             [
              0.3333333333333333,
              "#9c179e"
             ],
             [
              0.4444444444444444,
              "#bd3786"
             ],
             [
              0.5555555555555556,
              "#d8576b"
             ],
             [
              0.6666666666666666,
              "#ed7953"
             ],
             [
              0.7777777777777778,
              "#fb9f3a"
             ],
             [
              0.8888888888888888,
              "#fdca26"
             ],
             [
              1,
              "#f0f921"
             ]
            ],
            "type": "surface"
           }
          ],
          "table": [
           {
            "cells": {
             "fill": {
              "color": "#EBF0F8"
             },
             "line": {
              "color": "white"
             }
            },
            "header": {
             "fill": {
              "color": "#C8D4E3"
             },
             "line": {
              "color": "white"
             }
            },
            "type": "table"
           }
          ]
         },
         "layout": {
          "annotationdefaults": {
           "arrowcolor": "#2a3f5f",
           "arrowhead": 0,
           "arrowwidth": 1
          },
          "coloraxis": {
           "colorbar": {
            "outlinewidth": 0,
            "ticks": ""
           }
          },
          "colorscale": {
           "diverging": [
            [
             0,
             "#8e0152"
            ],
            [
             0.1,
             "#c51b7d"
            ],
            [
             0.2,
             "#de77ae"
            ],
            [
             0.3,
             "#f1b6da"
            ],
            [
             0.4,
             "#fde0ef"
            ],
            [
             0.5,
             "#f7f7f7"
            ],
            [
             0.6,
             "#e6f5d0"
            ],
            [
             0.7,
             "#b8e186"
            ],
            [
             0.8,
             "#7fbc41"
            ],
            [
             0.9,
             "#4d9221"
            ],
            [
             1,
             "#276419"
            ]
           ],
           "sequential": [
            [
             0,
             "#0d0887"
            ],
            [
             0.1111111111111111,
             "#46039f"
            ],
            [
             0.2222222222222222,
             "#7201a8"
            ],
            [
             0.3333333333333333,
             "#9c179e"
            ],
            [
             0.4444444444444444,
             "#bd3786"
            ],
            [
             0.5555555555555556,
             "#d8576b"
            ],
            [
             0.6666666666666666,
             "#ed7953"
            ],
            [
             0.7777777777777778,
             "#fb9f3a"
            ],
            [
             0.8888888888888888,
             "#fdca26"
            ],
            [
             1,
             "#f0f921"
            ]
           ],
           "sequentialminus": [
            [
             0,
             "#0d0887"
            ],
            [
             0.1111111111111111,
             "#46039f"
            ],
            [
             0.2222222222222222,
             "#7201a8"
            ],
            [
             0.3333333333333333,
             "#9c179e"
            ],
            [
             0.4444444444444444,
             "#bd3786"
            ],
            [
             0.5555555555555556,
             "#d8576b"
            ],
            [
             0.6666666666666666,
             "#ed7953"
            ],
            [
             0.7777777777777778,
             "#fb9f3a"
            ],
            [
             0.8888888888888888,
             "#fdca26"
            ],
            [
             1,
             "#f0f921"
            ]
           ]
          },
          "colorway": [
           "#636efa",
           "#EF553B",
           "#00cc96",
           "#ab63fa",
           "#FFA15A",
           "#19d3f3",
           "#FF6692",
           "#B6E880",
           "#FF97FF",
           "#FECB52"
          ],
          "font": {
           "color": "#2a3f5f"
          },
          "geo": {
           "bgcolor": "white",
           "lakecolor": "white",
           "landcolor": "#E5ECF6",
           "showlakes": true,
           "showland": true,
           "subunitcolor": "white"
          },
          "hoverlabel": {
           "align": "left"
          },
          "hovermode": "closest",
          "mapbox": {
           "style": "light"
          },
          "paper_bgcolor": "white",
          "plot_bgcolor": "#E5ECF6",
          "polar": {
           "angularaxis": {
            "gridcolor": "white",
            "linecolor": "white",
            "ticks": ""
           },
           "bgcolor": "#E5ECF6",
           "radialaxis": {
            "gridcolor": "white",
            "linecolor": "white",
            "ticks": ""
           }
          },
          "scene": {
           "xaxis": {
            "backgroundcolor": "#E5ECF6",
            "gridcolor": "white",
            "gridwidth": 2,
            "linecolor": "white",
            "showbackground": true,
            "ticks": "",
            "zerolinecolor": "white"
           },
           "yaxis": {
            "backgroundcolor": "#E5ECF6",
            "gridcolor": "white",
            "gridwidth": 2,
            "linecolor": "white",
            "showbackground": true,
            "ticks": "",
            "zerolinecolor": "white"
           },
           "zaxis": {
            "backgroundcolor": "#E5ECF6",
            "gridcolor": "white",
            "gridwidth": 2,
            "linecolor": "white",
            "showbackground": true,
            "ticks": "",
            "zerolinecolor": "white"
           }
          },
          "shapedefaults": {
           "line": {
            "color": "#2a3f5f"
           }
          },
          "ternary": {
           "aaxis": {
            "gridcolor": "white",
            "linecolor": "white",
            "ticks": ""
           },
           "baxis": {
            "gridcolor": "white",
            "linecolor": "white",
            "ticks": ""
           },
           "bgcolor": "#E5ECF6",
           "caxis": {
            "gridcolor": "white",
            "linecolor": "white",
            "ticks": ""
           }
          },
          "title": {
           "x": 0.05
          },
          "xaxis": {
           "automargin": true,
           "gridcolor": "white",
           "linecolor": "white",
           "ticks": "",
           "title": {
            "standoff": 15
           },
           "zerolinecolor": "white",
           "zerolinewidth": 2
          },
          "yaxis": {
           "automargin": true,
           "gridcolor": "white",
           "linecolor": "white",
           "ticks": "",
           "title": {
            "standoff": 15
           },
           "zerolinecolor": "white",
           "zerolinewidth": 2
          }
         }
        },
        "title": {
         "text": "Corona Virus - Confirmed Cases - Map"
        }
       }
      },
      "text/html": [
       "<div>\n",
       "        \n",
       "        \n",
       "            <div id=\"0b20bd07-2940-4836-93c9-cef4f491ce30\" class=\"plotly-graph-div\" style=\"height:600px; width:100%;\"></div>\n",
       "            <script type=\"text/javascript\">\n",
       "                require([\"plotly\"], function(Plotly) {\n",
       "                    window.PLOTLYENV=window.PLOTLYENV || {};\n",
       "                    \n",
       "                if (document.getElementById(\"0b20bd07-2940-4836-93c9-cef4f491ce30\")) {\n",
       "                    Plotly.newPlot(\n",
       "                        '0b20bd07-2940-4836-93c9-cef4f491ce30',\n",
       "                        [{\"customdata\": [[\"Mainland China\", \"Anhui\"], [\"Mainland China\", \"Beijing\"], [\"Mainland China\", \"Chongqing\"], [\"Mainland China\", \"Fujian\"], [\"Mainland China\", \"Gansu\"], [\"Mainland China\", \"Guangdong\"], [\"Mainland China\", \"Guangxi\"], [\"Mainland China\", \"Guizhou\"], [\"Mainland China\", \"Hainan\"], [\"Mainland China\", \"Hebei\"], [\"Mainland China\", \"Heilongjiang\"], [\"Mainland China\", \"Henan\"], [\"Mainland China\", \"Hubei\"], [\"Mainland China\", \"Hunan\"], [\"Mainland China\", \"Inner Mongolia\"], [\"Mainland China\", \"Jiangsu\"], [\"Mainland China\", \"Jiangxi\"], [\"Mainland China\", \"Jilin\"], [\"Mainland China\", \"Liaoning\"], [\"Mainland China\", \"Ningxia\"], [\"Mainland China\", \"Qinghai\"], [\"Mainland China\", \"Shaanxi\"], [\"Mainland China\", \"Shandong\"], [\"Mainland China\", \"Shanghai\"], [\"Mainland China\", \"Shanxi\"], [\"Mainland China\", \"Sichuan\"], [\"Mainland China\", \"Tianjin\"], [\"Mainland China\", \"Tibet\"], [\"Mainland China\", \"Xinjiang\"], [\"Mainland China\", \"Yunnan\"], [\"Mainland China\", \"Zhejiang\"], [\"Thailand\", null], [\"Japan\", null], [\"South Korea\", null], [\"Taiwan\", \"Taiwan\"], [\"US\", \"King County, WA\"], [\"US\", \"Cook County, IL\"], [\"US\", \"Tempe, AZ\"], [\"Macau\", \"Macau\"], [\"Hong Kong\", \"Hong Kong\"], [\"Singapore\", null], [\"Vietnam\", null], [\"France\", null], [\"Nepal\", null], [\"Malaysia\", null], [\"Canada\", \"Toronto, ON\"], [\"Canada\", \"British Columbia\"], [\"US\", \"Los Angeles, CA\"], [\"Australia\", \"New South Wales\"], [\"Australia\", \"Victoria\"], [\"Australia\", \"Queensland\"], [\"Cambodia\", null], [\"Sri Lanka\", null], [\"Germany\", null], [\"Finland\", null], [\"United Arab Emirates\", null], [\"Philippines\", null], [\"India\", null], [\"Canada\", \"London, ON\"], [\"Italy\", null], [\"UK\", null], [\"Russia\", null], [\"Sweden\", null], [\"US\", \"Santa Clara, CA\"], [\"Spain\", null], [\"Australia\", \"South Australia\"], [\"US\", \"San Benito, CA\"], [\"Belgium\", null], [\"US\", \"Madison, WI\"], [\"Others\", \"Diamond Princess cruise ship\"], [\"US\", \"San Diego County, CA\"], [\"US\", \"San Antonio, TX\"], [\"Egypt\", null], [\"Iran\", null], [\"Lebanon\", null], [\"US\", \"Humboldt County, CA\"], [\"US\", \"Sacramento County, CA\"], [\"Iraq\", null], [\"US\", \"Unassigned Location (From Diamond Princess)\"], [\"Oman\", null], [\"Afghanistan\", null], [\"Bahrain\", null], [\"Kuwait\", null], [\"Algeria\", null], [\"Croatia\", null], [\"Switzerland\", null], [\"Austria\", null], [\"Israel\", null], [\"Pakistan\", null], [\"Brazil\", null], [\"Georgia\", null], [\"Greece\", null], [\"North Macedonia\", null], [\"Norway\", null], [\"Romania\", null], [\"Denmark\", null], [\"Estonia\", null], [\"Netherlands\", null], [\"San Marino\", null], [\"Belarus\", null], [\"Canada\", \" Montreal, QC\"], [\"Iceland\", null], [\"Lithuania\", null], [\"Mexico\", null], [\"New Zealand\", null], [\"Nigeria\", null], [\"Australia\", \"Western Australia\"], [\"Ireland\", null], [\"Luxembourg\", null], [\"Monaco\", null], [\"Qatar\", null], [\"US\", \"Snohomish County, WA\"], [\"Ecuador\", null], [\"Azerbaijan\", null], [\"Czech Republic\", null], [\"Armenia\", null], [\"Dominican Republic\", null], [\"US\", \"Providence, RI\"], [\"Indonesia\", null], [\"Portugal\", null], [\"Andorra\", null], [\"Australia\", \"Tasmania\"], [\"Latvia\", null], [\"Morocco\", null], [\"Saudi Arabia\", null], [\"Senegal\", null], [\"US\", \"Grafton County, NH\"], [\"US\", \"Hillsborough, FL\"], [\"US\", \"Placer County, CA\"], [\"US\", \"San Mateo, CA\"], [\"US\", \"Sarasota, FL\"], [\"US\", \"Sonoma County, CA\"], [\"US\", \"Umatilla, OR\"], [\"US\", \"Fulton County, GA\"], [\"US\", \"Washington County, OR\"], [\"Argentina\", null], [\"Chile\", null], [\"Jordan\", null], [\"US\", \" Norfolk County, MA\"], [\"US\", \"Berkeley, CA\"], [\"US\", \"Maricopa County, AZ\"], [\"US\", \"Wake County, NC\"], [\"US\", \"Westchester County, NY\"], [\"Ukraine\", null], [\"Saint Barthelemy\", null], [\"US\", \"Orange County, CA\"], [\"Hungary\", null], [\"Faroe Islands\", null], [\"Gibraltar\", null], [\"Liechtenstein\", null], [\"Poland\", null], [\"Tunisia\", null], [\"US\", \"Contra Costa County, CA\"], [\"Palestine\", null], [\"Bosnia and Herzegovina\", null], [\"Slovenia\", null], [\"US\", \"Bergen County, NJ\"], [\"US\", \"Harris County, TX\"], [\"US\", \"San Francisco County, CA\"], [\"South Africa\", null], [\"US\", \"Clark County, NV\"], [\"US\", \"Fort Bend County, TX\"], [\"US\", \"Grant County, WA\"], [\"US\", \"Santa Rosa County, FL\"], [\"US\", \"Williamson County, TN\"], [\"US\", \"New York County, NY\"], [\"US\", \"Unassigned Location, WA\"], [\"US\", \"Montgomery County, MD\"], [\"US\", \"Suffolk County, MA\"], [\"US\", \"Denver County, CO\"], [\"US\", \"Summit County, CO\"], [\"Bhutan\", null], [\"Cameroon\", null], [\"Canada\", \"Calgary, Alberta\"], [\"Colombia\", null], [\"Costa Rica\", null], [\"Peru\", null], [\"Serbia\", null], [\"Slovakia\", null], [\"Togo\", null], [\"US\", \"Chatham County, NC\"], [\"US\", \"Delaware County, PA\"], [\"US\", \"Douglas County, NE\"], [\"US\", \"Fayette County, KY\"], [\"US\", \"Floyd County, GA\"], [\"US\", \"Marion County, IN\"], [\"US\", \"Middlesex County, MA\"], [\"US\", \"Nassau County, NY\"], [\"US\", \"Norwell County, MA\"], [\"US\", \"Ramsey County, MN\"], [\"US\", \"Washoe County, NV\"], [\"US\", \"Wayne County, PA\"], [\"US\", \"Yolo County, CA\"], [\"Vatican City\", null]], \"hoverlabel\": {\"namelength\": 0}, \"hovertemplate\": \"<b>%{hovertext}</b><br><br>Country/Region=%{customdata[0]}<br>Province/State=%{customdata[1]}<br>Lat=%{lat}<br>Long=%{lon}\", \"hovertext\": [990.0, 422.0, 576.0, 296.0, 119.0, 1352.0, 252.0, 146.0, 168.0, 318.0, 481.0, 1272.0, 67592.0, 1018.0, 75.0, 631.0, 935.0, 93.0, 125.0, 75.0, 18.0, 245.0, 758.0, 342.0, 133.0, 539.0, 136.0, 1.0, 76.0, 174.0, 1215.0, 48.0, 420.0, 6593.0, 45.0, 58.0, 5.0, 1.0, 10.0, 107.0, 130.0, 16.0, 653.0, 1.0, 83.0, 24.0, 21.0, 13.0, 26.0, 10.0, 13.0, 1.0, 1.0, 670.0, 15.0, 29.0, 5.0, 31.0, 1.0, 4636.0, 163.0, 13.0, 101.0, 20.0, 400.0, 7.0, 2.0, 109.0, 1.0, 696.0, 3.0, 1.0, 15.0, 4747.0, 22.0, 1.0, 2.0, 40.0, 45.0, 16.0, 1.0, 60.0, 58.0, 17.0, 11.0, 214.0, 55.0, 21.0, 6.0, 13.0, 4.0, 45.0, 3.0, 108.0, 9.0, 23.0, 10.0, 128.0, 21.0, 6.0, 2.0, 43.0, 1.0, 6.0, 4.0, 1.0, 3.0, 18.0, 2.0, 1.0, 8.0, 19.0, 13.0, 6.0, 18.0, 1.0, 2.0, 2.0, 4.0, 13.0, 1.0, 1.0, 1.0, 2.0, 5.0, 4.0, 2.0, 2.0, 5.0, 2.0, 1.0, 1.0, 1.0, 2.0, 2.0, 2.0, 4.0, 1.0, 2.0, 1.0, 2.0, 1.0, 19.0, 1.0, 3.0, 3.0, 2.0, 1.0, 1.0, 1.0, 5.0, 1.0, 3.0, 16.0, 2.0, 7.0, 2.0, 3.0, 2.0, 1.0, 1.0, 1.0, 1.0, 1.0, 1.0, 16.0, 5.0, 3.0, 3.0, 2.0, 2.0, 1.0, 1.0, 1.0, 1.0, 1.0, 1.0, 1.0, 1.0, 1.0, 1.0, 1.0, 1.0, 1.0, 1.0, 1.0, 1.0, 1.0, 1.0, 1.0, 1.0, 1.0, 1.0, 1.0], \"lat\": [31.8257, 40.1824, 30.0572, 26.0789, 36.0611, 23.3417, 23.8298, 26.8154, 19.1959, 38.0428, 47.861999999999995, 33.882020000000004, 30.9756, 27.6104, 44.0935, 32.9711, 27.614, 43.6661, 41.2956, 37.2692, 35.7452, 35.1917, 36.3427, 31.201999999999998, 37.5777, 30.6171, 39.3054, 31.6927, 41.1129, 24.974, 29.1832, 15.0, 36.0, 36.0, 23.7, 47.6062, 41.7377, 33.4255, 22.1667, 22.3, 1.2833, 16.0, 47.0, 28.1667, 2.5, 43.6532, 49.2827, 34.0522, -33.8688, -37.8136, -28.0167, 11.55, 7.0, 51.0, 64.0, 24.0, 13.0, 21.0, 42.9849, 43.0, 55.0, 60.0, 63.0, 37.3541, 40.0, -34.9285, 36.5761, 50.8333, 43.0731, 35.4437, 32.7157, 29.4241, 26.0, 32.0, 33.8547, 40.745, 38.4747, 33.0, 35.4437, 21.0, 33.0, 26.0275, 29.5, 28.0339, 45.1, 46.8182, 47.5162, 31.0, 30.3753, -14.235, 42.3154, 39.0742, 41.6086, 60.472, 45.9432, 56.2639, 58.5953, 52.1326, 43.9424, 53.7098, 45.5017, 64.9631, 55.1694, 23.6345, -40.9006, 9.082, -31.9505, 53.1424, 49.8153, 43.7333, 25.3548, 48.033, -1.8312, 40.1431, 49.8175, 40.0691, 18.7357, 41.824, -0.7893, 39.3999, 42.5063, -41.4545, 56.8796, 31.7917, 24.0, 14.4974, 43.9088, 27.9904, 39.0916, 37.563, 27.3364, 38.578, 45.775, 33.8034, 45.547, -38.4161, -35.6751, 31.24, 42.1767, 37.8715, 33.2918, 35.8032, 41.122, 48.3794, 17.9, 33.7879, 47.1625, 61.8926, 36.1408, 47.14, 51.9194, 34.0, 37.8534, 31.9522, 43.9159, 46.1512, 40.9263, 29.7752, 37.7749, -30.5595, 36.0796, 29.5693, 47.1981, 30.769000000000002, 35.9179, 40.7128, 47.7511, 39.1547, 42.3601, 39.7392, 39.5912, 27.5142, 3.8480000000000003, 51.0447, 4.5709, 9.7489, -9.19, 44.0165, 48.669, 8.6195, 35.7211, 39.9078, 41.3148, 38.0606, 34.2829, 39.8362, 42.4672, 40.6546, 42.1615, 44.9964, 40.5608, 41.6739, 38.7646, 41.9029], \"legendgroup\": \"\", \"lon\": [117.2264, 116.4142, 107.874, 117.9874, 103.8343, 113.4244, 108.7881, 106.8748, 109.7453, 114.5149, 127.7615, 113.61399999999999, 112.2707, 111.7088, 113.9448, 119.455, 115.7221, 126.1923, 122.6085, 106.1655, 95.9956, 108.8701, 118.1498, 121.4491, 112.2922, 102.7103, 117.323, 88.0924, 85.2401, 101.48700000000001, 120.0934, 101.0, 138.0, 128.0, 121.0, -122.3321, -87.6976, -111.94, 113.55, 114.2, 103.8333, 108.0, 2.0, 84.25, 112.5, -79.3832, -123.1207, -118.2437, 151.2093, 144.9631, 153.4, 104.9167, 81.0, 9.0, 26.0, 54.0, 122.0, 78.0, -81.2453, 12.0, -3.0, 90.0, 16.0, -121.9552, -4.0, 138.6007, -120.9876, 4.0, -89.4012, 139.638, -117.1611, -98.4936, 30.0, 53.0, 35.8623, -123.8695, -121.3542, 44.0, 139.638, 57.0, 65.0, 50.55, 47.75, 1.6596, 15.2, 8.2275, 14.5501, 35.0, 69.3451, -51.9253, 43.3569, 21.8243, 21.7453, 8.4689, 24.9668, 9.5018, 25.0136, 5.2913, 12.4578, 27.9534, -73.5673, -19.0208, 23.8813, -102.5528, 174.886, 8.6753, 115.8605, -7.6921, 6.1296, 7.4167, 51.1839, -121.8339, -78.1834, 47.5769, 15.472999999999999, 45.0382, -70.1627, -71.4128, 113.9213, -8.2245, 1.5218, 145.9707, 24.6032, -7.0926, 45.0, -14.4524, -71.82600000000001, -82.3018, -120.8039, -122.3255, -82.5307, -122.9888, -118.7606, -84.3963, -123.1386, -63.6167, -71.543, 36.51, -71.1449, -122.273, -112.4291, -78.5661, -73.7949, 31.1656, -62.8333, -117.8531, 19.5033, -6.9118, -5.3536, 9.55, 19.1451, 9.0, -121.9018, 35.2332, 17.6791, 14.9955, -74.077, -95.3103, -122.4194, 22.9375, -115.094, -95.8143, -119.3732, -86.9824, -86.8622, -74.006, -120.7401, -77.2405, -71.0589, -104.9903, -106.064, 90.4336, 11.5021, -114.0719, -74.2973, -83.7534, -75.0152, 21.0059, 19.699, 0.8248, -79.1781, -75.3879, -96.1951, -84.4803, -85.2308, -86.1752, -71.2874, -73.5594, -70.7928, -93.0616, -119.6035, -75.2479, -121.9018, 12.4534], \"marker\": {\"color\": \"red\"}, \"mode\": \"markers\", \"name\": \"\", \"showlegend\": false, \"subplot\": \"mapbox\", \"textposition\": \"top center\", \"texttemplate\": \"%{text:.2s}\", \"type\": \"scattermapbox\"}],\n",
       "                        {\"height\": 600, \"legend\": {\"tracegroupgap\": 0}, \"mapbox\": {\"center\": {\"lat\": 31.978380000000012, \"lon\": 5.969891752577316}, \"domain\": {\"x\": [0.0, 1.0], \"y\": [0.0, 1.0]}, \"style\": \"carto-darkmatter\", \"zoom\": 1}, \"margin\": {\"b\": 0, \"l\": 0, \"r\": 0, \"t\": 0}, \"template\": {\"data\": {\"bar\": [{\"error_x\": {\"color\": \"#2a3f5f\"}, \"error_y\": {\"color\": \"#2a3f5f\"}, \"marker\": {\"line\": {\"color\": \"#E5ECF6\", \"width\": 0.5}}, \"type\": \"bar\"}], \"barpolar\": [{\"marker\": {\"line\": {\"color\": \"#E5ECF6\", \"width\": 0.5}}, \"type\": \"barpolar\"}], \"carpet\": [{\"aaxis\": {\"endlinecolor\": \"#2a3f5f\", \"gridcolor\": \"white\", \"linecolor\": \"white\", \"minorgridcolor\": \"white\", \"startlinecolor\": \"#2a3f5f\"}, \"baxis\": {\"endlinecolor\": \"#2a3f5f\", \"gridcolor\": \"white\", \"linecolor\": \"white\", \"minorgridcolor\": \"white\", \"startlinecolor\": \"#2a3f5f\"}, \"type\": \"carpet\"}], \"choropleth\": [{\"colorbar\": {\"outlinewidth\": 0, \"ticks\": \"\"}, \"type\": \"choropleth\"}], \"contour\": [{\"colorbar\": {\"outlinewidth\": 0, \"ticks\": \"\"}, \"colorscale\": [[0.0, \"#0d0887\"], [0.1111111111111111, \"#46039f\"], [0.2222222222222222, \"#7201a8\"], [0.3333333333333333, \"#9c179e\"], [0.4444444444444444, \"#bd3786\"], [0.5555555555555556, \"#d8576b\"], [0.6666666666666666, \"#ed7953\"], [0.7777777777777778, \"#fb9f3a\"], [0.8888888888888888, \"#fdca26\"], [1.0, \"#f0f921\"]], \"type\": \"contour\"}], \"contourcarpet\": [{\"colorbar\": {\"outlinewidth\": 0, \"ticks\": \"\"}, \"type\": \"contourcarpet\"}], \"heatmap\": [{\"colorbar\": {\"outlinewidth\": 0, \"ticks\": \"\"}, \"colorscale\": [[0.0, \"#0d0887\"], [0.1111111111111111, \"#46039f\"], [0.2222222222222222, \"#7201a8\"], [0.3333333333333333, \"#9c179e\"], [0.4444444444444444, \"#bd3786\"], [0.5555555555555556, \"#d8576b\"], [0.6666666666666666, \"#ed7953\"], [0.7777777777777778, \"#fb9f3a\"], [0.8888888888888888, \"#fdca26\"], [1.0, \"#f0f921\"]], \"type\": \"heatmap\"}], \"heatmapgl\": [{\"colorbar\": {\"outlinewidth\": 0, \"ticks\": \"\"}, \"colorscale\": [[0.0, \"#0d0887\"], [0.1111111111111111, \"#46039f\"], [0.2222222222222222, \"#7201a8\"], [0.3333333333333333, \"#9c179e\"], [0.4444444444444444, \"#bd3786\"], [0.5555555555555556, \"#d8576b\"], [0.6666666666666666, \"#ed7953\"], [0.7777777777777778, \"#fb9f3a\"], [0.8888888888888888, \"#fdca26\"], [1.0, \"#f0f921\"]], \"type\": \"heatmapgl\"}], \"histogram\": [{\"marker\": {\"colorbar\": {\"outlinewidth\": 0, \"ticks\": \"\"}}, \"type\": \"histogram\"}], \"histogram2d\": [{\"colorbar\": {\"outlinewidth\": 0, \"ticks\": \"\"}, \"colorscale\": [[0.0, \"#0d0887\"], [0.1111111111111111, \"#46039f\"], [0.2222222222222222, \"#7201a8\"], [0.3333333333333333, \"#9c179e\"], [0.4444444444444444, \"#bd3786\"], [0.5555555555555556, \"#d8576b\"], [0.6666666666666666, \"#ed7953\"], [0.7777777777777778, \"#fb9f3a\"], [0.8888888888888888, \"#fdca26\"], [1.0, \"#f0f921\"]], \"type\": \"histogram2d\"}], \"histogram2dcontour\": [{\"colorbar\": {\"outlinewidth\": 0, \"ticks\": \"\"}, \"colorscale\": [[0.0, \"#0d0887\"], [0.1111111111111111, \"#46039f\"], [0.2222222222222222, \"#7201a8\"], [0.3333333333333333, \"#9c179e\"], [0.4444444444444444, \"#bd3786\"], [0.5555555555555556, \"#d8576b\"], [0.6666666666666666, \"#ed7953\"], [0.7777777777777778, \"#fb9f3a\"], [0.8888888888888888, \"#fdca26\"], [1.0, \"#f0f921\"]], \"type\": \"histogram2dcontour\"}], \"mesh3d\": [{\"colorbar\": {\"outlinewidth\": 0, \"ticks\": \"\"}, \"type\": \"mesh3d\"}], \"parcoords\": [{\"line\": {\"colorbar\": {\"outlinewidth\": 0, \"ticks\": \"\"}}, \"type\": \"parcoords\"}], \"pie\": [{\"automargin\": true, \"type\": \"pie\"}], \"scatter\": [{\"marker\": {\"colorbar\": {\"outlinewidth\": 0, \"ticks\": \"\"}}, \"type\": \"scatter\"}], \"scatter3d\": [{\"line\": {\"colorbar\": {\"outlinewidth\": 0, \"ticks\": \"\"}}, \"marker\": {\"colorbar\": {\"outlinewidth\": 0, \"ticks\": \"\"}}, \"type\": \"scatter3d\"}], \"scattercarpet\": [{\"marker\": {\"colorbar\": {\"outlinewidth\": 0, \"ticks\": \"\"}}, \"type\": \"scattercarpet\"}], \"scattergeo\": [{\"marker\": {\"colorbar\": {\"outlinewidth\": 0, \"ticks\": \"\"}}, \"type\": \"scattergeo\"}], \"scattergl\": [{\"marker\": {\"colorbar\": {\"outlinewidth\": 0, \"ticks\": \"\"}}, \"type\": \"scattergl\"}], \"scattermapbox\": [{\"marker\": {\"colorbar\": {\"outlinewidth\": 0, \"ticks\": \"\"}}, \"type\": \"scattermapbox\"}], \"scatterpolar\": [{\"marker\": {\"colorbar\": {\"outlinewidth\": 0, \"ticks\": \"\"}}, \"type\": \"scatterpolar\"}], \"scatterpolargl\": [{\"marker\": {\"colorbar\": {\"outlinewidth\": 0, \"ticks\": \"\"}}, \"type\": \"scatterpolargl\"}], \"scatterternary\": [{\"marker\": {\"colorbar\": {\"outlinewidth\": 0, \"ticks\": \"\"}}, \"type\": \"scatterternary\"}], \"surface\": [{\"colorbar\": {\"outlinewidth\": 0, \"ticks\": \"\"}, \"colorscale\": [[0.0, \"#0d0887\"], [0.1111111111111111, \"#46039f\"], [0.2222222222222222, \"#7201a8\"], [0.3333333333333333, \"#9c179e\"], [0.4444444444444444, \"#bd3786\"], [0.5555555555555556, \"#d8576b\"], [0.6666666666666666, \"#ed7953\"], [0.7777777777777778, \"#fb9f3a\"], [0.8888888888888888, \"#fdca26\"], [1.0, \"#f0f921\"]], \"type\": \"surface\"}], \"table\": [{\"cells\": {\"fill\": {\"color\": \"#EBF0F8\"}, \"line\": {\"color\": \"white\"}}, \"header\": {\"fill\": {\"color\": \"#C8D4E3\"}, \"line\": {\"color\": \"white\"}}, \"type\": \"table\"}]}, \"layout\": {\"annotationdefaults\": {\"arrowcolor\": \"#2a3f5f\", \"arrowhead\": 0, \"arrowwidth\": 1}, \"coloraxis\": {\"colorbar\": {\"outlinewidth\": 0, \"ticks\": \"\"}}, \"colorscale\": {\"diverging\": [[0, \"#8e0152\"], [0.1, \"#c51b7d\"], [0.2, \"#de77ae\"], [0.3, \"#f1b6da\"], [0.4, \"#fde0ef\"], [0.5, \"#f7f7f7\"], [0.6, \"#e6f5d0\"], [0.7, \"#b8e186\"], [0.8, \"#7fbc41\"], [0.9, \"#4d9221\"], [1, \"#276419\"]], \"sequential\": [[0.0, \"#0d0887\"], [0.1111111111111111, \"#46039f\"], [0.2222222222222222, \"#7201a8\"], [0.3333333333333333, \"#9c179e\"], [0.4444444444444444, \"#bd3786\"], [0.5555555555555556, \"#d8576b\"], [0.6666666666666666, \"#ed7953\"], [0.7777777777777778, \"#fb9f3a\"], [0.8888888888888888, \"#fdca26\"], [1.0, \"#f0f921\"]], \"sequentialminus\": [[0.0, \"#0d0887\"], [0.1111111111111111, \"#46039f\"], [0.2222222222222222, \"#7201a8\"], [0.3333333333333333, \"#9c179e\"], [0.4444444444444444, \"#bd3786\"], [0.5555555555555556, \"#d8576b\"], [0.6666666666666666, \"#ed7953\"], [0.7777777777777778, \"#fb9f3a\"], [0.8888888888888888, \"#fdca26\"], [1.0, \"#f0f921\"]]}, \"colorway\": [\"#636efa\", \"#EF553B\", \"#00cc96\", \"#ab63fa\", \"#FFA15A\", \"#19d3f3\", \"#FF6692\", \"#B6E880\", \"#FF97FF\", \"#FECB52\"], \"font\": {\"color\": \"#2a3f5f\"}, \"geo\": {\"bgcolor\": \"white\", \"lakecolor\": \"white\", \"landcolor\": \"#E5ECF6\", \"showlakes\": true, \"showland\": true, \"subunitcolor\": \"white\"}, \"hoverlabel\": {\"align\": \"left\"}, \"hovermode\": \"closest\", \"mapbox\": {\"style\": \"light\"}, \"paper_bgcolor\": \"white\", \"plot_bgcolor\": \"#E5ECF6\", \"polar\": {\"angularaxis\": {\"gridcolor\": \"white\", \"linecolor\": \"white\", \"ticks\": \"\"}, \"bgcolor\": \"#E5ECF6\", \"radialaxis\": {\"gridcolor\": \"white\", \"linecolor\": \"white\", \"ticks\": \"\"}}, \"scene\": {\"xaxis\": {\"backgroundcolor\": \"#E5ECF6\", \"gridcolor\": \"white\", \"gridwidth\": 2, \"linecolor\": \"white\", \"showbackground\": true, \"ticks\": \"\", \"zerolinecolor\": \"white\"}, \"yaxis\": {\"backgroundcolor\": \"#E5ECF6\", \"gridcolor\": \"white\", \"gridwidth\": 2, \"linecolor\": \"white\", \"showbackground\": true, \"ticks\": \"\", \"zerolinecolor\": \"white\"}, \"zaxis\": {\"backgroundcolor\": \"#E5ECF6\", \"gridcolor\": \"white\", \"gridwidth\": 2, \"linecolor\": \"white\", \"showbackground\": true, \"ticks\": \"\", \"zerolinecolor\": \"white\"}}, \"shapedefaults\": {\"line\": {\"color\": \"#2a3f5f\"}}, \"ternary\": {\"aaxis\": {\"gridcolor\": \"white\", \"linecolor\": \"white\", \"ticks\": \"\"}, \"baxis\": {\"gridcolor\": \"white\", \"linecolor\": \"white\", \"ticks\": \"\"}, \"bgcolor\": \"#E5ECF6\", \"caxis\": {\"gridcolor\": \"white\", \"linecolor\": \"white\", \"ticks\": \"\"}}, \"title\": {\"x\": 0.05}, \"xaxis\": {\"automargin\": true, \"gridcolor\": \"white\", \"linecolor\": \"white\", \"ticks\": \"\", \"title\": {\"standoff\": 15}, \"zerolinecolor\": \"white\", \"zerolinewidth\": 2}, \"yaxis\": {\"automargin\": true, \"gridcolor\": \"white\", \"linecolor\": \"white\", \"ticks\": \"\", \"title\": {\"standoff\": 15}, \"zerolinecolor\": \"white\", \"zerolinewidth\": 2}}}, \"title\": {\"text\": \"Corona Virus - Confirmed Cases - Map\"}},\n",
       "                        {\"responsive\": true}\n",
       "                    ).then(function(){\n",
       "                            \n",
       "var gd = document.getElementById('0b20bd07-2940-4836-93c9-cef4f491ce30');\n",
       "var x = new MutationObserver(function (mutations, observer) {{\n",
       "        var display = window.getComputedStyle(gd).display;\n",
       "        if (!display || display === 'none') {{\n",
       "            console.log([gd, 'removed!']);\n",
       "            Plotly.purge(gd);\n",
       "            observer.disconnect();\n",
       "        }}\n",
       "}});\n",
       "\n",
       "// Listen for the removal of the full notebook cells\n",
       "var notebookContainer = gd.closest('#notebook-container');\n",
       "if (notebookContainer) {{\n",
       "    x.observe(notebookContainer, {childList: true});\n",
       "}}\n",
       "\n",
       "// Listen for the clearing of the current output cell\n",
       "var outputEl = gd.closest('.output');\n",
       "if (outputEl) {{\n",
       "    x.observe(outputEl, {childList: true});\n",
       "}}\n",
       "\n",
       "                        })\n",
       "                };\n",
       "                });\n",
       "            </script>\n",
       "        </div>"
      ]
     },
     "metadata": {},
     "output_type": "display_data"
    }
   ],
   "source": [
    "plotMapCases(data_confirmed,\"Corona Virus - Confirmed Cases - Map\")\n",
    "#py.iplot(plotBars(data_confirmed,1), filename='CoronaConfirmed_bar')"
   ]
  },
  {
   "cell_type": "code",
   "execution_count": 173,
   "metadata": {},
   "outputs": [
    {
     "data": {
      "application/vnd.plotly.v1+json": {
       "config": {
        "plotlyServerURL": "https://plot.ly"
       },
       "data": [
        {
         "cells": {
          "align": "left",
          "fill": {
           "color": "light blue"
          },
          "values": [
           [
            [
             "Mainland China"
            ],
            [
             "Thailand"
            ],
            [
             "Japan"
            ],
            [
             "South Korea"
            ],
            [
             "Taiwan"
            ],
            [
             "US"
            ],
            [
             "Macau"
            ],
            [
             "Hong Kong"
            ],
            [
             "Singapore"
            ],
            [
             "Vietnam"
            ],
            [
             "France"
            ],
            [
             "Nepal"
            ],
            [
             "Malaysia"
            ],
            [
             "Canada"
            ],
            [
             "Australia"
            ],
            [
             "Cambodia"
            ],
            [
             "Sri Lanka"
            ],
            [
             "Germany"
            ],
            [
             "Finland"
            ],
            [
             "United Arab Emirates"
            ],
            [
             "Philippines"
            ],
            [
             "India"
            ],
            [
             "Italy"
            ],
            [
             "UK"
            ],
            [
             "Russia"
            ],
            [
             "Sweden"
            ],
            [
             "Spain"
            ],
            [
             "Belgium"
            ],
            [
             "Others"
            ],
            [
             "Egypt"
            ],
            [
             "Iran"
            ],
            [
             "Lebanon"
            ],
            [
             "Iraq"
            ],
            [
             "Oman"
            ],
            [
             "Afghanistan"
            ],
            [
             "Bahrain"
            ],
            [
             "Kuwait"
            ],
            [
             "Algeria"
            ],
            [
             "Croatia"
            ],
            [
             "Switzerland"
            ],
            [
             "Austria"
            ],
            [
             "Israel"
            ],
            [
             "Pakistan"
            ],
            [
             "Brazil"
            ],
            [
             "Georgia"
            ],
            [
             "Greece"
            ],
            [
             "North Macedonia"
            ],
            [
             "Norway"
            ],
            [
             "Romania"
            ],
            [
             "Denmark"
            ],
            [
             "Estonia"
            ],
            [
             "Netherlands"
            ],
            [
             "San Marino"
            ],
            [
             "Belarus"
            ],
            [
             "Iceland"
            ],
            [
             "Lithuania"
            ],
            [
             "Mexico"
            ],
            [
             "New Zealand"
            ],
            [
             "Nigeria"
            ],
            [
             "Ireland"
            ],
            [
             "Luxembourg"
            ],
            [
             "Monaco"
            ],
            [
             "Qatar"
            ],
            [
             "Ecuador"
            ],
            [
             "Azerbaijan"
            ],
            [
             "Czech Republic"
            ],
            [
             "Armenia"
            ],
            [
             "Dominican Republic"
            ],
            [
             "Indonesia"
            ],
            [
             "Portugal"
            ],
            [
             "Andorra"
            ],
            [
             "Latvia"
            ],
            [
             "Morocco"
            ],
            [
             "Saudi Arabia"
            ],
            [
             "Senegal"
            ],
            [
             "Argentina"
            ],
            [
             "Chile"
            ],
            [
             "Jordan"
            ],
            [
             "Ukraine"
            ],
            [
             "Saint Barthelemy"
            ],
            [
             "Hungary"
            ],
            [
             "Faroe Islands"
            ],
            [
             "Gibraltar"
            ],
            [
             "Liechtenstein"
            ],
            [
             "Poland"
            ],
            [
             "Tunisia"
            ],
            [
             "Palestine"
            ],
            [
             "Bosnia and Herzegovina"
            ],
            [
             "Slovenia"
            ],
            [
             "South Africa"
            ],
            [
             "Bhutan"
            ],
            [
             "Cameroon"
            ],
            [
             "Colombia"
            ],
            [
             "Costa Rica"
            ],
            [
             "Peru"
            ],
            [
             "Serbia"
            ],
            [
             "Slovakia"
            ],
            [
             "Togo"
            ],
            [
             "Vatican City"
            ]
           ],
           [
            [
             80573
            ],
            [
             48
            ],
            [
             420
            ],
            [
             6593
            ],
            [
             45
            ],
            [
             278
            ],
            [
             10
            ],
            [
             107
            ],
            [
             130
            ],
            [
             16
            ],
            [
             653
            ],
            [
             1
            ],
            [
             83
            ],
            [
             49
            ],
            [
             60
            ],
            [
             1
            ],
            [
             1
            ],
            [
             670
            ],
            [
             15
            ],
            [
             29
            ],
            [
             5
            ],
            [
             31
            ],
            [
             4636
            ],
            [
             163
            ],
            [
             13
            ],
            [
             101
            ],
            [
             400
            ],
            [
             109
            ],
            [
             696
            ],
            [
             15
            ],
            [
             4747
            ],
            [
             22
            ],
            [
             40
            ],
            [
             16
            ],
            [
             1
            ],
            [
             60
            ],
            [
             58
            ],
            [
             17
            ],
            [
             11
            ],
            [
             214
            ],
            [
             55
            ],
            [
             21
            ],
            [
             6
            ],
            [
             13
            ],
            [
             4
            ],
            [
             45
            ],
            [
             3
            ],
            [
             108
            ],
            [
             9
            ],
            [
             23
            ],
            [
             10
            ],
            [
             128
            ],
            [
             21
            ],
            [
             6
            ],
            [
             43
            ],
            [
             1
            ],
            [
             6
            ],
            [
             4
            ],
            [
             1
            ],
            [
             18
            ],
            [
             2
            ],
            [
             1
            ],
            [
             8
            ],
            [
             13
            ],
            [
             6
            ],
            [
             18
            ],
            [
             1
            ],
            [
             2
            ],
            [
             4
            ],
            [
             13
            ],
            [
             1
            ],
            [
             1
            ],
            [
             2
            ],
            [
             5
            ],
            [
             4
            ],
            [
             2
            ],
            [
             4
            ],
            [
             1
            ],
            [
             1
            ],
            [
             3
            ],
            [
             2
            ],
            [
             1
            ],
            [
             1
            ],
            [
             1
            ],
            [
             5
            ],
            [
             1
            ],
            [
             16
            ],
            [
             2
            ],
            [
             7
            ],
            [
             1
            ],
            [
             1
            ],
            [
             1
            ],
            [
             1
            ],
            [
             1
            ],
            [
             1
            ],
            [
             1
            ],
            [
             1
            ],
            [
             1
            ],
            [
             1
            ]
           ]
          ]
         },
         "header": {
          "align": "left",
          "fill": {
           "color": "lavender"
          },
          "values": [
           "Country",
           "Cases"
          ]
         },
         "type": "table"
        }
       ],
       "layout": {
        "template": {
         "data": {
          "bar": [
           {
            "error_x": {
             "color": "#2a3f5f"
            },
            "error_y": {
             "color": "#2a3f5f"
            },
            "marker": {
             "line": {
              "color": "#E5ECF6",
              "width": 0.5
             }
            },
            "type": "bar"
           }
          ],
          "barpolar": [
           {
            "marker": {
             "line": {
              "color": "#E5ECF6",
              "width": 0.5
             }
            },
            "type": "barpolar"
           }
          ],
          "carpet": [
           {
            "aaxis": {
             "endlinecolor": "#2a3f5f",
             "gridcolor": "white",
             "linecolor": "white",
             "minorgridcolor": "white",
             "startlinecolor": "#2a3f5f"
            },
            "baxis": {
             "endlinecolor": "#2a3f5f",
             "gridcolor": "white",
             "linecolor": "white",
             "minorgridcolor": "white",
             "startlinecolor": "#2a3f5f"
            },
            "type": "carpet"
           }
          ],
          "choropleth": [
           {
            "colorbar": {
             "outlinewidth": 0,
             "ticks": ""
            },
            "type": "choropleth"
           }
          ],
          "contour": [
           {
            "colorbar": {
             "outlinewidth": 0,
             "ticks": ""
            },
            "colorscale": [
             [
              0,
              "#0d0887"
             ],
             [
              0.1111111111111111,
              "#46039f"
             ],
             [
              0.2222222222222222,
              "#7201a8"
             ],
             [
              0.3333333333333333,
              "#9c179e"
             ],
             [
              0.4444444444444444,
              "#bd3786"
             ],
             [
              0.5555555555555556,
              "#d8576b"
             ],
             [
              0.6666666666666666,
              "#ed7953"
             ],
             [
              0.7777777777777778,
              "#fb9f3a"
             ],
             [
              0.8888888888888888,
              "#fdca26"
             ],
             [
              1,
              "#f0f921"
             ]
            ],
            "type": "contour"
           }
          ],
          "contourcarpet": [
           {
            "colorbar": {
             "outlinewidth": 0,
             "ticks": ""
            },
            "type": "contourcarpet"
           }
          ],
          "heatmap": [
           {
            "colorbar": {
             "outlinewidth": 0,
             "ticks": ""
            },
            "colorscale": [
             [
              0,
              "#0d0887"
             ],
             [
              0.1111111111111111,
              "#46039f"
             ],
             [
              0.2222222222222222,
              "#7201a8"
             ],
             [
              0.3333333333333333,
              "#9c179e"
             ],
             [
              0.4444444444444444,
              "#bd3786"
             ],
             [
              0.5555555555555556,
              "#d8576b"
             ],
             [
              0.6666666666666666,
              "#ed7953"
             ],
             [
              0.7777777777777778,
              "#fb9f3a"
             ],
             [
              0.8888888888888888,
              "#fdca26"
             ],
             [
              1,
              "#f0f921"
             ]
            ],
            "type": "heatmap"
           }
          ],
          "heatmapgl": [
           {
            "colorbar": {
             "outlinewidth": 0,
             "ticks": ""
            },
            "colorscale": [
             [
              0,
              "#0d0887"
             ],
             [
              0.1111111111111111,
              "#46039f"
             ],
             [
              0.2222222222222222,
              "#7201a8"
             ],
             [
              0.3333333333333333,
              "#9c179e"
             ],
             [
              0.4444444444444444,
              "#bd3786"
             ],
             [
              0.5555555555555556,
              "#d8576b"
             ],
             [
              0.6666666666666666,
              "#ed7953"
             ],
             [
              0.7777777777777778,
              "#fb9f3a"
             ],
             [
              0.8888888888888888,
              "#fdca26"
             ],
             [
              1,
              "#f0f921"
             ]
            ],
            "type": "heatmapgl"
           }
          ],
          "histogram": [
           {
            "marker": {
             "colorbar": {
              "outlinewidth": 0,
              "ticks": ""
             }
            },
            "type": "histogram"
           }
          ],
          "histogram2d": [
           {
            "colorbar": {
             "outlinewidth": 0,
             "ticks": ""
            },
            "colorscale": [
             [
              0,
              "#0d0887"
             ],
             [
              0.1111111111111111,
              "#46039f"
             ],
             [
              0.2222222222222222,
              "#7201a8"
             ],
             [
              0.3333333333333333,
              "#9c179e"
             ],
             [
              0.4444444444444444,
              "#bd3786"
             ],
             [
              0.5555555555555556,
              "#d8576b"
             ],
             [
              0.6666666666666666,
              "#ed7953"
             ],
             [
              0.7777777777777778,
              "#fb9f3a"
             ],
             [
              0.8888888888888888,
              "#fdca26"
             ],
             [
              1,
              "#f0f921"
             ]
            ],
            "type": "histogram2d"
           }
          ],
          "histogram2dcontour": [
           {
            "colorbar": {
             "outlinewidth": 0,
             "ticks": ""
            },
            "colorscale": [
             [
              0,
              "#0d0887"
             ],
             [
              0.1111111111111111,
              "#46039f"
             ],
             [
              0.2222222222222222,
              "#7201a8"
             ],
             [
              0.3333333333333333,
              "#9c179e"
             ],
             [
              0.4444444444444444,
              "#bd3786"
             ],
             [
              0.5555555555555556,
              "#d8576b"
             ],
             [
              0.6666666666666666,
              "#ed7953"
             ],
             [
              0.7777777777777778,
              "#fb9f3a"
             ],
             [
              0.8888888888888888,
              "#fdca26"
             ],
             [
              1,
              "#f0f921"
             ]
            ],
            "type": "histogram2dcontour"
           }
          ],
          "mesh3d": [
           {
            "colorbar": {
             "outlinewidth": 0,
             "ticks": ""
            },
            "type": "mesh3d"
           }
          ],
          "parcoords": [
           {
            "line": {
             "colorbar": {
              "outlinewidth": 0,
              "ticks": ""
             }
            },
            "type": "parcoords"
           }
          ],
          "pie": [
           {
            "automargin": true,
            "type": "pie"
           }
          ],
          "scatter": [
           {
            "marker": {
             "colorbar": {
              "outlinewidth": 0,
              "ticks": ""
             }
            },
            "type": "scatter"
           }
          ],
          "scatter3d": [
           {
            "line": {
             "colorbar": {
              "outlinewidth": 0,
              "ticks": ""
             }
            },
            "marker": {
             "colorbar": {
              "outlinewidth": 0,
              "ticks": ""
             }
            },
            "type": "scatter3d"
           }
          ],
          "scattercarpet": [
           {
            "marker": {
             "colorbar": {
              "outlinewidth": 0,
              "ticks": ""
             }
            },
            "type": "scattercarpet"
           }
          ],
          "scattergeo": [
           {
            "marker": {
             "colorbar": {
              "outlinewidth": 0,
              "ticks": ""
             }
            },
            "type": "scattergeo"
           }
          ],
          "scattergl": [
           {
            "marker": {
             "colorbar": {
              "outlinewidth": 0,
              "ticks": ""
             }
            },
            "type": "scattergl"
           }
          ],
          "scattermapbox": [
           {
            "marker": {
             "colorbar": {
              "outlinewidth": 0,
              "ticks": ""
             }
            },
            "type": "scattermapbox"
           }
          ],
          "scatterpolar": [
           {
            "marker": {
             "colorbar": {
              "outlinewidth": 0,
              "ticks": ""
             }
            },
            "type": "scatterpolar"
           }
          ],
          "scatterpolargl": [
           {
            "marker": {
             "colorbar": {
              "outlinewidth": 0,
              "ticks": ""
             }
            },
            "type": "scatterpolargl"
           }
          ],
          "scatterternary": [
           {
            "marker": {
             "colorbar": {
              "outlinewidth": 0,
              "ticks": ""
             }
            },
            "type": "scatterternary"
           }
          ],
          "surface": [
           {
            "colorbar": {
             "outlinewidth": 0,
             "ticks": ""
            },
            "colorscale": [
             [
              0,
              "#0d0887"
             ],
             [
              0.1111111111111111,
              "#46039f"
             ],
             [
              0.2222222222222222,
              "#7201a8"
             ],
             [
              0.3333333333333333,
              "#9c179e"
             ],
             [
              0.4444444444444444,
              "#bd3786"
             ],
             [
              0.5555555555555556,
              "#d8576b"
             ],
             [
              0.6666666666666666,
              "#ed7953"
             ],
             [
              0.7777777777777778,
              "#fb9f3a"
             ],
             [
              0.8888888888888888,
              "#fdca26"
             ],
             [
              1,
              "#f0f921"
             ]
            ],
            "type": "surface"
           }
          ],
          "table": [
           {
            "cells": {
             "fill": {
              "color": "#EBF0F8"
             },
             "line": {
              "color": "white"
             }
            },
            "header": {
             "fill": {
              "color": "#C8D4E3"
             },
             "line": {
              "color": "white"
             }
            },
            "type": "table"
           }
          ]
         },
         "layout": {
          "annotationdefaults": {
           "arrowcolor": "#2a3f5f",
           "arrowhead": 0,
           "arrowwidth": 1
          },
          "coloraxis": {
           "colorbar": {
            "outlinewidth": 0,
            "ticks": ""
           }
          },
          "colorscale": {
           "diverging": [
            [
             0,
             "#8e0152"
            ],
            [
             0.1,
             "#c51b7d"
            ],
            [
             0.2,
             "#de77ae"
            ],
            [
             0.3,
             "#f1b6da"
            ],
            [
             0.4,
             "#fde0ef"
            ],
            [
             0.5,
             "#f7f7f7"
            ],
            [
             0.6,
             "#e6f5d0"
            ],
            [
             0.7,
             "#b8e186"
            ],
            [
             0.8,
             "#7fbc41"
            ],
            [
             0.9,
             "#4d9221"
            ],
            [
             1,
             "#276419"
            ]
           ],
           "sequential": [
            [
             0,
             "#0d0887"
            ],
            [
             0.1111111111111111,
             "#46039f"
            ],
            [
             0.2222222222222222,
             "#7201a8"
            ],
            [
             0.3333333333333333,
             "#9c179e"
            ],
            [
             0.4444444444444444,
             "#bd3786"
            ],
            [
             0.5555555555555556,
             "#d8576b"
            ],
            [
             0.6666666666666666,
             "#ed7953"
            ],
            [
             0.7777777777777778,
             "#fb9f3a"
            ],
            [
             0.8888888888888888,
             "#fdca26"
            ],
            [
             1,
             "#f0f921"
            ]
           ],
           "sequentialminus": [
            [
             0,
             "#0d0887"
            ],
            [
             0.1111111111111111,
             "#46039f"
            ],
            [
             0.2222222222222222,
             "#7201a8"
            ],
            [
             0.3333333333333333,
             "#9c179e"
            ],
            [
             0.4444444444444444,
             "#bd3786"
            ],
            [
             0.5555555555555556,
             "#d8576b"
            ],
            [
             0.6666666666666666,
             "#ed7953"
            ],
            [
             0.7777777777777778,
             "#fb9f3a"
            ],
            [
             0.8888888888888888,
             "#fdca26"
            ],
            [
             1,
             "#f0f921"
            ]
           ]
          },
          "colorway": [
           "#636efa",
           "#EF553B",
           "#00cc96",
           "#ab63fa",
           "#FFA15A",
           "#19d3f3",
           "#FF6692",
           "#B6E880",
           "#FF97FF",
           "#FECB52"
          ],
          "font": {
           "color": "#2a3f5f"
          },
          "geo": {
           "bgcolor": "white",
           "lakecolor": "white",
           "landcolor": "#E5ECF6",
           "showlakes": true,
           "showland": true,
           "subunitcolor": "white"
          },
          "hoverlabel": {
           "align": "left"
          },
          "hovermode": "closest",
          "mapbox": {
           "style": "light"
          },
          "paper_bgcolor": "white",
          "plot_bgcolor": "#E5ECF6",
          "polar": {
           "angularaxis": {
            "gridcolor": "white",
            "linecolor": "white",
            "ticks": ""
           },
           "bgcolor": "#E5ECF6",
           "radialaxis": {
            "gridcolor": "white",
            "linecolor": "white",
            "ticks": ""
           }
          },
          "scene": {
           "xaxis": {
            "backgroundcolor": "#E5ECF6",
            "gridcolor": "white",
            "gridwidth": 2,
            "linecolor": "white",
            "showbackground": true,
            "ticks": "",
            "zerolinecolor": "white"
           },
           "yaxis": {
            "backgroundcolor": "#E5ECF6",
            "gridcolor": "white",
            "gridwidth": 2,
            "linecolor": "white",
            "showbackground": true,
            "ticks": "",
            "zerolinecolor": "white"
           },
           "zaxis": {
            "backgroundcolor": "#E5ECF6",
            "gridcolor": "white",
            "gridwidth": 2,
            "linecolor": "white",
            "showbackground": true,
            "ticks": "",
            "zerolinecolor": "white"
           }
          },
          "shapedefaults": {
           "line": {
            "color": "#2a3f5f"
           }
          },
          "ternary": {
           "aaxis": {
            "gridcolor": "white",
            "linecolor": "white",
            "ticks": ""
           },
           "baxis": {
            "gridcolor": "white",
            "linecolor": "white",
            "ticks": ""
           },
           "bgcolor": "#E5ECF6",
           "caxis": {
            "gridcolor": "white",
            "linecolor": "white",
            "ticks": ""
           }
          },
          "title": {
           "x": 0.05
          },
          "xaxis": {
           "automargin": true,
           "gridcolor": "white",
           "linecolor": "white",
           "ticks": "",
           "title": {
            "standoff": 15
           },
           "zerolinecolor": "white",
           "zerolinewidth": 2
          },
          "yaxis": {
           "automargin": true,
           "gridcolor": "white",
           "linecolor": "white",
           "ticks": "",
           "title": {
            "standoff": 15
           },
           "zerolinecolor": "white",
           "zerolinewidth": 2
          }
         }
        }
       }
      },
      "text/html": [
       "<div>\n",
       "        \n",
       "        \n",
       "            <div id=\"11c4fb73-2750-4b67-8375-34a29b516347\" class=\"plotly-graph-div\" style=\"height:525px; width:100%;\"></div>\n",
       "            <script type=\"text/javascript\">\n",
       "                require([\"plotly\"], function(Plotly) {\n",
       "                    window.PLOTLYENV=window.PLOTLYENV || {};\n",
       "                    \n",
       "                if (document.getElementById(\"11c4fb73-2750-4b67-8375-34a29b516347\")) {\n",
       "                    Plotly.newPlot(\n",
       "                        '11c4fb73-2750-4b67-8375-34a29b516347',\n",
       "                        [{\"cells\": {\"align\": \"left\", \"fill\": {\"color\": \"light blue\"}, \"values\": [[[\"Mainland China\"], [\"Thailand\"], [\"Japan\"], [\"South Korea\"], [\"Taiwan\"], [\"US\"], [\"Macau\"], [\"Hong Kong\"], [\"Singapore\"], [\"Vietnam\"], [\"France\"], [\"Nepal\"], [\"Malaysia\"], [\"Canada\"], [\"Australia\"], [\"Cambodia\"], [\"Sri Lanka\"], [\"Germany\"], [\"Finland\"], [\"United Arab Emirates\"], [\"Philippines\"], [\"India\"], [\"Italy\"], [\"UK\"], [\"Russia\"], [\"Sweden\"], [\"Spain\"], [\"Belgium\"], [\"Others\"], [\"Egypt\"], [\"Iran\"], [\"Lebanon\"], [\"Iraq\"], [\"Oman\"], [\"Afghanistan\"], [\"Bahrain\"], [\"Kuwait\"], [\"Algeria\"], [\"Croatia\"], [\"Switzerland\"], [\"Austria\"], [\"Israel\"], [\"Pakistan\"], [\"Brazil\"], [\"Georgia\"], [\"Greece\"], [\"North Macedonia\"], [\"Norway\"], [\"Romania\"], [\"Denmark\"], [\"Estonia\"], [\"Netherlands\"], [\"San Marino\"], [\"Belarus\"], [\"Iceland\"], [\"Lithuania\"], [\"Mexico\"], [\"New Zealand\"], [\"Nigeria\"], [\"Ireland\"], [\"Luxembourg\"], [\"Monaco\"], [\"Qatar\"], [\"Ecuador\"], [\"Azerbaijan\"], [\"Czech Republic\"], [\"Armenia\"], [\"Dominican Republic\"], [\"Indonesia\"], [\"Portugal\"], [\"Andorra\"], [\"Latvia\"], [\"Morocco\"], [\"Saudi Arabia\"], [\"Senegal\"], [\"Argentina\"], [\"Chile\"], [\"Jordan\"], [\"Ukraine\"], [\"Saint Barthelemy\"], [\"Hungary\"], [\"Faroe Islands\"], [\"Gibraltar\"], [\"Liechtenstein\"], [\"Poland\"], [\"Tunisia\"], [\"Palestine\"], [\"Bosnia and Herzegovina\"], [\"Slovenia\"], [\"South Africa\"], [\"Bhutan\"], [\"Cameroon\"], [\"Colombia\"], [\"Costa Rica\"], [\"Peru\"], [\"Serbia\"], [\"Slovakia\"], [\"Togo\"], [\"Vatican City\"]], [[80573.0], [48.0], [420.0], [6593.0], [45.0], [278.0], [10.0], [107.0], [130.0], [16.0], [653.0], [1.0], [83.0], [49.0], [60.0], [1.0], [1.0], [670.0], [15.0], [29.0], [5.0], [31.0], [4636.0], [163.0], [13.0], [101.0], [400.0], [109.0], [696.0], [15.0], [4747.0], [22.0], [40.0], [16.0], [1.0], [60.0], [58.0], [17.0], [11.0], [214.0], [55.0], [21.0], [6.0], [13.0], [4.0], [45.0], [3.0], [108.0], [9.0], [23.0], [10.0], [128.0], [21.0], [6.0], [43.0], [1.0], [6.0], [4.0], [1.0], [18.0], [2.0], [1.0], [8.0], [13.0], [6.0], [18.0], [1.0], [2.0], [4.0], [13.0], [1.0], [1.0], [2.0], [5.0], [4.0], [2.0], [4.0], [1.0], [1.0], [3.0], [2.0], [1.0], [1.0], [1.0], [5.0], [1.0], [16.0], [2.0], [7.0], [1.0], [1.0], [1.0], [1.0], [1.0], [1.0], [1.0], [1.0], [1.0], [1.0]]]}, \"header\": {\"align\": \"left\", \"fill\": {\"color\": \"lavender\"}, \"values\": [\"Country\", \"Cases\"]}, \"type\": \"table\"}],\n",
       "                        {\"template\": {\"data\": {\"bar\": [{\"error_x\": {\"color\": \"#2a3f5f\"}, \"error_y\": {\"color\": \"#2a3f5f\"}, \"marker\": {\"line\": {\"color\": \"#E5ECF6\", \"width\": 0.5}}, \"type\": \"bar\"}], \"barpolar\": [{\"marker\": {\"line\": {\"color\": \"#E5ECF6\", \"width\": 0.5}}, \"type\": \"barpolar\"}], \"carpet\": [{\"aaxis\": {\"endlinecolor\": \"#2a3f5f\", \"gridcolor\": \"white\", \"linecolor\": \"white\", \"minorgridcolor\": \"white\", \"startlinecolor\": \"#2a3f5f\"}, \"baxis\": {\"endlinecolor\": \"#2a3f5f\", \"gridcolor\": \"white\", \"linecolor\": \"white\", \"minorgridcolor\": \"white\", \"startlinecolor\": \"#2a3f5f\"}, \"type\": \"carpet\"}], \"choropleth\": [{\"colorbar\": {\"outlinewidth\": 0, \"ticks\": \"\"}, \"type\": \"choropleth\"}], \"contour\": [{\"colorbar\": {\"outlinewidth\": 0, \"ticks\": \"\"}, \"colorscale\": [[0.0, \"#0d0887\"], [0.1111111111111111, \"#46039f\"], [0.2222222222222222, \"#7201a8\"], [0.3333333333333333, \"#9c179e\"], [0.4444444444444444, \"#bd3786\"], [0.5555555555555556, \"#d8576b\"], [0.6666666666666666, \"#ed7953\"], [0.7777777777777778, \"#fb9f3a\"], [0.8888888888888888, \"#fdca26\"], [1.0, \"#f0f921\"]], \"type\": \"contour\"}], \"contourcarpet\": [{\"colorbar\": {\"outlinewidth\": 0, \"ticks\": \"\"}, \"type\": \"contourcarpet\"}], \"heatmap\": [{\"colorbar\": {\"outlinewidth\": 0, \"ticks\": \"\"}, \"colorscale\": [[0.0, \"#0d0887\"], [0.1111111111111111, \"#46039f\"], [0.2222222222222222, \"#7201a8\"], [0.3333333333333333, \"#9c179e\"], [0.4444444444444444, \"#bd3786\"], [0.5555555555555556, \"#d8576b\"], [0.6666666666666666, \"#ed7953\"], [0.7777777777777778, \"#fb9f3a\"], [0.8888888888888888, \"#fdca26\"], [1.0, \"#f0f921\"]], \"type\": \"heatmap\"}], \"heatmapgl\": [{\"colorbar\": {\"outlinewidth\": 0, \"ticks\": \"\"}, \"colorscale\": [[0.0, \"#0d0887\"], [0.1111111111111111, \"#46039f\"], [0.2222222222222222, \"#7201a8\"], [0.3333333333333333, \"#9c179e\"], [0.4444444444444444, \"#bd3786\"], [0.5555555555555556, \"#d8576b\"], [0.6666666666666666, \"#ed7953\"], [0.7777777777777778, \"#fb9f3a\"], [0.8888888888888888, \"#fdca26\"], [1.0, \"#f0f921\"]], \"type\": \"heatmapgl\"}], \"histogram\": [{\"marker\": {\"colorbar\": {\"outlinewidth\": 0, \"ticks\": \"\"}}, \"type\": \"histogram\"}], \"histogram2d\": [{\"colorbar\": {\"outlinewidth\": 0, \"ticks\": \"\"}, \"colorscale\": [[0.0, \"#0d0887\"], [0.1111111111111111, \"#46039f\"], [0.2222222222222222, \"#7201a8\"], [0.3333333333333333, \"#9c179e\"], [0.4444444444444444, \"#bd3786\"], [0.5555555555555556, \"#d8576b\"], [0.6666666666666666, \"#ed7953\"], [0.7777777777777778, \"#fb9f3a\"], [0.8888888888888888, \"#fdca26\"], [1.0, \"#f0f921\"]], \"type\": \"histogram2d\"}], \"histogram2dcontour\": [{\"colorbar\": {\"outlinewidth\": 0, \"ticks\": \"\"}, \"colorscale\": [[0.0, \"#0d0887\"], [0.1111111111111111, \"#46039f\"], [0.2222222222222222, \"#7201a8\"], [0.3333333333333333, \"#9c179e\"], [0.4444444444444444, \"#bd3786\"], [0.5555555555555556, \"#d8576b\"], [0.6666666666666666, \"#ed7953\"], [0.7777777777777778, \"#fb9f3a\"], [0.8888888888888888, \"#fdca26\"], [1.0, \"#f0f921\"]], \"type\": \"histogram2dcontour\"}], \"mesh3d\": [{\"colorbar\": {\"outlinewidth\": 0, \"ticks\": \"\"}, \"type\": \"mesh3d\"}], \"parcoords\": [{\"line\": {\"colorbar\": {\"outlinewidth\": 0, \"ticks\": \"\"}}, \"type\": \"parcoords\"}], \"pie\": [{\"automargin\": true, \"type\": \"pie\"}], \"scatter\": [{\"marker\": {\"colorbar\": {\"outlinewidth\": 0, \"ticks\": \"\"}}, \"type\": \"scatter\"}], \"scatter3d\": [{\"line\": {\"colorbar\": {\"outlinewidth\": 0, \"ticks\": \"\"}}, \"marker\": {\"colorbar\": {\"outlinewidth\": 0, \"ticks\": \"\"}}, \"type\": \"scatter3d\"}], \"scattercarpet\": [{\"marker\": {\"colorbar\": {\"outlinewidth\": 0, \"ticks\": \"\"}}, \"type\": \"scattercarpet\"}], \"scattergeo\": [{\"marker\": {\"colorbar\": {\"outlinewidth\": 0, \"ticks\": \"\"}}, \"type\": \"scattergeo\"}], \"scattergl\": [{\"marker\": {\"colorbar\": {\"outlinewidth\": 0, \"ticks\": \"\"}}, \"type\": \"scattergl\"}], \"scattermapbox\": [{\"marker\": {\"colorbar\": {\"outlinewidth\": 0, \"ticks\": \"\"}}, \"type\": \"scattermapbox\"}], \"scatterpolar\": [{\"marker\": {\"colorbar\": {\"outlinewidth\": 0, \"ticks\": \"\"}}, \"type\": \"scatterpolar\"}], \"scatterpolargl\": [{\"marker\": {\"colorbar\": {\"outlinewidth\": 0, \"ticks\": \"\"}}, \"type\": \"scatterpolargl\"}], \"scatterternary\": [{\"marker\": {\"colorbar\": {\"outlinewidth\": 0, \"ticks\": \"\"}}, \"type\": \"scatterternary\"}], \"surface\": [{\"colorbar\": {\"outlinewidth\": 0, \"ticks\": \"\"}, \"colorscale\": [[0.0, \"#0d0887\"], [0.1111111111111111, \"#46039f\"], [0.2222222222222222, \"#7201a8\"], [0.3333333333333333, \"#9c179e\"], [0.4444444444444444, \"#bd3786\"], [0.5555555555555556, \"#d8576b\"], [0.6666666666666666, \"#ed7953\"], [0.7777777777777778, \"#fb9f3a\"], [0.8888888888888888, \"#fdca26\"], [1.0, \"#f0f921\"]], \"type\": \"surface\"}], \"table\": [{\"cells\": {\"fill\": {\"color\": \"#EBF0F8\"}, \"line\": {\"color\": \"white\"}}, \"header\": {\"fill\": {\"color\": \"#C8D4E3\"}, \"line\": {\"color\": \"white\"}}, \"type\": \"table\"}]}, \"layout\": {\"annotationdefaults\": {\"arrowcolor\": \"#2a3f5f\", \"arrowhead\": 0, \"arrowwidth\": 1}, \"coloraxis\": {\"colorbar\": {\"outlinewidth\": 0, \"ticks\": \"\"}}, \"colorscale\": {\"diverging\": [[0, \"#8e0152\"], [0.1, \"#c51b7d\"], [0.2, \"#de77ae\"], [0.3, \"#f1b6da\"], [0.4, \"#fde0ef\"], [0.5, \"#f7f7f7\"], [0.6, \"#e6f5d0\"], [0.7, \"#b8e186\"], [0.8, \"#7fbc41\"], [0.9, \"#4d9221\"], [1, \"#276419\"]], \"sequential\": [[0.0, \"#0d0887\"], [0.1111111111111111, \"#46039f\"], [0.2222222222222222, \"#7201a8\"], [0.3333333333333333, \"#9c179e\"], [0.4444444444444444, \"#bd3786\"], [0.5555555555555556, \"#d8576b\"], [0.6666666666666666, \"#ed7953\"], [0.7777777777777778, \"#fb9f3a\"], [0.8888888888888888, \"#fdca26\"], [1.0, \"#f0f921\"]], \"sequentialminus\": [[0.0, \"#0d0887\"], [0.1111111111111111, \"#46039f\"], [0.2222222222222222, \"#7201a8\"], [0.3333333333333333, \"#9c179e\"], [0.4444444444444444, \"#bd3786\"], [0.5555555555555556, \"#d8576b\"], [0.6666666666666666, \"#ed7953\"], [0.7777777777777778, \"#fb9f3a\"], [0.8888888888888888, \"#fdca26\"], [1.0, \"#f0f921\"]]}, \"colorway\": [\"#636efa\", \"#EF553B\", \"#00cc96\", \"#ab63fa\", \"#FFA15A\", \"#19d3f3\", \"#FF6692\", \"#B6E880\", \"#FF97FF\", \"#FECB52\"], \"font\": {\"color\": \"#2a3f5f\"}, \"geo\": {\"bgcolor\": \"white\", \"lakecolor\": \"white\", \"landcolor\": \"#E5ECF6\", \"showlakes\": true, \"showland\": true, \"subunitcolor\": \"white\"}, \"hoverlabel\": {\"align\": \"left\"}, \"hovermode\": \"closest\", \"mapbox\": {\"style\": \"light\"}, \"paper_bgcolor\": \"white\", \"plot_bgcolor\": \"#E5ECF6\", \"polar\": {\"angularaxis\": {\"gridcolor\": \"white\", \"linecolor\": \"white\", \"ticks\": \"\"}, \"bgcolor\": \"#E5ECF6\", \"radialaxis\": {\"gridcolor\": \"white\", \"linecolor\": \"white\", \"ticks\": \"\"}}, \"scene\": {\"xaxis\": {\"backgroundcolor\": \"#E5ECF6\", \"gridcolor\": \"white\", \"gridwidth\": 2, \"linecolor\": \"white\", \"showbackground\": true, \"ticks\": \"\", \"zerolinecolor\": \"white\"}, \"yaxis\": {\"backgroundcolor\": \"#E5ECF6\", \"gridcolor\": \"white\", \"gridwidth\": 2, \"linecolor\": \"white\", \"showbackground\": true, \"ticks\": \"\", \"zerolinecolor\": \"white\"}, \"zaxis\": {\"backgroundcolor\": \"#E5ECF6\", \"gridcolor\": \"white\", \"gridwidth\": 2, \"linecolor\": \"white\", \"showbackground\": true, \"ticks\": \"\", \"zerolinecolor\": \"white\"}}, \"shapedefaults\": {\"line\": {\"color\": \"#2a3f5f\"}}, \"ternary\": {\"aaxis\": {\"gridcolor\": \"white\", \"linecolor\": \"white\", \"ticks\": \"\"}, \"baxis\": {\"gridcolor\": \"white\", \"linecolor\": \"white\", \"ticks\": \"\"}, \"bgcolor\": \"#E5ECF6\", \"caxis\": {\"gridcolor\": \"white\", \"linecolor\": \"white\", \"ticks\": \"\"}}, \"title\": {\"x\": 0.05}, \"xaxis\": {\"automargin\": true, \"gridcolor\": \"white\", \"linecolor\": \"white\", \"ticks\": \"\", \"title\": {\"standoff\": 15}, \"zerolinecolor\": \"white\", \"zerolinewidth\": 2}, \"yaxis\": {\"automargin\": true, \"gridcolor\": \"white\", \"linecolor\": \"white\", \"ticks\": \"\", \"title\": {\"standoff\": 15}, \"zerolinecolor\": \"white\", \"zerolinewidth\": 2}}}},\n",
       "                        {\"responsive\": true}\n",
       "                    ).then(function(){\n",
       "                            \n",
       "var gd = document.getElementById('11c4fb73-2750-4b67-8375-34a29b516347');\n",
       "var x = new MutationObserver(function (mutations, observer) {{\n",
       "        var display = window.getComputedStyle(gd).display;\n",
       "        if (!display || display === 'none') {{\n",
       "            console.log([gd, 'removed!']);\n",
       "            Plotly.purge(gd);\n",
       "            observer.disconnect();\n",
       "        }}\n",
       "}});\n",
       "\n",
       "// Listen for the removal of the full notebook cells\n",
       "var notebookContainer = gd.closest('#notebook-container');\n",
       "if (notebookContainer) {{\n",
       "    x.observe(notebookContainer, {childList: true});\n",
       "}}\n",
       "\n",
       "// Listen for the clearing of the current output cell\n",
       "var outputEl = gd.closest('.output');\n",
       "if (outputEl) {{\n",
       "    x.observe(outputEl, {childList: true});\n",
       "}}\n",
       "\n",
       "                        })\n",
       "                };\n",
       "                });\n",
       "            </script>\n",
       "        </div>"
      ]
     },
     "metadata": {},
     "output_type": "display_data"
    },
    {
     "data": {
      "application/vnd.plotly.v1+json": {
       "config": {
        "plotlyServerURL": "https://plot.ly"
       },
       "data": [
        {
         "alignmentgroup": "True",
         "hoverlabel": {
          "namelength": 0
         },
         "hovertemplate": "x=%{x}<br>y=%{y}<br>Cases=%{text}",
         "legendgroup": "",
         "marker": {
          "color": "#636efa"
         },
         "name": "",
         "offsetgroup": "",
         "orientation": "v",
         "showlegend": false,
         "text": [
          48,
          420,
          6593,
          45,
          278,
          10,
          107,
          130,
          16,
          653,
          1,
          83,
          49,
          60,
          1,
          1,
          670,
          15,
          29,
          5,
          31,
          4636,
          163,
          13,
          101,
          400,
          109,
          696,
          15,
          4747,
          22,
          40,
          16,
          1,
          60,
          58,
          17,
          11,
          214,
          55,
          21,
          6,
          13,
          4,
          45,
          3,
          108,
          9,
          23,
          10,
          128,
          21,
          6,
          43,
          1,
          6,
          4,
          1,
          18,
          2,
          1,
          8,
          13,
          6,
          18,
          1,
          2,
          4,
          13,
          1,
          1,
          2,
          5,
          4,
          2,
          4,
          1,
          1,
          3,
          2,
          1,
          1,
          1,
          5,
          1,
          16,
          2,
          7,
          1,
          1,
          1,
          1,
          1,
          1,
          1,
          1,
          1,
          1
         ],
         "textposition": "outside",
         "texttemplate": "%{text:.2s}",
         "type": "bar",
         "x": [
          "Thailand",
          "Japan",
          "South Korea",
          "Taiwan",
          "US",
          "Macau",
          "Hong Kong",
          "Singapore",
          "Vietnam",
          "France",
          "Nepal",
          "Malaysia",
          "Canada",
          "Australia",
          "Cambodia",
          "Sri Lanka",
          "Germany",
          "Finland",
          "United Arab Emirates",
          "Philippines",
          "India",
          "Italy",
          "UK",
          "Russia",
          "Sweden",
          "Spain",
          "Belgium",
          "Others",
          "Egypt",
          "Iran",
          "Lebanon",
          "Iraq",
          "Oman",
          "Afghanistan",
          "Bahrain",
          "Kuwait",
          "Algeria",
          "Croatia",
          "Switzerland",
          "Austria",
          "Israel",
          "Pakistan",
          "Brazil",
          "Georgia",
          "Greece",
          "North Macedonia",
          "Norway",
          "Romania",
          "Denmark",
          "Estonia",
          "Netherlands",
          "San Marino",
          "Belarus",
          "Iceland",
          "Lithuania",
          "Mexico",
          "New Zealand",
          "Nigeria",
          "Ireland",
          "Luxembourg",
          "Monaco",
          "Qatar",
          "Ecuador",
          "Azerbaijan",
          "Czech Republic",
          "Armenia",
          "Dominican Republic",
          "Indonesia",
          "Portugal",
          "Andorra",
          "Latvia",
          "Morocco",
          "Saudi Arabia",
          "Senegal",
          "Argentina",
          "Chile",
          "Jordan",
          "Ukraine",
          "Saint Barthelemy",
          "Hungary",
          "Faroe Islands",
          "Gibraltar",
          "Liechtenstein",
          "Poland",
          "Tunisia",
          "Palestine",
          "Bosnia and Herzegovina",
          "Slovenia",
          "South Africa",
          "Bhutan",
          "Cameroon",
          "Colombia",
          "Costa Rica",
          "Peru",
          "Serbia",
          "Slovakia",
          "Togo",
          "Vatican City"
         ],
         "xaxis": "x",
         "y": [
          48,
          420,
          6593,
          45,
          278,
          10,
          107,
          130,
          16,
          653,
          1,
          83,
          49,
          60,
          1,
          1,
          670,
          15,
          29,
          5,
          31,
          4636,
          163,
          13,
          101,
          400,
          109,
          696,
          15,
          4747,
          22,
          40,
          16,
          1,
          60,
          58,
          17,
          11,
          214,
          55,
          21,
          6,
          13,
          4,
          45,
          3,
          108,
          9,
          23,
          10,
          128,
          21,
          6,
          43,
          1,
          6,
          4,
          1,
          18,
          2,
          1,
          8,
          13,
          6,
          18,
          1,
          2,
          4,
          13,
          1,
          1,
          2,
          5,
          4,
          2,
          4,
          1,
          1,
          3,
          2,
          1,
          1,
          1,
          5,
          1,
          16,
          2,
          7,
          1,
          1,
          1,
          1,
          1,
          1,
          1,
          1,
          1,
          1
         ],
         "yaxis": "y"
        }
       ],
       "layout": {
        "barmode": "relative",
        "height": 700,
        "legend": {
         "tracegroupgap": 0
        },
        "margin": {
         "t": 60
        },
        "template": {
         "data": {
          "bar": [
           {
            "error_x": {
             "color": "#2a3f5f"
            },
            "error_y": {
             "color": "#2a3f5f"
            },
            "marker": {
             "line": {
              "color": "#E5ECF6",
              "width": 0.5
             }
            },
            "type": "bar"
           }
          ],
          "barpolar": [
           {
            "marker": {
             "line": {
              "color": "#E5ECF6",
              "width": 0.5
             }
            },
            "type": "barpolar"
           }
          ],
          "carpet": [
           {
            "aaxis": {
             "endlinecolor": "#2a3f5f",
             "gridcolor": "white",
             "linecolor": "white",
             "minorgridcolor": "white",
             "startlinecolor": "#2a3f5f"
            },
            "baxis": {
             "endlinecolor": "#2a3f5f",
             "gridcolor": "white",
             "linecolor": "white",
             "minorgridcolor": "white",
             "startlinecolor": "#2a3f5f"
            },
            "type": "carpet"
           }
          ],
          "choropleth": [
           {
            "colorbar": {
             "outlinewidth": 0,
             "ticks": ""
            },
            "type": "choropleth"
           }
          ],
          "contour": [
           {
            "colorbar": {
             "outlinewidth": 0,
             "ticks": ""
            },
            "colorscale": [
             [
              0,
              "#0d0887"
             ],
             [
              0.1111111111111111,
              "#46039f"
             ],
             [
              0.2222222222222222,
              "#7201a8"
             ],
             [
              0.3333333333333333,
              "#9c179e"
             ],
             [
              0.4444444444444444,
              "#bd3786"
             ],
             [
              0.5555555555555556,
              "#d8576b"
             ],
             [
              0.6666666666666666,
              "#ed7953"
             ],
             [
              0.7777777777777778,
              "#fb9f3a"
             ],
             [
              0.8888888888888888,
              "#fdca26"
             ],
             [
              1,
              "#f0f921"
             ]
            ],
            "type": "contour"
           }
          ],
          "contourcarpet": [
           {
            "colorbar": {
             "outlinewidth": 0,
             "ticks": ""
            },
            "type": "contourcarpet"
           }
          ],
          "heatmap": [
           {
            "colorbar": {
             "outlinewidth": 0,
             "ticks": ""
            },
            "colorscale": [
             [
              0,
              "#0d0887"
             ],
             [
              0.1111111111111111,
              "#46039f"
             ],
             [
              0.2222222222222222,
              "#7201a8"
             ],
             [
              0.3333333333333333,
              "#9c179e"
             ],
             [
              0.4444444444444444,
              "#bd3786"
             ],
             [
              0.5555555555555556,
              "#d8576b"
             ],
             [
              0.6666666666666666,
              "#ed7953"
             ],
             [
              0.7777777777777778,
              "#fb9f3a"
             ],
             [
              0.8888888888888888,
              "#fdca26"
             ],
             [
              1,
              "#f0f921"
             ]
            ],
            "type": "heatmap"
           }
          ],
          "heatmapgl": [
           {
            "colorbar": {
             "outlinewidth": 0,
             "ticks": ""
            },
            "colorscale": [
             [
              0,
              "#0d0887"
             ],
             [
              0.1111111111111111,
              "#46039f"
             ],
             [
              0.2222222222222222,
              "#7201a8"
             ],
             [
              0.3333333333333333,
              "#9c179e"
             ],
             [
              0.4444444444444444,
              "#bd3786"
             ],
             [
              0.5555555555555556,
              "#d8576b"
             ],
             [
              0.6666666666666666,
              "#ed7953"
             ],
             [
              0.7777777777777778,
              "#fb9f3a"
             ],
             [
              0.8888888888888888,
              "#fdca26"
             ],
             [
              1,
              "#f0f921"
             ]
            ],
            "type": "heatmapgl"
           }
          ],
          "histogram": [
           {
            "marker": {
             "colorbar": {
              "outlinewidth": 0,
              "ticks": ""
             }
            },
            "type": "histogram"
           }
          ],
          "histogram2d": [
           {
            "colorbar": {
             "outlinewidth": 0,
             "ticks": ""
            },
            "colorscale": [
             [
              0,
              "#0d0887"
             ],
             [
              0.1111111111111111,
              "#46039f"
             ],
             [
              0.2222222222222222,
              "#7201a8"
             ],
             [
              0.3333333333333333,
              "#9c179e"
             ],
             [
              0.4444444444444444,
              "#bd3786"
             ],
             [
              0.5555555555555556,
              "#d8576b"
             ],
             [
              0.6666666666666666,
              "#ed7953"
             ],
             [
              0.7777777777777778,
              "#fb9f3a"
             ],
             [
              0.8888888888888888,
              "#fdca26"
             ],
             [
              1,
              "#f0f921"
             ]
            ],
            "type": "histogram2d"
           }
          ],
          "histogram2dcontour": [
           {
            "colorbar": {
             "outlinewidth": 0,
             "ticks": ""
            },
            "colorscale": [
             [
              0,
              "#0d0887"
             ],
             [
              0.1111111111111111,
              "#46039f"
             ],
             [
              0.2222222222222222,
              "#7201a8"
             ],
             [
              0.3333333333333333,
              "#9c179e"
             ],
             [
              0.4444444444444444,
              "#bd3786"
             ],
             [
              0.5555555555555556,
              "#d8576b"
             ],
             [
              0.6666666666666666,
              "#ed7953"
             ],
             [
              0.7777777777777778,
              "#fb9f3a"
             ],
             [
              0.8888888888888888,
              "#fdca26"
             ],
             [
              1,
              "#f0f921"
             ]
            ],
            "type": "histogram2dcontour"
           }
          ],
          "mesh3d": [
           {
            "colorbar": {
             "outlinewidth": 0,
             "ticks": ""
            },
            "type": "mesh3d"
           }
          ],
          "parcoords": [
           {
            "line": {
             "colorbar": {
              "outlinewidth": 0,
              "ticks": ""
             }
            },
            "type": "parcoords"
           }
          ],
          "pie": [
           {
            "automargin": true,
            "type": "pie"
           }
          ],
          "scatter": [
           {
            "marker": {
             "colorbar": {
              "outlinewidth": 0,
              "ticks": ""
             }
            },
            "type": "scatter"
           }
          ],
          "scatter3d": [
           {
            "line": {
             "colorbar": {
              "outlinewidth": 0,
              "ticks": ""
             }
            },
            "marker": {
             "colorbar": {
              "outlinewidth": 0,
              "ticks": ""
             }
            },
            "type": "scatter3d"
           }
          ],
          "scattercarpet": [
           {
            "marker": {
             "colorbar": {
              "outlinewidth": 0,
              "ticks": ""
             }
            },
            "type": "scattercarpet"
           }
          ],
          "scattergeo": [
           {
            "marker": {
             "colorbar": {
              "outlinewidth": 0,
              "ticks": ""
             }
            },
            "type": "scattergeo"
           }
          ],
          "scattergl": [
           {
            "marker": {
             "colorbar": {
              "outlinewidth": 0,
              "ticks": ""
             }
            },
            "type": "scattergl"
           }
          ],
          "scattermapbox": [
           {
            "marker": {
             "colorbar": {
              "outlinewidth": 0,
              "ticks": ""
             }
            },
            "type": "scattermapbox"
           }
          ],
          "scatterpolar": [
           {
            "marker": {
             "colorbar": {
              "outlinewidth": 0,
              "ticks": ""
             }
            },
            "type": "scatterpolar"
           }
          ],
          "scatterpolargl": [
           {
            "marker": {
             "colorbar": {
              "outlinewidth": 0,
              "ticks": ""
             }
            },
            "type": "scatterpolargl"
           }
          ],
          "scatterternary": [
           {
            "marker": {
             "colorbar": {
              "outlinewidth": 0,
              "ticks": ""
             }
            },
            "type": "scatterternary"
           }
          ],
          "surface": [
           {
            "colorbar": {
             "outlinewidth": 0,
             "ticks": ""
            },
            "colorscale": [
             [
              0,
              "#0d0887"
             ],
             [
              0.1111111111111111,
              "#46039f"
             ],
             [
              0.2222222222222222,
              "#7201a8"
             ],
             [
              0.3333333333333333,
              "#9c179e"
             ],
             [
              0.4444444444444444,
              "#bd3786"
             ],
             [
              0.5555555555555556,
              "#d8576b"
             ],
             [
              0.6666666666666666,
              "#ed7953"
             ],
             [
              0.7777777777777778,
              "#fb9f3a"
             ],
             [
              0.8888888888888888,
              "#fdca26"
             ],
             [
              1,
              "#f0f921"
             ]
            ],
            "type": "surface"
           }
          ],
          "table": [
           {
            "cells": {
             "fill": {
              "color": "#EBF0F8"
             },
             "line": {
              "color": "white"
             }
            },
            "header": {
             "fill": {
              "color": "#C8D4E3"
             },
             "line": {
              "color": "white"
             }
            },
            "type": "table"
           }
          ]
         },
         "layout": {
          "annotationdefaults": {
           "arrowcolor": "#2a3f5f",
           "arrowhead": 0,
           "arrowwidth": 1
          },
          "coloraxis": {
           "colorbar": {
            "outlinewidth": 0,
            "ticks": ""
           }
          },
          "colorscale": {
           "diverging": [
            [
             0,
             "#8e0152"
            ],
            [
             0.1,
             "#c51b7d"
            ],
            [
             0.2,
             "#de77ae"
            ],
            [
             0.3,
             "#f1b6da"
            ],
            [
             0.4,
             "#fde0ef"
            ],
            [
             0.5,
             "#f7f7f7"
            ],
            [
             0.6,
             "#e6f5d0"
            ],
            [
             0.7,
             "#b8e186"
            ],
            [
             0.8,
             "#7fbc41"
            ],
            [
             0.9,
             "#4d9221"
            ],
            [
             1,
             "#276419"
            ]
           ],
           "sequential": [
            [
             0,
             "#0d0887"
            ],
            [
             0.1111111111111111,
             "#46039f"
            ],
            [
             0.2222222222222222,
             "#7201a8"
            ],
            [
             0.3333333333333333,
             "#9c179e"
            ],
            [
             0.4444444444444444,
             "#bd3786"
            ],
            [
             0.5555555555555556,
             "#d8576b"
            ],
            [
             0.6666666666666666,
             "#ed7953"
            ],
            [
             0.7777777777777778,
             "#fb9f3a"
            ],
            [
             0.8888888888888888,
             "#fdca26"
            ],
            [
             1,
             "#f0f921"
            ]
           ],
           "sequentialminus": [
            [
             0,
             "#0d0887"
            ],
            [
             0.1111111111111111,
             "#46039f"
            ],
            [
             0.2222222222222222,
             "#7201a8"
            ],
            [
             0.3333333333333333,
             "#9c179e"
            ],
            [
             0.4444444444444444,
             "#bd3786"
            ],
            [
             0.5555555555555556,
             "#d8576b"
            ],
            [
             0.6666666666666666,
             "#ed7953"
            ],
            [
             0.7777777777777778,
             "#fb9f3a"
            ],
            [
             0.8888888888888888,
             "#fdca26"
            ],
            [
             1,
             "#f0f921"
            ]
           ]
          },
          "colorway": [
           "#636efa",
           "#EF553B",
           "#00cc96",
           "#ab63fa",
           "#FFA15A",
           "#19d3f3",
           "#FF6692",
           "#B6E880",
           "#FF97FF",
           "#FECB52"
          ],
          "font": {
           "color": "#2a3f5f"
          },
          "geo": {
           "bgcolor": "white",
           "lakecolor": "white",
           "landcolor": "#E5ECF6",
           "showlakes": true,
           "showland": true,
           "subunitcolor": "white"
          },
          "hoverlabel": {
           "align": "left"
          },
          "hovermode": "closest",
          "mapbox": {
           "style": "light"
          },
          "paper_bgcolor": "white",
          "plot_bgcolor": "#E5ECF6",
          "polar": {
           "angularaxis": {
            "gridcolor": "white",
            "linecolor": "white",
            "ticks": ""
           },
           "bgcolor": "#E5ECF6",
           "radialaxis": {
            "gridcolor": "white",
            "linecolor": "white",
            "ticks": ""
           }
          },
          "scene": {
           "xaxis": {
            "backgroundcolor": "#E5ECF6",
            "gridcolor": "white",
            "gridwidth": 2,
            "linecolor": "white",
            "showbackground": true,
            "ticks": "",
            "zerolinecolor": "white"
           },
           "yaxis": {
            "backgroundcolor": "#E5ECF6",
            "gridcolor": "white",
            "gridwidth": 2,
            "linecolor": "white",
            "showbackground": true,
            "ticks": "",
            "zerolinecolor": "white"
           },
           "zaxis": {
            "backgroundcolor": "#E5ECF6",
            "gridcolor": "white",
            "gridwidth": 2,
            "linecolor": "white",
            "showbackground": true,
            "ticks": "",
            "zerolinecolor": "white"
           }
          },
          "shapedefaults": {
           "line": {
            "color": "#2a3f5f"
           }
          },
          "ternary": {
           "aaxis": {
            "gridcolor": "white",
            "linecolor": "white",
            "ticks": ""
           },
           "baxis": {
            "gridcolor": "white",
            "linecolor": "white",
            "ticks": ""
           },
           "bgcolor": "#E5ECF6",
           "caxis": {
            "gridcolor": "white",
            "linecolor": "white",
            "ticks": ""
           }
          },
          "title": {
           "x": 0.05
          },
          "xaxis": {
           "automargin": true,
           "gridcolor": "white",
           "linecolor": "white",
           "ticks": "",
           "title": {
            "standoff": 15
           },
           "zerolinecolor": "white",
           "zerolinewidth": 2
          },
          "yaxis": {
           "automargin": true,
           "gridcolor": "white",
           "linecolor": "white",
           "ticks": "",
           "title": {
            "standoff": 15
           },
           "zerolinecolor": "white",
           "zerolinewidth": 2
          }
         }
        },
        "title": {
         "text": "Corona Virus - Confirmed Cases"
        },
        "uniformtext": {
         "minsize": 5,
         "mode": "hide"
        },
        "xaxis": {
         "anchor": "y",
         "domain": [
          0,
          1
         ],
         "tickangle": 90,
         "title": {
          "font": {
           "size": 15
          },
          "standoff": 15,
          "text": "Country"
         }
        },
        "yaxis": {
         "anchor": "x",
         "domain": [
          0,
          1
         ],
         "title": {
          "standoff": 15,
          "text": "Cases"
         }
        }
       }
      },
      "text/html": [
       "<div>\n",
       "        \n",
       "        \n",
       "            <div id=\"af989b93-a2c6-4fe6-a70f-92a90cbb997e\" class=\"plotly-graph-div\" style=\"height:700px; width:100%;\"></div>\n",
       "            <script type=\"text/javascript\">\n",
       "                require([\"plotly\"], function(Plotly) {\n",
       "                    window.PLOTLYENV=window.PLOTLYENV || {};\n",
       "                    \n",
       "                if (document.getElementById(\"af989b93-a2c6-4fe6-a70f-92a90cbb997e\")) {\n",
       "                    Plotly.newPlot(\n",
       "                        'af989b93-a2c6-4fe6-a70f-92a90cbb997e',\n",
       "                        [{\"alignmentgroup\": \"True\", \"hoverlabel\": {\"namelength\": 0}, \"hovertemplate\": \"x=%{x}<br>y=%{y}<br>Cases=%{text}\", \"legendgroup\": \"\", \"marker\": {\"color\": \"#636efa\"}, \"name\": \"\", \"offsetgroup\": \"\", \"orientation\": \"v\", \"showlegend\": false, \"text\": [48.0, 420.0, 6593.0, 45.0, 278.0, 10.0, 107.0, 130.0, 16.0, 653.0, 1.0, 83.0, 49.0, 60.0, 1.0, 1.0, 670.0, 15.0, 29.0, 5.0, 31.0, 4636.0, 163.0, 13.0, 101.0, 400.0, 109.0, 696.0, 15.0, 4747.0, 22.0, 40.0, 16.0, 1.0, 60.0, 58.0, 17.0, 11.0, 214.0, 55.0, 21.0, 6.0, 13.0, 4.0, 45.0, 3.0, 108.0, 9.0, 23.0, 10.0, 128.0, 21.0, 6.0, 43.0, 1.0, 6.0, 4.0, 1.0, 18.0, 2.0, 1.0, 8.0, 13.0, 6.0, 18.0, 1.0, 2.0, 4.0, 13.0, 1.0, 1.0, 2.0, 5.0, 4.0, 2.0, 4.0, 1.0, 1.0, 3.0, 2.0, 1.0, 1.0, 1.0, 5.0, 1.0, 16.0, 2.0, 7.0, 1.0, 1.0, 1.0, 1.0, 1.0, 1.0, 1.0, 1.0, 1.0, 1.0], \"textposition\": \"outside\", \"texttemplate\": \"%{text:.2s}\", \"type\": \"bar\", \"x\": [\"Thailand\", \"Japan\", \"South Korea\", \"Taiwan\", \"US\", \"Macau\", \"Hong Kong\", \"Singapore\", \"Vietnam\", \"France\", \"Nepal\", \"Malaysia\", \"Canada\", \"Australia\", \"Cambodia\", \"Sri Lanka\", \"Germany\", \"Finland\", \"United Arab Emirates\", \"Philippines\", \"India\", \"Italy\", \"UK\", \"Russia\", \"Sweden\", \"Spain\", \"Belgium\", \"Others\", \"Egypt\", \"Iran\", \"Lebanon\", \"Iraq\", \"Oman\", \"Afghanistan\", \"Bahrain\", \"Kuwait\", \"Algeria\", \"Croatia\", \"Switzerland\", \"Austria\", \"Israel\", \"Pakistan\", \"Brazil\", \"Georgia\", \"Greece\", \"North Macedonia\", \"Norway\", \"Romania\", \"Denmark\", \"Estonia\", \"Netherlands\", \"San Marino\", \"Belarus\", \"Iceland\", \"Lithuania\", \"Mexico\", \"New Zealand\", \"Nigeria\", \"Ireland\", \"Luxembourg\", \"Monaco\", \"Qatar\", \"Ecuador\", \"Azerbaijan\", \"Czech Republic\", \"Armenia\", \"Dominican Republic\", \"Indonesia\", \"Portugal\", \"Andorra\", \"Latvia\", \"Morocco\", \"Saudi Arabia\", \"Senegal\", \"Argentina\", \"Chile\", \"Jordan\", \"Ukraine\", \"Saint Barthelemy\", \"Hungary\", \"Faroe Islands\", \"Gibraltar\", \"Liechtenstein\", \"Poland\", \"Tunisia\", \"Palestine\", \"Bosnia and Herzegovina\", \"Slovenia\", \"South Africa\", \"Bhutan\", \"Cameroon\", \"Colombia\", \"Costa Rica\", \"Peru\", \"Serbia\", \"Slovakia\", \"Togo\", \"Vatican City\"], \"xaxis\": \"x\", \"y\": [48.0, 420.0, 6593.0, 45.0, 278.0, 10.0, 107.0, 130.0, 16.0, 653.0, 1.0, 83.0, 49.0, 60.0, 1.0, 1.0, 670.0, 15.0, 29.0, 5.0, 31.0, 4636.0, 163.0, 13.0, 101.0, 400.0, 109.0, 696.0, 15.0, 4747.0, 22.0, 40.0, 16.0, 1.0, 60.0, 58.0, 17.0, 11.0, 214.0, 55.0, 21.0, 6.0, 13.0, 4.0, 45.0, 3.0, 108.0, 9.0, 23.0, 10.0, 128.0, 21.0, 6.0, 43.0, 1.0, 6.0, 4.0, 1.0, 18.0, 2.0, 1.0, 8.0, 13.0, 6.0, 18.0, 1.0, 2.0, 4.0, 13.0, 1.0, 1.0, 2.0, 5.0, 4.0, 2.0, 4.0, 1.0, 1.0, 3.0, 2.0, 1.0, 1.0, 1.0, 5.0, 1.0, 16.0, 2.0, 7.0, 1.0, 1.0, 1.0, 1.0, 1.0, 1.0, 1.0, 1.0, 1.0, 1.0], \"yaxis\": \"y\"}],\n",
       "                        {\"barmode\": \"relative\", \"height\": 700, \"legend\": {\"tracegroupgap\": 0}, \"margin\": {\"t\": 60}, \"template\": {\"data\": {\"bar\": [{\"error_x\": {\"color\": \"#2a3f5f\"}, \"error_y\": {\"color\": \"#2a3f5f\"}, \"marker\": {\"line\": {\"color\": \"#E5ECF6\", \"width\": 0.5}}, \"type\": \"bar\"}], \"barpolar\": [{\"marker\": {\"line\": {\"color\": \"#E5ECF6\", \"width\": 0.5}}, \"type\": \"barpolar\"}], \"carpet\": [{\"aaxis\": {\"endlinecolor\": \"#2a3f5f\", \"gridcolor\": \"white\", \"linecolor\": \"white\", \"minorgridcolor\": \"white\", \"startlinecolor\": \"#2a3f5f\"}, \"baxis\": {\"endlinecolor\": \"#2a3f5f\", \"gridcolor\": \"white\", \"linecolor\": \"white\", \"minorgridcolor\": \"white\", \"startlinecolor\": \"#2a3f5f\"}, \"type\": \"carpet\"}], \"choropleth\": [{\"colorbar\": {\"outlinewidth\": 0, \"ticks\": \"\"}, \"type\": \"choropleth\"}], \"contour\": [{\"colorbar\": {\"outlinewidth\": 0, \"ticks\": \"\"}, \"colorscale\": [[0.0, \"#0d0887\"], [0.1111111111111111, \"#46039f\"], [0.2222222222222222, \"#7201a8\"], [0.3333333333333333, \"#9c179e\"], [0.4444444444444444, \"#bd3786\"], [0.5555555555555556, \"#d8576b\"], [0.6666666666666666, \"#ed7953\"], [0.7777777777777778, \"#fb9f3a\"], [0.8888888888888888, \"#fdca26\"], [1.0, \"#f0f921\"]], \"type\": \"contour\"}], \"contourcarpet\": [{\"colorbar\": {\"outlinewidth\": 0, \"ticks\": \"\"}, \"type\": \"contourcarpet\"}], \"heatmap\": [{\"colorbar\": {\"outlinewidth\": 0, \"ticks\": \"\"}, \"colorscale\": [[0.0, \"#0d0887\"], [0.1111111111111111, \"#46039f\"], [0.2222222222222222, \"#7201a8\"], [0.3333333333333333, \"#9c179e\"], [0.4444444444444444, \"#bd3786\"], [0.5555555555555556, \"#d8576b\"], [0.6666666666666666, \"#ed7953\"], [0.7777777777777778, \"#fb9f3a\"], [0.8888888888888888, \"#fdca26\"], [1.0, \"#f0f921\"]], \"type\": \"heatmap\"}], \"heatmapgl\": [{\"colorbar\": {\"outlinewidth\": 0, \"ticks\": \"\"}, \"colorscale\": [[0.0, \"#0d0887\"], [0.1111111111111111, \"#46039f\"], [0.2222222222222222, \"#7201a8\"], [0.3333333333333333, \"#9c179e\"], [0.4444444444444444, \"#bd3786\"], [0.5555555555555556, \"#d8576b\"], [0.6666666666666666, \"#ed7953\"], [0.7777777777777778, \"#fb9f3a\"], [0.8888888888888888, \"#fdca26\"], [1.0, \"#f0f921\"]], \"type\": \"heatmapgl\"}], \"histogram\": [{\"marker\": {\"colorbar\": {\"outlinewidth\": 0, \"ticks\": \"\"}}, \"type\": \"histogram\"}], \"histogram2d\": [{\"colorbar\": {\"outlinewidth\": 0, \"ticks\": \"\"}, \"colorscale\": [[0.0, \"#0d0887\"], [0.1111111111111111, \"#46039f\"], [0.2222222222222222, \"#7201a8\"], [0.3333333333333333, \"#9c179e\"], [0.4444444444444444, \"#bd3786\"], [0.5555555555555556, \"#d8576b\"], [0.6666666666666666, \"#ed7953\"], [0.7777777777777778, \"#fb9f3a\"], [0.8888888888888888, \"#fdca26\"], [1.0, \"#f0f921\"]], \"type\": \"histogram2d\"}], \"histogram2dcontour\": [{\"colorbar\": {\"outlinewidth\": 0, \"ticks\": \"\"}, \"colorscale\": [[0.0, \"#0d0887\"], [0.1111111111111111, \"#46039f\"], [0.2222222222222222, \"#7201a8\"], [0.3333333333333333, \"#9c179e\"], [0.4444444444444444, \"#bd3786\"], [0.5555555555555556, \"#d8576b\"], [0.6666666666666666, \"#ed7953\"], [0.7777777777777778, \"#fb9f3a\"], [0.8888888888888888, \"#fdca26\"], [1.0, \"#f0f921\"]], \"type\": \"histogram2dcontour\"}], \"mesh3d\": [{\"colorbar\": {\"outlinewidth\": 0, \"ticks\": \"\"}, \"type\": \"mesh3d\"}], \"parcoords\": [{\"line\": {\"colorbar\": {\"outlinewidth\": 0, \"ticks\": \"\"}}, \"type\": \"parcoords\"}], \"pie\": [{\"automargin\": true, \"type\": \"pie\"}], \"scatter\": [{\"marker\": {\"colorbar\": {\"outlinewidth\": 0, \"ticks\": \"\"}}, \"type\": \"scatter\"}], \"scatter3d\": [{\"line\": {\"colorbar\": {\"outlinewidth\": 0, \"ticks\": \"\"}}, \"marker\": {\"colorbar\": {\"outlinewidth\": 0, \"ticks\": \"\"}}, \"type\": \"scatter3d\"}], \"scattercarpet\": [{\"marker\": {\"colorbar\": {\"outlinewidth\": 0, \"ticks\": \"\"}}, \"type\": \"scattercarpet\"}], \"scattergeo\": [{\"marker\": {\"colorbar\": {\"outlinewidth\": 0, \"ticks\": \"\"}}, \"type\": \"scattergeo\"}], \"scattergl\": [{\"marker\": {\"colorbar\": {\"outlinewidth\": 0, \"ticks\": \"\"}}, \"type\": \"scattergl\"}], \"scattermapbox\": [{\"marker\": {\"colorbar\": {\"outlinewidth\": 0, \"ticks\": \"\"}}, \"type\": \"scattermapbox\"}], \"scatterpolar\": [{\"marker\": {\"colorbar\": {\"outlinewidth\": 0, \"ticks\": \"\"}}, \"type\": \"scatterpolar\"}], \"scatterpolargl\": [{\"marker\": {\"colorbar\": {\"outlinewidth\": 0, \"ticks\": \"\"}}, \"type\": \"scatterpolargl\"}], \"scatterternary\": [{\"marker\": {\"colorbar\": {\"outlinewidth\": 0, \"ticks\": \"\"}}, \"type\": \"scatterternary\"}], \"surface\": [{\"colorbar\": {\"outlinewidth\": 0, \"ticks\": \"\"}, \"colorscale\": [[0.0, \"#0d0887\"], [0.1111111111111111, \"#46039f\"], [0.2222222222222222, \"#7201a8\"], [0.3333333333333333, \"#9c179e\"], [0.4444444444444444, \"#bd3786\"], [0.5555555555555556, \"#d8576b\"], [0.6666666666666666, \"#ed7953\"], [0.7777777777777778, \"#fb9f3a\"], [0.8888888888888888, \"#fdca26\"], [1.0, \"#f0f921\"]], \"type\": \"surface\"}], \"table\": [{\"cells\": {\"fill\": {\"color\": \"#EBF0F8\"}, \"line\": {\"color\": \"white\"}}, \"header\": {\"fill\": {\"color\": \"#C8D4E3\"}, \"line\": {\"color\": \"white\"}}, \"type\": \"table\"}]}, \"layout\": {\"annotationdefaults\": {\"arrowcolor\": \"#2a3f5f\", \"arrowhead\": 0, \"arrowwidth\": 1}, \"coloraxis\": {\"colorbar\": {\"outlinewidth\": 0, \"ticks\": \"\"}}, \"colorscale\": {\"diverging\": [[0, \"#8e0152\"], [0.1, \"#c51b7d\"], [0.2, \"#de77ae\"], [0.3, \"#f1b6da\"], [0.4, \"#fde0ef\"], [0.5, \"#f7f7f7\"], [0.6, \"#e6f5d0\"], [0.7, \"#b8e186\"], [0.8, \"#7fbc41\"], [0.9, \"#4d9221\"], [1, \"#276419\"]], \"sequential\": [[0.0, \"#0d0887\"], [0.1111111111111111, \"#46039f\"], [0.2222222222222222, \"#7201a8\"], [0.3333333333333333, \"#9c179e\"], [0.4444444444444444, \"#bd3786\"], [0.5555555555555556, \"#d8576b\"], [0.6666666666666666, \"#ed7953\"], [0.7777777777777778, \"#fb9f3a\"], [0.8888888888888888, \"#fdca26\"], [1.0, \"#f0f921\"]], \"sequentialminus\": [[0.0, \"#0d0887\"], [0.1111111111111111, \"#46039f\"], [0.2222222222222222, \"#7201a8\"], [0.3333333333333333, \"#9c179e\"], [0.4444444444444444, \"#bd3786\"], [0.5555555555555556, \"#d8576b\"], [0.6666666666666666, \"#ed7953\"], [0.7777777777777778, \"#fb9f3a\"], [0.8888888888888888, \"#fdca26\"], [1.0, \"#f0f921\"]]}, \"colorway\": [\"#636efa\", \"#EF553B\", \"#00cc96\", \"#ab63fa\", \"#FFA15A\", \"#19d3f3\", \"#FF6692\", \"#B6E880\", \"#FF97FF\", \"#FECB52\"], \"font\": {\"color\": \"#2a3f5f\"}, \"geo\": {\"bgcolor\": \"white\", \"lakecolor\": \"white\", \"landcolor\": \"#E5ECF6\", \"showlakes\": true, \"showland\": true, \"subunitcolor\": \"white\"}, \"hoverlabel\": {\"align\": \"left\"}, \"hovermode\": \"closest\", \"mapbox\": {\"style\": \"light\"}, \"paper_bgcolor\": \"white\", \"plot_bgcolor\": \"#E5ECF6\", \"polar\": {\"angularaxis\": {\"gridcolor\": \"white\", \"linecolor\": \"white\", \"ticks\": \"\"}, \"bgcolor\": \"#E5ECF6\", \"radialaxis\": {\"gridcolor\": \"white\", \"linecolor\": \"white\", \"ticks\": \"\"}}, \"scene\": {\"xaxis\": {\"backgroundcolor\": \"#E5ECF6\", \"gridcolor\": \"white\", \"gridwidth\": 2, \"linecolor\": \"white\", \"showbackground\": true, \"ticks\": \"\", \"zerolinecolor\": \"white\"}, \"yaxis\": {\"backgroundcolor\": \"#E5ECF6\", \"gridcolor\": \"white\", \"gridwidth\": 2, \"linecolor\": \"white\", \"showbackground\": true, \"ticks\": \"\", \"zerolinecolor\": \"white\"}, \"zaxis\": {\"backgroundcolor\": \"#E5ECF6\", \"gridcolor\": \"white\", \"gridwidth\": 2, \"linecolor\": \"white\", \"showbackground\": true, \"ticks\": \"\", \"zerolinecolor\": \"white\"}}, \"shapedefaults\": {\"line\": {\"color\": \"#2a3f5f\"}}, \"ternary\": {\"aaxis\": {\"gridcolor\": \"white\", \"linecolor\": \"white\", \"ticks\": \"\"}, \"baxis\": {\"gridcolor\": \"white\", \"linecolor\": \"white\", \"ticks\": \"\"}, \"bgcolor\": \"#E5ECF6\", \"caxis\": {\"gridcolor\": \"white\", \"linecolor\": \"white\", \"ticks\": \"\"}}, \"title\": {\"x\": 0.05}, \"xaxis\": {\"automargin\": true, \"gridcolor\": \"white\", \"linecolor\": \"white\", \"ticks\": \"\", \"title\": {\"standoff\": 15}, \"zerolinecolor\": \"white\", \"zerolinewidth\": 2}, \"yaxis\": {\"automargin\": true, \"gridcolor\": \"white\", \"linecolor\": \"white\", \"ticks\": \"\", \"title\": {\"standoff\": 15}, \"zerolinecolor\": \"white\", \"zerolinewidth\": 2}}}, \"title\": {\"text\": \"Corona Virus - Confirmed Cases\"}, \"uniformtext\": {\"minsize\": 5, \"mode\": \"hide\"}, \"xaxis\": {\"anchor\": \"y\", \"domain\": [0.0, 1.0], \"tickangle\": 90, \"title\": {\"font\": {\"size\": 15}, \"standoff\": 15, \"text\": \"Country\"}}, \"yaxis\": {\"anchor\": \"x\", \"domain\": [0.0, 1.0], \"title\": {\"standoff\": 15, \"text\": \"Cases\"}}},\n",
       "                        {\"responsive\": true}\n",
       "                    ).then(function(){\n",
       "                            \n",
       "var gd = document.getElementById('af989b93-a2c6-4fe6-a70f-92a90cbb997e');\n",
       "var x = new MutationObserver(function (mutations, observer) {{\n",
       "        var display = window.getComputedStyle(gd).display;\n",
       "        if (!display || display === 'none') {{\n",
       "            console.log([gd, 'removed!']);\n",
       "            Plotly.purge(gd);\n",
       "            observer.disconnect();\n",
       "        }}\n",
       "}});\n",
       "\n",
       "// Listen for the removal of the full notebook cells\n",
       "var notebookContainer = gd.closest('#notebook-container');\n",
       "if (notebookContainer) {{\n",
       "    x.observe(notebookContainer, {childList: true});\n",
       "}}\n",
       "\n",
       "// Listen for the clearing of the current output cell\n",
       "var outputEl = gd.closest('.output');\n",
       "if (outputEl) {{\n",
       "    x.observe(outputEl, {childList: true});\n",
       "}}\n",
       "\n",
       "                        })\n",
       "                };\n",
       "                });\n",
       "            </script>\n",
       "        </div>"
      ]
     },
     "metadata": {},
     "output_type": "display_data"
    }
   ],
   "source": [
    "plotBarsSimple(data_confirmed,1,\"Corona Virus - Confirmed Cases\")"
   ]
  },
  {
   "cell_type": "markdown",
   "metadata": {},
   "source": [
    "## Plot Confirmed Deaths\n",
    "-Map<br>\n",
    "-table<br>\n",
    "-bar<br>"
   ]
  },
  {
   "cell_type": "code",
   "execution_count": 174,
   "metadata": {
    "scrolled": true
   },
   "outputs": [
    {
     "data": {
      "application/vnd.plotly.v1+json": {
       "config": {
        "plotlyServerURL": "https://plot.ly"
       },
       "data": [
        {
         "customdata": [
          [
           "Mainland China",
           "Anhui"
          ],
          [
           "Mainland China",
           "Beijing"
          ],
          [
           "Mainland China",
           "Chongqing"
          ],
          [
           "Mainland China",
           "Fujian"
          ],
          [
           "Mainland China",
           "Gansu"
          ],
          [
           "Mainland China",
           "Guangdong"
          ],
          [
           "Mainland China",
           "Guangxi"
          ],
          [
           "Mainland China",
           "Guizhou"
          ],
          [
           "Mainland China",
           "Hainan"
          ],
          [
           "Mainland China",
           "Hebei"
          ],
          [
           "Mainland China",
           "Heilongjiang"
          ],
          [
           "Mainland China",
           "Henan"
          ],
          [
           "Mainland China",
           "Hubei"
          ],
          [
           "Mainland China",
           "Hunan"
          ],
          [
           "Mainland China",
           "Inner Mongolia"
          ],
          [
           "Mainland China",
           "Jiangxi"
          ],
          [
           "Mainland China",
           "Jilin"
          ],
          [
           "Mainland China",
           "Liaoning"
          ],
          [
           "Mainland China",
           "Shaanxi"
          ],
          [
           "Mainland China",
           "Shandong"
          ],
          [
           "Mainland China",
           "Shanghai"
          ],
          [
           "Mainland China",
           "Sichuan"
          ],
          [
           "Mainland China",
           "Tianjin"
          ],
          [
           "Mainland China",
           "Xinjiang"
          ],
          [
           "Mainland China",
           "Yunnan"
          ],
          [
           "Mainland China",
           "Zhejiang"
          ],
          [
           "Thailand",
           null
          ],
          [
           "Japan",
           null
          ],
          [
           "South Korea",
           null
          ],
          [
           "Taiwan",
           "Taiwan"
          ],
          [
           "US",
           "King County, WA"
          ],
          [
           "Hong Kong",
           "Hong Kong"
          ],
          [
           "France",
           null
          ],
          [
           "Australia",
           "New South Wales"
          ],
          [
           "Philippines",
           null
          ],
          [
           "Italy",
           null
          ],
          [
           "UK",
           null
          ],
          [
           "Spain",
           null
          ],
          [
           "Others",
           "Diamond Princess cruise ship"
          ],
          [
           "Iran",
           null
          ],
          [
           "Iraq",
           null
          ],
          [
           "Switzerland",
           null
          ],
          [
           "Netherlands",
           null
          ],
          [
           "San Marino",
           null
          ],
          [
           "Australia",
           "Western Australia"
          ],
          [
           "US",
           "Snohomish County, WA"
          ],
          [
           "US",
           "Placer County, CA"
          ]
         ],
         "hoverlabel": {
          "namelength": 0
         },
         "hovertemplate": "<b>%{hovertext}</b><br><br>Country/Region=%{customdata[0]}<br>Province/State=%{customdata[1]}<br>Lat=%{lat}<br>Long=%{lon}",
         "hovertext": [
          6,
          8,
          6,
          1,
          2,
          7,
          2,
          2,
          6,
          6,
          13,
          22,
          2931,
          4,
          1,
          1,
          1,
          1,
          1,
          6,
          3,
          3,
          3,
          3,
          2,
          1,
          1,
          6,
          42,
          1,
          12,
          2,
          9,
          1,
          1,
          197,
          2,
          5,
          6,
          124,
          3,
          1,
          1,
          1,
          1,
          1,
          1
         ],
         "lat": [
          31.8257,
          40.1824,
          30.0572,
          26.0789,
          36.0611,
          23.3417,
          23.8298,
          26.8154,
          19.1959,
          38.0428,
          47.861999999999995,
          33.882020000000004,
          30.9756,
          27.6104,
          44.0935,
          27.614,
          43.6661,
          41.2956,
          35.1917,
          36.3427,
          31.201999999999998,
          30.6171,
          39.3054,
          41.1129,
          24.974,
          29.1832,
          15,
          36,
          36,
          23.7,
          47.6062,
          22.3,
          47,
          -33.8688,
          13,
          43,
          55,
          40,
          35.4437,
          32,
          33,
          46.8182,
          52.1326,
          43.9424,
          -31.9505,
          48.033,
          39.0916
         ],
         "legendgroup": "",
         "lon": [
          117.2264,
          116.4142,
          107.874,
          117.9874,
          103.8343,
          113.4244,
          108.7881,
          106.8748,
          109.7453,
          114.5149,
          127.7615,
          113.61399999999999,
          112.2707,
          111.7088,
          113.9448,
          115.7221,
          126.1923,
          122.6085,
          108.8701,
          118.1498,
          121.4491,
          102.7103,
          117.323,
          85.2401,
          101.48700000000001,
          120.0934,
          101,
          138,
          128,
          121,
          -122.3321,
          114.2,
          2,
          151.2093,
          122,
          12,
          -3,
          -4,
          139.638,
          53,
          44,
          8.2275,
          5.2913,
          12.4578,
          115.8605,
          -121.8339,
          -120.8039
         ],
         "marker": {
          "color": "red"
         },
         "mode": "markers",
         "name": "",
         "showlegend": false,
         "subplot": "mapbox",
         "textposition": "top center",
         "texttemplate": "%{text:.2s}",
         "type": "scattermapbox"
        }
       ],
       "layout": {
        "height": 600,
        "legend": {
         "tracegroupgap": 0
        },
        "mapbox": {
         "center": {
          "lat": 31.991649361702123,
          "lon": 81.52646382978723
         },
         "domain": {
          "x": [
           0,
           1
          ],
          "y": [
           0,
           1
          ]
         },
         "style": "carto-darkmatter",
         "zoom": 1
        },
        "margin": {
         "b": 0,
         "l": 0,
         "r": 0,
         "t": 0
        },
        "template": {
         "data": {
          "bar": [
           {
            "error_x": {
             "color": "#2a3f5f"
            },
            "error_y": {
             "color": "#2a3f5f"
            },
            "marker": {
             "line": {
              "color": "#E5ECF6",
              "width": 0.5
             }
            },
            "type": "bar"
           }
          ],
          "barpolar": [
           {
            "marker": {
             "line": {
              "color": "#E5ECF6",
              "width": 0.5
             }
            },
            "type": "barpolar"
           }
          ],
          "carpet": [
           {
            "aaxis": {
             "endlinecolor": "#2a3f5f",
             "gridcolor": "white",
             "linecolor": "white",
             "minorgridcolor": "white",
             "startlinecolor": "#2a3f5f"
            },
            "baxis": {
             "endlinecolor": "#2a3f5f",
             "gridcolor": "white",
             "linecolor": "white",
             "minorgridcolor": "white",
             "startlinecolor": "#2a3f5f"
            },
            "type": "carpet"
           }
          ],
          "choropleth": [
           {
            "colorbar": {
             "outlinewidth": 0,
             "ticks": ""
            },
            "type": "choropleth"
           }
          ],
          "contour": [
           {
            "colorbar": {
             "outlinewidth": 0,
             "ticks": ""
            },
            "colorscale": [
             [
              0,
              "#0d0887"
             ],
             [
              0.1111111111111111,
              "#46039f"
             ],
             [
              0.2222222222222222,
              "#7201a8"
             ],
             [
              0.3333333333333333,
              "#9c179e"
             ],
             [
              0.4444444444444444,
              "#bd3786"
             ],
             [
              0.5555555555555556,
              "#d8576b"
             ],
             [
              0.6666666666666666,
              "#ed7953"
             ],
             [
              0.7777777777777778,
              "#fb9f3a"
             ],
             [
              0.8888888888888888,
              "#fdca26"
             ],
             [
              1,
              "#f0f921"
             ]
            ],
            "type": "contour"
           }
          ],
          "contourcarpet": [
           {
            "colorbar": {
             "outlinewidth": 0,
             "ticks": ""
            },
            "type": "contourcarpet"
           }
          ],
          "heatmap": [
           {
            "colorbar": {
             "outlinewidth": 0,
             "ticks": ""
            },
            "colorscale": [
             [
              0,
              "#0d0887"
             ],
             [
              0.1111111111111111,
              "#46039f"
             ],
             [
              0.2222222222222222,
              "#7201a8"
             ],
             [
              0.3333333333333333,
              "#9c179e"
             ],
             [
              0.4444444444444444,
              "#bd3786"
             ],
             [
              0.5555555555555556,
              "#d8576b"
             ],
             [
              0.6666666666666666,
              "#ed7953"
             ],
             [
              0.7777777777777778,
              "#fb9f3a"
             ],
             [
              0.8888888888888888,
              "#fdca26"
             ],
             [
              1,
              "#f0f921"
             ]
            ],
            "type": "heatmap"
           }
          ],
          "heatmapgl": [
           {
            "colorbar": {
             "outlinewidth": 0,
             "ticks": ""
            },
            "colorscale": [
             [
              0,
              "#0d0887"
             ],
             [
              0.1111111111111111,
              "#46039f"
             ],
             [
              0.2222222222222222,
              "#7201a8"
             ],
             [
              0.3333333333333333,
              "#9c179e"
             ],
             [
              0.4444444444444444,
              "#bd3786"
             ],
             [
              0.5555555555555556,
              "#d8576b"
             ],
             [
              0.6666666666666666,
              "#ed7953"
             ],
             [
              0.7777777777777778,
              "#fb9f3a"
             ],
             [
              0.8888888888888888,
              "#fdca26"
             ],
             [
              1,
              "#f0f921"
             ]
            ],
            "type": "heatmapgl"
           }
          ],
          "histogram": [
           {
            "marker": {
             "colorbar": {
              "outlinewidth": 0,
              "ticks": ""
             }
            },
            "type": "histogram"
           }
          ],
          "histogram2d": [
           {
            "colorbar": {
             "outlinewidth": 0,
             "ticks": ""
            },
            "colorscale": [
             [
              0,
              "#0d0887"
             ],
             [
              0.1111111111111111,
              "#46039f"
             ],
             [
              0.2222222222222222,
              "#7201a8"
             ],
             [
              0.3333333333333333,
              "#9c179e"
             ],
             [
              0.4444444444444444,
              "#bd3786"
             ],
             [
              0.5555555555555556,
              "#d8576b"
             ],
             [
              0.6666666666666666,
              "#ed7953"
             ],
             [
              0.7777777777777778,
              "#fb9f3a"
             ],
             [
              0.8888888888888888,
              "#fdca26"
             ],
             [
              1,
              "#f0f921"
             ]
            ],
            "type": "histogram2d"
           }
          ],
          "histogram2dcontour": [
           {
            "colorbar": {
             "outlinewidth": 0,
             "ticks": ""
            },
            "colorscale": [
             [
              0,
              "#0d0887"
             ],
             [
              0.1111111111111111,
              "#46039f"
             ],
             [
              0.2222222222222222,
              "#7201a8"
             ],
             [
              0.3333333333333333,
              "#9c179e"
             ],
             [
              0.4444444444444444,
              "#bd3786"
             ],
             [
              0.5555555555555556,
              "#d8576b"
             ],
             [
              0.6666666666666666,
              "#ed7953"
             ],
             [
              0.7777777777777778,
              "#fb9f3a"
             ],
             [
              0.8888888888888888,
              "#fdca26"
             ],
             [
              1,
              "#f0f921"
             ]
            ],
            "type": "histogram2dcontour"
           }
          ],
          "mesh3d": [
           {
            "colorbar": {
             "outlinewidth": 0,
             "ticks": ""
            },
            "type": "mesh3d"
           }
          ],
          "parcoords": [
           {
            "line": {
             "colorbar": {
              "outlinewidth": 0,
              "ticks": ""
             }
            },
            "type": "parcoords"
           }
          ],
          "pie": [
           {
            "automargin": true,
            "type": "pie"
           }
          ],
          "scatter": [
           {
            "marker": {
             "colorbar": {
              "outlinewidth": 0,
              "ticks": ""
             }
            },
            "type": "scatter"
           }
          ],
          "scatter3d": [
           {
            "line": {
             "colorbar": {
              "outlinewidth": 0,
              "ticks": ""
             }
            },
            "marker": {
             "colorbar": {
              "outlinewidth": 0,
              "ticks": ""
             }
            },
            "type": "scatter3d"
           }
          ],
          "scattercarpet": [
           {
            "marker": {
             "colorbar": {
              "outlinewidth": 0,
              "ticks": ""
             }
            },
            "type": "scattercarpet"
           }
          ],
          "scattergeo": [
           {
            "marker": {
             "colorbar": {
              "outlinewidth": 0,
              "ticks": ""
             }
            },
            "type": "scattergeo"
           }
          ],
          "scattergl": [
           {
            "marker": {
             "colorbar": {
              "outlinewidth": 0,
              "ticks": ""
             }
            },
            "type": "scattergl"
           }
          ],
          "scattermapbox": [
           {
            "marker": {
             "colorbar": {
              "outlinewidth": 0,
              "ticks": ""
             }
            },
            "type": "scattermapbox"
           }
          ],
          "scatterpolar": [
           {
            "marker": {
             "colorbar": {
              "outlinewidth": 0,
              "ticks": ""
             }
            },
            "type": "scatterpolar"
           }
          ],
          "scatterpolargl": [
           {
            "marker": {
             "colorbar": {
              "outlinewidth": 0,
              "ticks": ""
             }
            },
            "type": "scatterpolargl"
           }
          ],
          "scatterternary": [
           {
            "marker": {
             "colorbar": {
              "outlinewidth": 0,
              "ticks": ""
             }
            },
            "type": "scatterternary"
           }
          ],
          "surface": [
           {
            "colorbar": {
             "outlinewidth": 0,
             "ticks": ""
            },
            "colorscale": [
             [
              0,
              "#0d0887"
             ],
             [
              0.1111111111111111,
              "#46039f"
             ],
             [
              0.2222222222222222,
              "#7201a8"
             ],
             [
              0.3333333333333333,
              "#9c179e"
             ],
             [
              0.4444444444444444,
              "#bd3786"
             ],
             [
              0.5555555555555556,
              "#d8576b"
             ],
             [
              0.6666666666666666,
              "#ed7953"
             ],
             [
              0.7777777777777778,
              "#fb9f3a"
             ],
             [
              0.8888888888888888,
              "#fdca26"
             ],
             [
              1,
              "#f0f921"
             ]
            ],
            "type": "surface"
           }
          ],
          "table": [
           {
            "cells": {
             "fill": {
              "color": "#EBF0F8"
             },
             "line": {
              "color": "white"
             }
            },
            "header": {
             "fill": {
              "color": "#C8D4E3"
             },
             "line": {
              "color": "white"
             }
            },
            "type": "table"
           }
          ]
         },
         "layout": {
          "annotationdefaults": {
           "arrowcolor": "#2a3f5f",
           "arrowhead": 0,
           "arrowwidth": 1
          },
          "coloraxis": {
           "colorbar": {
            "outlinewidth": 0,
            "ticks": ""
           }
          },
          "colorscale": {
           "diverging": [
            [
             0,
             "#8e0152"
            ],
            [
             0.1,
             "#c51b7d"
            ],
            [
             0.2,
             "#de77ae"
            ],
            [
             0.3,
             "#f1b6da"
            ],
            [
             0.4,
             "#fde0ef"
            ],
            [
             0.5,
             "#f7f7f7"
            ],
            [
             0.6,
             "#e6f5d0"
            ],
            [
             0.7,
             "#b8e186"
            ],
            [
             0.8,
             "#7fbc41"
            ],
            [
             0.9,
             "#4d9221"
            ],
            [
             1,
             "#276419"
            ]
           ],
           "sequential": [
            [
             0,
             "#0d0887"
            ],
            [
             0.1111111111111111,
             "#46039f"
            ],
            [
             0.2222222222222222,
             "#7201a8"
            ],
            [
             0.3333333333333333,
             "#9c179e"
            ],
            [
             0.4444444444444444,
             "#bd3786"
            ],
            [
             0.5555555555555556,
             "#d8576b"
            ],
            [
             0.6666666666666666,
             "#ed7953"
            ],
            [
             0.7777777777777778,
             "#fb9f3a"
            ],
            [
             0.8888888888888888,
             "#fdca26"
            ],
            [
             1,
             "#f0f921"
            ]
           ],
           "sequentialminus": [
            [
             0,
             "#0d0887"
            ],
            [
             0.1111111111111111,
             "#46039f"
            ],
            [
             0.2222222222222222,
             "#7201a8"
            ],
            [
             0.3333333333333333,
             "#9c179e"
            ],
            [
             0.4444444444444444,
             "#bd3786"
            ],
            [
             0.5555555555555556,
             "#d8576b"
            ],
            [
             0.6666666666666666,
             "#ed7953"
            ],
            [
             0.7777777777777778,
             "#fb9f3a"
            ],
            [
             0.8888888888888888,
             "#fdca26"
            ],
            [
             1,
             "#f0f921"
            ]
           ]
          },
          "colorway": [
           "#636efa",
           "#EF553B",
           "#00cc96",
           "#ab63fa",
           "#FFA15A",
           "#19d3f3",
           "#FF6692",
           "#B6E880",
           "#FF97FF",
           "#FECB52"
          ],
          "font": {
           "color": "#2a3f5f"
          },
          "geo": {
           "bgcolor": "white",
           "lakecolor": "white",
           "landcolor": "#E5ECF6",
           "showlakes": true,
           "showland": true,
           "subunitcolor": "white"
          },
          "hoverlabel": {
           "align": "left"
          },
          "hovermode": "closest",
          "mapbox": {
           "style": "light"
          },
          "paper_bgcolor": "white",
          "plot_bgcolor": "#E5ECF6",
          "polar": {
           "angularaxis": {
            "gridcolor": "white",
            "linecolor": "white",
            "ticks": ""
           },
           "bgcolor": "#E5ECF6",
           "radialaxis": {
            "gridcolor": "white",
            "linecolor": "white",
            "ticks": ""
           }
          },
          "scene": {
           "xaxis": {
            "backgroundcolor": "#E5ECF6",
            "gridcolor": "white",
            "gridwidth": 2,
            "linecolor": "white",
            "showbackground": true,
            "ticks": "",
            "zerolinecolor": "white"
           },
           "yaxis": {
            "backgroundcolor": "#E5ECF6",
            "gridcolor": "white",
            "gridwidth": 2,
            "linecolor": "white",
            "showbackground": true,
            "ticks": "",
            "zerolinecolor": "white"
           },
           "zaxis": {
            "backgroundcolor": "#E5ECF6",
            "gridcolor": "white",
            "gridwidth": 2,
            "linecolor": "white",
            "showbackground": true,
            "ticks": "",
            "zerolinecolor": "white"
           }
          },
          "shapedefaults": {
           "line": {
            "color": "#2a3f5f"
           }
          },
          "ternary": {
           "aaxis": {
            "gridcolor": "white",
            "linecolor": "white",
            "ticks": ""
           },
           "baxis": {
            "gridcolor": "white",
            "linecolor": "white",
            "ticks": ""
           },
           "bgcolor": "#E5ECF6",
           "caxis": {
            "gridcolor": "white",
            "linecolor": "white",
            "ticks": ""
           }
          },
          "title": {
           "x": 0.05
          },
          "xaxis": {
           "automargin": true,
           "gridcolor": "white",
           "linecolor": "white",
           "ticks": "",
           "title": {
            "standoff": 15
           },
           "zerolinecolor": "white",
           "zerolinewidth": 2
          },
          "yaxis": {
           "automargin": true,
           "gridcolor": "white",
           "linecolor": "white",
           "ticks": "",
           "title": {
            "standoff": 15
           },
           "zerolinecolor": "white",
           "zerolinewidth": 2
          }
         }
        },
        "title": {
         "text": "Corona Virus - Confirmed Deaths - Map"
        }
       }
      },
      "text/html": [
       "<div>\n",
       "        \n",
       "        \n",
       "            <div id=\"ef49d09c-3dac-4775-8c3a-2038c152e4a1\" class=\"plotly-graph-div\" style=\"height:600px; width:100%;\"></div>\n",
       "            <script type=\"text/javascript\">\n",
       "                require([\"plotly\"], function(Plotly) {\n",
       "                    window.PLOTLYENV=window.PLOTLYENV || {};\n",
       "                    \n",
       "                if (document.getElementById(\"ef49d09c-3dac-4775-8c3a-2038c152e4a1\")) {\n",
       "                    Plotly.newPlot(\n",
       "                        'ef49d09c-3dac-4775-8c3a-2038c152e4a1',\n",
       "                        [{\"customdata\": [[\"Mainland China\", \"Anhui\"], [\"Mainland China\", \"Beijing\"], [\"Mainland China\", \"Chongqing\"], [\"Mainland China\", \"Fujian\"], [\"Mainland China\", \"Gansu\"], [\"Mainland China\", \"Guangdong\"], [\"Mainland China\", \"Guangxi\"], [\"Mainland China\", \"Guizhou\"], [\"Mainland China\", \"Hainan\"], [\"Mainland China\", \"Hebei\"], [\"Mainland China\", \"Heilongjiang\"], [\"Mainland China\", \"Henan\"], [\"Mainland China\", \"Hubei\"], [\"Mainland China\", \"Hunan\"], [\"Mainland China\", \"Inner Mongolia\"], [\"Mainland China\", \"Jiangxi\"], [\"Mainland China\", \"Jilin\"], [\"Mainland China\", \"Liaoning\"], [\"Mainland China\", \"Shaanxi\"], [\"Mainland China\", \"Shandong\"], [\"Mainland China\", \"Shanghai\"], [\"Mainland China\", \"Sichuan\"], [\"Mainland China\", \"Tianjin\"], [\"Mainland China\", \"Xinjiang\"], [\"Mainland China\", \"Yunnan\"], [\"Mainland China\", \"Zhejiang\"], [\"Thailand\", null], [\"Japan\", null], [\"South Korea\", null], [\"Taiwan\", \"Taiwan\"], [\"US\", \"King County, WA\"], [\"Hong Kong\", \"Hong Kong\"], [\"France\", null], [\"Australia\", \"New South Wales\"], [\"Philippines\", null], [\"Italy\", null], [\"UK\", null], [\"Spain\", null], [\"Others\", \"Diamond Princess cruise ship\"], [\"Iran\", null], [\"Iraq\", null], [\"Switzerland\", null], [\"Netherlands\", null], [\"San Marino\", null], [\"Australia\", \"Western Australia\"], [\"US\", \"Snohomish County, WA\"], [\"US\", \"Placer County, CA\"]], \"hoverlabel\": {\"namelength\": 0}, \"hovertemplate\": \"<b>%{hovertext}</b><br><br>Country/Region=%{customdata[0]}<br>Province/State=%{customdata[1]}<br>Lat=%{lat}<br>Long=%{lon}\", \"hovertext\": [6.0, 8.0, 6.0, 1.0, 2.0, 7.0, 2.0, 2.0, 6.0, 6.0, 13.0, 22.0, 2931.0, 4.0, 1.0, 1.0, 1.0, 1.0, 1.0, 6.0, 3.0, 3.0, 3.0, 3.0, 2.0, 1.0, 1.0, 6.0, 42.0, 1.0, 12.0, 2.0, 9.0, 1.0, 1.0, 197.0, 2.0, 5.0, 6.0, 124.0, 3.0, 1.0, 1.0, 1.0, 1.0, 1.0, 1.0], \"lat\": [31.8257, 40.1824, 30.0572, 26.0789, 36.0611, 23.3417, 23.8298, 26.8154, 19.1959, 38.0428, 47.861999999999995, 33.882020000000004, 30.9756, 27.6104, 44.0935, 27.614, 43.6661, 41.2956, 35.1917, 36.3427, 31.201999999999998, 30.6171, 39.3054, 41.1129, 24.974, 29.1832, 15.0, 36.0, 36.0, 23.7, 47.6062, 22.3, 47.0, -33.8688, 13.0, 43.0, 55.0, 40.0, 35.4437, 32.0, 33.0, 46.8182, 52.1326, 43.9424, -31.9505, 48.033, 39.0916], \"legendgroup\": \"\", \"lon\": [117.2264, 116.4142, 107.874, 117.9874, 103.8343, 113.4244, 108.7881, 106.8748, 109.7453, 114.5149, 127.7615, 113.61399999999999, 112.2707, 111.7088, 113.9448, 115.7221, 126.1923, 122.6085, 108.8701, 118.1498, 121.4491, 102.7103, 117.323, 85.2401, 101.48700000000001, 120.0934, 101.0, 138.0, 128.0, 121.0, -122.3321, 114.2, 2.0, 151.2093, 122.0, 12.0, -3.0, -4.0, 139.638, 53.0, 44.0, 8.2275, 5.2913, 12.4578, 115.8605, -121.8339, -120.8039], \"marker\": {\"color\": \"red\"}, \"mode\": \"markers\", \"name\": \"\", \"showlegend\": false, \"subplot\": \"mapbox\", \"textposition\": \"top center\", \"texttemplate\": \"%{text:.2s}\", \"type\": \"scattermapbox\"}],\n",
       "                        {\"height\": 600, \"legend\": {\"tracegroupgap\": 0}, \"mapbox\": {\"center\": {\"lat\": 31.991649361702123, \"lon\": 81.52646382978723}, \"domain\": {\"x\": [0.0, 1.0], \"y\": [0.0, 1.0]}, \"style\": \"carto-darkmatter\", \"zoom\": 1}, \"margin\": {\"b\": 0, \"l\": 0, \"r\": 0, \"t\": 0}, \"template\": {\"data\": {\"bar\": [{\"error_x\": {\"color\": \"#2a3f5f\"}, \"error_y\": {\"color\": \"#2a3f5f\"}, \"marker\": {\"line\": {\"color\": \"#E5ECF6\", \"width\": 0.5}}, \"type\": \"bar\"}], \"barpolar\": [{\"marker\": {\"line\": {\"color\": \"#E5ECF6\", \"width\": 0.5}}, \"type\": \"barpolar\"}], \"carpet\": [{\"aaxis\": {\"endlinecolor\": \"#2a3f5f\", \"gridcolor\": \"white\", \"linecolor\": \"white\", \"minorgridcolor\": \"white\", \"startlinecolor\": \"#2a3f5f\"}, \"baxis\": {\"endlinecolor\": \"#2a3f5f\", \"gridcolor\": \"white\", \"linecolor\": \"white\", \"minorgridcolor\": \"white\", \"startlinecolor\": \"#2a3f5f\"}, \"type\": \"carpet\"}], \"choropleth\": [{\"colorbar\": {\"outlinewidth\": 0, \"ticks\": \"\"}, \"type\": \"choropleth\"}], \"contour\": [{\"colorbar\": {\"outlinewidth\": 0, \"ticks\": \"\"}, \"colorscale\": [[0.0, \"#0d0887\"], [0.1111111111111111, \"#46039f\"], [0.2222222222222222, \"#7201a8\"], [0.3333333333333333, \"#9c179e\"], [0.4444444444444444, \"#bd3786\"], [0.5555555555555556, \"#d8576b\"], [0.6666666666666666, \"#ed7953\"], [0.7777777777777778, \"#fb9f3a\"], [0.8888888888888888, \"#fdca26\"], [1.0, \"#f0f921\"]], \"type\": \"contour\"}], \"contourcarpet\": [{\"colorbar\": {\"outlinewidth\": 0, \"ticks\": \"\"}, \"type\": \"contourcarpet\"}], \"heatmap\": [{\"colorbar\": {\"outlinewidth\": 0, \"ticks\": \"\"}, \"colorscale\": [[0.0, \"#0d0887\"], [0.1111111111111111, \"#46039f\"], [0.2222222222222222, \"#7201a8\"], [0.3333333333333333, \"#9c179e\"], [0.4444444444444444, \"#bd3786\"], [0.5555555555555556, \"#d8576b\"], [0.6666666666666666, \"#ed7953\"], [0.7777777777777778, \"#fb9f3a\"], [0.8888888888888888, \"#fdca26\"], [1.0, \"#f0f921\"]], \"type\": \"heatmap\"}], \"heatmapgl\": [{\"colorbar\": {\"outlinewidth\": 0, \"ticks\": \"\"}, \"colorscale\": [[0.0, \"#0d0887\"], [0.1111111111111111, \"#46039f\"], [0.2222222222222222, \"#7201a8\"], [0.3333333333333333, \"#9c179e\"], [0.4444444444444444, \"#bd3786\"], [0.5555555555555556, \"#d8576b\"], [0.6666666666666666, \"#ed7953\"], [0.7777777777777778, \"#fb9f3a\"], [0.8888888888888888, \"#fdca26\"], [1.0, \"#f0f921\"]], \"type\": \"heatmapgl\"}], \"histogram\": [{\"marker\": {\"colorbar\": {\"outlinewidth\": 0, \"ticks\": \"\"}}, \"type\": \"histogram\"}], \"histogram2d\": [{\"colorbar\": {\"outlinewidth\": 0, \"ticks\": \"\"}, \"colorscale\": [[0.0, \"#0d0887\"], [0.1111111111111111, \"#46039f\"], [0.2222222222222222, \"#7201a8\"], [0.3333333333333333, \"#9c179e\"], [0.4444444444444444, \"#bd3786\"], [0.5555555555555556, \"#d8576b\"], [0.6666666666666666, \"#ed7953\"], [0.7777777777777778, \"#fb9f3a\"], [0.8888888888888888, \"#fdca26\"], [1.0, \"#f0f921\"]], \"type\": \"histogram2d\"}], \"histogram2dcontour\": [{\"colorbar\": {\"outlinewidth\": 0, \"ticks\": \"\"}, \"colorscale\": [[0.0, \"#0d0887\"], [0.1111111111111111, \"#46039f\"], [0.2222222222222222, \"#7201a8\"], [0.3333333333333333, \"#9c179e\"], [0.4444444444444444, \"#bd3786\"], [0.5555555555555556, \"#d8576b\"], [0.6666666666666666, \"#ed7953\"], [0.7777777777777778, \"#fb9f3a\"], [0.8888888888888888, \"#fdca26\"], [1.0, \"#f0f921\"]], \"type\": \"histogram2dcontour\"}], \"mesh3d\": [{\"colorbar\": {\"outlinewidth\": 0, \"ticks\": \"\"}, \"type\": \"mesh3d\"}], \"parcoords\": [{\"line\": {\"colorbar\": {\"outlinewidth\": 0, \"ticks\": \"\"}}, \"type\": \"parcoords\"}], \"pie\": [{\"automargin\": true, \"type\": \"pie\"}], \"scatter\": [{\"marker\": {\"colorbar\": {\"outlinewidth\": 0, \"ticks\": \"\"}}, \"type\": \"scatter\"}], \"scatter3d\": [{\"line\": {\"colorbar\": {\"outlinewidth\": 0, \"ticks\": \"\"}}, \"marker\": {\"colorbar\": {\"outlinewidth\": 0, \"ticks\": \"\"}}, \"type\": \"scatter3d\"}], \"scattercarpet\": [{\"marker\": {\"colorbar\": {\"outlinewidth\": 0, \"ticks\": \"\"}}, \"type\": \"scattercarpet\"}], \"scattergeo\": [{\"marker\": {\"colorbar\": {\"outlinewidth\": 0, \"ticks\": \"\"}}, \"type\": \"scattergeo\"}], \"scattergl\": [{\"marker\": {\"colorbar\": {\"outlinewidth\": 0, \"ticks\": \"\"}}, \"type\": \"scattergl\"}], \"scattermapbox\": [{\"marker\": {\"colorbar\": {\"outlinewidth\": 0, \"ticks\": \"\"}}, \"type\": \"scattermapbox\"}], \"scatterpolar\": [{\"marker\": {\"colorbar\": {\"outlinewidth\": 0, \"ticks\": \"\"}}, \"type\": \"scatterpolar\"}], \"scatterpolargl\": [{\"marker\": {\"colorbar\": {\"outlinewidth\": 0, \"ticks\": \"\"}}, \"type\": \"scatterpolargl\"}], \"scatterternary\": [{\"marker\": {\"colorbar\": {\"outlinewidth\": 0, \"ticks\": \"\"}}, \"type\": \"scatterternary\"}], \"surface\": [{\"colorbar\": {\"outlinewidth\": 0, \"ticks\": \"\"}, \"colorscale\": [[0.0, \"#0d0887\"], [0.1111111111111111, \"#46039f\"], [0.2222222222222222, \"#7201a8\"], [0.3333333333333333, \"#9c179e\"], [0.4444444444444444, \"#bd3786\"], [0.5555555555555556, \"#d8576b\"], [0.6666666666666666, \"#ed7953\"], [0.7777777777777778, \"#fb9f3a\"], [0.8888888888888888, \"#fdca26\"], [1.0, \"#f0f921\"]], \"type\": \"surface\"}], \"table\": [{\"cells\": {\"fill\": {\"color\": \"#EBF0F8\"}, \"line\": {\"color\": \"white\"}}, \"header\": {\"fill\": {\"color\": \"#C8D4E3\"}, \"line\": {\"color\": \"white\"}}, \"type\": \"table\"}]}, \"layout\": {\"annotationdefaults\": {\"arrowcolor\": \"#2a3f5f\", \"arrowhead\": 0, \"arrowwidth\": 1}, \"coloraxis\": {\"colorbar\": {\"outlinewidth\": 0, \"ticks\": \"\"}}, \"colorscale\": {\"diverging\": [[0, \"#8e0152\"], [0.1, \"#c51b7d\"], [0.2, \"#de77ae\"], [0.3, \"#f1b6da\"], [0.4, \"#fde0ef\"], [0.5, \"#f7f7f7\"], [0.6, \"#e6f5d0\"], [0.7, \"#b8e186\"], [0.8, \"#7fbc41\"], [0.9, \"#4d9221\"], [1, \"#276419\"]], \"sequential\": [[0.0, \"#0d0887\"], [0.1111111111111111, \"#46039f\"], [0.2222222222222222, \"#7201a8\"], [0.3333333333333333, \"#9c179e\"], [0.4444444444444444, \"#bd3786\"], [0.5555555555555556, \"#d8576b\"], [0.6666666666666666, \"#ed7953\"], [0.7777777777777778, \"#fb9f3a\"], [0.8888888888888888, \"#fdca26\"], [1.0, \"#f0f921\"]], \"sequentialminus\": [[0.0, \"#0d0887\"], [0.1111111111111111, \"#46039f\"], [0.2222222222222222, \"#7201a8\"], [0.3333333333333333, \"#9c179e\"], [0.4444444444444444, \"#bd3786\"], [0.5555555555555556, \"#d8576b\"], [0.6666666666666666, \"#ed7953\"], [0.7777777777777778, \"#fb9f3a\"], [0.8888888888888888, \"#fdca26\"], [1.0, \"#f0f921\"]]}, \"colorway\": [\"#636efa\", \"#EF553B\", \"#00cc96\", \"#ab63fa\", \"#FFA15A\", \"#19d3f3\", \"#FF6692\", \"#B6E880\", \"#FF97FF\", \"#FECB52\"], \"font\": {\"color\": \"#2a3f5f\"}, \"geo\": {\"bgcolor\": \"white\", \"lakecolor\": \"white\", \"landcolor\": \"#E5ECF6\", \"showlakes\": true, \"showland\": true, \"subunitcolor\": \"white\"}, \"hoverlabel\": {\"align\": \"left\"}, \"hovermode\": \"closest\", \"mapbox\": {\"style\": \"light\"}, \"paper_bgcolor\": \"white\", \"plot_bgcolor\": \"#E5ECF6\", \"polar\": {\"angularaxis\": {\"gridcolor\": \"white\", \"linecolor\": \"white\", \"ticks\": \"\"}, \"bgcolor\": \"#E5ECF6\", \"radialaxis\": {\"gridcolor\": \"white\", \"linecolor\": \"white\", \"ticks\": \"\"}}, \"scene\": {\"xaxis\": {\"backgroundcolor\": \"#E5ECF6\", \"gridcolor\": \"white\", \"gridwidth\": 2, \"linecolor\": \"white\", \"showbackground\": true, \"ticks\": \"\", \"zerolinecolor\": \"white\"}, \"yaxis\": {\"backgroundcolor\": \"#E5ECF6\", \"gridcolor\": \"white\", \"gridwidth\": 2, \"linecolor\": \"white\", \"showbackground\": true, \"ticks\": \"\", \"zerolinecolor\": \"white\"}, \"zaxis\": {\"backgroundcolor\": \"#E5ECF6\", \"gridcolor\": \"white\", \"gridwidth\": 2, \"linecolor\": \"white\", \"showbackground\": true, \"ticks\": \"\", \"zerolinecolor\": \"white\"}}, \"shapedefaults\": {\"line\": {\"color\": \"#2a3f5f\"}}, \"ternary\": {\"aaxis\": {\"gridcolor\": \"white\", \"linecolor\": \"white\", \"ticks\": \"\"}, \"baxis\": {\"gridcolor\": \"white\", \"linecolor\": \"white\", \"ticks\": \"\"}, \"bgcolor\": \"#E5ECF6\", \"caxis\": {\"gridcolor\": \"white\", \"linecolor\": \"white\", \"ticks\": \"\"}}, \"title\": {\"x\": 0.05}, \"xaxis\": {\"automargin\": true, \"gridcolor\": \"white\", \"linecolor\": \"white\", \"ticks\": \"\", \"title\": {\"standoff\": 15}, \"zerolinecolor\": \"white\", \"zerolinewidth\": 2}, \"yaxis\": {\"automargin\": true, \"gridcolor\": \"white\", \"linecolor\": \"white\", \"ticks\": \"\", \"title\": {\"standoff\": 15}, \"zerolinecolor\": \"white\", \"zerolinewidth\": 2}}}, \"title\": {\"text\": \"Corona Virus - Confirmed Deaths - Map\"}},\n",
       "                        {\"responsive\": true}\n",
       "                    ).then(function(){\n",
       "                            \n",
       "var gd = document.getElementById('ef49d09c-3dac-4775-8c3a-2038c152e4a1');\n",
       "var x = new MutationObserver(function (mutations, observer) {{\n",
       "        var display = window.getComputedStyle(gd).display;\n",
       "        if (!display || display === 'none') {{\n",
       "            console.log([gd, 'removed!']);\n",
       "            Plotly.purge(gd);\n",
       "            observer.disconnect();\n",
       "        }}\n",
       "}});\n",
       "\n",
       "// Listen for the removal of the full notebook cells\n",
       "var notebookContainer = gd.closest('#notebook-container');\n",
       "if (notebookContainer) {{\n",
       "    x.observe(notebookContainer, {childList: true});\n",
       "}}\n",
       "\n",
       "// Listen for the clearing of the current output cell\n",
       "var outputEl = gd.closest('.output');\n",
       "if (outputEl) {{\n",
       "    x.observe(outputEl, {childList: true});\n",
       "}}\n",
       "\n",
       "                        })\n",
       "                };\n",
       "                });\n",
       "            </script>\n",
       "        </div>"
      ]
     },
     "metadata": {},
     "output_type": "display_data"
    }
   ],
   "source": [
    "plotMapCases(data_deaths,\"Corona Virus - Confirmed Deaths - Map\")\n",
    "#py.iplot(plotBars(data_deaths,1), filename='CoronaDeaths_bar')"
   ]
  },
  {
   "cell_type": "code",
   "execution_count": 175,
   "metadata": {},
   "outputs": [
    {
     "data": {
      "application/vnd.plotly.v1+json": {
       "config": {
        "plotlyServerURL": "https://plot.ly"
       },
       "data": [
        {
         "cells": {
          "align": "left",
          "fill": {
           "color": "light blue"
          },
          "values": [
           [
            [
             "Mainland China"
            ],
            [
             "Thailand"
            ],
            [
             "Japan"
            ],
            [
             "South Korea"
            ],
            [
             "Taiwan"
            ],
            [
             "US"
            ],
            [
             "Hong Kong"
            ],
            [
             "France"
            ],
            [
             "Australia"
            ],
            [
             "Philippines"
            ],
            [
             "Italy"
            ],
            [
             "UK"
            ],
            [
             "Spain"
            ],
            [
             "Others"
            ],
            [
             "Iran"
            ],
            [
             "Iraq"
            ],
            [
             "Switzerland"
            ],
            [
             "Netherlands"
            ],
            [
             "San Marino"
            ]
           ],
           [
            [
             3042
            ],
            [
             1
            ],
            [
             6
            ],
            [
             42
            ],
            [
             1
            ],
            [
             14
            ],
            [
             2
            ],
            [
             9
            ],
            [
             2
            ],
            [
             1
            ],
            [
             197
            ],
            [
             2
            ],
            [
             5
            ],
            [
             6
            ],
            [
             124
            ],
            [
             3
            ],
            [
             1
            ],
            [
             1
            ],
            [
             1
            ]
           ]
          ]
         },
         "header": {
          "align": "left",
          "fill": {
           "color": "lavender"
          },
          "values": [
           "Country",
           "Cases"
          ]
         },
         "type": "table"
        }
       ],
       "layout": {
        "template": {
         "data": {
          "bar": [
           {
            "error_x": {
             "color": "#2a3f5f"
            },
            "error_y": {
             "color": "#2a3f5f"
            },
            "marker": {
             "line": {
              "color": "#E5ECF6",
              "width": 0.5
             }
            },
            "type": "bar"
           }
          ],
          "barpolar": [
           {
            "marker": {
             "line": {
              "color": "#E5ECF6",
              "width": 0.5
             }
            },
            "type": "barpolar"
           }
          ],
          "carpet": [
           {
            "aaxis": {
             "endlinecolor": "#2a3f5f",
             "gridcolor": "white",
             "linecolor": "white",
             "minorgridcolor": "white",
             "startlinecolor": "#2a3f5f"
            },
            "baxis": {
             "endlinecolor": "#2a3f5f",
             "gridcolor": "white",
             "linecolor": "white",
             "minorgridcolor": "white",
             "startlinecolor": "#2a3f5f"
            },
            "type": "carpet"
           }
          ],
          "choropleth": [
           {
            "colorbar": {
             "outlinewidth": 0,
             "ticks": ""
            },
            "type": "choropleth"
           }
          ],
          "contour": [
           {
            "colorbar": {
             "outlinewidth": 0,
             "ticks": ""
            },
            "colorscale": [
             [
              0,
              "#0d0887"
             ],
             [
              0.1111111111111111,
              "#46039f"
             ],
             [
              0.2222222222222222,
              "#7201a8"
             ],
             [
              0.3333333333333333,
              "#9c179e"
             ],
             [
              0.4444444444444444,
              "#bd3786"
             ],
             [
              0.5555555555555556,
              "#d8576b"
             ],
             [
              0.6666666666666666,
              "#ed7953"
             ],
             [
              0.7777777777777778,
              "#fb9f3a"
             ],
             [
              0.8888888888888888,
              "#fdca26"
             ],
             [
              1,
              "#f0f921"
             ]
            ],
            "type": "contour"
           }
          ],
          "contourcarpet": [
           {
            "colorbar": {
             "outlinewidth": 0,
             "ticks": ""
            },
            "type": "contourcarpet"
           }
          ],
          "heatmap": [
           {
            "colorbar": {
             "outlinewidth": 0,
             "ticks": ""
            },
            "colorscale": [
             [
              0,
              "#0d0887"
             ],
             [
              0.1111111111111111,
              "#46039f"
             ],
             [
              0.2222222222222222,
              "#7201a8"
             ],
             [
              0.3333333333333333,
              "#9c179e"
             ],
             [
              0.4444444444444444,
              "#bd3786"
             ],
             [
              0.5555555555555556,
              "#d8576b"
             ],
             [
              0.6666666666666666,
              "#ed7953"
             ],
             [
              0.7777777777777778,
              "#fb9f3a"
             ],
             [
              0.8888888888888888,
              "#fdca26"
             ],
             [
              1,
              "#f0f921"
             ]
            ],
            "type": "heatmap"
           }
          ],
          "heatmapgl": [
           {
            "colorbar": {
             "outlinewidth": 0,
             "ticks": ""
            },
            "colorscale": [
             [
              0,
              "#0d0887"
             ],
             [
              0.1111111111111111,
              "#46039f"
             ],
             [
              0.2222222222222222,
              "#7201a8"
             ],
             [
              0.3333333333333333,
              "#9c179e"
             ],
             [
              0.4444444444444444,
              "#bd3786"
             ],
             [
              0.5555555555555556,
              "#d8576b"
             ],
             [
              0.6666666666666666,
              "#ed7953"
             ],
             [
              0.7777777777777778,
              "#fb9f3a"
             ],
             [
              0.8888888888888888,
              "#fdca26"
             ],
             [
              1,
              "#f0f921"
             ]
            ],
            "type": "heatmapgl"
           }
          ],
          "histogram": [
           {
            "marker": {
             "colorbar": {
              "outlinewidth": 0,
              "ticks": ""
             }
            },
            "type": "histogram"
           }
          ],
          "histogram2d": [
           {
            "colorbar": {
             "outlinewidth": 0,
             "ticks": ""
            },
            "colorscale": [
             [
              0,
              "#0d0887"
             ],
             [
              0.1111111111111111,
              "#46039f"
             ],
             [
              0.2222222222222222,
              "#7201a8"
             ],
             [
              0.3333333333333333,
              "#9c179e"
             ],
             [
              0.4444444444444444,
              "#bd3786"
             ],
             [
              0.5555555555555556,
              "#d8576b"
             ],
             [
              0.6666666666666666,
              "#ed7953"
             ],
             [
              0.7777777777777778,
              "#fb9f3a"
             ],
             [
              0.8888888888888888,
              "#fdca26"
             ],
             [
              1,
              "#f0f921"
             ]
            ],
            "type": "histogram2d"
           }
          ],
          "histogram2dcontour": [
           {
            "colorbar": {
             "outlinewidth": 0,
             "ticks": ""
            },
            "colorscale": [
             [
              0,
              "#0d0887"
             ],
             [
              0.1111111111111111,
              "#46039f"
             ],
             [
              0.2222222222222222,
              "#7201a8"
             ],
             [
              0.3333333333333333,
              "#9c179e"
             ],
             [
              0.4444444444444444,
              "#bd3786"
             ],
             [
              0.5555555555555556,
              "#d8576b"
             ],
             [
              0.6666666666666666,
              "#ed7953"
             ],
             [
              0.7777777777777778,
              "#fb9f3a"
             ],
             [
              0.8888888888888888,
              "#fdca26"
             ],
             [
              1,
              "#f0f921"
             ]
            ],
            "type": "histogram2dcontour"
           }
          ],
          "mesh3d": [
           {
            "colorbar": {
             "outlinewidth": 0,
             "ticks": ""
            },
            "type": "mesh3d"
           }
          ],
          "parcoords": [
           {
            "line": {
             "colorbar": {
              "outlinewidth": 0,
              "ticks": ""
             }
            },
            "type": "parcoords"
           }
          ],
          "pie": [
           {
            "automargin": true,
            "type": "pie"
           }
          ],
          "scatter": [
           {
            "marker": {
             "colorbar": {
              "outlinewidth": 0,
              "ticks": ""
             }
            },
            "type": "scatter"
           }
          ],
          "scatter3d": [
           {
            "line": {
             "colorbar": {
              "outlinewidth": 0,
              "ticks": ""
             }
            },
            "marker": {
             "colorbar": {
              "outlinewidth": 0,
              "ticks": ""
             }
            },
            "type": "scatter3d"
           }
          ],
          "scattercarpet": [
           {
            "marker": {
             "colorbar": {
              "outlinewidth": 0,
              "ticks": ""
             }
            },
            "type": "scattercarpet"
           }
          ],
          "scattergeo": [
           {
            "marker": {
             "colorbar": {
              "outlinewidth": 0,
              "ticks": ""
             }
            },
            "type": "scattergeo"
           }
          ],
          "scattergl": [
           {
            "marker": {
             "colorbar": {
              "outlinewidth": 0,
              "ticks": ""
             }
            },
            "type": "scattergl"
           }
          ],
          "scattermapbox": [
           {
            "marker": {
             "colorbar": {
              "outlinewidth": 0,
              "ticks": ""
             }
            },
            "type": "scattermapbox"
           }
          ],
          "scatterpolar": [
           {
            "marker": {
             "colorbar": {
              "outlinewidth": 0,
              "ticks": ""
             }
            },
            "type": "scatterpolar"
           }
          ],
          "scatterpolargl": [
           {
            "marker": {
             "colorbar": {
              "outlinewidth": 0,
              "ticks": ""
             }
            },
            "type": "scatterpolargl"
           }
          ],
          "scatterternary": [
           {
            "marker": {
             "colorbar": {
              "outlinewidth": 0,
              "ticks": ""
             }
            },
            "type": "scatterternary"
           }
          ],
          "surface": [
           {
            "colorbar": {
             "outlinewidth": 0,
             "ticks": ""
            },
            "colorscale": [
             [
              0,
              "#0d0887"
             ],
             [
              0.1111111111111111,
              "#46039f"
             ],
             [
              0.2222222222222222,
              "#7201a8"
             ],
             [
              0.3333333333333333,
              "#9c179e"
             ],
             [
              0.4444444444444444,
              "#bd3786"
             ],
             [
              0.5555555555555556,
              "#d8576b"
             ],
             [
              0.6666666666666666,
              "#ed7953"
             ],
             [
              0.7777777777777778,
              "#fb9f3a"
             ],
             [
              0.8888888888888888,
              "#fdca26"
             ],
             [
              1,
              "#f0f921"
             ]
            ],
            "type": "surface"
           }
          ],
          "table": [
           {
            "cells": {
             "fill": {
              "color": "#EBF0F8"
             },
             "line": {
              "color": "white"
             }
            },
            "header": {
             "fill": {
              "color": "#C8D4E3"
             },
             "line": {
              "color": "white"
             }
            },
            "type": "table"
           }
          ]
         },
         "layout": {
          "annotationdefaults": {
           "arrowcolor": "#2a3f5f",
           "arrowhead": 0,
           "arrowwidth": 1
          },
          "coloraxis": {
           "colorbar": {
            "outlinewidth": 0,
            "ticks": ""
           }
          },
          "colorscale": {
           "diverging": [
            [
             0,
             "#8e0152"
            ],
            [
             0.1,
             "#c51b7d"
            ],
            [
             0.2,
             "#de77ae"
            ],
            [
             0.3,
             "#f1b6da"
            ],
            [
             0.4,
             "#fde0ef"
            ],
            [
             0.5,
             "#f7f7f7"
            ],
            [
             0.6,
             "#e6f5d0"
            ],
            [
             0.7,
             "#b8e186"
            ],
            [
             0.8,
             "#7fbc41"
            ],
            [
             0.9,
             "#4d9221"
            ],
            [
             1,
             "#276419"
            ]
           ],
           "sequential": [
            [
             0,
             "#0d0887"
            ],
            [
             0.1111111111111111,
             "#46039f"
            ],
            [
             0.2222222222222222,
             "#7201a8"
            ],
            [
             0.3333333333333333,
             "#9c179e"
            ],
            [
             0.4444444444444444,
             "#bd3786"
            ],
            [
             0.5555555555555556,
             "#d8576b"
            ],
            [
             0.6666666666666666,
             "#ed7953"
            ],
            [
             0.7777777777777778,
             "#fb9f3a"
            ],
            [
             0.8888888888888888,
             "#fdca26"
            ],
            [
             1,
             "#f0f921"
            ]
           ],
           "sequentialminus": [
            [
             0,
             "#0d0887"
            ],
            [
             0.1111111111111111,
             "#46039f"
            ],
            [
             0.2222222222222222,
             "#7201a8"
            ],
            [
             0.3333333333333333,
             "#9c179e"
            ],
            [
             0.4444444444444444,
             "#bd3786"
            ],
            [
             0.5555555555555556,
             "#d8576b"
            ],
            [
             0.6666666666666666,
             "#ed7953"
            ],
            [
             0.7777777777777778,
             "#fb9f3a"
            ],
            [
             0.8888888888888888,
             "#fdca26"
            ],
            [
             1,
             "#f0f921"
            ]
           ]
          },
          "colorway": [
           "#636efa",
           "#EF553B",
           "#00cc96",
           "#ab63fa",
           "#FFA15A",
           "#19d3f3",
           "#FF6692",
           "#B6E880",
           "#FF97FF",
           "#FECB52"
          ],
          "font": {
           "color": "#2a3f5f"
          },
          "geo": {
           "bgcolor": "white",
           "lakecolor": "white",
           "landcolor": "#E5ECF6",
           "showlakes": true,
           "showland": true,
           "subunitcolor": "white"
          },
          "hoverlabel": {
           "align": "left"
          },
          "hovermode": "closest",
          "mapbox": {
           "style": "light"
          },
          "paper_bgcolor": "white",
          "plot_bgcolor": "#E5ECF6",
          "polar": {
           "angularaxis": {
            "gridcolor": "white",
            "linecolor": "white",
            "ticks": ""
           },
           "bgcolor": "#E5ECF6",
           "radialaxis": {
            "gridcolor": "white",
            "linecolor": "white",
            "ticks": ""
           }
          },
          "scene": {
           "xaxis": {
            "backgroundcolor": "#E5ECF6",
            "gridcolor": "white",
            "gridwidth": 2,
            "linecolor": "white",
            "showbackground": true,
            "ticks": "",
            "zerolinecolor": "white"
           },
           "yaxis": {
            "backgroundcolor": "#E5ECF6",
            "gridcolor": "white",
            "gridwidth": 2,
            "linecolor": "white",
            "showbackground": true,
            "ticks": "",
            "zerolinecolor": "white"
           },
           "zaxis": {
            "backgroundcolor": "#E5ECF6",
            "gridcolor": "white",
            "gridwidth": 2,
            "linecolor": "white",
            "showbackground": true,
            "ticks": "",
            "zerolinecolor": "white"
           }
          },
          "shapedefaults": {
           "line": {
            "color": "#2a3f5f"
           }
          },
          "ternary": {
           "aaxis": {
            "gridcolor": "white",
            "linecolor": "white",
            "ticks": ""
           },
           "baxis": {
            "gridcolor": "white",
            "linecolor": "white",
            "ticks": ""
           },
           "bgcolor": "#E5ECF6",
           "caxis": {
            "gridcolor": "white",
            "linecolor": "white",
            "ticks": ""
           }
          },
          "title": {
           "x": 0.05
          },
          "xaxis": {
           "automargin": true,
           "gridcolor": "white",
           "linecolor": "white",
           "ticks": "",
           "title": {
            "standoff": 15
           },
           "zerolinecolor": "white",
           "zerolinewidth": 2
          },
          "yaxis": {
           "automargin": true,
           "gridcolor": "white",
           "linecolor": "white",
           "ticks": "",
           "title": {
            "standoff": 15
           },
           "zerolinecolor": "white",
           "zerolinewidth": 2
          }
         }
        }
       }
      },
      "text/html": [
       "<div>\n",
       "        \n",
       "        \n",
       "            <div id=\"230e4603-8d2c-44e7-80a5-20334beb9812\" class=\"plotly-graph-div\" style=\"height:525px; width:100%;\"></div>\n",
       "            <script type=\"text/javascript\">\n",
       "                require([\"plotly\"], function(Plotly) {\n",
       "                    window.PLOTLYENV=window.PLOTLYENV || {};\n",
       "                    \n",
       "                if (document.getElementById(\"230e4603-8d2c-44e7-80a5-20334beb9812\")) {\n",
       "                    Plotly.newPlot(\n",
       "                        '230e4603-8d2c-44e7-80a5-20334beb9812',\n",
       "                        [{\"cells\": {\"align\": \"left\", \"fill\": {\"color\": \"light blue\"}, \"values\": [[[\"Mainland China\"], [\"Thailand\"], [\"Japan\"], [\"South Korea\"], [\"Taiwan\"], [\"US\"], [\"Hong Kong\"], [\"France\"], [\"Australia\"], [\"Philippines\"], [\"Italy\"], [\"UK\"], [\"Spain\"], [\"Others\"], [\"Iran\"], [\"Iraq\"], [\"Switzerland\"], [\"Netherlands\"], [\"San Marino\"]], [[3042.0], [1.0], [6.0], [42.0], [1.0], [14.0], [2.0], [9.0], [2.0], [1.0], [197.0], [2.0], [5.0], [6.0], [124.0], [3.0], [1.0], [1.0], [1.0]]]}, \"header\": {\"align\": \"left\", \"fill\": {\"color\": \"lavender\"}, \"values\": [\"Country\", \"Cases\"]}, \"type\": \"table\"}],\n",
       "                        {\"template\": {\"data\": {\"bar\": [{\"error_x\": {\"color\": \"#2a3f5f\"}, \"error_y\": {\"color\": \"#2a3f5f\"}, \"marker\": {\"line\": {\"color\": \"#E5ECF6\", \"width\": 0.5}}, \"type\": \"bar\"}], \"barpolar\": [{\"marker\": {\"line\": {\"color\": \"#E5ECF6\", \"width\": 0.5}}, \"type\": \"barpolar\"}], \"carpet\": [{\"aaxis\": {\"endlinecolor\": \"#2a3f5f\", \"gridcolor\": \"white\", \"linecolor\": \"white\", \"minorgridcolor\": \"white\", \"startlinecolor\": \"#2a3f5f\"}, \"baxis\": {\"endlinecolor\": \"#2a3f5f\", \"gridcolor\": \"white\", \"linecolor\": \"white\", \"minorgridcolor\": \"white\", \"startlinecolor\": \"#2a3f5f\"}, \"type\": \"carpet\"}], \"choropleth\": [{\"colorbar\": {\"outlinewidth\": 0, \"ticks\": \"\"}, \"type\": \"choropleth\"}], \"contour\": [{\"colorbar\": {\"outlinewidth\": 0, \"ticks\": \"\"}, \"colorscale\": [[0.0, \"#0d0887\"], [0.1111111111111111, \"#46039f\"], [0.2222222222222222, \"#7201a8\"], [0.3333333333333333, \"#9c179e\"], [0.4444444444444444, \"#bd3786\"], [0.5555555555555556, \"#d8576b\"], [0.6666666666666666, \"#ed7953\"], [0.7777777777777778, \"#fb9f3a\"], [0.8888888888888888, \"#fdca26\"], [1.0, \"#f0f921\"]], \"type\": \"contour\"}], \"contourcarpet\": [{\"colorbar\": {\"outlinewidth\": 0, \"ticks\": \"\"}, \"type\": \"contourcarpet\"}], \"heatmap\": [{\"colorbar\": {\"outlinewidth\": 0, \"ticks\": \"\"}, \"colorscale\": [[0.0, \"#0d0887\"], [0.1111111111111111, \"#46039f\"], [0.2222222222222222, \"#7201a8\"], [0.3333333333333333, \"#9c179e\"], [0.4444444444444444, \"#bd3786\"], [0.5555555555555556, \"#d8576b\"], [0.6666666666666666, \"#ed7953\"], [0.7777777777777778, \"#fb9f3a\"], [0.8888888888888888, \"#fdca26\"], [1.0, \"#f0f921\"]], \"type\": \"heatmap\"}], \"heatmapgl\": [{\"colorbar\": {\"outlinewidth\": 0, \"ticks\": \"\"}, \"colorscale\": [[0.0, \"#0d0887\"], [0.1111111111111111, \"#46039f\"], [0.2222222222222222, \"#7201a8\"], [0.3333333333333333, \"#9c179e\"], [0.4444444444444444, \"#bd3786\"], [0.5555555555555556, \"#d8576b\"], [0.6666666666666666, \"#ed7953\"], [0.7777777777777778, \"#fb9f3a\"], [0.8888888888888888, \"#fdca26\"], [1.0, \"#f0f921\"]], \"type\": \"heatmapgl\"}], \"histogram\": [{\"marker\": {\"colorbar\": {\"outlinewidth\": 0, \"ticks\": \"\"}}, \"type\": \"histogram\"}], \"histogram2d\": [{\"colorbar\": {\"outlinewidth\": 0, \"ticks\": \"\"}, \"colorscale\": [[0.0, \"#0d0887\"], [0.1111111111111111, \"#46039f\"], [0.2222222222222222, \"#7201a8\"], [0.3333333333333333, \"#9c179e\"], [0.4444444444444444, \"#bd3786\"], [0.5555555555555556, \"#d8576b\"], [0.6666666666666666, \"#ed7953\"], [0.7777777777777778, \"#fb9f3a\"], [0.8888888888888888, \"#fdca26\"], [1.0, \"#f0f921\"]], \"type\": \"histogram2d\"}], \"histogram2dcontour\": [{\"colorbar\": {\"outlinewidth\": 0, \"ticks\": \"\"}, \"colorscale\": [[0.0, \"#0d0887\"], [0.1111111111111111, \"#46039f\"], [0.2222222222222222, \"#7201a8\"], [0.3333333333333333, \"#9c179e\"], [0.4444444444444444, \"#bd3786\"], [0.5555555555555556, \"#d8576b\"], [0.6666666666666666, \"#ed7953\"], [0.7777777777777778, \"#fb9f3a\"], [0.8888888888888888, \"#fdca26\"], [1.0, \"#f0f921\"]], \"type\": \"histogram2dcontour\"}], \"mesh3d\": [{\"colorbar\": {\"outlinewidth\": 0, \"ticks\": \"\"}, \"type\": \"mesh3d\"}], \"parcoords\": [{\"line\": {\"colorbar\": {\"outlinewidth\": 0, \"ticks\": \"\"}}, \"type\": \"parcoords\"}], \"pie\": [{\"automargin\": true, \"type\": \"pie\"}], \"scatter\": [{\"marker\": {\"colorbar\": {\"outlinewidth\": 0, \"ticks\": \"\"}}, \"type\": \"scatter\"}], \"scatter3d\": [{\"line\": {\"colorbar\": {\"outlinewidth\": 0, \"ticks\": \"\"}}, \"marker\": {\"colorbar\": {\"outlinewidth\": 0, \"ticks\": \"\"}}, \"type\": \"scatter3d\"}], \"scattercarpet\": [{\"marker\": {\"colorbar\": {\"outlinewidth\": 0, \"ticks\": \"\"}}, \"type\": \"scattercarpet\"}], \"scattergeo\": [{\"marker\": {\"colorbar\": {\"outlinewidth\": 0, \"ticks\": \"\"}}, \"type\": \"scattergeo\"}], \"scattergl\": [{\"marker\": {\"colorbar\": {\"outlinewidth\": 0, \"ticks\": \"\"}}, \"type\": \"scattergl\"}], \"scattermapbox\": [{\"marker\": {\"colorbar\": {\"outlinewidth\": 0, \"ticks\": \"\"}}, \"type\": \"scattermapbox\"}], \"scatterpolar\": [{\"marker\": {\"colorbar\": {\"outlinewidth\": 0, \"ticks\": \"\"}}, \"type\": \"scatterpolar\"}], \"scatterpolargl\": [{\"marker\": {\"colorbar\": {\"outlinewidth\": 0, \"ticks\": \"\"}}, \"type\": \"scatterpolargl\"}], \"scatterternary\": [{\"marker\": {\"colorbar\": {\"outlinewidth\": 0, \"ticks\": \"\"}}, \"type\": \"scatterternary\"}], \"surface\": [{\"colorbar\": {\"outlinewidth\": 0, \"ticks\": \"\"}, \"colorscale\": [[0.0, \"#0d0887\"], [0.1111111111111111, \"#46039f\"], [0.2222222222222222, \"#7201a8\"], [0.3333333333333333, \"#9c179e\"], [0.4444444444444444, \"#bd3786\"], [0.5555555555555556, \"#d8576b\"], [0.6666666666666666, \"#ed7953\"], [0.7777777777777778, \"#fb9f3a\"], [0.8888888888888888, \"#fdca26\"], [1.0, \"#f0f921\"]], \"type\": \"surface\"}], \"table\": [{\"cells\": {\"fill\": {\"color\": \"#EBF0F8\"}, \"line\": {\"color\": \"white\"}}, \"header\": {\"fill\": {\"color\": \"#C8D4E3\"}, \"line\": {\"color\": \"white\"}}, \"type\": \"table\"}]}, \"layout\": {\"annotationdefaults\": {\"arrowcolor\": \"#2a3f5f\", \"arrowhead\": 0, \"arrowwidth\": 1}, \"coloraxis\": {\"colorbar\": {\"outlinewidth\": 0, \"ticks\": \"\"}}, \"colorscale\": {\"diverging\": [[0, \"#8e0152\"], [0.1, \"#c51b7d\"], [0.2, \"#de77ae\"], [0.3, \"#f1b6da\"], [0.4, \"#fde0ef\"], [0.5, \"#f7f7f7\"], [0.6, \"#e6f5d0\"], [0.7, \"#b8e186\"], [0.8, \"#7fbc41\"], [0.9, \"#4d9221\"], [1, \"#276419\"]], \"sequential\": [[0.0, \"#0d0887\"], [0.1111111111111111, \"#46039f\"], [0.2222222222222222, \"#7201a8\"], [0.3333333333333333, \"#9c179e\"], [0.4444444444444444, \"#bd3786\"], [0.5555555555555556, \"#d8576b\"], [0.6666666666666666, \"#ed7953\"], [0.7777777777777778, \"#fb9f3a\"], [0.8888888888888888, \"#fdca26\"], [1.0, \"#f0f921\"]], \"sequentialminus\": [[0.0, \"#0d0887\"], [0.1111111111111111, \"#46039f\"], [0.2222222222222222, \"#7201a8\"], [0.3333333333333333, \"#9c179e\"], [0.4444444444444444, \"#bd3786\"], [0.5555555555555556, \"#d8576b\"], [0.6666666666666666, \"#ed7953\"], [0.7777777777777778, \"#fb9f3a\"], [0.8888888888888888, \"#fdca26\"], [1.0, \"#f0f921\"]]}, \"colorway\": [\"#636efa\", \"#EF553B\", \"#00cc96\", \"#ab63fa\", \"#FFA15A\", \"#19d3f3\", \"#FF6692\", \"#B6E880\", \"#FF97FF\", \"#FECB52\"], \"font\": {\"color\": \"#2a3f5f\"}, \"geo\": {\"bgcolor\": \"white\", \"lakecolor\": \"white\", \"landcolor\": \"#E5ECF6\", \"showlakes\": true, \"showland\": true, \"subunitcolor\": \"white\"}, \"hoverlabel\": {\"align\": \"left\"}, \"hovermode\": \"closest\", \"mapbox\": {\"style\": \"light\"}, \"paper_bgcolor\": \"white\", \"plot_bgcolor\": \"#E5ECF6\", \"polar\": {\"angularaxis\": {\"gridcolor\": \"white\", \"linecolor\": \"white\", \"ticks\": \"\"}, \"bgcolor\": \"#E5ECF6\", \"radialaxis\": {\"gridcolor\": \"white\", \"linecolor\": \"white\", \"ticks\": \"\"}}, \"scene\": {\"xaxis\": {\"backgroundcolor\": \"#E5ECF6\", \"gridcolor\": \"white\", \"gridwidth\": 2, \"linecolor\": \"white\", \"showbackground\": true, \"ticks\": \"\", \"zerolinecolor\": \"white\"}, \"yaxis\": {\"backgroundcolor\": \"#E5ECF6\", \"gridcolor\": \"white\", \"gridwidth\": 2, \"linecolor\": \"white\", \"showbackground\": true, \"ticks\": \"\", \"zerolinecolor\": \"white\"}, \"zaxis\": {\"backgroundcolor\": \"#E5ECF6\", \"gridcolor\": \"white\", \"gridwidth\": 2, \"linecolor\": \"white\", \"showbackground\": true, \"ticks\": \"\", \"zerolinecolor\": \"white\"}}, \"shapedefaults\": {\"line\": {\"color\": \"#2a3f5f\"}}, \"ternary\": {\"aaxis\": {\"gridcolor\": \"white\", \"linecolor\": \"white\", \"ticks\": \"\"}, \"baxis\": {\"gridcolor\": \"white\", \"linecolor\": \"white\", \"ticks\": \"\"}, \"bgcolor\": \"#E5ECF6\", \"caxis\": {\"gridcolor\": \"white\", \"linecolor\": \"white\", \"ticks\": \"\"}}, \"title\": {\"x\": 0.05}, \"xaxis\": {\"automargin\": true, \"gridcolor\": \"white\", \"linecolor\": \"white\", \"ticks\": \"\", \"title\": {\"standoff\": 15}, \"zerolinecolor\": \"white\", \"zerolinewidth\": 2}, \"yaxis\": {\"automargin\": true, \"gridcolor\": \"white\", \"linecolor\": \"white\", \"ticks\": \"\", \"title\": {\"standoff\": 15}, \"zerolinecolor\": \"white\", \"zerolinewidth\": 2}}}},\n",
       "                        {\"responsive\": true}\n",
       "                    ).then(function(){\n",
       "                            \n",
       "var gd = document.getElementById('230e4603-8d2c-44e7-80a5-20334beb9812');\n",
       "var x = new MutationObserver(function (mutations, observer) {{\n",
       "        var display = window.getComputedStyle(gd).display;\n",
       "        if (!display || display === 'none') {{\n",
       "            console.log([gd, 'removed!']);\n",
       "            Plotly.purge(gd);\n",
       "            observer.disconnect();\n",
       "        }}\n",
       "}});\n",
       "\n",
       "// Listen for the removal of the full notebook cells\n",
       "var notebookContainer = gd.closest('#notebook-container');\n",
       "if (notebookContainer) {{\n",
       "    x.observe(notebookContainer, {childList: true});\n",
       "}}\n",
       "\n",
       "// Listen for the clearing of the current output cell\n",
       "var outputEl = gd.closest('.output');\n",
       "if (outputEl) {{\n",
       "    x.observe(outputEl, {childList: true});\n",
       "}}\n",
       "\n",
       "                        })\n",
       "                };\n",
       "                });\n",
       "            </script>\n",
       "        </div>"
      ]
     },
     "metadata": {},
     "output_type": "display_data"
    },
    {
     "data": {
      "application/vnd.plotly.v1+json": {
       "config": {
        "plotlyServerURL": "https://plot.ly"
       },
       "data": [
        {
         "alignmentgroup": "True",
         "hoverlabel": {
          "namelength": 0
         },
         "hovertemplate": "x=%{x}<br>y=%{y}<br>Cases=%{text}",
         "legendgroup": "",
         "marker": {
          "color": "#636efa"
         },
         "name": "",
         "offsetgroup": "",
         "orientation": "v",
         "showlegend": false,
         "text": [
          3042,
          1,
          6,
          42,
          1,
          14,
          2,
          9,
          2,
          1,
          197,
          2,
          5,
          6,
          124,
          3,
          1,
          1,
          1
         ],
         "textposition": "outside",
         "texttemplate": "%{text:.2s}",
         "type": "bar",
         "x": [
          "Mainland China",
          "Thailand",
          "Japan",
          "South Korea",
          "Taiwan",
          "US",
          "Hong Kong",
          "France",
          "Australia",
          "Philippines",
          "Italy",
          "UK",
          "Spain",
          "Others",
          "Iran",
          "Iraq",
          "Switzerland",
          "Netherlands",
          "San Marino"
         ],
         "xaxis": "x",
         "y": [
          3042,
          1,
          6,
          42,
          1,
          14,
          2,
          9,
          2,
          1,
          197,
          2,
          5,
          6,
          124,
          3,
          1,
          1,
          1
         ],
         "yaxis": "y"
        }
       ],
       "layout": {
        "barmode": "relative",
        "height": 700,
        "legend": {
         "tracegroupgap": 0
        },
        "margin": {
         "t": 60
        },
        "template": {
         "data": {
          "bar": [
           {
            "error_x": {
             "color": "#2a3f5f"
            },
            "error_y": {
             "color": "#2a3f5f"
            },
            "marker": {
             "line": {
              "color": "#E5ECF6",
              "width": 0.5
             }
            },
            "type": "bar"
           }
          ],
          "barpolar": [
           {
            "marker": {
             "line": {
              "color": "#E5ECF6",
              "width": 0.5
             }
            },
            "type": "barpolar"
           }
          ],
          "carpet": [
           {
            "aaxis": {
             "endlinecolor": "#2a3f5f",
             "gridcolor": "white",
             "linecolor": "white",
             "minorgridcolor": "white",
             "startlinecolor": "#2a3f5f"
            },
            "baxis": {
             "endlinecolor": "#2a3f5f",
             "gridcolor": "white",
             "linecolor": "white",
             "minorgridcolor": "white",
             "startlinecolor": "#2a3f5f"
            },
            "type": "carpet"
           }
          ],
          "choropleth": [
           {
            "colorbar": {
             "outlinewidth": 0,
             "ticks": ""
            },
            "type": "choropleth"
           }
          ],
          "contour": [
           {
            "colorbar": {
             "outlinewidth": 0,
             "ticks": ""
            },
            "colorscale": [
             [
              0,
              "#0d0887"
             ],
             [
              0.1111111111111111,
              "#46039f"
             ],
             [
              0.2222222222222222,
              "#7201a8"
             ],
             [
              0.3333333333333333,
              "#9c179e"
             ],
             [
              0.4444444444444444,
              "#bd3786"
             ],
             [
              0.5555555555555556,
              "#d8576b"
             ],
             [
              0.6666666666666666,
              "#ed7953"
             ],
             [
              0.7777777777777778,
              "#fb9f3a"
             ],
             [
              0.8888888888888888,
              "#fdca26"
             ],
             [
              1,
              "#f0f921"
             ]
            ],
            "type": "contour"
           }
          ],
          "contourcarpet": [
           {
            "colorbar": {
             "outlinewidth": 0,
             "ticks": ""
            },
            "type": "contourcarpet"
           }
          ],
          "heatmap": [
           {
            "colorbar": {
             "outlinewidth": 0,
             "ticks": ""
            },
            "colorscale": [
             [
              0,
              "#0d0887"
             ],
             [
              0.1111111111111111,
              "#46039f"
             ],
             [
              0.2222222222222222,
              "#7201a8"
             ],
             [
              0.3333333333333333,
              "#9c179e"
             ],
             [
              0.4444444444444444,
              "#bd3786"
             ],
             [
              0.5555555555555556,
              "#d8576b"
             ],
             [
              0.6666666666666666,
              "#ed7953"
             ],
             [
              0.7777777777777778,
              "#fb9f3a"
             ],
             [
              0.8888888888888888,
              "#fdca26"
             ],
             [
              1,
              "#f0f921"
             ]
            ],
            "type": "heatmap"
           }
          ],
          "heatmapgl": [
           {
            "colorbar": {
             "outlinewidth": 0,
             "ticks": ""
            },
            "colorscale": [
             [
              0,
              "#0d0887"
             ],
             [
              0.1111111111111111,
              "#46039f"
             ],
             [
              0.2222222222222222,
              "#7201a8"
             ],
             [
              0.3333333333333333,
              "#9c179e"
             ],
             [
              0.4444444444444444,
              "#bd3786"
             ],
             [
              0.5555555555555556,
              "#d8576b"
             ],
             [
              0.6666666666666666,
              "#ed7953"
             ],
             [
              0.7777777777777778,
              "#fb9f3a"
             ],
             [
              0.8888888888888888,
              "#fdca26"
             ],
             [
              1,
              "#f0f921"
             ]
            ],
            "type": "heatmapgl"
           }
          ],
          "histogram": [
           {
            "marker": {
             "colorbar": {
              "outlinewidth": 0,
              "ticks": ""
             }
            },
            "type": "histogram"
           }
          ],
          "histogram2d": [
           {
            "colorbar": {
             "outlinewidth": 0,
             "ticks": ""
            },
            "colorscale": [
             [
              0,
              "#0d0887"
             ],
             [
              0.1111111111111111,
              "#46039f"
             ],
             [
              0.2222222222222222,
              "#7201a8"
             ],
             [
              0.3333333333333333,
              "#9c179e"
             ],
             [
              0.4444444444444444,
              "#bd3786"
             ],
             [
              0.5555555555555556,
              "#d8576b"
             ],
             [
              0.6666666666666666,
              "#ed7953"
             ],
             [
              0.7777777777777778,
              "#fb9f3a"
             ],
             [
              0.8888888888888888,
              "#fdca26"
             ],
             [
              1,
              "#f0f921"
             ]
            ],
            "type": "histogram2d"
           }
          ],
          "histogram2dcontour": [
           {
            "colorbar": {
             "outlinewidth": 0,
             "ticks": ""
            },
            "colorscale": [
             [
              0,
              "#0d0887"
             ],
             [
              0.1111111111111111,
              "#46039f"
             ],
             [
              0.2222222222222222,
              "#7201a8"
             ],
             [
              0.3333333333333333,
              "#9c179e"
             ],
             [
              0.4444444444444444,
              "#bd3786"
             ],
             [
              0.5555555555555556,
              "#d8576b"
             ],
             [
              0.6666666666666666,
              "#ed7953"
             ],
             [
              0.7777777777777778,
              "#fb9f3a"
             ],
             [
              0.8888888888888888,
              "#fdca26"
             ],
             [
              1,
              "#f0f921"
             ]
            ],
            "type": "histogram2dcontour"
           }
          ],
          "mesh3d": [
           {
            "colorbar": {
             "outlinewidth": 0,
             "ticks": ""
            },
            "type": "mesh3d"
           }
          ],
          "parcoords": [
           {
            "line": {
             "colorbar": {
              "outlinewidth": 0,
              "ticks": ""
             }
            },
            "type": "parcoords"
           }
          ],
          "pie": [
           {
            "automargin": true,
            "type": "pie"
           }
          ],
          "scatter": [
           {
            "marker": {
             "colorbar": {
              "outlinewidth": 0,
              "ticks": ""
             }
            },
            "type": "scatter"
           }
          ],
          "scatter3d": [
           {
            "line": {
             "colorbar": {
              "outlinewidth": 0,
              "ticks": ""
             }
            },
            "marker": {
             "colorbar": {
              "outlinewidth": 0,
              "ticks": ""
             }
            },
            "type": "scatter3d"
           }
          ],
          "scattercarpet": [
           {
            "marker": {
             "colorbar": {
              "outlinewidth": 0,
              "ticks": ""
             }
            },
            "type": "scattercarpet"
           }
          ],
          "scattergeo": [
           {
            "marker": {
             "colorbar": {
              "outlinewidth": 0,
              "ticks": ""
             }
            },
            "type": "scattergeo"
           }
          ],
          "scattergl": [
           {
            "marker": {
             "colorbar": {
              "outlinewidth": 0,
              "ticks": ""
             }
            },
            "type": "scattergl"
           }
          ],
          "scattermapbox": [
           {
            "marker": {
             "colorbar": {
              "outlinewidth": 0,
              "ticks": ""
             }
            },
            "type": "scattermapbox"
           }
          ],
          "scatterpolar": [
           {
            "marker": {
             "colorbar": {
              "outlinewidth": 0,
              "ticks": ""
             }
            },
            "type": "scatterpolar"
           }
          ],
          "scatterpolargl": [
           {
            "marker": {
             "colorbar": {
              "outlinewidth": 0,
              "ticks": ""
             }
            },
            "type": "scatterpolargl"
           }
          ],
          "scatterternary": [
           {
            "marker": {
             "colorbar": {
              "outlinewidth": 0,
              "ticks": ""
             }
            },
            "type": "scatterternary"
           }
          ],
          "surface": [
           {
            "colorbar": {
             "outlinewidth": 0,
             "ticks": ""
            },
            "colorscale": [
             [
              0,
              "#0d0887"
             ],
             [
              0.1111111111111111,
              "#46039f"
             ],
             [
              0.2222222222222222,
              "#7201a8"
             ],
             [
              0.3333333333333333,
              "#9c179e"
             ],
             [
              0.4444444444444444,
              "#bd3786"
             ],
             [
              0.5555555555555556,
              "#d8576b"
             ],
             [
              0.6666666666666666,
              "#ed7953"
             ],
             [
              0.7777777777777778,
              "#fb9f3a"
             ],
             [
              0.8888888888888888,
              "#fdca26"
             ],
             [
              1,
              "#f0f921"
             ]
            ],
            "type": "surface"
           }
          ],
          "table": [
           {
            "cells": {
             "fill": {
              "color": "#EBF0F8"
             },
             "line": {
              "color": "white"
             }
            },
            "header": {
             "fill": {
              "color": "#C8D4E3"
             },
             "line": {
              "color": "white"
             }
            },
            "type": "table"
           }
          ]
         },
         "layout": {
          "annotationdefaults": {
           "arrowcolor": "#2a3f5f",
           "arrowhead": 0,
           "arrowwidth": 1
          },
          "coloraxis": {
           "colorbar": {
            "outlinewidth": 0,
            "ticks": ""
           }
          },
          "colorscale": {
           "diverging": [
            [
             0,
             "#8e0152"
            ],
            [
             0.1,
             "#c51b7d"
            ],
            [
             0.2,
             "#de77ae"
            ],
            [
             0.3,
             "#f1b6da"
            ],
            [
             0.4,
             "#fde0ef"
            ],
            [
             0.5,
             "#f7f7f7"
            ],
            [
             0.6,
             "#e6f5d0"
            ],
            [
             0.7,
             "#b8e186"
            ],
            [
             0.8,
             "#7fbc41"
            ],
            [
             0.9,
             "#4d9221"
            ],
            [
             1,
             "#276419"
            ]
           ],
           "sequential": [
            [
             0,
             "#0d0887"
            ],
            [
             0.1111111111111111,
             "#46039f"
            ],
            [
             0.2222222222222222,
             "#7201a8"
            ],
            [
             0.3333333333333333,
             "#9c179e"
            ],
            [
             0.4444444444444444,
             "#bd3786"
            ],
            [
             0.5555555555555556,
             "#d8576b"
            ],
            [
             0.6666666666666666,
             "#ed7953"
            ],
            [
             0.7777777777777778,
             "#fb9f3a"
            ],
            [
             0.8888888888888888,
             "#fdca26"
            ],
            [
             1,
             "#f0f921"
            ]
           ],
           "sequentialminus": [
            [
             0,
             "#0d0887"
            ],
            [
             0.1111111111111111,
             "#46039f"
            ],
            [
             0.2222222222222222,
             "#7201a8"
            ],
            [
             0.3333333333333333,
             "#9c179e"
            ],
            [
             0.4444444444444444,
             "#bd3786"
            ],
            [
             0.5555555555555556,
             "#d8576b"
            ],
            [
             0.6666666666666666,
             "#ed7953"
            ],
            [
             0.7777777777777778,
             "#fb9f3a"
            ],
            [
             0.8888888888888888,
             "#fdca26"
            ],
            [
             1,
             "#f0f921"
            ]
           ]
          },
          "colorway": [
           "#636efa",
           "#EF553B",
           "#00cc96",
           "#ab63fa",
           "#FFA15A",
           "#19d3f3",
           "#FF6692",
           "#B6E880",
           "#FF97FF",
           "#FECB52"
          ],
          "font": {
           "color": "#2a3f5f"
          },
          "geo": {
           "bgcolor": "white",
           "lakecolor": "white",
           "landcolor": "#E5ECF6",
           "showlakes": true,
           "showland": true,
           "subunitcolor": "white"
          },
          "hoverlabel": {
           "align": "left"
          },
          "hovermode": "closest",
          "mapbox": {
           "style": "light"
          },
          "paper_bgcolor": "white",
          "plot_bgcolor": "#E5ECF6",
          "polar": {
           "angularaxis": {
            "gridcolor": "white",
            "linecolor": "white",
            "ticks": ""
           },
           "bgcolor": "#E5ECF6",
           "radialaxis": {
            "gridcolor": "white",
            "linecolor": "white",
            "ticks": ""
           }
          },
          "scene": {
           "xaxis": {
            "backgroundcolor": "#E5ECF6",
            "gridcolor": "white",
            "gridwidth": 2,
            "linecolor": "white",
            "showbackground": true,
            "ticks": "",
            "zerolinecolor": "white"
           },
           "yaxis": {
            "backgroundcolor": "#E5ECF6",
            "gridcolor": "white",
            "gridwidth": 2,
            "linecolor": "white",
            "showbackground": true,
            "ticks": "",
            "zerolinecolor": "white"
           },
           "zaxis": {
            "backgroundcolor": "#E5ECF6",
            "gridcolor": "white",
            "gridwidth": 2,
            "linecolor": "white",
            "showbackground": true,
            "ticks": "",
            "zerolinecolor": "white"
           }
          },
          "shapedefaults": {
           "line": {
            "color": "#2a3f5f"
           }
          },
          "ternary": {
           "aaxis": {
            "gridcolor": "white",
            "linecolor": "white",
            "ticks": ""
           },
           "baxis": {
            "gridcolor": "white",
            "linecolor": "white",
            "ticks": ""
           },
           "bgcolor": "#E5ECF6",
           "caxis": {
            "gridcolor": "white",
            "linecolor": "white",
            "ticks": ""
           }
          },
          "title": {
           "x": 0.05
          },
          "xaxis": {
           "automargin": true,
           "gridcolor": "white",
           "linecolor": "white",
           "ticks": "",
           "title": {
            "standoff": 15
           },
           "zerolinecolor": "white",
           "zerolinewidth": 2
          },
          "yaxis": {
           "automargin": true,
           "gridcolor": "white",
           "linecolor": "white",
           "ticks": "",
           "title": {
            "standoff": 15
           },
           "zerolinecolor": "white",
           "zerolinewidth": 2
          }
         }
        },
        "title": {
         "text": "Corona Virus - Confirmed Deaths - Bar"
        },
        "uniformtext": {
         "minsize": 5,
         "mode": "hide"
        },
        "xaxis": {
         "anchor": "y",
         "domain": [
          0,
          1
         ],
         "tickangle": 90,
         "title": {
          "font": {
           "size": 15
          },
          "standoff": 15,
          "text": "Country"
         }
        },
        "yaxis": {
         "anchor": "x",
         "domain": [
          0,
          1
         ],
         "title": {
          "standoff": 15,
          "text": "Cases"
         }
        }
       }
      },
      "text/html": [
       "<div>\n",
       "        \n",
       "        \n",
       "            <div id=\"884ea9bf-2bd9-42fc-abd7-90fd752bde20\" class=\"plotly-graph-div\" style=\"height:700px; width:100%;\"></div>\n",
       "            <script type=\"text/javascript\">\n",
       "                require([\"plotly\"], function(Plotly) {\n",
       "                    window.PLOTLYENV=window.PLOTLYENV || {};\n",
       "                    \n",
       "                if (document.getElementById(\"884ea9bf-2bd9-42fc-abd7-90fd752bde20\")) {\n",
       "                    Plotly.newPlot(\n",
       "                        '884ea9bf-2bd9-42fc-abd7-90fd752bde20',\n",
       "                        [{\"alignmentgroup\": \"True\", \"hoverlabel\": {\"namelength\": 0}, \"hovertemplate\": \"x=%{x}<br>y=%{y}<br>Cases=%{text}\", \"legendgroup\": \"\", \"marker\": {\"color\": \"#636efa\"}, \"name\": \"\", \"offsetgroup\": \"\", \"orientation\": \"v\", \"showlegend\": false, \"text\": [3042.0, 1.0, 6.0, 42.0, 1.0, 14.0, 2.0, 9.0, 2.0, 1.0, 197.0, 2.0, 5.0, 6.0, 124.0, 3.0, 1.0, 1.0, 1.0], \"textposition\": \"outside\", \"texttemplate\": \"%{text:.2s}\", \"type\": \"bar\", \"x\": [\"Mainland China\", \"Thailand\", \"Japan\", \"South Korea\", \"Taiwan\", \"US\", \"Hong Kong\", \"France\", \"Australia\", \"Philippines\", \"Italy\", \"UK\", \"Spain\", \"Others\", \"Iran\", \"Iraq\", \"Switzerland\", \"Netherlands\", \"San Marino\"], \"xaxis\": \"x\", \"y\": [3042.0, 1.0, 6.0, 42.0, 1.0, 14.0, 2.0, 9.0, 2.0, 1.0, 197.0, 2.0, 5.0, 6.0, 124.0, 3.0, 1.0, 1.0, 1.0], \"yaxis\": \"y\"}],\n",
       "                        {\"barmode\": \"relative\", \"height\": 700, \"legend\": {\"tracegroupgap\": 0}, \"margin\": {\"t\": 60}, \"template\": {\"data\": {\"bar\": [{\"error_x\": {\"color\": \"#2a3f5f\"}, \"error_y\": {\"color\": \"#2a3f5f\"}, \"marker\": {\"line\": {\"color\": \"#E5ECF6\", \"width\": 0.5}}, \"type\": \"bar\"}], \"barpolar\": [{\"marker\": {\"line\": {\"color\": \"#E5ECF6\", \"width\": 0.5}}, \"type\": \"barpolar\"}], \"carpet\": [{\"aaxis\": {\"endlinecolor\": \"#2a3f5f\", \"gridcolor\": \"white\", \"linecolor\": \"white\", \"minorgridcolor\": \"white\", \"startlinecolor\": \"#2a3f5f\"}, \"baxis\": {\"endlinecolor\": \"#2a3f5f\", \"gridcolor\": \"white\", \"linecolor\": \"white\", \"minorgridcolor\": \"white\", \"startlinecolor\": \"#2a3f5f\"}, \"type\": \"carpet\"}], \"choropleth\": [{\"colorbar\": {\"outlinewidth\": 0, \"ticks\": \"\"}, \"type\": \"choropleth\"}], \"contour\": [{\"colorbar\": {\"outlinewidth\": 0, \"ticks\": \"\"}, \"colorscale\": [[0.0, \"#0d0887\"], [0.1111111111111111, \"#46039f\"], [0.2222222222222222, \"#7201a8\"], [0.3333333333333333, \"#9c179e\"], [0.4444444444444444, \"#bd3786\"], [0.5555555555555556, \"#d8576b\"], [0.6666666666666666, \"#ed7953\"], [0.7777777777777778, \"#fb9f3a\"], [0.8888888888888888, \"#fdca26\"], [1.0, \"#f0f921\"]], \"type\": \"contour\"}], \"contourcarpet\": [{\"colorbar\": {\"outlinewidth\": 0, \"ticks\": \"\"}, \"type\": \"contourcarpet\"}], \"heatmap\": [{\"colorbar\": {\"outlinewidth\": 0, \"ticks\": \"\"}, \"colorscale\": [[0.0, \"#0d0887\"], [0.1111111111111111, \"#46039f\"], [0.2222222222222222, \"#7201a8\"], [0.3333333333333333, \"#9c179e\"], [0.4444444444444444, \"#bd3786\"], [0.5555555555555556, \"#d8576b\"], [0.6666666666666666, \"#ed7953\"], [0.7777777777777778, \"#fb9f3a\"], [0.8888888888888888, \"#fdca26\"], [1.0, \"#f0f921\"]], \"type\": \"heatmap\"}], \"heatmapgl\": [{\"colorbar\": {\"outlinewidth\": 0, \"ticks\": \"\"}, \"colorscale\": [[0.0, \"#0d0887\"], [0.1111111111111111, \"#46039f\"], [0.2222222222222222, \"#7201a8\"], [0.3333333333333333, \"#9c179e\"], [0.4444444444444444, \"#bd3786\"], [0.5555555555555556, \"#d8576b\"], [0.6666666666666666, \"#ed7953\"], [0.7777777777777778, \"#fb9f3a\"], [0.8888888888888888, \"#fdca26\"], [1.0, \"#f0f921\"]], \"type\": \"heatmapgl\"}], \"histogram\": [{\"marker\": {\"colorbar\": {\"outlinewidth\": 0, \"ticks\": \"\"}}, \"type\": \"histogram\"}], \"histogram2d\": [{\"colorbar\": {\"outlinewidth\": 0, \"ticks\": \"\"}, \"colorscale\": [[0.0, \"#0d0887\"], [0.1111111111111111, \"#46039f\"], [0.2222222222222222, \"#7201a8\"], [0.3333333333333333, \"#9c179e\"], [0.4444444444444444, \"#bd3786\"], [0.5555555555555556, \"#d8576b\"], [0.6666666666666666, \"#ed7953\"], [0.7777777777777778, \"#fb9f3a\"], [0.8888888888888888, \"#fdca26\"], [1.0, \"#f0f921\"]], \"type\": \"histogram2d\"}], \"histogram2dcontour\": [{\"colorbar\": {\"outlinewidth\": 0, \"ticks\": \"\"}, \"colorscale\": [[0.0, \"#0d0887\"], [0.1111111111111111, \"#46039f\"], [0.2222222222222222, \"#7201a8\"], [0.3333333333333333, \"#9c179e\"], [0.4444444444444444, \"#bd3786\"], [0.5555555555555556, \"#d8576b\"], [0.6666666666666666, \"#ed7953\"], [0.7777777777777778, \"#fb9f3a\"], [0.8888888888888888, \"#fdca26\"], [1.0, \"#f0f921\"]], \"type\": \"histogram2dcontour\"}], \"mesh3d\": [{\"colorbar\": {\"outlinewidth\": 0, \"ticks\": \"\"}, \"type\": \"mesh3d\"}], \"parcoords\": [{\"line\": {\"colorbar\": {\"outlinewidth\": 0, \"ticks\": \"\"}}, \"type\": \"parcoords\"}], \"pie\": [{\"automargin\": true, \"type\": \"pie\"}], \"scatter\": [{\"marker\": {\"colorbar\": {\"outlinewidth\": 0, \"ticks\": \"\"}}, \"type\": \"scatter\"}], \"scatter3d\": [{\"line\": {\"colorbar\": {\"outlinewidth\": 0, \"ticks\": \"\"}}, \"marker\": {\"colorbar\": {\"outlinewidth\": 0, \"ticks\": \"\"}}, \"type\": \"scatter3d\"}], \"scattercarpet\": [{\"marker\": {\"colorbar\": {\"outlinewidth\": 0, \"ticks\": \"\"}}, \"type\": \"scattercarpet\"}], \"scattergeo\": [{\"marker\": {\"colorbar\": {\"outlinewidth\": 0, \"ticks\": \"\"}}, \"type\": \"scattergeo\"}], \"scattergl\": [{\"marker\": {\"colorbar\": {\"outlinewidth\": 0, \"ticks\": \"\"}}, \"type\": \"scattergl\"}], \"scattermapbox\": [{\"marker\": {\"colorbar\": {\"outlinewidth\": 0, \"ticks\": \"\"}}, \"type\": \"scattermapbox\"}], \"scatterpolar\": [{\"marker\": {\"colorbar\": {\"outlinewidth\": 0, \"ticks\": \"\"}}, \"type\": \"scatterpolar\"}], \"scatterpolargl\": [{\"marker\": {\"colorbar\": {\"outlinewidth\": 0, \"ticks\": \"\"}}, \"type\": \"scatterpolargl\"}], \"scatterternary\": [{\"marker\": {\"colorbar\": {\"outlinewidth\": 0, \"ticks\": \"\"}}, \"type\": \"scatterternary\"}], \"surface\": [{\"colorbar\": {\"outlinewidth\": 0, \"ticks\": \"\"}, \"colorscale\": [[0.0, \"#0d0887\"], [0.1111111111111111, \"#46039f\"], [0.2222222222222222, \"#7201a8\"], [0.3333333333333333, \"#9c179e\"], [0.4444444444444444, \"#bd3786\"], [0.5555555555555556, \"#d8576b\"], [0.6666666666666666, \"#ed7953\"], [0.7777777777777778, \"#fb9f3a\"], [0.8888888888888888, \"#fdca26\"], [1.0, \"#f0f921\"]], \"type\": \"surface\"}], \"table\": [{\"cells\": {\"fill\": {\"color\": \"#EBF0F8\"}, \"line\": {\"color\": \"white\"}}, \"header\": {\"fill\": {\"color\": \"#C8D4E3\"}, \"line\": {\"color\": \"white\"}}, \"type\": \"table\"}]}, \"layout\": {\"annotationdefaults\": {\"arrowcolor\": \"#2a3f5f\", \"arrowhead\": 0, \"arrowwidth\": 1}, \"coloraxis\": {\"colorbar\": {\"outlinewidth\": 0, \"ticks\": \"\"}}, \"colorscale\": {\"diverging\": [[0, \"#8e0152\"], [0.1, \"#c51b7d\"], [0.2, \"#de77ae\"], [0.3, \"#f1b6da\"], [0.4, \"#fde0ef\"], [0.5, \"#f7f7f7\"], [0.6, \"#e6f5d0\"], [0.7, \"#b8e186\"], [0.8, \"#7fbc41\"], [0.9, \"#4d9221\"], [1, \"#276419\"]], \"sequential\": [[0.0, \"#0d0887\"], [0.1111111111111111, \"#46039f\"], [0.2222222222222222, \"#7201a8\"], [0.3333333333333333, \"#9c179e\"], [0.4444444444444444, \"#bd3786\"], [0.5555555555555556, \"#d8576b\"], [0.6666666666666666, \"#ed7953\"], [0.7777777777777778, \"#fb9f3a\"], [0.8888888888888888, \"#fdca26\"], [1.0, \"#f0f921\"]], \"sequentialminus\": [[0.0, \"#0d0887\"], [0.1111111111111111, \"#46039f\"], [0.2222222222222222, \"#7201a8\"], [0.3333333333333333, \"#9c179e\"], [0.4444444444444444, \"#bd3786\"], [0.5555555555555556, \"#d8576b\"], [0.6666666666666666, \"#ed7953\"], [0.7777777777777778, \"#fb9f3a\"], [0.8888888888888888, \"#fdca26\"], [1.0, \"#f0f921\"]]}, \"colorway\": [\"#636efa\", \"#EF553B\", \"#00cc96\", \"#ab63fa\", \"#FFA15A\", \"#19d3f3\", \"#FF6692\", \"#B6E880\", \"#FF97FF\", \"#FECB52\"], \"font\": {\"color\": \"#2a3f5f\"}, \"geo\": {\"bgcolor\": \"white\", \"lakecolor\": \"white\", \"landcolor\": \"#E5ECF6\", \"showlakes\": true, \"showland\": true, \"subunitcolor\": \"white\"}, \"hoverlabel\": {\"align\": \"left\"}, \"hovermode\": \"closest\", \"mapbox\": {\"style\": \"light\"}, \"paper_bgcolor\": \"white\", \"plot_bgcolor\": \"#E5ECF6\", \"polar\": {\"angularaxis\": {\"gridcolor\": \"white\", \"linecolor\": \"white\", \"ticks\": \"\"}, \"bgcolor\": \"#E5ECF6\", \"radialaxis\": {\"gridcolor\": \"white\", \"linecolor\": \"white\", \"ticks\": \"\"}}, \"scene\": {\"xaxis\": {\"backgroundcolor\": \"#E5ECF6\", \"gridcolor\": \"white\", \"gridwidth\": 2, \"linecolor\": \"white\", \"showbackground\": true, \"ticks\": \"\", \"zerolinecolor\": \"white\"}, \"yaxis\": {\"backgroundcolor\": \"#E5ECF6\", \"gridcolor\": \"white\", \"gridwidth\": 2, \"linecolor\": \"white\", \"showbackground\": true, \"ticks\": \"\", \"zerolinecolor\": \"white\"}, \"zaxis\": {\"backgroundcolor\": \"#E5ECF6\", \"gridcolor\": \"white\", \"gridwidth\": 2, \"linecolor\": \"white\", \"showbackground\": true, \"ticks\": \"\", \"zerolinecolor\": \"white\"}}, \"shapedefaults\": {\"line\": {\"color\": \"#2a3f5f\"}}, \"ternary\": {\"aaxis\": {\"gridcolor\": \"white\", \"linecolor\": \"white\", \"ticks\": \"\"}, \"baxis\": {\"gridcolor\": \"white\", \"linecolor\": \"white\", \"ticks\": \"\"}, \"bgcolor\": \"#E5ECF6\", \"caxis\": {\"gridcolor\": \"white\", \"linecolor\": \"white\", \"ticks\": \"\"}}, \"title\": {\"x\": 0.05}, \"xaxis\": {\"automargin\": true, \"gridcolor\": \"white\", \"linecolor\": \"white\", \"ticks\": \"\", \"title\": {\"standoff\": 15}, \"zerolinecolor\": \"white\", \"zerolinewidth\": 2}, \"yaxis\": {\"automargin\": true, \"gridcolor\": \"white\", \"linecolor\": \"white\", \"ticks\": \"\", \"title\": {\"standoff\": 15}, \"zerolinecolor\": \"white\", \"zerolinewidth\": 2}}}, \"title\": {\"text\": \"Corona Virus - Confirmed Deaths - Bar\"}, \"uniformtext\": {\"minsize\": 5, \"mode\": \"hide\"}, \"xaxis\": {\"anchor\": \"y\", \"domain\": [0.0, 1.0], \"tickangle\": 90, \"title\": {\"font\": {\"size\": 15}, \"standoff\": 15, \"text\": \"Country\"}}, \"yaxis\": {\"anchor\": \"x\", \"domain\": [0.0, 1.0], \"title\": {\"standoff\": 15, \"text\": \"Cases\"}}},\n",
       "                        {\"responsive\": true}\n",
       "                    ).then(function(){\n",
       "                            \n",
       "var gd = document.getElementById('884ea9bf-2bd9-42fc-abd7-90fd752bde20');\n",
       "var x = new MutationObserver(function (mutations, observer) {{\n",
       "        var display = window.getComputedStyle(gd).display;\n",
       "        if (!display || display === 'none') {{\n",
       "            console.log([gd, 'removed!']);\n",
       "            Plotly.purge(gd);\n",
       "            observer.disconnect();\n",
       "        }}\n",
       "}});\n",
       "\n",
       "// Listen for the removal of the full notebook cells\n",
       "var notebookContainer = gd.closest('#notebook-container');\n",
       "if (notebookContainer) {{\n",
       "    x.observe(notebookContainer, {childList: true});\n",
       "}}\n",
       "\n",
       "// Listen for the clearing of the current output cell\n",
       "var outputEl = gd.closest('.output');\n",
       "if (outputEl) {{\n",
       "    x.observe(outputEl, {childList: true});\n",
       "}}\n",
       "\n",
       "                        })\n",
       "                };\n",
       "                });\n",
       "            </script>\n",
       "        </div>"
      ]
     },
     "metadata": {},
     "output_type": "display_data"
    }
   ],
   "source": [
    "plotBarsSimple(data_deaths,0,\"Corona Virus - Confirmed Deaths - Bar\")"
   ]
  },
  {
   "cell_type": "markdown",
   "metadata": {},
   "source": [
    "## GDP"
   ]
  },
  {
   "cell_type": "code",
   "execution_count": 176,
   "metadata": {},
   "outputs": [],
   "source": [
    "#Read data set\n",
    "filename_gdp=r'data/gdp/gdp/GDP_1960_2019.csv'\n",
    "filename_gdp_capita=r'data/gdp/gdp_capita/GDP_capita_1960_2019.csv'\n",
    "\n",
    "data_gdp_raw = pd.read_csv(filename_gdp,sep=',',index_col=None)\n",
    "data_gdp_capita_raw = pd.read_csv(filename_gdp_capita,sep=',',index_col=None)"
   ]
  },
  {
   "cell_type": "code",
   "execution_count": 177,
   "metadata": {},
   "outputs": [],
   "source": [
    "\n",
    "#Make New column names by editing old column names\n",
    "#colnames=data_gdp.columns.str.replace('\"\"',\"\")\n",
    "#colnames=colnames.str.replace('\"\"',\"\")\n",
    "\n",
    "\n",
    "#Remove unnecessary columns & clean column values\n",
    "#data_gdp=data_gdp.replace(regex=['\"'], value='')\n",
    "def DropColumns(data):\n",
    "    #print(data.columns)\n",
    "    data=data.drop(['Indicator Code','Indicator Name','Indicator Name','Country Code'],axis=1)\n",
    "    return data\n",
    "#Replace old column names with edited column names\n",
    "data_gdp=DropColumns(data_gdp_raw)\n",
    "data_gdp_capita=DropColumns(data_gdp_capita_raw)"
   ]
  },
  {
   "cell_type": "markdown",
   "metadata": {},
   "source": [
    "\n",
    "## Function - Filter GDP data"
   ]
  },
  {
   "cell_type": "code",
   "execution_count": 178,
   "metadata": {},
   "outputs": [],
   "source": [
    "import numpy as np\n",
    "\n",
    "def PrepareGDPData(data, exampleData):\n",
    "    #Choose columns\n",
    "    data_gdp_filtered=data[['Country Name','2017']]\n",
    "    \n",
    "    #column 2018 to numeric format\n",
    "   # data_gdp_filtered['2018']=pd.to_numeric(data_gdp_filtered['2018'])\n",
    "    \n",
    "    #Get unique names of countries in corona data\n",
    "    columns_country=exampleData['Country/Region'].unique()\n",
    "    columns_country_gdp=data_gdp['Country Name'].unique()\n",
    "\n",
    "    #Rename Mainland China, US, Uk\n",
    "    #columns_country[0]=\"China\"\n",
    "    columns_country[np.where(columns_country == 'Mainland China')]=\"China\"\n",
    "    columns_country[np.where(columns_country == 'UK')]=\"United Kingdom\"\n",
    "    columns_country[np.where(columns_country == 'US')]=\"United States\"\n",
    "    columns_country[np.where(columns_country == ' Azerbaijan')]=\"Azerbaijan\"\n",
    "    #exampleData.columns=columns_country\n",
    "    #Remove Others\n",
    "    columns_country=np.delete(columns_country,np.where(columns_country == 'Others'))\n",
    "\n",
    "\n",
    "    #Rename values in gdp list\n",
    "    data_gdp_filtered=data_gdp_filtered.replace(regex=['Korea, Rep.'], value='South Korea')\n",
    "    data_gdp_filtered=data_gdp_filtered.replace(regex=['Hong Kong SAR, China'], value='Hong Kong')\n",
    "    data_gdp_filtered=data_gdp_filtered.replace(regex=['Russian Federation'], value='Russia')\n",
    "    data_gdp_filtered=data_gdp_filtered.replace(regex=['Egypt, Arab Rep.'], value='Egypt')\n",
    "    data_gdp_filtered=data_gdp_filtered.replace(regex=['Iran, Islamic Rep.'], value='Iran')\n",
    "    data_gdp_filtered=data_gdp_filtered.replace(regex=['Macao SAR, China'], value='Macau')\n",
    "\n",
    "    #Filter all un wanted countries from the gdp dataframe base on countries included in corona virus data\n",
    "    data_gdp_filtered=filterByColumnValue(data_gdp_filtered,\"Country Name\",columns_country)\n",
    "    \n",
    "    print('GDP length: ',len(data_gdp_filtered),\"\\tExampleData length: \",len(columns_country))\n",
    "    #Check if values missing from list\n",
    "    for i in range(len(columns_country)):\n",
    "        if columns_country[i] not in data_gdp_filtered['Country Name'].values:\n",
    "            \n",
    "            print(columns_country[i],'\\t index: ',i)\n",
    "    \n",
    "    return data_gdp_filtered\n",
    "\n"
   ]
  },
  {
   "cell_type": "markdown",
   "metadata": {},
   "source": [
    "\n",
    "### Prepare GDP data"
   ]
  },
  {
   "cell_type": "code",
   "execution_count": 179,
   "metadata": {},
   "outputs": [
    {
     "name": "stdout",
     "output_type": "stream",
     "text": [
      "GDP length:  93 \tExampleData length:  98\n",
      "Taiwan \t index:  4\n",
      "Saint Barthelemy \t index:  78\n",
      "Palestine \t index:  85\n",
      "Slovakia \t index:  95\n",
      "Vatican City \t index:  97\n",
      "GDP length:  93 \tExampleData length:  98\n",
      "Taiwan \t index:  4\n",
      "Saint Barthelemy \t index:  78\n",
      "Palestine \t index:  85\n",
      "Slovakia \t index:  95\n",
      "Vatican City \t index:  97\n"
     ]
    }
   ],
   "source": [
    "#Prepared data\n",
    "data_gdp_filtered = PrepareGDPData(data_gdp,data_deaths).reset_index(drop=True)\n",
    "data_gdp_capita_filtered=PrepareGDPData(data_gdp_capita,data_deaths).reset_index(drop=True)\n",
    "\n",
    "data_gdp_filtered.rename(columns={'2017': 'GDP'}, inplace=True)\n",
    "data_gdp_capita_filtered.rename(columns={'2017': 'GDP/Capita'}, inplace=True)"
   ]
  },
  {
   "cell_type": "code",
   "execution_count": 180,
   "metadata": {},
   "outputs": [],
   "source": [
    "#print(data_gdp['Country Name'].unique())"
   ]
  },
  {
   "cell_type": "code",
   "execution_count": 181,
   "metadata": {},
   "outputs": [],
   "source": [
    "#data_gdp_capita_filtered"
   ]
  },
  {
   "cell_type": "code",
   "execution_count": 182,
   "metadata": {},
   "outputs": [],
   "source": [
    "#data_gdp_filtered"
   ]
  },
  {
   "cell_type": "markdown",
   "metadata": {},
   "source": [
    "\n",
    "## Temperature:"
   ]
  },
  {
   "cell_type": "code",
   "execution_count": 183,
   "metadata": {
    "scrolled": true
   },
   "outputs": [],
   "source": [
    "# Read Data\n",
    "filename_temperature_avg_2015=r'data/weather/temperatureData2015.csv'\n",
    "\n",
    "data_temperature_raw = pd.read_csv(filename_temperature_avg_2015,sep='\\t',index_col=None)\n",
    "#print(data_temperature_raw[47:])\n",
    "#print(data_gdp_filtered['Country Name'].values)\n",
    "\n",
    "#rename\n",
    "data_temperature_raw=data_temperature_raw.replace(regex=['Macedonia'], value='North Macedonia')"
   ]
  },
  {
   "cell_type": "code",
   "execution_count": 184,
   "metadata": {},
   "outputs": [
    {
     "name": "stdout",
     "output_type": "stream",
     "text": [
      "Gibraltar \t index:  35\n"
     ]
    }
   ],
   "source": [
    "data_temperature_filtered=filterByColumnValue(data_temperature_raw,\"Country\",data_gdp_filtered['Country Name'].unique()).reset_index(drop=True)\n",
    "j=0\n",
    "\n",
    "columns_country=data_gdp_filtered['Country Name'].unique()\n",
    "for i in range(len(columns_country)):\n",
    "    if columns_country[i] not in data_temperature_filtered['Country'].values:\n",
    "        print(columns_country[i],'\\t index: ',i)"
   ]
  },
  {
   "cell_type": "code",
   "execution_count": 185,
   "metadata": {},
   "outputs": [
    {
     "data": {
      "text/html": [
       "<div>\n",
       "<style scoped>\n",
       "    .dataframe tbody tr th:only-of-type {\n",
       "        vertical-align: middle;\n",
       "    }\n",
       "\n",
       "    .dataframe tbody tr th {\n",
       "        vertical-align: top;\n",
       "    }\n",
       "\n",
       "    .dataframe thead th {\n",
       "        text-align: right;\n",
       "    }\n",
       "</style>\n",
       "<table border=\"1\" class=\"dataframe\">\n",
       "  <thead>\n",
       "    <tr style=\"text-align: right;\">\n",
       "      <th></th>\n",
       "      <th>Country</th>\n",
       "      <th>Last</th>\n",
       "      <th>Date</th>\n",
       "      <th>Previous</th>\n",
       "      <th>Max</th>\n",
       "      <th>Min</th>\n",
       "      <th>Scale</th>\n",
       "    </tr>\n",
       "  </thead>\n",
       "  <tbody>\n",
       "    <tr>\n",
       "      <td>0</td>\n",
       "      <td>Afghanistan</td>\n",
       "      <td>2.88</td>\n",
       "      <td>Dec/15</td>\n",
       "      <td>7.73</td>\n",
       "      <td>28.53</td>\n",
       "      <td>-4.55</td>\n",
       "      <td>celsius</td>\n",
       "    </tr>\n",
       "    <tr>\n",
       "      <td>1</td>\n",
       "      <td>Algeria</td>\n",
       "      <td>13.35</td>\n",
       "      <td>Dec/15</td>\n",
       "      <td>18.21</td>\n",
       "      <td>35.83</td>\n",
       "      <td>9.53</td>\n",
       "      <td>celsius</td>\n",
       "    </tr>\n",
       "    <tr>\n",
       "      <td>2</td>\n",
       "      <td>Andorra</td>\n",
       "      <td>7.08</td>\n",
       "      <td>Dec/15</td>\n",
       "      <td>9.76</td>\n",
       "      <td>24.31</td>\n",
       "      <td>-0.92</td>\n",
       "      <td>celsius</td>\n",
       "    </tr>\n",
       "    <tr>\n",
       "      <td>3</td>\n",
       "      <td>Argentina</td>\n",
       "      <td>20.31</td>\n",
       "      <td>Dec/15</td>\n",
       "      <td>17.27</td>\n",
       "      <td>23.29</td>\n",
       "      <td>4.80</td>\n",
       "      <td>celsius</td>\n",
       "    </tr>\n",
       "    <tr>\n",
       "      <td>4</td>\n",
       "      <td>Armenia</td>\n",
       "      <td>-4.14</td>\n",
       "      <td>Dec/15</td>\n",
       "      <td>2.94</td>\n",
       "      <td>25.29</td>\n",
       "      <td>-10.28</td>\n",
       "      <td>celsius</td>\n",
       "    </tr>\n",
       "    <tr>\n",
       "      <td>...</td>\n",
       "      <td>...</td>\n",
       "      <td>...</td>\n",
       "      <td>...</td>\n",
       "      <td>...</td>\n",
       "      <td>...</td>\n",
       "      <td>...</td>\n",
       "      <td>...</td>\n",
       "    </tr>\n",
       "    <tr>\n",
       "      <td>87</td>\n",
       "      <td>Ukraine</td>\n",
       "      <td>1.52</td>\n",
       "      <td>Dec/15</td>\n",
       "      <td>5.15</td>\n",
       "      <td>24.30</td>\n",
       "      <td>-14.72</td>\n",
       "      <td>celsius</td>\n",
       "    </tr>\n",
       "    <tr>\n",
       "      <td>88</td>\n",
       "      <td>United Arab Emirates</td>\n",
       "      <td>20.76</td>\n",
       "      <td>Dec/15</td>\n",
       "      <td>24.98</td>\n",
       "      <td>37.75</td>\n",
       "      <td>15.74</td>\n",
       "      <td>celsius</td>\n",
       "    </tr>\n",
       "    <tr>\n",
       "      <td>89</td>\n",
       "      <td>United Kingdom</td>\n",
       "      <td>6.92</td>\n",
       "      <td>Dec/15</td>\n",
       "      <td>8.21</td>\n",
       "      <td>17.29</td>\n",
       "      <td>-1.47</td>\n",
       "      <td>celsius</td>\n",
       "    </tr>\n",
       "    <tr>\n",
       "      <td>90</td>\n",
       "      <td>United States</td>\n",
       "      <td>-1.42</td>\n",
       "      <td>Dec/15</td>\n",
       "      <td>2.45</td>\n",
       "      <td>23.01</td>\n",
       "      <td>-7.58</td>\n",
       "      <td>celsius</td>\n",
       "    </tr>\n",
       "    <tr>\n",
       "      <td>91</td>\n",
       "      <td>Vietnam</td>\n",
       "      <td>22.08</td>\n",
       "      <td>Dec/15</td>\n",
       "      <td>24.76</td>\n",
       "      <td>28.56</td>\n",
       "      <td>16.56</td>\n",
       "      <td>celsius</td>\n",
       "    </tr>\n",
       "  </tbody>\n",
       "</table>\n",
       "<p>92 rows × 7 columns</p>\n",
       "</div>"
      ],
      "text/plain": [
       "                 Country   Last    Date  Previous    Max    Min    Scale\n",
       "0            Afghanistan   2.88  Dec/15      7.73  28.53  -4.55  celsius\n",
       "1                Algeria  13.35  Dec/15     18.21  35.83   9.53  celsius\n",
       "2                Andorra   7.08  Dec/15      9.76  24.31  -0.92  celsius\n",
       "3              Argentina  20.31  Dec/15     17.27  23.29   4.80  celsius\n",
       "4                Armenia  -4.14  Dec/15      2.94  25.29 -10.28  celsius\n",
       "..                   ...    ...     ...       ...    ...    ...      ...\n",
       "87               Ukraine   1.52  Dec/15      5.15  24.30 -14.72  celsius\n",
       "88  United Arab Emirates  20.76  Dec/15     24.98  37.75  15.74  celsius\n",
       "89        United Kingdom   6.92  Dec/15      8.21  17.29  -1.47  celsius\n",
       "90         United States  -1.42  Dec/15      2.45  23.01  -7.58  celsius\n",
       "91               Vietnam  22.08  Dec/15     24.76  28.56  16.56  celsius\n",
       "\n",
       "[92 rows x 7 columns]"
      ]
     },
     "execution_count": 185,
     "metadata": {},
     "output_type": "execute_result"
    }
   ],
   "source": [
    "data_temperature_filtered"
   ]
  },
  {
   "cell_type": "code",
   "execution_count": 186,
   "metadata": {},
   "outputs": [
    {
     "name": "stderr",
     "output_type": "stream",
     "text": [
      "C:\\Users\\Yooru\\Anaconda3\\lib\\site-packages\\pandas\\core\\frame.py:4223: SettingWithCopyWarning:\n",
      "\n",
      "\n",
      "A value is trying to be set on a copy of a slice from a DataFrame\n",
      "\n",
      "See the caveats in the documentation: http://pandas.pydata.org/pandas-docs/stable/user_guide/indexing.html#returning-a-view-versus-a-copy\n",
      "\n"
     ]
    }
   ],
   "source": [
    "data_temperature_filtered=data_temperature_filtered[['Country','Last','Previous','Min','Max']]\n",
    "data_temperature_filtered.rename(columns={'Last':'Last Temperature',\n",
    "                                 'Previous':'Previous Temperature',\n",
    "                                 'Min':'Min temperature',\n",
    "                                 'Max':'Max Temperature'},inplace=True)"
   ]
  },
  {
   "cell_type": "markdown",
   "metadata": {},
   "source": [
    " "
   ]
  },
  {
   "cell_type": "markdown",
   "metadata": {},
   "source": [
    "## General data:"
   ]
  },
  {
   "cell_type": "code",
   "execution_count": 247,
   "metadata": {},
   "outputs": [],
   "source": [
    "# Read Data\n",
    "filename_general_country_raw=r'data/general data/kaggle_country_profile_variables_2017_massive.csv'\n",
    "\n",
    "data_general_country = pd.read_csv(filename_general_country_raw,sep=',',index_col=None)\n",
    "#print(data_gdp_filtered['Country Name'].values)\n",
    "#data_temperature_raw=data_temperature_raw.replace(regex=['Macedonia'], value='North Macedonia')\n",
    "\n"
   ]
  },
  {
   "cell_type": "code",
   "execution_count": 248,
   "metadata": {},
   "outputs": [
    {
     "data": {
      "text/html": [
       "<div>\n",
       "<style scoped>\n",
       "    .dataframe tbody tr th:only-of-type {\n",
       "        vertical-align: middle;\n",
       "    }\n",
       "\n",
       "    .dataframe tbody tr th {\n",
       "        vertical-align: top;\n",
       "    }\n",
       "\n",
       "    .dataframe thead th {\n",
       "        text-align: right;\n",
       "    }\n",
       "</style>\n",
       "<table border=\"1\" class=\"dataframe\">\n",
       "  <thead>\n",
       "    <tr style=\"text-align: right;\">\n",
       "      <th></th>\n",
       "      <th>country</th>\n",
       "      <th>Region</th>\n",
       "      <th>Surface area (km2)</th>\n",
       "      <th>Population in thousands (2017)</th>\n",
       "      <th>Population density (per km2, 2017)</th>\n",
       "      <th>Sex ratio (m per 100 f, 2017)</th>\n",
       "      <th>GDP: Gross domestic product (million current US$)</th>\n",
       "      <th>GDP growth rate (annual %, const. 2005 prices)</th>\n",
       "      <th>GDP per capita (current US$)</th>\n",
       "      <th>Economy: Agriculture (% of GVA)</th>\n",
       "      <th>...</th>\n",
       "      <th>Mobile-cellular subscriptions (per 100 inhabitants).1</th>\n",
       "      <th>Individuals using the Internet (per 100 inhabitants)</th>\n",
       "      <th>Threatened species (number)</th>\n",
       "      <th>Forested area (% of land area)</th>\n",
       "      <th>CO2 emission estimates (million tons/tons per capita)</th>\n",
       "      <th>Energy production, primary (Petajoules)</th>\n",
       "      <th>Energy supply per capita (Gigajoules)</th>\n",
       "      <th>Pop. using improved drinking water (urban/rural, %)</th>\n",
       "      <th>Pop. using improved sanitation facilities (urban/rural, %)</th>\n",
       "      <th>Net Official Development Assist. received (% of GNI)</th>\n",
       "    </tr>\n",
       "  </thead>\n",
       "  <tbody>\n",
       "    <tr>\n",
       "      <td>0</td>\n",
       "      <td>Afghanistan</td>\n",
       "      <td>SouthernAsia</td>\n",
       "      <td>652864</td>\n",
       "      <td>35530</td>\n",
       "      <td>54.4</td>\n",
       "      <td>106.3</td>\n",
       "      <td>20270</td>\n",
       "      <td>-2.4</td>\n",
       "      <td>623.2</td>\n",
       "      <td>23.3</td>\n",
       "      <td>...</td>\n",
       "      <td>8.3</td>\n",
       "      <td>42</td>\n",
       "      <td>2.1</td>\n",
       "      <td>9.8/0.3</td>\n",
       "      <td>63</td>\n",
       "      <td>5</td>\n",
       "      <td>78.2/47.0</td>\n",
       "      <td>45.1/27.0</td>\n",
       "      <td>21.43</td>\n",
       "      <td>-99</td>\n",
       "    </tr>\n",
       "    <tr>\n",
       "      <td>1</td>\n",
       "      <td>Albania</td>\n",
       "      <td>SouthernEurope</td>\n",
       "      <td>28748</td>\n",
       "      <td>2930</td>\n",
       "      <td>106.9</td>\n",
       "      <td>101.9</td>\n",
       "      <td>11541</td>\n",
       "      <td>2.6</td>\n",
       "      <td>3984.2</td>\n",
       "      <td>22.4</td>\n",
       "      <td>...</td>\n",
       "      <td>63.3</td>\n",
       "      <td>130</td>\n",
       "      <td>28.2</td>\n",
       "      <td>5.7/2.0</td>\n",
       "      <td>84</td>\n",
       "      <td>36</td>\n",
       "      <td>94.9/95.2</td>\n",
       "      <td>95.5/90.2</td>\n",
       "      <td>2.96</td>\n",
       "      <td>-99</td>\n",
       "    </tr>\n",
       "    <tr>\n",
       "      <td>2</td>\n",
       "      <td>Algeria</td>\n",
       "      <td>NorthernAfrica</td>\n",
       "      <td>2381741</td>\n",
       "      <td>41318</td>\n",
       "      <td>17.3</td>\n",
       "      <td>102.0</td>\n",
       "      <td>164779</td>\n",
       "      <td>3.8</td>\n",
       "      <td>4154.1</td>\n",
       "      <td>12.2</td>\n",
       "      <td>...</td>\n",
       "      <td>38.2</td>\n",
       "      <td>135</td>\n",
       "      <td>0.8</td>\n",
       "      <td>145.4/3.7</td>\n",
       "      <td>5900</td>\n",
       "      <td>55</td>\n",
       "      <td>84.3/81.8</td>\n",
       "      <td>89.8/82.2</td>\n",
       "      <td>0.05</td>\n",
       "      <td>-99</td>\n",
       "    </tr>\n",
       "    <tr>\n",
       "      <td>3</td>\n",
       "      <td>American Samoa</td>\n",
       "      <td>Polynesia</td>\n",
       "      <td>199</td>\n",
       "      <td>56</td>\n",
       "      <td>278.2</td>\n",
       "      <td>103.6</td>\n",
       "      <td>-99</td>\n",
       "      <td>-99</td>\n",
       "      <td>-99.0</td>\n",
       "      <td>-99</td>\n",
       "      <td>...</td>\n",
       "      <td>-99</td>\n",
       "      <td>92</td>\n",
       "      <td>87.9</td>\n",
       "      <td>-99</td>\n",
       "      <td>-99</td>\n",
       "      <td>-99</td>\n",
       "      <td>100.0/100.0</td>\n",
       "      <td>62.5/62.5</td>\n",
       "      <td>-99</td>\n",
       "      <td>-99</td>\n",
       "    </tr>\n",
       "    <tr>\n",
       "      <td>4</td>\n",
       "      <td>Andorra</td>\n",
       "      <td>SouthernEurope</td>\n",
       "      <td>468</td>\n",
       "      <td>77</td>\n",
       "      <td>163.8</td>\n",
       "      <td>102.3</td>\n",
       "      <td>2812</td>\n",
       "      <td>0.8</td>\n",
       "      <td>39896.4</td>\n",
       "      <td>0.5</td>\n",
       "      <td>...</td>\n",
       "      <td>96.9</td>\n",
       "      <td>13</td>\n",
       "      <td>34.0</td>\n",
       "      <td>0.5/6.4</td>\n",
       "      <td>1</td>\n",
       "      <td>119</td>\n",
       "      <td>100.0/100.0</td>\n",
       "      <td>100.0/100.0</td>\n",
       "      <td>-99</td>\n",
       "      <td>-99</td>\n",
       "    </tr>\n",
       "    <tr>\n",
       "      <td>...</td>\n",
       "      <td>...</td>\n",
       "      <td>...</td>\n",
       "      <td>...</td>\n",
       "      <td>...</td>\n",
       "      <td>...</td>\n",
       "      <td>...</td>\n",
       "      <td>...</td>\n",
       "      <td>...</td>\n",
       "      <td>...</td>\n",
       "      <td>...</td>\n",
       "      <td>...</td>\n",
       "      <td>...</td>\n",
       "      <td>...</td>\n",
       "      <td>...</td>\n",
       "      <td>...</td>\n",
       "      <td>...</td>\n",
       "      <td>...</td>\n",
       "      <td>...</td>\n",
       "      <td>...</td>\n",
       "      <td>...</td>\n",
       "      <td>...</td>\n",
       "    </tr>\n",
       "    <tr>\n",
       "      <td>224</td>\n",
       "      <td>Wallis and Futuna Islands</td>\n",
       "      <td>Polynesia</td>\n",
       "      <td>142</td>\n",
       "      <td>12</td>\n",
       "      <td>84.1</td>\n",
       "      <td>93.4</td>\n",
       "      <td>-99</td>\n",
       "      <td>-99</td>\n",
       "      <td>-99.0</td>\n",
       "      <td>-99</td>\n",
       "      <td>...</td>\n",
       "      <td>9.0</td>\n",
       "      <td>89</td>\n",
       "      <td>41.6</td>\n",
       "      <td>~0.0/1.6</td>\n",
       "      <td>-99</td>\n",
       "      <td>26</td>\n",
       "      <td>-99</td>\n",
       "      <td>-99</td>\n",
       "      <td>-99</td>\n",
       "      <td>-99</td>\n",
       "    </tr>\n",
       "    <tr>\n",
       "      <td>225</td>\n",
       "      <td>Western Sahara</td>\n",
       "      <td>NorthernAfrica</td>\n",
       "      <td>266000</td>\n",
       "      <td>553</td>\n",
       "      <td>2.1</td>\n",
       "      <td>110.1</td>\n",
       "      <td>-99</td>\n",
       "      <td>-99</td>\n",
       "      <td>-99.0</td>\n",
       "      <td>-99</td>\n",
       "      <td>...</td>\n",
       "      <td>-99</td>\n",
       "      <td>49</td>\n",
       "      <td>2.7</td>\n",
       "      <td>-99</td>\n",
       "      <td>-99</td>\n",
       "      <td>-99</td>\n",
       "      <td>-99</td>\n",
       "      <td>-99</td>\n",
       "      <td>-99</td>\n",
       "      <td>-99</td>\n",
       "    </tr>\n",
       "    <tr>\n",
       "      <td>226</td>\n",
       "      <td>Yemen</td>\n",
       "      <td>WesternAsia</td>\n",
       "      <td>527968</td>\n",
       "      <td>28250</td>\n",
       "      <td>53.5</td>\n",
       "      <td>102.1</td>\n",
       "      <td>29688</td>\n",
       "      <td>-28.1</td>\n",
       "      <td>1106.4</td>\n",
       "      <td>14.7</td>\n",
       "      <td>...</td>\n",
       "      <td>25.1</td>\n",
       "      <td>298</td>\n",
       "      <td>1.0</td>\n",
       "      <td>22.7/0.9</td>\n",
       "      <td>668</td>\n",
       "      <td>12</td>\n",
       "      <td>72.0/46.5</td>\n",
       "      <td>92.5/34.1</td>\n",
       "      <td>2.99</td>\n",
       "      <td>-99</td>\n",
       "    </tr>\n",
       "    <tr>\n",
       "      <td>227</td>\n",
       "      <td>Zambia</td>\n",
       "      <td>EasternAfrica</td>\n",
       "      <td>752612</td>\n",
       "      <td>17094</td>\n",
       "      <td>23.0</td>\n",
       "      <td>98.5</td>\n",
       "      <td>21255</td>\n",
       "      <td>2.9</td>\n",
       "      <td>1311.1</td>\n",
       "      <td>8.2</td>\n",
       "      <td>...</td>\n",
       "      <td>21.0</td>\n",
       "      <td>88</td>\n",
       "      <td>65.6</td>\n",
       "      <td>4.5/0.3</td>\n",
       "      <td>374</td>\n",
       "      <td>26</td>\n",
       "      <td>85.6/51.3</td>\n",
       "      <td>55.6/35.7</td>\n",
       "      <td>3.96</td>\n",
       "      <td>-99</td>\n",
       "    </tr>\n",
       "    <tr>\n",
       "      <td>228</td>\n",
       "      <td>Zimbabwe</td>\n",
       "      <td>EasternAfrica</td>\n",
       "      <td>390757</td>\n",
       "      <td>16530</td>\n",
       "      <td>42.7</td>\n",
       "      <td>95.0</td>\n",
       "      <td>13893</td>\n",
       "      <td>1.1</td>\n",
       "      <td>890.4</td>\n",
       "      <td>13.0</td>\n",
       "      <td>...</td>\n",
       "      <td>16.4</td>\n",
       "      <td>89</td>\n",
       "      <td>37.2</td>\n",
       "      <td>12.0/0.8</td>\n",
       "      <td>482</td>\n",
       "      <td>30</td>\n",
       "      <td>97.0/67.3</td>\n",
       "      <td>49.3/30.8</td>\n",
       "      <td>6.00</td>\n",
       "      <td>-99</td>\n",
       "    </tr>\n",
       "  </tbody>\n",
       "</table>\n",
       "<p>229 rows × 50 columns</p>\n",
       "</div>"
      ],
      "text/plain": [
       "                       country          Region Surface area (km2)  \\\n",
       "0                  Afghanistan    SouthernAsia             652864   \n",
       "1                      Albania  SouthernEurope              28748   \n",
       "2                      Algeria  NorthernAfrica            2381741   \n",
       "3               American Samoa       Polynesia                199   \n",
       "4                      Andorra  SouthernEurope                468   \n",
       "..                         ...             ...                ...   \n",
       "224  Wallis and Futuna Islands       Polynesia                142   \n",
       "225             Western Sahara  NorthernAfrica             266000   \n",
       "226                      Yemen     WesternAsia             527968   \n",
       "227                     Zambia   EasternAfrica             752612   \n",
       "228                   Zimbabwe   EasternAfrica             390757   \n",
       "\n",
       "     Population in thousands (2017)  Population density (per km2, 2017)  \\\n",
       "0                             35530                                54.4   \n",
       "1                              2930                               106.9   \n",
       "2                             41318                                17.3   \n",
       "3                                56                               278.2   \n",
       "4                                77                               163.8   \n",
       "..                              ...                                 ...   \n",
       "224                              12                                84.1   \n",
       "225                             553                                 2.1   \n",
       "226                           28250                                53.5   \n",
       "227                           17094                                23.0   \n",
       "228                           16530                                42.7   \n",
       "\n",
       "     Sex ratio (m per 100 f, 2017)  \\\n",
       "0                            106.3   \n",
       "1                            101.9   \n",
       "2                            102.0   \n",
       "3                            103.6   \n",
       "4                            102.3   \n",
       "..                             ...   \n",
       "224                           93.4   \n",
       "225                          110.1   \n",
       "226                          102.1   \n",
       "227                           98.5   \n",
       "228                           95.0   \n",
       "\n",
       "     GDP: Gross domestic product (million current US$)  \\\n",
       "0                                                20270   \n",
       "1                                                11541   \n",
       "2                                               164779   \n",
       "3                                                  -99   \n",
       "4                                                 2812   \n",
       "..                                                 ...   \n",
       "224                                                -99   \n",
       "225                                                -99   \n",
       "226                                              29688   \n",
       "227                                              21255   \n",
       "228                                              13893   \n",
       "\n",
       "    GDP growth rate (annual %, const. 2005 prices)  \\\n",
       "0                                             -2.4   \n",
       "1                                              2.6   \n",
       "2                                              3.8   \n",
       "3                                              -99   \n",
       "4                                              0.8   \n",
       "..                                             ...   \n",
       "224                                            -99   \n",
       "225                                            -99   \n",
       "226                                          -28.1   \n",
       "227                                            2.9   \n",
       "228                                            1.1   \n",
       "\n",
       "     GDP per capita (current US$) Economy: Agriculture (% of GVA)  ...  \\\n",
       "0                           623.2                            23.3  ...   \n",
       "1                          3984.2                            22.4  ...   \n",
       "2                          4154.1                            12.2  ...   \n",
       "3                           -99.0                             -99  ...   \n",
       "4                         39896.4                             0.5  ...   \n",
       "..                            ...                             ...  ...   \n",
       "224                         -99.0                             -99  ...   \n",
       "225                         -99.0                             -99  ...   \n",
       "226                        1106.4                            14.7  ...   \n",
       "227                        1311.1                             8.2  ...   \n",
       "228                         890.4                            13.0  ...   \n",
       "\n",
       "     Mobile-cellular subscriptions (per 100 inhabitants).1  \\\n",
       "0                                                  8.3       \n",
       "1                                                 63.3       \n",
       "2                                                 38.2       \n",
       "3                                                  -99       \n",
       "4                                                 96.9       \n",
       "..                                                 ...       \n",
       "224                                                9.0       \n",
       "225                                                -99       \n",
       "226                                               25.1       \n",
       "227                                               21.0       \n",
       "228                                               16.4       \n",
       "\n",
       "     Individuals using the Internet (per 100 inhabitants)  \\\n",
       "0                                                   42      \n",
       "1                                                  130      \n",
       "2                                                  135      \n",
       "3                                                   92      \n",
       "4                                                   13      \n",
       "..                                                 ...      \n",
       "224                                                 89      \n",
       "225                                                 49      \n",
       "226                                                298      \n",
       "227                                                 88      \n",
       "228                                                 89      \n",
       "\n",
       "    Threatened species (number) Forested area (% of land area)  \\\n",
       "0                           2.1                        9.8/0.3   \n",
       "1                          28.2                        5.7/2.0   \n",
       "2                           0.8                      145.4/3.7   \n",
       "3                          87.9                            -99   \n",
       "4                          34.0                        0.5/6.4   \n",
       "..                          ...                            ...   \n",
       "224                        41.6                       ~0.0/1.6   \n",
       "225                         2.7                            -99   \n",
       "226                         1.0                       22.7/0.9   \n",
       "227                        65.6                        4.5/0.3   \n",
       "228                        37.2                       12.0/0.8   \n",
       "\n",
       "    CO2 emission estimates (million tons/tons per capita)  \\\n",
       "0                                                   63      \n",
       "1                                                   84      \n",
       "2                                                 5900      \n",
       "3                                                  -99      \n",
       "4                                                    1      \n",
       "..                                                 ...      \n",
       "224                                                -99      \n",
       "225                                                -99      \n",
       "226                                                668      \n",
       "227                                                374      \n",
       "228                                                482      \n",
       "\n",
       "    Energy production, primary (Petajoules)  \\\n",
       "0                                         5   \n",
       "1                                        36   \n",
       "2                                        55   \n",
       "3                                       -99   \n",
       "4                                       119   \n",
       "..                                      ...   \n",
       "224                                      26   \n",
       "225                                     -99   \n",
       "226                                      12   \n",
       "227                                      26   \n",
       "228                                      30   \n",
       "\n",
       "    Energy supply per capita (Gigajoules)  \\\n",
       "0                               78.2/47.0   \n",
       "1                               94.9/95.2   \n",
       "2                               84.3/81.8   \n",
       "3                             100.0/100.0   \n",
       "4                             100.0/100.0   \n",
       "..                                    ...   \n",
       "224                                   -99   \n",
       "225                                   -99   \n",
       "226                             72.0/46.5   \n",
       "227                             85.6/51.3   \n",
       "228                             97.0/67.3   \n",
       "\n",
       "     Pop. using improved drinking water (urban/rural, %)  \\\n",
       "0                                            45.1/27.0     \n",
       "1                                            95.5/90.2     \n",
       "2                                            89.8/82.2     \n",
       "3                                            62.5/62.5     \n",
       "4                                          100.0/100.0     \n",
       "..                                                 ...     \n",
       "224                                                -99     \n",
       "225                                                -99     \n",
       "226                                          92.5/34.1     \n",
       "227                                          55.6/35.7     \n",
       "228                                          49.3/30.8     \n",
       "\n",
       "     Pop. using improved sanitation facilities (urban/rural, %)  \\\n",
       "0                                                21.43            \n",
       "1                                                 2.96            \n",
       "2                                                 0.05            \n",
       "3                                                  -99            \n",
       "4                                                  -99            \n",
       "..                                                 ...            \n",
       "224                                                -99            \n",
       "225                                                -99            \n",
       "226                                               2.99            \n",
       "227                                               3.96            \n",
       "228                                               6.00            \n",
       "\n",
       "    Net Official Development Assist. received (% of GNI)  \n",
       "0                                                  -99    \n",
       "1                                                  -99    \n",
       "2                                                  -99    \n",
       "3                                                  -99    \n",
       "4                                                  -99    \n",
       "..                                                 ...    \n",
       "224                                                -99    \n",
       "225                                                -99    \n",
       "226                                                -99    \n",
       "227                                                -99    \n",
       "228                                                -99    \n",
       "\n",
       "[229 rows x 50 columns]"
      ]
     },
     "execution_count": 248,
     "metadata": {},
     "output_type": "execute_result"
    }
   ],
   "source": [
    "data_general_country"
   ]
  },
  {
   "cell_type": "code",
   "execution_count": 249,
   "metadata": {},
   "outputs": [],
   "source": [
    "#Rename columns\n",
    "data_general_country['country'].replace({\n",
    "    'China': 'China',\n",
    "    'Russian Federation': 'Russia', \n",
    "    'China, Hong Kong SAR': 'Hong Kong', \n",
    "    'Republic of Korea': 'South Korea', \n",
    "    'Iran (Islamic Republic of)': 'Iran',\n",
    "    'The former Yugoslav Republic of Macedonia' : 'North Macedonia',\n",
    "    'Czechia' : 'Czech Republic',\n",
    "    'China, Macao SAR' : 'Macau',\n",
    "    'United States of America':'United States',\n",
    "    'Viet Nam' : 'Vietnam'},inplace=True)\n",
    "\n",
    "#Choose countries that can be found from temperature data\n",
    "data_general_filtered=filterByColumnValue(data_general_country,\"country\",data_temperature_filtered['Country'].unique()).reset_index(drop=True)\n",
    "\n",
    "#Filter unwanted columns from the dataframe\n",
    "data_general_filtered=data_general_filtered[\n",
    "    ['country','Population density (per km2, 2017)',\n",
    "     'GDP per capita (current US$)',\n",
    "    'Unemployment (% of labour force)',\n",
    "    'Population age distribution (0-14 / 60+ years, %)',\n",
    "    'Urban population (% of total population)',\n",
    "     'Life expectancy at birth (females/males, years)',\n",
    "     'Refugees and others of concern to UNHCR (in thousands)',\n",
    "     'Health: Physicians (per 1000 pop.)',\n",
    "     'Health: Total expenditure (% of GDP)']]\n",
    "\n",
    "\n",
    "\n",
    "columns_country=data_temperature_filtered['Country'].unique()\n",
    "for i in range(len(columns_country)):\n",
    "    if columns_country[i] not in data_general_filtered['country'].values:\n",
    "        print(columns_country[i],'\\t index: ',i)"
   ]
  },
  {
   "cell_type": "code",
   "execution_count": null,
   "metadata": {},
   "outputs": [],
   "source": []
  },
  {
   "cell_type": "code",
   "execution_count": 250,
   "metadata": {},
   "outputs": [
    {
     "data": {
      "text/html": [
       "<div>\n",
       "<style scoped>\n",
       "    .dataframe tbody tr th:only-of-type {\n",
       "        vertical-align: middle;\n",
       "    }\n",
       "\n",
       "    .dataframe tbody tr th {\n",
       "        vertical-align: top;\n",
       "    }\n",
       "\n",
       "    .dataframe thead th {\n",
       "        text-align: right;\n",
       "    }\n",
       "</style>\n",
       "<table border=\"1\" class=\"dataframe\">\n",
       "  <thead>\n",
       "    <tr style=\"text-align: right;\">\n",
       "      <th></th>\n",
       "      <th>country</th>\n",
       "      <th>Population density (per km2, 2017)</th>\n",
       "      <th>GDP per capita (current US$)</th>\n",
       "      <th>Unemployment (% of labour force)</th>\n",
       "      <th>Population age distribution (0-14 / 60+ years, %)</th>\n",
       "      <th>Urban population (% of total population)</th>\n",
       "      <th>Life expectancy at birth (females/males, years)</th>\n",
       "      <th>Refugees and others of concern to UNHCR (in thousands)</th>\n",
       "      <th>Health: Physicians (per 1000 pop.)</th>\n",
       "      <th>Health: Total expenditure (% of GDP)</th>\n",
       "    </tr>\n",
       "  </thead>\n",
       "  <tbody>\n",
       "    <tr>\n",
       "      <td>0</td>\n",
       "      <td>Afghanistan</td>\n",
       "      <td>54.4</td>\n",
       "      <td>623.2</td>\n",
       "      <td>8.6</td>\n",
       "      <td>43.2/4.1</td>\n",
       "      <td>26.7</td>\n",
       "      <td>63.5/61.0</td>\n",
       "      <td>1513.1</td>\n",
       "      <td>0.3</td>\n",
       "      <td>8.2</td>\n",
       "    </tr>\n",
       "    <tr>\n",
       "      <td>1</td>\n",
       "      <td>Algeria</td>\n",
       "      <td>17.3</td>\n",
       "      <td>4154.1</td>\n",
       "      <td>11.4</td>\n",
       "      <td>29.3/9.4</td>\n",
       "      <td>70.7</td>\n",
       "      <td>76.5/74.1</td>\n",
       "      <td>99.8</td>\n",
       "      <td>...</td>\n",
       "      <td>7.2</td>\n",
       "    </tr>\n",
       "    <tr>\n",
       "      <td>2</td>\n",
       "      <td>Andorra</td>\n",
       "      <td>163.8</td>\n",
       "      <td>39896.4</td>\n",
       "      <td>-99</td>\n",
       "      <td>14.4/19.0</td>\n",
       "      <td>85.1</td>\n",
       "      <td>-99</td>\n",
       "      <td>-99</td>\n",
       "      <td>3.7</td>\n",
       "      <td>8.1</td>\n",
       "    </tr>\n",
       "    <tr>\n",
       "      <td>3</td>\n",
       "      <td>Argentina</td>\n",
       "      <td>16.2</td>\n",
       "      <td>14564.5</td>\n",
       "      <td>6.5</td>\n",
       "      <td>24.9/15.4</td>\n",
       "      <td>91.8</td>\n",
       "      <td>79.8/72.2</td>\n",
       "      <td>5.0</td>\n",
       "      <td>3.8</td>\n",
       "      <td>4.8</td>\n",
       "    </tr>\n",
       "    <tr>\n",
       "      <td>4</td>\n",
       "      <td>Armenia</td>\n",
       "      <td>102.9</td>\n",
       "      <td>3489.1</td>\n",
       "      <td>16.6</td>\n",
       "      <td>20.0/16.9</td>\n",
       "      <td>62.7</td>\n",
       "      <td>77.0/70.6</td>\n",
       "      <td>19.3</td>\n",
       "      <td>2.8</td>\n",
       "      <td>4.5</td>\n",
       "    </tr>\n",
       "    <tr>\n",
       "      <td>...</td>\n",
       "      <td>...</td>\n",
       "      <td>...</td>\n",
       "      <td>...</td>\n",
       "      <td>...</td>\n",
       "      <td>...</td>\n",
       "      <td>...</td>\n",
       "      <td>...</td>\n",
       "      <td>...</td>\n",
       "      <td>...</td>\n",
       "      <td>...</td>\n",
       "    </tr>\n",
       "    <tr>\n",
       "      <td>87</td>\n",
       "      <td>Ukraine</td>\n",
       "      <td>76.3</td>\n",
       "      <td>2021.6</td>\n",
       "      <td>8.8</td>\n",
       "      <td>15.5/23.2</td>\n",
       "      <td>69.7</td>\n",
       "      <td>76.0/66.1</td>\n",
       "      <td>1644.8</td>\n",
       "      <td>3.0</td>\n",
       "      <td>7.1</td>\n",
       "    </tr>\n",
       "    <tr>\n",
       "      <td>88</td>\n",
       "      <td>United Arab Emirates</td>\n",
       "      <td>112.4</td>\n",
       "      <td>40438.8</td>\n",
       "      <td>3.7</td>\n",
       "      <td>13.9/2.4</td>\n",
       "      <td>85.5</td>\n",
       "      <td>78.2/76.0</td>\n",
       "      <td>1.3</td>\n",
       "      <td>1.6</td>\n",
       "      <td>3.6</td>\n",
       "    </tr>\n",
       "    <tr>\n",
       "      <td>89</td>\n",
       "      <td>United Kingdom</td>\n",
       "      <td>273.6</td>\n",
       "      <td>44162.4</td>\n",
       "      <td>5.0</td>\n",
       "      <td>17.7/23.9</td>\n",
       "      <td>82.6</td>\n",
       "      <td>82.8/79.0</td>\n",
       "      <td>151.7</td>\n",
       "      <td>2.8</td>\n",
       "      <td>9.1</td>\n",
       "    </tr>\n",
       "    <tr>\n",
       "      <td>90</td>\n",
       "      <td>United States</td>\n",
       "      <td>35.5</td>\n",
       "      <td>56053.8</td>\n",
       "      <td>4.9</td>\n",
       "      <td>18.9/21.5</td>\n",
       "      <td>81.6</td>\n",
       "      <td>81.2/76.5</td>\n",
       "      <td>616.5</td>\n",
       "      <td>2.6</td>\n",
       "      <td>17.1</td>\n",
       "    </tr>\n",
       "    <tr>\n",
       "      <td>91</td>\n",
       "      <td>Vietnam</td>\n",
       "      <td>308.1</td>\n",
       "      <td>2067.9</td>\n",
       "      <td>2.2</td>\n",
       "      <td>23.1/11.1</td>\n",
       "      <td>33.6</td>\n",
       "      <td>80.3/70.7</td>\n",
       "      <td>11.0</td>\n",
       "      <td>1.2</td>\n",
       "      <td>7.1</td>\n",
       "    </tr>\n",
       "  </tbody>\n",
       "</table>\n",
       "<p>92 rows × 10 columns</p>\n",
       "</div>"
      ],
      "text/plain": [
       "                 country  Population density (per km2, 2017)  \\\n",
       "0            Afghanistan                                54.4   \n",
       "1                Algeria                                17.3   \n",
       "2                Andorra                               163.8   \n",
       "3              Argentina                                16.2   \n",
       "4                Armenia                               102.9   \n",
       "..                   ...                                 ...   \n",
       "87               Ukraine                                76.3   \n",
       "88  United Arab Emirates                               112.4   \n",
       "89        United Kingdom                               273.6   \n",
       "90         United States                                35.5   \n",
       "91               Vietnam                               308.1   \n",
       "\n",
       "    GDP per capita (current US$) Unemployment (% of labour force)  \\\n",
       "0                          623.2                              8.6   \n",
       "1                         4154.1                             11.4   \n",
       "2                        39896.4                              -99   \n",
       "3                        14564.5                              6.5   \n",
       "4                         3489.1                             16.6   \n",
       "..                           ...                              ...   \n",
       "87                        2021.6                              8.8   \n",
       "88                       40438.8                              3.7   \n",
       "89                       44162.4                              5.0   \n",
       "90                       56053.8                              4.9   \n",
       "91                        2067.9                              2.2   \n",
       "\n",
       "   Population age distribution (0-14 / 60+ years, %)  \\\n",
       "0                                           43.2/4.1   \n",
       "1                                           29.3/9.4   \n",
       "2                                          14.4/19.0   \n",
       "3                                          24.9/15.4   \n",
       "4                                          20.0/16.9   \n",
       "..                                               ...   \n",
       "87                                         15.5/23.2   \n",
       "88                                          13.9/2.4   \n",
       "89                                         17.7/23.9   \n",
       "90                                         18.9/21.5   \n",
       "91                                         23.1/11.1   \n",
       "\n",
       "    Urban population (% of total population)  \\\n",
       "0                                       26.7   \n",
       "1                                       70.7   \n",
       "2                                       85.1   \n",
       "3                                       91.8   \n",
       "4                                       62.7   \n",
       "..                                       ...   \n",
       "87                                      69.7   \n",
       "88                                      85.5   \n",
       "89                                      82.6   \n",
       "90                                      81.6   \n",
       "91                                      33.6   \n",
       "\n",
       "   Life expectancy at birth (females/males, years)  \\\n",
       "0                                        63.5/61.0   \n",
       "1                                        76.5/74.1   \n",
       "2                                              -99   \n",
       "3                                        79.8/72.2   \n",
       "4                                        77.0/70.6   \n",
       "..                                             ...   \n",
       "87                                       76.0/66.1   \n",
       "88                                       78.2/76.0   \n",
       "89                                       82.8/79.0   \n",
       "90                                       81.2/76.5   \n",
       "91                                       80.3/70.7   \n",
       "\n",
       "   Refugees and others of concern to UNHCR (in thousands)  \\\n",
       "0                                              1513.1       \n",
       "1                                                99.8       \n",
       "2                                                 -99       \n",
       "3                                                 5.0       \n",
       "4                                                19.3       \n",
       "..                                                ...       \n",
       "87                                             1644.8       \n",
       "88                                                1.3       \n",
       "89                                              151.7       \n",
       "90                                              616.5       \n",
       "91                                               11.0       \n",
       "\n",
       "   Health: Physicians (per 1000 pop.)  Health: Total expenditure (% of GDP)  \n",
       "0                                 0.3                                   8.2  \n",
       "1                                 ...                                   7.2  \n",
       "2                                 3.7                                   8.1  \n",
       "3                                 3.8                                   4.8  \n",
       "4                                 2.8                                   4.5  \n",
       "..                                ...                                   ...  \n",
       "87                                3.0                                   7.1  \n",
       "88                                1.6                                   3.6  \n",
       "89                                2.8                                   9.1  \n",
       "90                                2.6                                  17.1  \n",
       "91                                1.2                                   7.1  \n",
       "\n",
       "[92 rows x 10 columns]"
      ]
     },
     "execution_count": 250,
     "metadata": {},
     "output_type": "execute_result"
    }
   ],
   "source": [
    "data_general_filtered\n"
   ]
  },
  {
   "cell_type": "code",
   "execution_count": null,
   "metadata": {},
   "outputs": [],
   "source": []
  },
  {
   "cell_type": "markdown",
   "metadata": {},
   "source": [
    "## Smoking Data, data, data ,data\n",
    "-worldpopulation review"
   ]
  },
  {
   "cell_type": "code",
   "execution_count": 272,
   "metadata": {},
   "outputs": [],
   "source": [
    "# Read smoking Data 1\n",
    "smoking=r'data/health/smoking_data_worldpopulationreview_com.csv'\n",
    "\n",
    "smoking_data = pd.read_csv(filename_general_country_raw,sep=',',index_col=None)\n",
    "smoking_filtered=filterByColumnValue(data_smoking_country,\"name\",X['Country'].unique()).reset_index(drop=True)\n",
    "\n",
    "#Read happiness Data 2\n",
    "happiness=r'data/happiness/Happiness By Country 2020 - worldpopulationreview.csv'\n",
    "\n",
    "happiness_data = pd.read_csv(filename_general_country_raw,sep=',',index_col=None)\n",
    "happiness_filtered=filterByColumnValue(data_smoking_country,\"name\",X['Country'].unique()).reset_index(drop=True)\n",
    "\n",
    "#Read crime rate by country Data 3\n",
    "crimerate=r'data/crime/Crime Rate By Country 2020 - worldpopulationreview.csv'\n",
    "\n",
    "crimerate_data = pd.read_csv(filename_general_country_raw,sep=',',index_col=None)\n",
    "crimerate_filtered=filterByColumnValue(data_smoking_country,\"name\",X['Country'].unique()).reset_index(drop=True)\n",
    "\n",
    "#Read most visited countries Data 4\n",
    "tourism=r'data/tourism/Most Visited Countries 2020 - worldpopultaionreview.csv'\n",
    "\n",
    "tourism_data = pd.read_csv(filename_general_country_raw,sep=',',index_col=None)\n",
    "tourism_filtered=filterByColumnValue(data_smoking_country,\"name\",X['Country'].unique()).reset_index(drop=True)\n",
    "\n",
    "#Read average temperature Data 5\n",
    "tempAVG=r'data/weather/Hottest Countries In The World - worldpopulationreview.csv'\n",
    "\n",
    "tempAVG_data = pd.read_csv(filename_general_country_raw,sep=',',index_col=None)\n",
    "tempAVG_filtered=filterByColumnValue(data_smoking_country,\"name\",X['Country'].unique()).reset_index(drop=True)\n",
    "\n",
    "#Read tuberculosis Data 6\n",
    "tuberculosis=r'data/health/tuberculosis_2018_worldbank.csv'\n",
    "\n",
    "tuberculosis_data = pd.read_csv(filename_general_country_raw,sep=',',index_col=None)\n",
    "tuberculosis_filtered=filterByColumnValue(data_smoking_country,\"name\",X['Country'].unique()).reset_index(drop=True)\n",
    "\n"
   ]
  },
  {
   "cell_type": "markdown",
   "metadata": {},
   "source": [
    "### Smoking"
   ]
  },
  {
   "cell_type": "code",
   "execution_count": 273,
   "metadata": {},
   "outputs": [
    {
     "name": "stdout",
     "output_type": "stream",
     "text": [
      "Faroe Islands \t index:  28\n",
      "Hong Kong \t index:  34\n",
      "Macau \t index:  52\n",
      "North Macedonia \t index:  61\n"
     ]
    }
   ],
   "source": [
    "smoking_x=data_smoking_country.iloc[:,:-1]\n",
    "smoking_x=filterByColumnValue(data_smoking_country,\"name\",X['Country'].unique()).reset_index(drop=True)\n",
    "smoking_x\n",
    "\n",
    "\n",
    "for i in range(len(X['Country'].values)):\n",
    "    if X['Country'].values[i] not in smoking_x['name'].values:\n",
    "\n",
    "        print(X['Country'].values[i],'\\t index: ',i)"
   ]
  },
  {
   "cell_type": "code",
   "execution_count": null,
   "metadata": {},
   "outputs": [],
   "source": []
  },
  {
   "cell_type": "markdown",
   "metadata": {},
   "source": [
    "# Make Combined Data Set"
   ]
  },
  {
   "cell_type": "code",
   "execution_count": 191,
   "metadata": {},
   "outputs": [],
   "source": [
    "#Function for initialazising Corona Virus original Data\n",
    "def Prepare_TSet(dataSet, filter_value,info):    \n",
    "    dataSet=dataSet[data_deaths.iloc[:,-1] >= filter_value]\n",
    "\n",
    "    #Store Unique Column Values from country/region\n",
    "    columns_country=dataSet['Country/Region'].unique()\n",
    "    #print(columns_country)\n",
    "\n",
    "    #Make Data set which contains latest death counts by country\n",
    "    latest_count=pd.concat([dataSet['Country/Region'],dataSet.iloc[:,-1]], axis=1)\n",
    "\n",
    "    #Make empy dataframe\n",
    "    X=pd.DataFrame()\n",
    "\n",
    "    #Calculate total death count in each country and append results on the graph_death dataframe\n",
    "    for i in range (len(columns_country)):\n",
    "        pickedCountry=filterByColumnValue(latest_count,\"Country/Region\",[columns_country[i]])\n",
    "        caseCount=pickedCountry.iloc[:,1:].sum(axis = 0, skipna = True)\n",
    "        X = X.append(caseCount,ignore_index=True)\n",
    "\n",
    "    #add country names to df\n",
    "    X.insert(0, 'Country', columns_country)\n",
    "    X.rename(columns={X.columns.values[1]:info}, inplace=True)\n",
    "    \n",
    "    #Rename cells from column Country\n",
    "    X['Country'].replace({'Mainland China': 'China', 'UK': 'United Kingdom', 'US': 'United States', ' Azerbaijan': 'Azerbaijan'},inplace=True)\n",
    "    \n",
    "    return X"
   ]
  },
  {
   "cell_type": "markdown",
   "metadata": {},
   "source": [
    "### Initialize Dataframes for combining"
   ]
  },
  {
   "cell_type": "code",
   "execution_count": 192,
   "metadata": {},
   "outputs": [],
   "source": [
    "#Initialize dataFrames\n",
    "data_x1=Prepare_TSet(data_deaths,0,\"Deaths\")\n",
    "data_x2=Prepare_TSet(data_confirmed,0,\"Confirmed\")\n",
    "data_x3=Prepare_TSet(data_recovered,0,\"Recovered\")\n",
    "\n",
    "#Sort data\n",
    "data_x1.sort_values(by=['Country'],inplace=True)\n",
    "data_x2.sort_values(by=['Country'],inplace=True)\n",
    "data_x3.sort_values(by=['Country'],inplace=True)\n",
    "\n",
    "df_general=data_general_filtered.sort_values(by=['country'])\n",
    "df_temperature=data_temperature_filtered.sort_values(by=['Country'])"
   ]
  },
  {
   "cell_type": "code",
   "execution_count": 193,
   "metadata": {},
   "outputs": [],
   "source": [
    "#Remove Countries which for we don't have data\n",
    "data_x1=filterByColumnValue(data_x1,\"Country\",data_general_filtered['country'].unique()).reset_index(drop=True)\n",
    "data_x2=filterByColumnValue(data_x2,\"Country\",data_general_filtered['country'].unique()).reset_index(drop=True)\n",
    "data_x3=filterByColumnValue(data_x3,\"Country\",data_general_filtered['country'].unique()).reset_index(drop=True)\n"
   ]
  },
  {
   "cell_type": "markdown",
   "metadata": {},
   "source": [
    "### Split Cells with double values\n",
    "\n",
    "In general data were two columns which had two informative values(separator: /):<br>\n",
    "-Population age distribution (0-14 / 60+ years, %)<br>\n",
    "-Life expectancy at birth (females/males, years)<br>"
   ]
  },
  {
   "cell_type": "code",
   "execution_count": 194,
   "metadata": {},
   "outputs": [],
   "source": [
    "\n",
    "#Split ageDistribution column\n",
    "age_distribution=df_general[\"Population age distribution (0-14 / 60+ years, %)\"].str.split(\"/\", n=1, expand=True)\n",
    "age_distribution.columns=['Age 0-14(%)','Age 60+(%)']\n",
    "#drop originaL\n",
    "df_general=data_general_filtered.drop([\"Population age distribution (0-14 / 60+ years, %)\"],axis=1,inplace=True)\n",
    "\n",
    "#Split ageDistribution column\n",
    "life_expectancy=data_general_filtered[\"Life expectancy at birth (females/males, years)\"].str.split(\"/\", n=1, expand=True)\n",
    "life_expectancy.columns=['Life expectancy(W)','Life expectancy(M)']\n",
    "#Drop original\n",
    "df_general=data_general_filtered.drop(['Life expectancy at birth (females/males, years)'],axis=1,inplace=True)"
   ]
  },
  {
   "cell_type": "code",
   "execution_count": null,
   "metadata": {},
   "outputs": [],
   "source": []
  },
  {
   "cell_type": "code",
   "execution_count": 263,
   "metadata": {},
   "outputs": [
    {
     "data": {
      "text/html": [
       "<div>\n",
       "<style scoped>\n",
       "    .dataframe tbody tr th:only-of-type {\n",
       "        vertical-align: middle;\n",
       "    }\n",
       "\n",
       "    .dataframe tbody tr th {\n",
       "        vertical-align: top;\n",
       "    }\n",
       "\n",
       "    .dataframe thead th {\n",
       "        text-align: right;\n",
       "    }\n",
       "</style>\n",
       "<table border=\"1\" class=\"dataframe\">\n",
       "  <thead>\n",
       "    <tr style=\"text-align: right;\">\n",
       "      <th></th>\n",
       "      <th>Country</th>\n",
       "      <th>Deaths</th>\n",
       "      <th>Confirmed</th>\n",
       "      <th>Recovered</th>\n",
       "      <th>Population density (per km2, 2017)</th>\n",
       "      <th>GDP per capita (current US$)</th>\n",
       "      <th>Unemployment (% of labour force)</th>\n",
       "      <th>Urban population (% of total population)</th>\n",
       "      <th>Refugees and others of concern to UNHCR (in thousands)</th>\n",
       "      <th>Health: Physicians (per 1000 pop.)</th>\n",
       "      <th>Health: Total expenditure (% of GDP)</th>\n",
       "      <th>Life expectancy(W)</th>\n",
       "      <th>Life expectancy(M)</th>\n",
       "      <th>Age 0-14(%)</th>\n",
       "      <th>Age 60+(%)</th>\n",
       "      <th>Last Temperature</th>\n",
       "      <th>Previous Temperature</th>\n",
       "      <th>Min temperature</th>\n",
       "      <th>Max Temperature</th>\n",
       "    </tr>\n",
       "  </thead>\n",
       "  <tbody>\n",
       "    <tr>\n",
       "      <td>0</td>\n",
       "      <td>Afghanistan</td>\n",
       "      <td>0.0</td>\n",
       "      <td>1.0</td>\n",
       "      <td>0.0</td>\n",
       "      <td>54.4</td>\n",
       "      <td>623.2</td>\n",
       "      <td>8.6</td>\n",
       "      <td>26.7</td>\n",
       "      <td>1513.1</td>\n",
       "      <td>0.3</td>\n",
       "      <td>8.2</td>\n",
       "      <td>63.5</td>\n",
       "      <td>61.0</td>\n",
       "      <td>43.2</td>\n",
       "      <td>4.1</td>\n",
       "      <td>2.88</td>\n",
       "      <td>7.73</td>\n",
       "      <td>-4.55</td>\n",
       "      <td>28.53</td>\n",
       "    </tr>\n",
       "    <tr>\n",
       "      <td>1</td>\n",
       "      <td>Algeria</td>\n",
       "      <td>0.0</td>\n",
       "      <td>17.0</td>\n",
       "      <td>0.0</td>\n",
       "      <td>17.3</td>\n",
       "      <td>4154.1</td>\n",
       "      <td>11.4</td>\n",
       "      <td>70.7</td>\n",
       "      <td>99.8</td>\n",
       "      <td>NaN</td>\n",
       "      <td>7.2</td>\n",
       "      <td>76.5</td>\n",
       "      <td>74.1</td>\n",
       "      <td>29.3</td>\n",
       "      <td>9.4</td>\n",
       "      <td>13.35</td>\n",
       "      <td>18.21</td>\n",
       "      <td>9.53</td>\n",
       "      <td>35.83</td>\n",
       "    </tr>\n",
       "    <tr>\n",
       "      <td>2</td>\n",
       "      <td>Andorra</td>\n",
       "      <td>0.0</td>\n",
       "      <td>1.0</td>\n",
       "      <td>0.0</td>\n",
       "      <td>163.8</td>\n",
       "      <td>39896.4</td>\n",
       "      <td>-99</td>\n",
       "      <td>85.1</td>\n",
       "      <td>-99</td>\n",
       "      <td>3.7</td>\n",
       "      <td>8.1</td>\n",
       "      <td>-99</td>\n",
       "      <td>None</td>\n",
       "      <td>14.4</td>\n",
       "      <td>19.0</td>\n",
       "      <td>7.08</td>\n",
       "      <td>9.76</td>\n",
       "      <td>-0.92</td>\n",
       "      <td>24.31</td>\n",
       "    </tr>\n",
       "    <tr>\n",
       "      <td>3</td>\n",
       "      <td>Argentina</td>\n",
       "      <td>0.0</td>\n",
       "      <td>2.0</td>\n",
       "      <td>0.0</td>\n",
       "      <td>16.2</td>\n",
       "      <td>14564.5</td>\n",
       "      <td>6.5</td>\n",
       "      <td>91.8</td>\n",
       "      <td>5.0</td>\n",
       "      <td>3.8</td>\n",
       "      <td>4.8</td>\n",
       "      <td>79.8</td>\n",
       "      <td>72.2</td>\n",
       "      <td>24.9</td>\n",
       "      <td>15.4</td>\n",
       "      <td>20.31</td>\n",
       "      <td>17.27</td>\n",
       "      <td>4.80</td>\n",
       "      <td>23.29</td>\n",
       "    </tr>\n",
       "    <tr>\n",
       "      <td>4</td>\n",
       "      <td>Armenia</td>\n",
       "      <td>0.0</td>\n",
       "      <td>1.0</td>\n",
       "      <td>0.0</td>\n",
       "      <td>102.9</td>\n",
       "      <td>3489.1</td>\n",
       "      <td>16.6</td>\n",
       "      <td>62.7</td>\n",
       "      <td>19.3</td>\n",
       "      <td>2.8</td>\n",
       "      <td>4.5</td>\n",
       "      <td>77.0</td>\n",
       "      <td>70.6</td>\n",
       "      <td>20.0</td>\n",
       "      <td>16.9</td>\n",
       "      <td>-4.14</td>\n",
       "      <td>2.94</td>\n",
       "      <td>-10.28</td>\n",
       "      <td>25.29</td>\n",
       "    </tr>\n",
       "    <tr>\n",
       "      <td>...</td>\n",
       "      <td>...</td>\n",
       "      <td>...</td>\n",
       "      <td>...</td>\n",
       "      <td>...</td>\n",
       "      <td>...</td>\n",
       "      <td>...</td>\n",
       "      <td>...</td>\n",
       "      <td>...</td>\n",
       "      <td>...</td>\n",
       "      <td>...</td>\n",
       "      <td>...</td>\n",
       "      <td>...</td>\n",
       "      <td>...</td>\n",
       "      <td>...</td>\n",
       "      <td>...</td>\n",
       "      <td>...</td>\n",
       "      <td>...</td>\n",
       "      <td>...</td>\n",
       "      <td>...</td>\n",
       "    </tr>\n",
       "    <tr>\n",
       "      <td>87</td>\n",
       "      <td>Ukraine</td>\n",
       "      <td>0.0</td>\n",
       "      <td>1.0</td>\n",
       "      <td>0.0</td>\n",
       "      <td>76.3</td>\n",
       "      <td>2021.6</td>\n",
       "      <td>8.8</td>\n",
       "      <td>69.7</td>\n",
       "      <td>1644.8</td>\n",
       "      <td>3.0</td>\n",
       "      <td>7.1</td>\n",
       "      <td>76.0</td>\n",
       "      <td>66.1</td>\n",
       "      <td>15.5</td>\n",
       "      <td>23.2</td>\n",
       "      <td>1.52</td>\n",
       "      <td>5.15</td>\n",
       "      <td>-14.72</td>\n",
       "      <td>24.30</td>\n",
       "    </tr>\n",
       "    <tr>\n",
       "      <td>88</td>\n",
       "      <td>United Arab Emirates</td>\n",
       "      <td>0.0</td>\n",
       "      <td>29.0</td>\n",
       "      <td>5.0</td>\n",
       "      <td>112.4</td>\n",
       "      <td>40438.8</td>\n",
       "      <td>3.7</td>\n",
       "      <td>85.5</td>\n",
       "      <td>1.3</td>\n",
       "      <td>1.6</td>\n",
       "      <td>3.6</td>\n",
       "      <td>78.2</td>\n",
       "      <td>76.0</td>\n",
       "      <td>13.9</td>\n",
       "      <td>2.4</td>\n",
       "      <td>20.76</td>\n",
       "      <td>24.98</td>\n",
       "      <td>15.74</td>\n",
       "      <td>37.75</td>\n",
       "    </tr>\n",
       "    <tr>\n",
       "      <td>89</td>\n",
       "      <td>United Kingdom</td>\n",
       "      <td>2.0</td>\n",
       "      <td>163.0</td>\n",
       "      <td>8.0</td>\n",
       "      <td>273.6</td>\n",
       "      <td>44162.4</td>\n",
       "      <td>5.0</td>\n",
       "      <td>82.6</td>\n",
       "      <td>151.7</td>\n",
       "      <td>2.8</td>\n",
       "      <td>9.1</td>\n",
       "      <td>82.8</td>\n",
       "      <td>79.0</td>\n",
       "      <td>17.7</td>\n",
       "      <td>23.9</td>\n",
       "      <td>6.92</td>\n",
       "      <td>8.21</td>\n",
       "      <td>-1.47</td>\n",
       "      <td>17.29</td>\n",
       "    </tr>\n",
       "    <tr>\n",
       "      <td>90</td>\n",
       "      <td>United States</td>\n",
       "      <td>14.0</td>\n",
       "      <td>278.0</td>\n",
       "      <td>8.0</td>\n",
       "      <td>35.5</td>\n",
       "      <td>56053.8</td>\n",
       "      <td>4.9</td>\n",
       "      <td>81.6</td>\n",
       "      <td>616.5</td>\n",
       "      <td>2.6</td>\n",
       "      <td>17.1</td>\n",
       "      <td>81.2</td>\n",
       "      <td>76.5</td>\n",
       "      <td>18.9</td>\n",
       "      <td>21.5</td>\n",
       "      <td>-1.42</td>\n",
       "      <td>2.45</td>\n",
       "      <td>-7.58</td>\n",
       "      <td>23.01</td>\n",
       "    </tr>\n",
       "    <tr>\n",
       "      <td>91</td>\n",
       "      <td>Vietnam</td>\n",
       "      <td>0.0</td>\n",
       "      <td>16.0</td>\n",
       "      <td>16.0</td>\n",
       "      <td>308.1</td>\n",
       "      <td>2067.9</td>\n",
       "      <td>2.2</td>\n",
       "      <td>33.6</td>\n",
       "      <td>11.0</td>\n",
       "      <td>1.2</td>\n",
       "      <td>7.1</td>\n",
       "      <td>80.3</td>\n",
       "      <td>70.7</td>\n",
       "      <td>23.1</td>\n",
       "      <td>11.1</td>\n",
       "      <td>22.08</td>\n",
       "      <td>24.76</td>\n",
       "      <td>16.56</td>\n",
       "      <td>28.56</td>\n",
       "    </tr>\n",
       "  </tbody>\n",
       "</table>\n",
       "<p>92 rows × 19 columns</p>\n",
       "</div>"
      ],
      "text/plain": [
       "                 Country  Deaths  Confirmed  Recovered  \\\n",
       "0            Afghanistan     0.0        1.0        0.0   \n",
       "1                Algeria     0.0       17.0        0.0   \n",
       "2                Andorra     0.0        1.0        0.0   \n",
       "3              Argentina     0.0        2.0        0.0   \n",
       "4                Armenia     0.0        1.0        0.0   \n",
       "..                   ...     ...        ...        ...   \n",
       "87               Ukraine     0.0        1.0        0.0   \n",
       "88  United Arab Emirates     0.0       29.0        5.0   \n",
       "89        United Kingdom     2.0      163.0        8.0   \n",
       "90         United States    14.0      278.0        8.0   \n",
       "91               Vietnam     0.0       16.0       16.0   \n",
       "\n",
       "    Population density (per km2, 2017)  GDP per capita (current US$)  \\\n",
       "0                                 54.4                         623.2   \n",
       "1                                 17.3                        4154.1   \n",
       "2                                163.8                       39896.4   \n",
       "3                                 16.2                       14564.5   \n",
       "4                                102.9                        3489.1   \n",
       "..                                 ...                           ...   \n",
       "87                                76.3                        2021.6   \n",
       "88                               112.4                       40438.8   \n",
       "89                               273.6                       44162.4   \n",
       "90                                35.5                       56053.8   \n",
       "91                               308.1                        2067.9   \n",
       "\n",
       "   Unemployment (% of labour force)  Urban population (% of total population)  \\\n",
       "0                               8.6                                      26.7   \n",
       "1                              11.4                                      70.7   \n",
       "2                               -99                                      85.1   \n",
       "3                               6.5                                      91.8   \n",
       "4                              16.6                                      62.7   \n",
       "..                              ...                                       ...   \n",
       "87                              8.8                                      69.7   \n",
       "88                              3.7                                      85.5   \n",
       "89                              5.0                                      82.6   \n",
       "90                              4.9                                      81.6   \n",
       "91                              2.2                                      33.6   \n",
       "\n",
       "   Refugees and others of concern to UNHCR (in thousands)  \\\n",
       "0                                              1513.1       \n",
       "1                                                99.8       \n",
       "2                                                 -99       \n",
       "3                                                 5.0       \n",
       "4                                                19.3       \n",
       "..                                                ...       \n",
       "87                                             1644.8       \n",
       "88                                                1.3       \n",
       "89                                              151.7       \n",
       "90                                              616.5       \n",
       "91                                               11.0       \n",
       "\n",
       "   Health: Physicians (per 1000 pop.)  Health: Total expenditure (% of GDP)  \\\n",
       "0                                 0.3                                   8.2   \n",
       "1                                 NaN                                   7.2   \n",
       "2                                 3.7                                   8.1   \n",
       "3                                 3.8                                   4.8   \n",
       "4                                 2.8                                   4.5   \n",
       "..                                ...                                   ...   \n",
       "87                                3.0                                   7.1   \n",
       "88                                1.6                                   3.6   \n",
       "89                                2.8                                   9.1   \n",
       "90                                2.6                                  17.1   \n",
       "91                                1.2                                   7.1   \n",
       "\n",
       "   Life expectancy(W) Life expectancy(M) Age 0-14(%) Age 60+(%)  \\\n",
       "0                63.5               61.0        43.2        4.1   \n",
       "1                76.5               74.1        29.3        9.4   \n",
       "2                 -99               None        14.4       19.0   \n",
       "3                79.8               72.2        24.9       15.4   \n",
       "4                77.0               70.6        20.0       16.9   \n",
       "..                ...                ...         ...        ...   \n",
       "87               76.0               66.1        15.5       23.2   \n",
       "88               78.2               76.0        13.9        2.4   \n",
       "89               82.8               79.0        17.7       23.9   \n",
       "90               81.2               76.5        18.9       21.5   \n",
       "91               80.3               70.7        23.1       11.1   \n",
       "\n",
       "    Last Temperature  Previous Temperature  Min temperature  Max Temperature  \n",
       "0               2.88                  7.73            -4.55            28.53  \n",
       "1              13.35                 18.21             9.53            35.83  \n",
       "2               7.08                  9.76            -0.92            24.31  \n",
       "3              20.31                 17.27             4.80            23.29  \n",
       "4              -4.14                  2.94           -10.28            25.29  \n",
       "..               ...                   ...              ...              ...  \n",
       "87              1.52                  5.15           -14.72            24.30  \n",
       "88             20.76                 24.98            15.74            37.75  \n",
       "89              6.92                  8.21            -1.47            17.29  \n",
       "90             -1.42                  2.45            -7.58            23.01  \n",
       "91             22.08                 24.76            16.56            28.56  \n",
       "\n",
       "[92 rows x 19 columns]"
      ]
     },
     "execution_count": 263,
     "metadata": {},
     "output_type": "execute_result"
    }
   ],
   "source": [
    "X"
   ]
  },
  {
   "cell_type": "code",
   "execution_count": 195,
   "metadata": {},
   "outputs": [],
   "source": [
    "df_general=data_general_filtered.iloc[:,1:]"
   ]
  },
  {
   "cell_type": "markdown",
   "metadata": {},
   "source": [
    "### Combine all dataframes into one\n",
    "-using pandas concat"
   ]
  },
  {
   "cell_type": "code",
   "execution_count": 196,
   "metadata": {},
   "outputs": [],
   "source": [
    "X = pd.concat([\n",
    "    \n",
    "    data_x1,\n",
    "    data_x2.iloc[:,1:],\n",
    "    data_x3.iloc[:,1:],\n",
    "    df_general,\n",
    "    life_expectancy,\n",
    "    age_distribution,\n",
    "    df_temperature.iloc[:,1:]\n",
    "    \n",
    "    ],sort =False, axis=1)\n",
    "\n",
    "X.replace(to_replace = '...', value ='NaN',inplace=True)\n",
    "X.replace(to_replace = '~0.0', value =0,inplace=True)#~0.0"
   ]
  },
  {
   "cell_type": "code",
   "execution_count": 197,
   "metadata": {},
   "outputs": [
    {
     "ename": "PermissionError",
     "evalue": "[Errno 13] Permission denied: 'corona_bigdata.csv'",
     "output_type": "error",
     "traceback": [
      "\u001b[1;31m---------------------------------------------------------------------------\u001b[0m",
      "\u001b[1;31mPermissionError\u001b[0m                           Traceback (most recent call last)",
      "\u001b[1;32m<ipython-input-197-877aeef6176b>\u001b[0m in \u001b[0;36m<module>\u001b[1;34m\u001b[0m\n\u001b[0;32m      1\u001b[0m \u001b[1;31m#Save dataset to csv\u001b[0m\u001b[1;33m\u001b[0m\u001b[1;33m\u001b[0m\u001b[1;33m\u001b[0m\u001b[0m\n\u001b[1;32m----> 2\u001b[1;33m \u001b[0mX\u001b[0m\u001b[1;33m.\u001b[0m\u001b[0mto_csv\u001b[0m\u001b[1;33m(\u001b[0m\u001b[1;34m'corona_bigdata.csv'\u001b[0m\u001b[1;33m,\u001b[0m\u001b[0mindex\u001b[0m\u001b[1;33m=\u001b[0m\u001b[1;32mFalse\u001b[0m\u001b[1;33m)\u001b[0m\u001b[1;33m\u001b[0m\u001b[1;33m\u001b[0m\u001b[0m\n\u001b[0m",
      "\u001b[1;32m~\\Anaconda3\\lib\\site-packages\\pandas\\core\\generic.py\u001b[0m in \u001b[0;36mto_csv\u001b[1;34m(self, path_or_buf, sep, na_rep, float_format, columns, header, index, index_label, mode, encoding, compression, quoting, quotechar, line_terminator, chunksize, date_format, doublequote, escapechar, decimal)\u001b[0m\n\u001b[0;32m   3226\u001b[0m             \u001b[0mdecimal\u001b[0m\u001b[1;33m=\u001b[0m\u001b[0mdecimal\u001b[0m\u001b[1;33m,\u001b[0m\u001b[1;33m\u001b[0m\u001b[1;33m\u001b[0m\u001b[0m\n\u001b[0;32m   3227\u001b[0m         )\n\u001b[1;32m-> 3228\u001b[1;33m         \u001b[0mformatter\u001b[0m\u001b[1;33m.\u001b[0m\u001b[0msave\u001b[0m\u001b[1;33m(\u001b[0m\u001b[1;33m)\u001b[0m\u001b[1;33m\u001b[0m\u001b[1;33m\u001b[0m\u001b[0m\n\u001b[0m\u001b[0;32m   3229\u001b[0m \u001b[1;33m\u001b[0m\u001b[0m\n\u001b[0;32m   3230\u001b[0m         \u001b[1;32mif\u001b[0m \u001b[0mpath_or_buf\u001b[0m \u001b[1;32mis\u001b[0m \u001b[1;32mNone\u001b[0m\u001b[1;33m:\u001b[0m\u001b[1;33m\u001b[0m\u001b[1;33m\u001b[0m\u001b[0m\n",
      "\u001b[1;32m~\\Anaconda3\\lib\\site-packages\\pandas\\io\\formats\\csvs.py\u001b[0m in \u001b[0;36msave\u001b[1;34m(self)\u001b[0m\n\u001b[0;32m    181\u001b[0m                 \u001b[0mself\u001b[0m\u001b[1;33m.\u001b[0m\u001b[0mmode\u001b[0m\u001b[1;33m,\u001b[0m\u001b[1;33m\u001b[0m\u001b[1;33m\u001b[0m\u001b[0m\n\u001b[0;32m    182\u001b[0m                 \u001b[0mencoding\u001b[0m\u001b[1;33m=\u001b[0m\u001b[0mself\u001b[0m\u001b[1;33m.\u001b[0m\u001b[0mencoding\u001b[0m\u001b[1;33m,\u001b[0m\u001b[1;33m\u001b[0m\u001b[1;33m\u001b[0m\u001b[0m\n\u001b[1;32m--> 183\u001b[1;33m                 \u001b[0mcompression\u001b[0m\u001b[1;33m=\u001b[0m\u001b[0mself\u001b[0m\u001b[1;33m.\u001b[0m\u001b[0mcompression\u001b[0m\u001b[1;33m,\u001b[0m\u001b[1;33m\u001b[0m\u001b[1;33m\u001b[0m\u001b[0m\n\u001b[0m\u001b[0;32m    184\u001b[0m             )\n\u001b[0;32m    185\u001b[0m             \u001b[0mclose\u001b[0m \u001b[1;33m=\u001b[0m \u001b[1;32mTrue\u001b[0m\u001b[1;33m\u001b[0m\u001b[1;33m\u001b[0m\u001b[0m\n",
      "\u001b[1;32m~\\Anaconda3\\lib\\site-packages\\pandas\\io\\common.py\u001b[0m in \u001b[0;36m_get_handle\u001b[1;34m(path_or_buf, mode, encoding, compression, memory_map, is_text)\u001b[0m\n\u001b[0;32m    397\u001b[0m         \u001b[1;32mif\u001b[0m \u001b[0mencoding\u001b[0m\u001b[1;33m:\u001b[0m\u001b[1;33m\u001b[0m\u001b[1;33m\u001b[0m\u001b[0m\n\u001b[0;32m    398\u001b[0m             \u001b[1;31m# Encoding\u001b[0m\u001b[1;33m\u001b[0m\u001b[1;33m\u001b[0m\u001b[1;33m\u001b[0m\u001b[0m\n\u001b[1;32m--> 399\u001b[1;33m             \u001b[0mf\u001b[0m \u001b[1;33m=\u001b[0m \u001b[0mopen\u001b[0m\u001b[1;33m(\u001b[0m\u001b[0mpath_or_buf\u001b[0m\u001b[1;33m,\u001b[0m \u001b[0mmode\u001b[0m\u001b[1;33m,\u001b[0m \u001b[0mencoding\u001b[0m\u001b[1;33m=\u001b[0m\u001b[0mencoding\u001b[0m\u001b[1;33m,\u001b[0m \u001b[0mnewline\u001b[0m\u001b[1;33m=\u001b[0m\u001b[1;34m\"\"\u001b[0m\u001b[1;33m)\u001b[0m\u001b[1;33m\u001b[0m\u001b[1;33m\u001b[0m\u001b[0m\n\u001b[0m\u001b[0;32m    400\u001b[0m         \u001b[1;32melif\u001b[0m \u001b[0mis_text\u001b[0m\u001b[1;33m:\u001b[0m\u001b[1;33m\u001b[0m\u001b[1;33m\u001b[0m\u001b[0m\n\u001b[0;32m    401\u001b[0m             \u001b[1;31m# No explicit encoding\u001b[0m\u001b[1;33m\u001b[0m\u001b[1;33m\u001b[0m\u001b[1;33m\u001b[0m\u001b[0m\n",
      "\u001b[1;31mPermissionError\u001b[0m: [Errno 13] Permission denied: 'corona_bigdata.csv'"
     ]
    }
   ],
   "source": [
    "#Save dataset to csv\n",
    "X.to_csv('corona_bigdata.csv',index=False)"
   ]
  },
  {
   "cell_type": "markdown",
   "metadata": {},
   "source": [
    "# Open data Set"
   ]
  },
  {
   "cell_type": "code",
   "execution_count": 262,
   "metadata": {},
   "outputs": [],
   "source": [
    "XX = pd.read_csv('corona_bigdata.csv',index_col=None,sep=',',na_values='?')\n",
    "#\n",
    "\n",
    "#Choose all but China\n",
    "XX=XX[XX['Country'] != 'China']\n",
    "\n",
    "#Take country names for linear regression model\n",
    "country_names=XX['Country'].values\n",
    "\n",
    "#Values to numeric format\n",
    "XX = XX.iloc[:,1:].astype(float)\n",
    "XX.shape\n",
    "\n",
    "XX[XX == -99] = np.nan\n",
    "XX.fillna(method='ffill', inplace=True)#method='ffill'"
   ]
  },
  {
   "cell_type": "code",
   "execution_count": 199,
   "metadata": {},
   "outputs": [],
   "source": [
    "from yellowbrick.features import Rank2D\n",
    "\n",
    "#Correlation function\n",
    "def pearsonCor(data):\n",
    "    visualizer = Rank2D(algorithm=\"pearson\",size=(1080*1.3, 720*1.3))\n",
    "    visualizer.fit_transform(data)# or df_scaled\n",
    "    #visualizer.show(outpath=str(i)+\"data_pearson.png\")\n",
    "    "
   ]
  },
  {
   "cell_type": "code",
   "execution_count": 200,
   "metadata": {},
   "outputs": [
    {
     "data": {
      "image/png": "[encoded data removed]",
      "text/plain": [
       "<Figure size 1404x936 with 2 Axes>"
      ]
     },
     "metadata": {},
     "output_type": "display_data"
    }
   ],
   "source": [
    "pearsonCor(XX.iloc[:,1:])"
   ]
  },
  {
   "cell_type": "markdown",
   "metadata": {},
   "source": [
    "# Prepare Data"
   ]
  },
  {
   "cell_type": "code",
   "execution_count": 201,
   "metadata": {},
   "outputs": [
    {
     "name": "stderr",
     "output_type": "stream",
     "text": [
      "C:\\Users\\Yooru\\Anaconda3\\lib\\site-packages\\ipykernel_launcher.py:2: FutureWarning:\n",
      "\n",
      "The 'get_values' method is deprecated and will be removed in a future version. Use '.to_numpy()' or '.array' instead.\n",
      "\n"
     ]
    }
   ],
   "source": [
    "def StandardizeAndColumns(data):\n",
    "    colnamesX = data.iloc[:,3:].columns.get_values()\n",
    "\n",
    "    meanV=data['Confirmed'].mean()\n",
    "    stdV=data['Confirmed'].std()\n",
    "\n",
    "    scaled_values=(data.iloc[:,1:]-meanV)/stdV\n",
    "    \n",
    "    return scaled_values,colnamesX,meanV,stdV\n",
    "\n",
    "    #from sklearn.preprocessing import StandardScaler\n",
    "    #scaler = StandardScaler()\n",
    "    #scaled_values=pd.DataFrame(scaler.fit_transform(XX.iloc[:,1:].values))\n",
    "\n",
    "    #X and Y\n",
    "scaled_values,colnamesX,meanV,stdV =StandardizeAndColumns(XX)\n",
    "X_train = scaled_values.iloc[:,2:].values\n",
    "Y_train= scaled_values.iloc[:,0].values"
   ]
  },
  {
   "cell_type": "code",
   "execution_count": null,
   "metadata": {},
   "outputs": [],
   "source": []
  },
  {
   "cell_type": "code",
   "execution_count": 202,
   "metadata": {},
   "outputs": [
    {
     "data": {
      "text/html": [
       "<div>\n",
       "<style scoped>\n",
       "    .dataframe tbody tr th:only-of-type {\n",
       "        vertical-align: middle;\n",
       "    }\n",
       "\n",
       "    .dataframe tbody tr th {\n",
       "        vertical-align: top;\n",
       "    }\n",
       "\n",
       "    .dataframe thead th {\n",
       "        text-align: right;\n",
       "    }\n",
       "</style>\n",
       "<table border=\"1\" class=\"dataframe\">\n",
       "  <thead>\n",
       "    <tr style=\"text-align: right;\">\n",
       "      <th></th>\n",
       "      <th>Deaths</th>\n",
       "      <th>Confirmed</th>\n",
       "      <th>Recovered</th>\n",
       "      <th>Population density (per km2, 2017)</th>\n",
       "      <th>GDP per capita (current US$)</th>\n",
       "      <th>Unemployment (% of labour force)</th>\n",
       "      <th>Urban population (% of total population)</th>\n",
       "      <th>Refugees and others of concern to UNHCR (in thousands)</th>\n",
       "      <th>Health: Physicians (per 1000 pop.)</th>\n",
       "      <th>Health: Total expenditure (% of GDP)</th>\n",
       "      <th>Life expectancy(W)</th>\n",
       "      <th>Life expectancy(M)</th>\n",
       "      <th>Age 0-14(%)</th>\n",
       "      <th>Age 60+(%)</th>\n",
       "      <th>Last Temperature</th>\n",
       "      <th>Previous Temperature</th>\n",
       "      <th>Min temperature</th>\n",
       "      <th>Max Temperature</th>\n",
       "    </tr>\n",
       "  </thead>\n",
       "  <tbody>\n",
       "    <tr>\n",
       "      <td>0</td>\n",
       "      <td>0.0</td>\n",
       "      <td>1.0</td>\n",
       "      <td>0.0</td>\n",
       "      <td>54.4</td>\n",
       "      <td>623.2</td>\n",
       "      <td>8.6</td>\n",
       "      <td>26.7</td>\n",
       "      <td>1513.1</td>\n",
       "      <td>0.3</td>\n",
       "      <td>8.2</td>\n",
       "      <td>63.5</td>\n",
       "      <td>61.0</td>\n",
       "      <td>43.2</td>\n",
       "      <td>4.1</td>\n",
       "      <td>2.88</td>\n",
       "      <td>7.73</td>\n",
       "      <td>-4.55</td>\n",
       "      <td>28.53</td>\n",
       "    </tr>\n",
       "    <tr>\n",
       "      <td>1</td>\n",
       "      <td>0.0</td>\n",
       "      <td>17.0</td>\n",
       "      <td>0.0</td>\n",
       "      <td>17.3</td>\n",
       "      <td>4154.1</td>\n",
       "      <td>11.4</td>\n",
       "      <td>70.7</td>\n",
       "      <td>99.8</td>\n",
       "      <td>0.3</td>\n",
       "      <td>7.2</td>\n",
       "      <td>76.5</td>\n",
       "      <td>74.1</td>\n",
       "      <td>29.3</td>\n",
       "      <td>9.4</td>\n",
       "      <td>13.35</td>\n",
       "      <td>18.21</td>\n",
       "      <td>9.53</td>\n",
       "      <td>35.83</td>\n",
       "    </tr>\n",
       "    <tr>\n",
       "      <td>2</td>\n",
       "      <td>0.0</td>\n",
       "      <td>1.0</td>\n",
       "      <td>0.0</td>\n",
       "      <td>163.8</td>\n",
       "      <td>39896.4</td>\n",
       "      <td>11.4</td>\n",
       "      <td>85.1</td>\n",
       "      <td>99.8</td>\n",
       "      <td>3.7</td>\n",
       "      <td>8.1</td>\n",
       "      <td>76.5</td>\n",
       "      <td>74.1</td>\n",
       "      <td>14.4</td>\n",
       "      <td>19.0</td>\n",
       "      <td>7.08</td>\n",
       "      <td>9.76</td>\n",
       "      <td>-0.92</td>\n",
       "      <td>24.31</td>\n",
       "    </tr>\n",
       "    <tr>\n",
       "      <td>3</td>\n",
       "      <td>0.0</td>\n",
       "      <td>2.0</td>\n",
       "      <td>0.0</td>\n",
       "      <td>16.2</td>\n",
       "      <td>14564.5</td>\n",
       "      <td>6.5</td>\n",
       "      <td>91.8</td>\n",
       "      <td>5.0</td>\n",
       "      <td>3.8</td>\n",
       "      <td>4.8</td>\n",
       "      <td>79.8</td>\n",
       "      <td>72.2</td>\n",
       "      <td>24.9</td>\n",
       "      <td>15.4</td>\n",
       "      <td>20.31</td>\n",
       "      <td>17.27</td>\n",
       "      <td>4.80</td>\n",
       "      <td>23.29</td>\n",
       "    </tr>\n",
       "    <tr>\n",
       "      <td>4</td>\n",
       "      <td>0.0</td>\n",
       "      <td>1.0</td>\n",
       "      <td>0.0</td>\n",
       "      <td>102.9</td>\n",
       "      <td>3489.1</td>\n",
       "      <td>16.6</td>\n",
       "      <td>62.7</td>\n",
       "      <td>19.3</td>\n",
       "      <td>2.8</td>\n",
       "      <td>4.5</td>\n",
       "      <td>77.0</td>\n",
       "      <td>70.6</td>\n",
       "      <td>20.0</td>\n",
       "      <td>16.9</td>\n",
       "      <td>-4.14</td>\n",
       "      <td>2.94</td>\n",
       "      <td>-10.28</td>\n",
       "      <td>25.29</td>\n",
       "    </tr>\n",
       "    <tr>\n",
       "      <td>...</td>\n",
       "      <td>...</td>\n",
       "      <td>...</td>\n",
       "      <td>...</td>\n",
       "      <td>...</td>\n",
       "      <td>...</td>\n",
       "      <td>...</td>\n",
       "      <td>...</td>\n",
       "      <td>...</td>\n",
       "      <td>...</td>\n",
       "      <td>...</td>\n",
       "      <td>...</td>\n",
       "      <td>...</td>\n",
       "      <td>...</td>\n",
       "      <td>...</td>\n",
       "      <td>...</td>\n",
       "      <td>...</td>\n",
       "      <td>...</td>\n",
       "      <td>...</td>\n",
       "    </tr>\n",
       "    <tr>\n",
       "      <td>87</td>\n",
       "      <td>0.0</td>\n",
       "      <td>1.0</td>\n",
       "      <td>0.0</td>\n",
       "      <td>76.3</td>\n",
       "      <td>2021.6</td>\n",
       "      <td>8.8</td>\n",
       "      <td>69.7</td>\n",
       "      <td>1644.8</td>\n",
       "      <td>3.0</td>\n",
       "      <td>7.1</td>\n",
       "      <td>76.0</td>\n",
       "      <td>66.1</td>\n",
       "      <td>15.5</td>\n",
       "      <td>23.2</td>\n",
       "      <td>1.52</td>\n",
       "      <td>5.15</td>\n",
       "      <td>-14.72</td>\n",
       "      <td>24.30</td>\n",
       "    </tr>\n",
       "    <tr>\n",
       "      <td>88</td>\n",
       "      <td>0.0</td>\n",
       "      <td>29.0</td>\n",
       "      <td>5.0</td>\n",
       "      <td>112.4</td>\n",
       "      <td>40438.8</td>\n",
       "      <td>3.7</td>\n",
       "      <td>85.5</td>\n",
       "      <td>1.3</td>\n",
       "      <td>1.6</td>\n",
       "      <td>3.6</td>\n",
       "      <td>78.2</td>\n",
       "      <td>76.0</td>\n",
       "      <td>13.9</td>\n",
       "      <td>2.4</td>\n",
       "      <td>20.76</td>\n",
       "      <td>24.98</td>\n",
       "      <td>15.74</td>\n",
       "      <td>37.75</td>\n",
       "    </tr>\n",
       "    <tr>\n",
       "      <td>89</td>\n",
       "      <td>2.0</td>\n",
       "      <td>163.0</td>\n",
       "      <td>8.0</td>\n",
       "      <td>273.6</td>\n",
       "      <td>44162.4</td>\n",
       "      <td>5.0</td>\n",
       "      <td>82.6</td>\n",
       "      <td>151.7</td>\n",
       "      <td>2.8</td>\n",
       "      <td>9.1</td>\n",
       "      <td>82.8</td>\n",
       "      <td>79.0</td>\n",
       "      <td>17.7</td>\n",
       "      <td>23.9</td>\n",
       "      <td>6.92</td>\n",
       "      <td>8.21</td>\n",
       "      <td>-1.47</td>\n",
       "      <td>17.29</td>\n",
       "    </tr>\n",
       "    <tr>\n",
       "      <td>90</td>\n",
       "      <td>14.0</td>\n",
       "      <td>278.0</td>\n",
       "      <td>8.0</td>\n",
       "      <td>35.5</td>\n",
       "      <td>56053.8</td>\n",
       "      <td>4.9</td>\n",
       "      <td>81.6</td>\n",
       "      <td>616.5</td>\n",
       "      <td>2.6</td>\n",
       "      <td>17.1</td>\n",
       "      <td>81.2</td>\n",
       "      <td>76.5</td>\n",
       "      <td>18.9</td>\n",
       "      <td>21.5</td>\n",
       "      <td>-1.42</td>\n",
       "      <td>2.45</td>\n",
       "      <td>-7.58</td>\n",
       "      <td>23.01</td>\n",
       "    </tr>\n",
       "    <tr>\n",
       "      <td>91</td>\n",
       "      <td>0.0</td>\n",
       "      <td>16.0</td>\n",
       "      <td>16.0</td>\n",
       "      <td>308.1</td>\n",
       "      <td>2067.9</td>\n",
       "      <td>2.2</td>\n",
       "      <td>33.6</td>\n",
       "      <td>11.0</td>\n",
       "      <td>1.2</td>\n",
       "      <td>7.1</td>\n",
       "      <td>80.3</td>\n",
       "      <td>70.7</td>\n",
       "      <td>23.1</td>\n",
       "      <td>11.1</td>\n",
       "      <td>22.08</td>\n",
       "      <td>24.76</td>\n",
       "      <td>16.56</td>\n",
       "      <td>28.56</td>\n",
       "    </tr>\n",
       "  </tbody>\n",
       "</table>\n",
       "<p>91 rows × 18 columns</p>\n",
       "</div>"
      ],
      "text/plain": [
       "    Deaths  Confirmed  Recovered  Population density (per km2, 2017)  \\\n",
       "0      0.0        1.0        0.0                                54.4   \n",
       "1      0.0       17.0        0.0                                17.3   \n",
       "2      0.0        1.0        0.0                               163.8   \n",
       "3      0.0        2.0        0.0                                16.2   \n",
       "4      0.0        1.0        0.0                               102.9   \n",
       "..     ...        ...        ...                                 ...   \n",
       "87     0.0        1.0        0.0                                76.3   \n",
       "88     0.0       29.0        5.0                               112.4   \n",
       "89     2.0      163.0        8.0                               273.6   \n",
       "90    14.0      278.0        8.0                                35.5   \n",
       "91     0.0       16.0       16.0                               308.1   \n",
       "\n",
       "    GDP per capita (current US$)  Unemployment (% of labour force)  \\\n",
       "0                          623.2                               8.6   \n",
       "1                         4154.1                              11.4   \n",
       "2                        39896.4                              11.4   \n",
       "3                        14564.5                               6.5   \n",
       "4                         3489.1                              16.6   \n",
       "..                           ...                               ...   \n",
       "87                        2021.6                               8.8   \n",
       "88                       40438.8                               3.7   \n",
       "89                       44162.4                               5.0   \n",
       "90                       56053.8                               4.9   \n",
       "91                        2067.9                               2.2   \n",
       "\n",
       "    Urban population (% of total population)  \\\n",
       "0                                       26.7   \n",
       "1                                       70.7   \n",
       "2                                       85.1   \n",
       "3                                       91.8   \n",
       "4                                       62.7   \n",
       "..                                       ...   \n",
       "87                                      69.7   \n",
       "88                                      85.5   \n",
       "89                                      82.6   \n",
       "90                                      81.6   \n",
       "91                                      33.6   \n",
       "\n",
       "    Refugees and others of concern to UNHCR (in thousands)  \\\n",
       "0                                              1513.1        \n",
       "1                                                99.8        \n",
       "2                                                99.8        \n",
       "3                                                 5.0        \n",
       "4                                                19.3        \n",
       "..                                                ...        \n",
       "87                                             1644.8        \n",
       "88                                                1.3        \n",
       "89                                              151.7        \n",
       "90                                              616.5        \n",
       "91                                               11.0        \n",
       "\n",
       "    Health: Physicians (per 1000 pop.)  Health: Total expenditure (% of GDP)  \\\n",
       "0                                  0.3                                   8.2   \n",
       "1                                  0.3                                   7.2   \n",
       "2                                  3.7                                   8.1   \n",
       "3                                  3.8                                   4.8   \n",
       "4                                  2.8                                   4.5   \n",
       "..                                 ...                                   ...   \n",
       "87                                 3.0                                   7.1   \n",
       "88                                 1.6                                   3.6   \n",
       "89                                 2.8                                   9.1   \n",
       "90                                 2.6                                  17.1   \n",
       "91                                 1.2                                   7.1   \n",
       "\n",
       "    Life expectancy(W)  Life expectancy(M)  Age 0-14(%)  Age 60+(%)  \\\n",
       "0                 63.5                61.0         43.2         4.1   \n",
       "1                 76.5                74.1         29.3         9.4   \n",
       "2                 76.5                74.1         14.4        19.0   \n",
       "3                 79.8                72.2         24.9        15.4   \n",
       "4                 77.0                70.6         20.0        16.9   \n",
       "..                 ...                 ...          ...         ...   \n",
       "87                76.0                66.1         15.5        23.2   \n",
       "88                78.2                76.0         13.9         2.4   \n",
       "89                82.8                79.0         17.7        23.9   \n",
       "90                81.2                76.5         18.9        21.5   \n",
       "91                80.3                70.7         23.1        11.1   \n",
       "\n",
       "    Last Temperature  Previous Temperature  Min temperature  Max Temperature  \n",
       "0               2.88                  7.73            -4.55            28.53  \n",
       "1              13.35                 18.21             9.53            35.83  \n",
       "2               7.08                  9.76            -0.92            24.31  \n",
       "3              20.31                 17.27             4.80            23.29  \n",
       "4              -4.14                  2.94           -10.28            25.29  \n",
       "..               ...                   ...              ...              ...  \n",
       "87              1.52                  5.15           -14.72            24.30  \n",
       "88             20.76                 24.98            15.74            37.75  \n",
       "89              6.92                  8.21            -1.47            17.29  \n",
       "90             -1.42                  2.45            -7.58            23.01  \n",
       "91             22.08                 24.76            16.56            28.56  \n",
       "\n",
       "[91 rows x 18 columns]"
      ]
     },
     "execution_count": 202,
     "metadata": {},
     "output_type": "execute_result"
    }
   ],
   "source": [
    "XX"
   ]
  },
  {
   "cell_type": "code",
   "execution_count": 203,
   "metadata": {},
   "outputs": [
    {
     "data": {
      "text/html": [
       "<div>\n",
       "<style scoped>\n",
       "    .dataframe tbody tr th:only-of-type {\n",
       "        vertical-align: middle;\n",
       "    }\n",
       "\n",
       "    .dataframe tbody tr th {\n",
       "        vertical-align: top;\n",
       "    }\n",
       "\n",
       "    .dataframe thead th {\n",
       "        text-align: right;\n",
       "    }\n",
       "</style>\n",
       "<table border=\"1\" class=\"dataframe\">\n",
       "  <thead>\n",
       "    <tr style=\"text-align: right;\">\n",
       "      <th></th>\n",
       "      <th>Confirmed</th>\n",
       "      <th>Recovered</th>\n",
       "      <th>Population density (per km2, 2017)</th>\n",
       "      <th>GDP per capita (current US$)</th>\n",
       "      <th>Unemployment (% of labour force)</th>\n",
       "      <th>Urban population (% of total population)</th>\n",
       "      <th>Refugees and others of concern to UNHCR (in thousands)</th>\n",
       "      <th>Health: Physicians (per 1000 pop.)</th>\n",
       "      <th>Health: Total expenditure (% of GDP)</th>\n",
       "      <th>Life expectancy(W)</th>\n",
       "      <th>Life expectancy(M)</th>\n",
       "      <th>Age 0-14(%)</th>\n",
       "      <th>Age 60+(%)</th>\n",
       "      <th>Last Temperature</th>\n",
       "      <th>Previous Temperature</th>\n",
       "      <th>Min temperature</th>\n",
       "      <th>Max Temperature</th>\n",
       "    </tr>\n",
       "  </thead>\n",
       "  <tbody>\n",
       "    <tr>\n",
       "      <td>0</td>\n",
       "      <td>-0.231228</td>\n",
       "      <td>-0.232261</td>\n",
       "      <td>-0.176075</td>\n",
       "      <td>0.411397</td>\n",
       "      <td>-0.223379</td>\n",
       "      <td>-0.204685</td>\n",
       "      <td>1.330509</td>\n",
       "      <td>-0.231951</td>\n",
       "      <td>-0.223792</td>\n",
       "      <td>-0.166677</td>\n",
       "      <td>-0.169259</td>\n",
       "      <td>-0.187643</td>\n",
       "      <td>-0.228027</td>\n",
       "      <td>-0.229287</td>\n",
       "      <td>-0.224277</td>\n",
       "      <td>-0.236961</td>\n",
       "      <td>-0.202795</td>\n",
       "    </tr>\n",
       "    <tr>\n",
       "      <td>1</td>\n",
       "      <td>-0.214703</td>\n",
       "      <td>-0.232261</td>\n",
       "      <td>-0.214393</td>\n",
       "      <td>4.058205</td>\n",
       "      <td>-0.220487</td>\n",
       "      <td>-0.159240</td>\n",
       "      <td>-0.129185</td>\n",
       "      <td>-0.231951</td>\n",
       "      <td>-0.224825</td>\n",
       "      <td>-0.153250</td>\n",
       "      <td>-0.155729</td>\n",
       "      <td>-0.201999</td>\n",
       "      <td>-0.222553</td>\n",
       "      <td>-0.218473</td>\n",
       "      <td>-0.213453</td>\n",
       "      <td>-0.222418</td>\n",
       "      <td>-0.195255</td>\n",
       "    </tr>\n",
       "    <tr>\n",
       "      <td>2</td>\n",
       "      <td>-0.231228</td>\n",
       "      <td>-0.232261</td>\n",
       "      <td>-0.063084</td>\n",
       "      <td>40.973818</td>\n",
       "      <td>-0.220487</td>\n",
       "      <td>-0.144368</td>\n",
       "      <td>-0.129185</td>\n",
       "      <td>-0.228440</td>\n",
       "      <td>-0.223895</td>\n",
       "      <td>-0.153250</td>\n",
       "      <td>-0.155729</td>\n",
       "      <td>-0.217389</td>\n",
       "      <td>-0.212638</td>\n",
       "      <td>-0.224949</td>\n",
       "      <td>-0.222181</td>\n",
       "      <td>-0.233211</td>\n",
       "      <td>-0.207153</td>\n",
       "    </tr>\n",
       "    <tr>\n",
       "      <td>3</td>\n",
       "      <td>-0.230196</td>\n",
       "      <td>-0.232261</td>\n",
       "      <td>-0.215529</td>\n",
       "      <td>14.810348</td>\n",
       "      <td>-0.225548</td>\n",
       "      <td>-0.137448</td>\n",
       "      <td>-0.227097</td>\n",
       "      <td>-0.228336</td>\n",
       "      <td>-0.227304</td>\n",
       "      <td>-0.149842</td>\n",
       "      <td>-0.157691</td>\n",
       "      <td>-0.206544</td>\n",
       "      <td>-0.216356</td>\n",
       "      <td>-0.211285</td>\n",
       "      <td>-0.214424</td>\n",
       "      <td>-0.227304</td>\n",
       "      <td>-0.208207</td>\n",
       "    </tr>\n",
       "    <tr>\n",
       "      <td>4</td>\n",
       "      <td>-0.231228</td>\n",
       "      <td>-0.232261</td>\n",
       "      <td>-0.125983</td>\n",
       "      <td>3.371375</td>\n",
       "      <td>-0.215116</td>\n",
       "      <td>-0.167503</td>\n",
       "      <td>-0.212328</td>\n",
       "      <td>-0.229369</td>\n",
       "      <td>-0.227614</td>\n",
       "      <td>-0.152734</td>\n",
       "      <td>-0.159344</td>\n",
       "      <td>-0.211605</td>\n",
       "      <td>-0.214806</td>\n",
       "      <td>-0.236537</td>\n",
       "      <td>-0.229225</td>\n",
       "      <td>-0.242879</td>\n",
       "      <td>-0.206141</td>\n",
       "    </tr>\n",
       "    <tr>\n",
       "      <td>...</td>\n",
       "      <td>...</td>\n",
       "      <td>...</td>\n",
       "      <td>...</td>\n",
       "      <td>...</td>\n",
       "      <td>...</td>\n",
       "      <td>...</td>\n",
       "      <td>...</td>\n",
       "      <td>...</td>\n",
       "      <td>...</td>\n",
       "      <td>...</td>\n",
       "      <td>...</td>\n",
       "      <td>...</td>\n",
       "      <td>...</td>\n",
       "      <td>...</td>\n",
       "      <td>...</td>\n",
       "      <td>...</td>\n",
       "      <td>...</td>\n",
       "    </tr>\n",
       "    <tr>\n",
       "      <td>87</td>\n",
       "      <td>-0.231228</td>\n",
       "      <td>-0.232261</td>\n",
       "      <td>-0.153457</td>\n",
       "      <td>1.855702</td>\n",
       "      <td>-0.223172</td>\n",
       "      <td>-0.160273</td>\n",
       "      <td>1.466533</td>\n",
       "      <td>-0.229163</td>\n",
       "      <td>-0.224928</td>\n",
       "      <td>-0.153766</td>\n",
       "      <td>-0.163991</td>\n",
       "      <td>-0.216252</td>\n",
       "      <td>-0.208300</td>\n",
       "      <td>-0.230691</td>\n",
       "      <td>-0.226942</td>\n",
       "      <td>-0.247464</td>\n",
       "      <td>-0.207164</td>\n",
       "    </tr>\n",
       "    <tr>\n",
       "      <td>88</td>\n",
       "      <td>-0.202309</td>\n",
       "      <td>-0.227097</td>\n",
       "      <td>-0.116171</td>\n",
       "      <td>41.534023</td>\n",
       "      <td>-0.228440</td>\n",
       "      <td>-0.143955</td>\n",
       "      <td>-0.230919</td>\n",
       "      <td>-0.230609</td>\n",
       "      <td>-0.228543</td>\n",
       "      <td>-0.151494</td>\n",
       "      <td>-0.153766</td>\n",
       "      <td>-0.217905</td>\n",
       "      <td>-0.229782</td>\n",
       "      <td>-0.210820</td>\n",
       "      <td>-0.206461</td>\n",
       "      <td>-0.216005</td>\n",
       "      <td>-0.193272</td>\n",
       "    </tr>\n",
       "    <tr>\n",
       "      <td>89</td>\n",
       "      <td>-0.063910</td>\n",
       "      <td>-0.223999</td>\n",
       "      <td>0.050320</td>\n",
       "      <td>45.379858</td>\n",
       "      <td>-0.227097</td>\n",
       "      <td>-0.146950</td>\n",
       "      <td>-0.075581</td>\n",
       "      <td>-0.229369</td>\n",
       "      <td>-0.222863</td>\n",
       "      <td>-0.146743</td>\n",
       "      <td>-0.150668</td>\n",
       "      <td>-0.213980</td>\n",
       "      <td>-0.207577</td>\n",
       "      <td>-0.225114</td>\n",
       "      <td>-0.223782</td>\n",
       "      <td>-0.233779</td>\n",
       "      <td>-0.214404</td>\n",
       "    </tr>\n",
       "    <tr>\n",
       "      <td>90</td>\n",
       "      <td>0.054865</td>\n",
       "      <td>-0.223999</td>\n",
       "      <td>-0.195596</td>\n",
       "      <td>57.661617</td>\n",
       "      <td>-0.227200</td>\n",
       "      <td>-0.147983</td>\n",
       "      <td>0.404477</td>\n",
       "      <td>-0.229576</td>\n",
       "      <td>-0.214600</td>\n",
       "      <td>-0.148396</td>\n",
       "      <td>-0.153250</td>\n",
       "      <td>-0.212741</td>\n",
       "      <td>-0.210055</td>\n",
       "      <td>-0.233728</td>\n",
       "      <td>-0.229731</td>\n",
       "      <td>-0.240090</td>\n",
       "      <td>-0.208496</td>\n",
       "    </tr>\n",
       "    <tr>\n",
       "      <td>91</td>\n",
       "      <td>-0.215736</td>\n",
       "      <td>-0.215736</td>\n",
       "      <td>0.085953</td>\n",
       "      <td>1.903522</td>\n",
       "      <td>-0.229989</td>\n",
       "      <td>-0.197558</td>\n",
       "      <td>-0.220900</td>\n",
       "      <td>-0.231022</td>\n",
       "      <td>-0.224928</td>\n",
       "      <td>-0.149325</td>\n",
       "      <td>-0.159240</td>\n",
       "      <td>-0.208403</td>\n",
       "      <td>-0.220797</td>\n",
       "      <td>-0.209456</td>\n",
       "      <td>-0.206688</td>\n",
       "      <td>-0.215158</td>\n",
       "      <td>-0.202764</td>\n",
       "    </tr>\n",
       "  </tbody>\n",
       "</table>\n",
       "<p>91 rows × 17 columns</p>\n",
       "</div>"
      ],
      "text/plain": [
       "    Confirmed  Recovered  Population density (per km2, 2017)  \\\n",
       "0   -0.231228  -0.232261                           -0.176075   \n",
       "1   -0.214703  -0.232261                           -0.214393   \n",
       "2   -0.231228  -0.232261                           -0.063084   \n",
       "3   -0.230196  -0.232261                           -0.215529   \n",
       "4   -0.231228  -0.232261                           -0.125983   \n",
       "..        ...        ...                                 ...   \n",
       "87  -0.231228  -0.232261                           -0.153457   \n",
       "88  -0.202309  -0.227097                           -0.116171   \n",
       "89  -0.063910  -0.223999                            0.050320   \n",
       "90   0.054865  -0.223999                           -0.195596   \n",
       "91  -0.215736  -0.215736                            0.085953   \n",
       "\n",
       "    GDP per capita (current US$)  Unemployment (% of labour force)  \\\n",
       "0                       0.411397                         -0.223379   \n",
       "1                       4.058205                         -0.220487   \n",
       "2                      40.973818                         -0.220487   \n",
       "3                      14.810348                         -0.225548   \n",
       "4                       3.371375                         -0.215116   \n",
       "..                           ...                               ...   \n",
       "87                      1.855702                         -0.223172   \n",
       "88                     41.534023                         -0.228440   \n",
       "89                     45.379858                         -0.227097   \n",
       "90                     57.661617                         -0.227200   \n",
       "91                      1.903522                         -0.229989   \n",
       "\n",
       "    Urban population (% of total population)  \\\n",
       "0                                  -0.204685   \n",
       "1                                  -0.159240   \n",
       "2                                  -0.144368   \n",
       "3                                  -0.137448   \n",
       "4                                  -0.167503   \n",
       "..                                       ...   \n",
       "87                                 -0.160273   \n",
       "88                                 -0.143955   \n",
       "89                                 -0.146950   \n",
       "90                                 -0.147983   \n",
       "91                                 -0.197558   \n",
       "\n",
       "    Refugees and others of concern to UNHCR (in thousands)  \\\n",
       "0                                            1.330509        \n",
       "1                                           -0.129185        \n",
       "2                                           -0.129185        \n",
       "3                                           -0.227097        \n",
       "4                                           -0.212328        \n",
       "..                                                ...        \n",
       "87                                           1.466533        \n",
       "88                                          -0.230919        \n",
       "89                                          -0.075581        \n",
       "90                                           0.404477        \n",
       "91                                          -0.220900        \n",
       "\n",
       "    Health: Physicians (per 1000 pop.)  Health: Total expenditure (% of GDP)  \\\n",
       "0                            -0.231951                             -0.223792   \n",
       "1                            -0.231951                             -0.224825   \n",
       "2                            -0.228440                             -0.223895   \n",
       "3                            -0.228336                             -0.227304   \n",
       "4                            -0.229369                             -0.227614   \n",
       "..                                 ...                                   ...   \n",
       "87                           -0.229163                             -0.224928   \n",
       "88                           -0.230609                             -0.228543   \n",
       "89                           -0.229369                             -0.222863   \n",
       "90                           -0.229576                             -0.214600   \n",
       "91                           -0.231022                             -0.224928   \n",
       "\n",
       "    Life expectancy(W)  Life expectancy(M)  Age 0-14(%)  Age 60+(%)  \\\n",
       "0            -0.166677           -0.169259    -0.187643   -0.228027   \n",
       "1            -0.153250           -0.155729    -0.201999   -0.222553   \n",
       "2            -0.153250           -0.155729    -0.217389   -0.212638   \n",
       "3            -0.149842           -0.157691    -0.206544   -0.216356   \n",
       "4            -0.152734           -0.159344    -0.211605   -0.214806   \n",
       "..                 ...                 ...          ...         ...   \n",
       "87           -0.153766           -0.163991    -0.216252   -0.208300   \n",
       "88           -0.151494           -0.153766    -0.217905   -0.229782   \n",
       "89           -0.146743           -0.150668    -0.213980   -0.207577   \n",
       "90           -0.148396           -0.153250    -0.212741   -0.210055   \n",
       "91           -0.149325           -0.159240    -0.208403   -0.220797   \n",
       "\n",
       "    Last Temperature  Previous Temperature  Min temperature  Max Temperature  \n",
       "0          -0.229287             -0.224277        -0.236961        -0.202795  \n",
       "1          -0.218473             -0.213453        -0.222418        -0.195255  \n",
       "2          -0.224949             -0.222181        -0.233211        -0.207153  \n",
       "3          -0.211285             -0.214424        -0.227304        -0.208207  \n",
       "4          -0.236537             -0.229225        -0.242879        -0.206141  \n",
       "..               ...                   ...              ...              ...  \n",
       "87         -0.230691             -0.226942        -0.247464        -0.207164  \n",
       "88         -0.210820             -0.206461        -0.216005        -0.193272  \n",
       "89         -0.225114             -0.223782        -0.233779        -0.214404  \n",
       "90         -0.233728             -0.229731        -0.240090        -0.208496  \n",
       "91         -0.209456             -0.206688        -0.215158        -0.202764  \n",
       "\n",
       "[91 rows x 17 columns]"
      ]
     },
     "execution_count": 203,
     "metadata": {},
     "output_type": "execute_result"
    }
   ],
   "source": [
    "scaled_values"
   ]
  },
  {
   "cell_type": "markdown",
   "metadata": {},
   "source": [
    "### Standardize data"
   ]
  },
  {
   "cell_type": "code",
   "execution_count": 204,
   "metadata": {},
   "outputs": [
    {
     "data": {
      "text/plain": [
       "array([[-1.76075438e-01,  4.11396557e-01, -2.23378915e-01, ...,\n",
       "        -2.24277474e-01, -2.36960590e-01, -2.02794673e-01],\n",
       "       [-2.14393320e-01,  4.05820540e+00, -2.20486999e-01, ...,\n",
       "        -2.13453447e-01, -2.22418386e-01, -1.95255036e-01],\n",
       "       [-6.30841649e-02,  4.09738177e+01, -2.20486999e-01, ...,\n",
       "        -2.22180835e-01, -2.33211428e-01, -2.07153203e-01],\n",
       "       ...,\n",
       "       [ 5.03202392e-02,  4.53798577e+01, -2.27097092e-01, ...,\n",
       "        -2.23781717e-01, -2.33779483e-01, -2.14403648e-01],\n",
       "       [-1.95595869e-01,  5.76616166e+01, -2.27200375e-01, ...,\n",
       "        -2.29730801e-01, -2.40090056e-01, -2.08495878e-01],\n",
       "       [ 8.59527706e-02,  1.90352172e+00, -2.29989008e-01, ...,\n",
       "        -2.06688430e-01, -2.15157612e-01, -2.02763688e-01]])"
      ]
     },
     "execution_count": 204,
     "metadata": {},
     "output_type": "execute_result"
    }
   ],
   "source": [
    "X_train\n",
    "#Y_train"
   ]
  },
  {
   "cell_type": "code",
   "execution_count": 205,
   "metadata": {},
   "outputs": [
    {
     "data": {
      "text/plain": [
       "(91, 15)"
      ]
     },
     "execution_count": 205,
     "metadata": {},
     "output_type": "execute_result"
    }
   ],
   "source": [
    "X_train.shape"
   ]
  },
  {
   "cell_type": "markdown",
   "metadata": {},
   "source": [
    "# Models"
   ]
  },
  {
   "cell_type": "markdown",
   "metadata": {},
   "source": [
    "## Linear Regression"
   ]
  },
  {
   "cell_type": "code",
   "execution_count": 206,
   "metadata": {},
   "outputs": [],
   "source": [
    "from sklearn.model_selection import cross_val_score\n",
    "from sklearn.linear_model import LinearRegression\n",
    "from sklearn.metrics import mean_squared_error, r2_score\n",
    "\n",
    "def LinearReg(x,y):\n",
    "    global meanV\n",
    "    global stdV\n",
    "    \n",
    "    # build and fit model\n",
    "    clf = LinearRegression()\n",
    "    clf.fit(x,y)\n",
    "\n",
    "    # output model\n",
    "    print(\"Coefficients:\" ,clf.coef_)\n",
    "    print(\"Intercept:\", clf.intercept_)\n",
    "\n",
    "    # compute predicted values\n",
    "    pred = clf.predict(x)\n",
    "\n",
    "    # compute error statistics\n",
    "    mse = mean_squared_error(y, pred)\n",
    "    r2s = r2_score(y, pred) \n",
    "    print(\"MSE = \", mse)\n",
    "    print(\"R2s = \", r2s)\n",
    "    \n",
    "    pred_invrs=pred*stdV+meanV\n",
    "  #  df_result=pd.DataFrame(pred_invrs.reshape(1,int(y.shape[0])))\n",
    "   # df_result.columns=country_names.reshape(int(y.shape[0]).values,1)\n",
    "   # print(df_result)\n",
    "    #Cross validation\n",
    "    #dfPred=pd.DataFrame(pred*stdW+meanW)\n",
    "    #dfPred.to_excel(r'PredictionResult.xlsx')\n",
    "    #print(dfPred)\n",
    "    return clf.coef_\n",
    "   \n",
    "    \n",
    "\n"
   ]
  },
  {
   "cell_type": "code",
   "execution_count": 207,
   "metadata": {},
   "outputs": [
    {
     "name": "stdout",
     "output_type": "stream",
     "text": [
      "Coefficients: [ 1.10742263e-04  1.92096859e-04  2.22574377e+01  1.70533317e+00\n",
      " -4.98842487e-02 -6.64001034e+01 -8.90006126e+01  6.87392242e-01\n",
      "  4.96836674e+01  4.66961191e+01  4.10521144e+01  2.12656264e+01\n",
      " -5.38945850e+01 -3.44485197e+00  4.93303850e+01]\n",
      "Intercept: -1.1241369314076977\n",
      "MSE =  0.8657581307206491\n",
      "R2s =  0.12462233449356586\n"
     ]
    }
   ],
   "source": [
    "coef = LinearReg(X_train,Y_train)\n",
    "coef = pd.DataFrame(coef.reshape(1,15))\n",
    "coef.columns=colnamesX"
   ]
  },
  {
   "cell_type": "code",
   "execution_count": null,
   "metadata": {},
   "outputs": [],
   "source": []
  },
  {
   "cell_type": "code",
   "execution_count": 208,
   "metadata": {},
   "outputs": [
    {
     "data": {
      "image/png": "[encoded data removed]",
      "text/plain": [
       "<Figure size 8640x1080 with 1 Axes>"
      ]
     },
     "metadata": {},
     "output_type": "display_data"
    }
   ],
   "source": [
    "import matplotlib.pyplot as plt\n",
    "import seaborn as sns\n",
    "\n",
    "rc={'font.size': 32, 'axes.labelsize': 32, 'legend.fontsize': 32.0, \n",
    "    'axes.titlesize': 32, 'xtick.labelsize': 20, 'ytick.labelsize': 20}\n",
    "sns.set(rc=rc)\n",
    "#coef.columns=colnames\n",
    "\n",
    "coef = coef\n",
    "coef=coef.sort_values(by=0, ascending=False, axis=1)\n",
    "plt.figure(figsize=(120, 15))\n",
    "\n",
    "\n",
    "ax = sns.barplot(data=coef,palette=\"Blues_d\")\n",
    "plt.savefig(\"plots/Corona_confirmed.png\")"
   ]
  },
  {
   "cell_type": "markdown",
   "metadata": {},
   "source": [
    "# Model 2"
   ]
  },
  {
   "cell_type": "code",
   "execution_count": null,
   "metadata": {},
   "outputs": [],
   "source": []
  },
  {
   "cell_type": "code",
   "execution_count": 224,
   "metadata": {},
   "outputs": [
    {
     "data": {
      "text/html": [
       "<div>\n",
       "<style scoped>\n",
       "    .dataframe tbody tr th:only-of-type {\n",
       "        vertical-align: middle;\n",
       "    }\n",
       "\n",
       "    .dataframe tbody tr th {\n",
       "        vertical-align: top;\n",
       "    }\n",
       "\n",
       "    .dataframe thead th {\n",
       "        text-align: right;\n",
       "    }\n",
       "</style>\n",
       "<table border=\"1\" class=\"dataframe\">\n",
       "  <thead>\n",
       "    <tr style=\"text-align: right;\">\n",
       "      <th></th>\n",
       "      <th>Country</th>\n",
       "      <th>Deaths</th>\n",
       "      <th>Confirmed</th>\n",
       "      <th>Recovered</th>\n",
       "      <th>Population density (per km2, 2017)</th>\n",
       "      <th>GDP per capita (current US$)</th>\n",
       "      <th>Unemployment (% of labour force)</th>\n",
       "      <th>Urban population (% of total population)</th>\n",
       "      <th>Refugees and others of concern to UNHCR (in thousands)</th>\n",
       "      <th>Health: Physicians (per 1000 pop.)</th>\n",
       "      <th>Health: Total expenditure (% of GDP)</th>\n",
       "      <th>Life expectancy(W)</th>\n",
       "      <th>Life expectancy(M)</th>\n",
       "      <th>Age 0-14(%)</th>\n",
       "      <th>Age 60+(%)</th>\n",
       "      <th>Last Temperature</th>\n",
       "      <th>Previous Temperature</th>\n",
       "      <th>Min temperature</th>\n",
       "      <th>Max Temperature</th>\n",
       "    </tr>\n",
       "  </thead>\n",
       "  <tbody>\n",
       "    <tr>\n",
       "      <td>5</td>\n",
       "      <td>Australia</td>\n",
       "      <td>3.333333</td>\n",
       "      <td>60.0</td>\n",
       "      <td>21.0</td>\n",
       "      <td>3.2</td>\n",
       "      <td>51352.2000</td>\n",
       "      <td>5.5</td>\n",
       "      <td>89.4</td>\n",
       "      <td>58.2</td>\n",
       "      <td>3.400000</td>\n",
       "      <td>9.400000</td>\n",
       "      <td>84.4</td>\n",
       "      <td>80.2</td>\n",
       "      <td>19.0</td>\n",
       "      <td>21.0</td>\n",
       "      <td>28.06</td>\n",
       "      <td>26.95</td>\n",
       "      <td>12.53</td>\n",
       "      <td>29.86</td>\n",
       "    </tr>\n",
       "    <tr>\n",
       "      <td>18</td>\n",
       "      <td>China</td>\n",
       "      <td>3.775458</td>\n",
       "      <td>80573.0</td>\n",
       "      <td>53888.0</td>\n",
       "      <td>7014.2</td>\n",
       "      <td>42431.0000</td>\n",
       "      <td>3.5</td>\n",
       "      <td>100.0</td>\n",
       "      <td>2.5</td>\n",
       "      <td>3.138462</td>\n",
       "      <td>8.046667</td>\n",
       "      <td>86.4</td>\n",
       "      <td>80.5</td>\n",
       "      <td>11.5</td>\n",
       "      <td>23.5</td>\n",
       "      <td>-5.24</td>\n",
       "      <td>0.67</td>\n",
       "      <td>-11.73</td>\n",
       "      <td>21.04</td>\n",
       "    </tr>\n",
       "    <tr>\n",
       "      <td>30</td>\n",
       "      <td>France</td>\n",
       "      <td>1.378254</td>\n",
       "      <td>653.0</td>\n",
       "      <td>12.0</td>\n",
       "      <td>35.3</td>\n",
       "      <td>28629.9875</td>\n",
       "      <td>4.0</td>\n",
       "      <td>42.0</td>\n",
       "      <td>260.2</td>\n",
       "      <td>3.138462</td>\n",
       "      <td>8.046667</td>\n",
       "      <td>84.5</td>\n",
       "      <td>78.3</td>\n",
       "      <td>21.0</td>\n",
       "      <td>22.5</td>\n",
       "      <td>7.70</td>\n",
       "      <td>9.65</td>\n",
       "      <td>1.60</td>\n",
       "      <td>23.66</td>\n",
       "    </tr>\n",
       "    <tr>\n",
       "      <td>34</td>\n",
       "      <td>Hong Kong</td>\n",
       "      <td>1.869159</td>\n",
       "      <td>107.0</td>\n",
       "      <td>46.0</td>\n",
       "      <td>235.6</td>\n",
       "      <td>41686.2000</td>\n",
       "      <td>4.2</td>\n",
       "      <td>75.3</td>\n",
       "      <td>1052.1</td>\n",
       "      <td>4.100000</td>\n",
       "      <td>11.300000</td>\n",
       "      <td>82.9</td>\n",
       "      <td>77.9</td>\n",
       "      <td>13.1</td>\n",
       "      <td>28.0</td>\n",
       "      <td>28.52</td>\n",
       "      <td>28.39</td>\n",
       "      <td>11.62</td>\n",
       "      <td>29.68</td>\n",
       "    </tr>\n",
       "    <tr>\n",
       "      <td>39</td>\n",
       "      <td>Iran</td>\n",
       "      <td>2.612176</td>\n",
       "      <td>4747.0</td>\n",
       "      <td>913.0</td>\n",
       "      <td>145.7</td>\n",
       "      <td>3346.5000</td>\n",
       "      <td>5.8</td>\n",
       "      <td>53.7</td>\n",
       "      <td>13.8</td>\n",
       "      <td>0.200000</td>\n",
       "      <td>2.800000</td>\n",
       "      <td>70.7</td>\n",
       "      <td>66.6</td>\n",
       "      <td>27.4</td>\n",
       "      <td>8.6</td>\n",
       "      <td>6.54</td>\n",
       "      <td>11.87</td>\n",
       "      <td>-0.02</td>\n",
       "      <td>31.65</td>\n",
       "    </tr>\n",
       "    <tr>\n",
       "      <td>40</td>\n",
       "      <td>Iraq</td>\n",
       "      <td>7.500000</td>\n",
       "      <td>40.0</td>\n",
       "      <td>0.0</td>\n",
       "      <td>49.8</td>\n",
       "      <td>5038.1000</td>\n",
       "      <td>11.3</td>\n",
       "      <td>73.4</td>\n",
       "      <td>978.3</td>\n",
       "      <td>1.500000</td>\n",
       "      <td>7.500000</td>\n",
       "      <td>76.2</td>\n",
       "      <td>74.0</td>\n",
       "      <td>23.7</td>\n",
       "      <td>8.8</td>\n",
       "      <td>8.92</td>\n",
       "      <td>16.21</td>\n",
       "      <td>3.84</td>\n",
       "      <td>37.40</td>\n",
       "    </tr>\n",
       "    <tr>\n",
       "      <td>43</td>\n",
       "      <td>Italy</td>\n",
       "      <td>4.249353</td>\n",
       "      <td>4636.0</td>\n",
       "      <td>523.0</td>\n",
       "      <td>384.5</td>\n",
       "      <td>37129.4000</td>\n",
       "      <td>5.9</td>\n",
       "      <td>92.1</td>\n",
       "      <td>44.7</td>\n",
       "      <td>3.600000</td>\n",
       "      <td>7.800000</td>\n",
       "      <td>83.7</td>\n",
       "      <td>80.0</td>\n",
       "      <td>27.9</td>\n",
       "      <td>16.1</td>\n",
       "      <td>6.69</td>\n",
       "      <td>9.90</td>\n",
       "      <td>-1.22</td>\n",
       "      <td>26.12</td>\n",
       "    </tr>\n",
       "    <tr>\n",
       "      <td>44</td>\n",
       "      <td>Japan</td>\n",
       "      <td>1.428571</td>\n",
       "      <td>420.0</td>\n",
       "      <td>46.0</td>\n",
       "      <td>201.8</td>\n",
       "      <td>30462.4000</td>\n",
       "      <td>11.4</td>\n",
       "      <td>69.0</td>\n",
       "      <td>216.7</td>\n",
       "      <td>3.900000</td>\n",
       "      <td>9.200000</td>\n",
       "      <td>84.7</td>\n",
       "      <td>79.9</td>\n",
       "      <td>13.5</td>\n",
       "      <td>29.4</td>\n",
       "      <td>4.06</td>\n",
       "      <td>9.28</td>\n",
       "      <td>-2.26</td>\n",
       "      <td>26.64</td>\n",
       "    </tr>\n",
       "    <tr>\n",
       "      <td>58</td>\n",
       "      <td>Netherlands</td>\n",
       "      <td>0.781250</td>\n",
       "      <td>128.0</td>\n",
       "      <td>0.0</td>\n",
       "      <td>505.2</td>\n",
       "      <td>44332.1000</td>\n",
       "      <td>5.6</td>\n",
       "      <td>90.5</td>\n",
       "      <td>116.3</td>\n",
       "      <td>3.400000</td>\n",
       "      <td>10.900000</td>\n",
       "      <td>83.1</td>\n",
       "      <td>79.4</td>\n",
       "      <td>16.4</td>\n",
       "      <td>25.0</td>\n",
       "      <td>21.19</td>\n",
       "      <td>21.37</td>\n",
       "      <td>2.68</td>\n",
       "      <td>23.44</td>\n",
       "    </tr>\n",
       "    <tr>\n",
       "      <td>66</td>\n",
       "      <td>Philippines</td>\n",
       "      <td>20.000000</td>\n",
       "      <td>5.0</td>\n",
       "      <td>1.0</td>\n",
       "      <td>124.6</td>\n",
       "      <td>12355.5000</td>\n",
       "      <td>5.3</td>\n",
       "      <td>60.5</td>\n",
       "      <td>23.7</td>\n",
       "      <td>2.300000</td>\n",
       "      <td>6.400000</td>\n",
       "      <td>81.0</td>\n",
       "      <td>72.9</td>\n",
       "      <td>14.8</td>\n",
       "      <td>24.0</td>\n",
       "      <td>25.79</td>\n",
       "      <td>26.25</td>\n",
       "      <td>22.98</td>\n",
       "      <td>29.16</td>\n",
       "    </tr>\n",
       "  </tbody>\n",
       "</table>\n",
       "</div>"
      ],
      "text/plain": [
       "        Country     Deaths  Confirmed  Recovered  \\\n",
       "5     Australia   3.333333       60.0       21.0   \n",
       "18        China   3.775458    80573.0    53888.0   \n",
       "30       France   1.378254      653.0       12.0   \n",
       "34    Hong Kong   1.869159      107.0       46.0   \n",
       "39         Iran   2.612176     4747.0      913.0   \n",
       "40         Iraq   7.500000       40.0        0.0   \n",
       "43        Italy   4.249353     4636.0      523.0   \n",
       "44        Japan   1.428571      420.0       46.0   \n",
       "58  Netherlands   0.781250      128.0        0.0   \n",
       "66  Philippines  20.000000        5.0        1.0   \n",
       "\n",
       "    Population density (per km2, 2017)  GDP per capita (current US$)  \\\n",
       "5                                  3.2                    51352.2000   \n",
       "18                              7014.2                    42431.0000   \n",
       "30                                35.3                    28629.9875   \n",
       "34                               235.6                    41686.2000   \n",
       "39                               145.7                     3346.5000   \n",
       "40                                49.8                     5038.1000   \n",
       "43                               384.5                    37129.4000   \n",
       "44                               201.8                    30462.4000   \n",
       "58                               505.2                    44332.1000   \n",
       "66                               124.6                    12355.5000   \n",
       "\n",
       "    Unemployment (% of labour force)  \\\n",
       "5                                5.5   \n",
       "18                               3.5   \n",
       "30                               4.0   \n",
       "34                               4.2   \n",
       "39                               5.8   \n",
       "40                              11.3   \n",
       "43                               5.9   \n",
       "44                              11.4   \n",
       "58                               5.6   \n",
       "66                               5.3   \n",
       "\n",
       "    Urban population (% of total population)  \\\n",
       "5                                       89.4   \n",
       "18                                     100.0   \n",
       "30                                      42.0   \n",
       "34                                      75.3   \n",
       "39                                      53.7   \n",
       "40                                      73.4   \n",
       "43                                      92.1   \n",
       "44                                      69.0   \n",
       "58                                      90.5   \n",
       "66                                      60.5   \n",
       "\n",
       "    Refugees and others of concern to UNHCR (in thousands)  \\\n",
       "5                                                58.2        \n",
       "18                                                2.5        \n",
       "30                                              260.2        \n",
       "34                                             1052.1        \n",
       "39                                               13.8        \n",
       "40                                              978.3        \n",
       "43                                               44.7        \n",
       "44                                              216.7        \n",
       "58                                              116.3        \n",
       "66                                               23.7        \n",
       "\n",
       "    Health: Physicians (per 1000 pop.)  Health: Total expenditure (% of GDP)  \\\n",
       "5                             3.400000                              9.400000   \n",
       "18                            3.138462                              8.046667   \n",
       "30                            3.138462                              8.046667   \n",
       "34                            4.100000                             11.300000   \n",
       "39                            0.200000                              2.800000   \n",
       "40                            1.500000                              7.500000   \n",
       "43                            3.600000                              7.800000   \n",
       "44                            3.900000                              9.200000   \n",
       "58                            3.400000                             10.900000   \n",
       "66                            2.300000                              6.400000   \n",
       "\n",
       "    Life expectancy(W)  Life expectancy(M)  Age 0-14(%)  Age 60+(%)  \\\n",
       "5                 84.4                80.2         19.0        21.0   \n",
       "18                86.4                80.5         11.5        23.5   \n",
       "30                84.5                78.3         21.0        22.5   \n",
       "34                82.9                77.9         13.1        28.0   \n",
       "39                70.7                66.6         27.4         8.6   \n",
       "40                76.2                74.0         23.7         8.8   \n",
       "43                83.7                80.0         27.9        16.1   \n",
       "44                84.7                79.9         13.5        29.4   \n",
       "58                83.1                79.4         16.4        25.0   \n",
       "66                81.0                72.9         14.8        24.0   \n",
       "\n",
       "    Last Temperature  Previous Temperature  Min temperature  Max Temperature  \n",
       "5              28.06                 26.95            12.53            29.86  \n",
       "18             -5.24                  0.67           -11.73            21.04  \n",
       "30              7.70                  9.65             1.60            23.66  \n",
       "34             28.52                 28.39            11.62            29.68  \n",
       "39              6.54                 11.87            -0.02            31.65  \n",
       "40              8.92                 16.21             3.84            37.40  \n",
       "43              6.69                  9.90            -1.22            26.12  \n",
       "44              4.06                  9.28            -2.26            26.64  \n",
       "58             21.19                 21.37             2.68            23.44  \n",
       "66             25.79                 26.25            22.98            29.16  "
      ]
     },
     "execution_count": 224,
     "metadata": {},
     "output_type": "execute_result"
    }
   ],
   "source": [
    "XX2.head(10)"
   ]
  },
  {
   "cell_type": "code",
   "execution_count": 217,
   "metadata": {},
   "outputs": [],
   "source": [
    "XX2 = pd.read_csv('corona_bigdata.csv',index_col=None,sep=',',na_values='?')\n",
    "#\n",
    "\n",
    "#Choose all but China\n",
    "#XX=XX[XX['Country'] != 'China']\n",
    "\n",
    "#Filter all countries with less than 1 death\n",
    "XX2=XX2[XX2['Deaths'] >= 1]\n",
    "\n",
    "#Take country names for linear regression model\n",
    "country_names=XX2['Country']\n",
    "\n",
    "#Values to numeric format\n",
    "#XX2 = XX2.iloc[:,1:].astype(float)\n",
    "XX2.shape\n",
    "\n",
    "XX2[XX2 == -99] = np.nan\n",
    "XX2.fillna(XX2.mean(), inplace=True)#method='ffill'\n",
    "\n",
    "XX2['Deaths']=XX2['Deaths']/XX2['Confirmed']*100"
   ]
  },
  {
   "cell_type": "code",
   "execution_count": 261,
   "metadata": {},
   "outputs": [
    {
     "data": {
      "text/html": [
       "<div>\n",
       "<style scoped>\n",
       "    .dataframe tbody tr th:only-of-type {\n",
       "        vertical-align: middle;\n",
       "    }\n",
       "\n",
       "    .dataframe tbody tr th {\n",
       "        vertical-align: top;\n",
       "    }\n",
       "\n",
       "    .dataframe thead th {\n",
       "        text-align: right;\n",
       "    }\n",
       "</style>\n",
       "<table border=\"1\" class=\"dataframe\">\n",
       "  <thead>\n",
       "    <tr style=\"text-align: right;\">\n",
       "      <th></th>\n",
       "      <th>Deaths</th>\n",
       "      <th>Confirmed</th>\n",
       "      <th>Recovered</th>\n",
       "      <th>Population density (per km2, 2017)</th>\n",
       "      <th>GDP per capita (current US$)</th>\n",
       "      <th>Unemployment (% of labour force)</th>\n",
       "      <th>Urban population (% of total population)</th>\n",
       "      <th>Refugees and others of concern to UNHCR (in thousands)</th>\n",
       "      <th>Health: Physicians (per 1000 pop.)</th>\n",
       "      <th>Health: Total expenditure (% of GDP)</th>\n",
       "      <th>Life expectancy(W)</th>\n",
       "      <th>Life expectancy(M)</th>\n",
       "      <th>Age 0-14(%)</th>\n",
       "      <th>Age 60+(%)</th>\n",
       "      <th>Last Temperature</th>\n",
       "      <th>Previous Temperature</th>\n",
       "      <th>Min temperature</th>\n",
       "      <th>Max Temperature</th>\n",
       "    </tr>\n",
       "  </thead>\n",
       "  <tbody>\n",
       "    <tr>\n",
       "      <td>0</td>\n",
       "      <td>0.0</td>\n",
       "      <td>1.0</td>\n",
       "      <td>0.0</td>\n",
       "      <td>54.4</td>\n",
       "      <td>623.2</td>\n",
       "      <td>8.6</td>\n",
       "      <td>26.7</td>\n",
       "      <td>1513.1</td>\n",
       "      <td>0.3</td>\n",
       "      <td>8.2</td>\n",
       "      <td>63.5</td>\n",
       "      <td>61.0</td>\n",
       "      <td>43.2</td>\n",
       "      <td>4.1</td>\n",
       "      <td>2.88</td>\n",
       "      <td>7.73</td>\n",
       "      <td>-4.55</td>\n",
       "      <td>28.53</td>\n",
       "    </tr>\n",
       "    <tr>\n",
       "      <td>1</td>\n",
       "      <td>0.0</td>\n",
       "      <td>17.0</td>\n",
       "      <td>0.0</td>\n",
       "      <td>17.3</td>\n",
       "      <td>4154.1</td>\n",
       "      <td>11.4</td>\n",
       "      <td>70.7</td>\n",
       "      <td>99.8</td>\n",
       "      <td>0.3</td>\n",
       "      <td>7.2</td>\n",
       "      <td>76.5</td>\n",
       "      <td>74.1</td>\n",
       "      <td>29.3</td>\n",
       "      <td>9.4</td>\n",
       "      <td>13.35</td>\n",
       "      <td>18.21</td>\n",
       "      <td>9.53</td>\n",
       "      <td>35.83</td>\n",
       "    </tr>\n",
       "    <tr>\n",
       "      <td>2</td>\n",
       "      <td>0.0</td>\n",
       "      <td>1.0</td>\n",
       "      <td>0.0</td>\n",
       "      <td>163.8</td>\n",
       "      <td>39896.4</td>\n",
       "      <td>11.4</td>\n",
       "      <td>85.1</td>\n",
       "      <td>99.8</td>\n",
       "      <td>3.7</td>\n",
       "      <td>8.1</td>\n",
       "      <td>76.5</td>\n",
       "      <td>74.1</td>\n",
       "      <td>14.4</td>\n",
       "      <td>19.0</td>\n",
       "      <td>7.08</td>\n",
       "      <td>9.76</td>\n",
       "      <td>-0.92</td>\n",
       "      <td>24.31</td>\n",
       "    </tr>\n",
       "    <tr>\n",
       "      <td>3</td>\n",
       "      <td>0.0</td>\n",
       "      <td>2.0</td>\n",
       "      <td>0.0</td>\n",
       "      <td>16.2</td>\n",
       "      <td>14564.5</td>\n",
       "      <td>6.5</td>\n",
       "      <td>91.8</td>\n",
       "      <td>5.0</td>\n",
       "      <td>3.8</td>\n",
       "      <td>4.8</td>\n",
       "      <td>79.8</td>\n",
       "      <td>72.2</td>\n",
       "      <td>24.9</td>\n",
       "      <td>15.4</td>\n",
       "      <td>20.31</td>\n",
       "      <td>17.27</td>\n",
       "      <td>4.80</td>\n",
       "      <td>23.29</td>\n",
       "    </tr>\n",
       "    <tr>\n",
       "      <td>4</td>\n",
       "      <td>0.0</td>\n",
       "      <td>1.0</td>\n",
       "      <td>0.0</td>\n",
       "      <td>102.9</td>\n",
       "      <td>3489.1</td>\n",
       "      <td>16.6</td>\n",
       "      <td>62.7</td>\n",
       "      <td>19.3</td>\n",
       "      <td>2.8</td>\n",
       "      <td>4.5</td>\n",
       "      <td>77.0</td>\n",
       "      <td>70.6</td>\n",
       "      <td>20.0</td>\n",
       "      <td>16.9</td>\n",
       "      <td>-4.14</td>\n",
       "      <td>2.94</td>\n",
       "      <td>-10.28</td>\n",
       "      <td>25.29</td>\n",
       "    </tr>\n",
       "    <tr>\n",
       "      <td>...</td>\n",
       "      <td>...</td>\n",
       "      <td>...</td>\n",
       "      <td>...</td>\n",
       "      <td>...</td>\n",
       "      <td>...</td>\n",
       "      <td>...</td>\n",
       "      <td>...</td>\n",
       "      <td>...</td>\n",
       "      <td>...</td>\n",
       "      <td>...</td>\n",
       "      <td>...</td>\n",
       "      <td>...</td>\n",
       "      <td>...</td>\n",
       "      <td>...</td>\n",
       "      <td>...</td>\n",
       "      <td>...</td>\n",
       "      <td>...</td>\n",
       "      <td>...</td>\n",
       "    </tr>\n",
       "    <tr>\n",
       "      <td>87</td>\n",
       "      <td>0.0</td>\n",
       "      <td>1.0</td>\n",
       "      <td>0.0</td>\n",
       "      <td>76.3</td>\n",
       "      <td>2021.6</td>\n",
       "      <td>8.8</td>\n",
       "      <td>69.7</td>\n",
       "      <td>1644.8</td>\n",
       "      <td>3.0</td>\n",
       "      <td>7.1</td>\n",
       "      <td>76.0</td>\n",
       "      <td>66.1</td>\n",
       "      <td>15.5</td>\n",
       "      <td>23.2</td>\n",
       "      <td>1.52</td>\n",
       "      <td>5.15</td>\n",
       "      <td>-14.72</td>\n",
       "      <td>24.30</td>\n",
       "    </tr>\n",
       "    <tr>\n",
       "      <td>88</td>\n",
       "      <td>0.0</td>\n",
       "      <td>29.0</td>\n",
       "      <td>5.0</td>\n",
       "      <td>112.4</td>\n",
       "      <td>40438.8</td>\n",
       "      <td>3.7</td>\n",
       "      <td>85.5</td>\n",
       "      <td>1.3</td>\n",
       "      <td>1.6</td>\n",
       "      <td>3.6</td>\n",
       "      <td>78.2</td>\n",
       "      <td>76.0</td>\n",
       "      <td>13.9</td>\n",
       "      <td>2.4</td>\n",
       "      <td>20.76</td>\n",
       "      <td>24.98</td>\n",
       "      <td>15.74</td>\n",
       "      <td>37.75</td>\n",
       "    </tr>\n",
       "    <tr>\n",
       "      <td>89</td>\n",
       "      <td>2.0</td>\n",
       "      <td>163.0</td>\n",
       "      <td>8.0</td>\n",
       "      <td>273.6</td>\n",
       "      <td>44162.4</td>\n",
       "      <td>5.0</td>\n",
       "      <td>82.6</td>\n",
       "      <td>151.7</td>\n",
       "      <td>2.8</td>\n",
       "      <td>9.1</td>\n",
       "      <td>82.8</td>\n",
       "      <td>79.0</td>\n",
       "      <td>17.7</td>\n",
       "      <td>23.9</td>\n",
       "      <td>6.92</td>\n",
       "      <td>8.21</td>\n",
       "      <td>-1.47</td>\n",
       "      <td>17.29</td>\n",
       "    </tr>\n",
       "    <tr>\n",
       "      <td>90</td>\n",
       "      <td>14.0</td>\n",
       "      <td>278.0</td>\n",
       "      <td>8.0</td>\n",
       "      <td>35.5</td>\n",
       "      <td>56053.8</td>\n",
       "      <td>4.9</td>\n",
       "      <td>81.6</td>\n",
       "      <td>616.5</td>\n",
       "      <td>2.6</td>\n",
       "      <td>17.1</td>\n",
       "      <td>81.2</td>\n",
       "      <td>76.5</td>\n",
       "      <td>18.9</td>\n",
       "      <td>21.5</td>\n",
       "      <td>-1.42</td>\n",
       "      <td>2.45</td>\n",
       "      <td>-7.58</td>\n",
       "      <td>23.01</td>\n",
       "    </tr>\n",
       "    <tr>\n",
       "      <td>91</td>\n",
       "      <td>0.0</td>\n",
       "      <td>16.0</td>\n",
       "      <td>16.0</td>\n",
       "      <td>308.1</td>\n",
       "      <td>2067.9</td>\n",
       "      <td>2.2</td>\n",
       "      <td>33.6</td>\n",
       "      <td>11.0</td>\n",
       "      <td>1.2</td>\n",
       "      <td>7.1</td>\n",
       "      <td>80.3</td>\n",
       "      <td>70.7</td>\n",
       "      <td>23.1</td>\n",
       "      <td>11.1</td>\n",
       "      <td>22.08</td>\n",
       "      <td>24.76</td>\n",
       "      <td>16.56</td>\n",
       "      <td>28.56</td>\n",
       "    </tr>\n",
       "  </tbody>\n",
       "</table>\n",
       "<p>91 rows × 18 columns</p>\n",
       "</div>"
      ],
      "text/plain": [
       "    Deaths  Confirmed  Recovered  Population density (per km2, 2017)  \\\n",
       "0      0.0        1.0        0.0                                54.4   \n",
       "1      0.0       17.0        0.0                                17.3   \n",
       "2      0.0        1.0        0.0                               163.8   \n",
       "3      0.0        2.0        0.0                                16.2   \n",
       "4      0.0        1.0        0.0                               102.9   \n",
       "..     ...        ...        ...                                 ...   \n",
       "87     0.0        1.0        0.0                                76.3   \n",
       "88     0.0       29.0        5.0                               112.4   \n",
       "89     2.0      163.0        8.0                               273.6   \n",
       "90    14.0      278.0        8.0                                35.5   \n",
       "91     0.0       16.0       16.0                               308.1   \n",
       "\n",
       "    GDP per capita (current US$)  Unemployment (% of labour force)  \\\n",
       "0                          623.2                               8.6   \n",
       "1                         4154.1                              11.4   \n",
       "2                        39896.4                              11.4   \n",
       "3                        14564.5                               6.5   \n",
       "4                         3489.1                              16.6   \n",
       "..                           ...                               ...   \n",
       "87                        2021.6                               8.8   \n",
       "88                       40438.8                               3.7   \n",
       "89                       44162.4                               5.0   \n",
       "90                       56053.8                               4.9   \n",
       "91                        2067.9                               2.2   \n",
       "\n",
       "    Urban population (% of total population)  \\\n",
       "0                                       26.7   \n",
       "1                                       70.7   \n",
       "2                                       85.1   \n",
       "3                                       91.8   \n",
       "4                                       62.7   \n",
       "..                                       ...   \n",
       "87                                      69.7   \n",
       "88                                      85.5   \n",
       "89                                      82.6   \n",
       "90                                      81.6   \n",
       "91                                      33.6   \n",
       "\n",
       "    Refugees and others of concern to UNHCR (in thousands)  \\\n",
       "0                                              1513.1        \n",
       "1                                                99.8        \n",
       "2                                                99.8        \n",
       "3                                                 5.0        \n",
       "4                                                19.3        \n",
       "..                                                ...        \n",
       "87                                             1644.8        \n",
       "88                                                1.3        \n",
       "89                                              151.7        \n",
       "90                                              616.5        \n",
       "91                                               11.0        \n",
       "\n",
       "    Health: Physicians (per 1000 pop.)  Health: Total expenditure (% of GDP)  \\\n",
       "0                                  0.3                                   8.2   \n",
       "1                                  0.3                                   7.2   \n",
       "2                                  3.7                                   8.1   \n",
       "3                                  3.8                                   4.8   \n",
       "4                                  2.8                                   4.5   \n",
       "..                                 ...                                   ...   \n",
       "87                                 3.0                                   7.1   \n",
       "88                                 1.6                                   3.6   \n",
       "89                                 2.8                                   9.1   \n",
       "90                                 2.6                                  17.1   \n",
       "91                                 1.2                                   7.1   \n",
       "\n",
       "    Life expectancy(W)  Life expectancy(M)  Age 0-14(%)  Age 60+(%)  \\\n",
       "0                 63.5                61.0         43.2         4.1   \n",
       "1                 76.5                74.1         29.3         9.4   \n",
       "2                 76.5                74.1         14.4        19.0   \n",
       "3                 79.8                72.2         24.9        15.4   \n",
       "4                 77.0                70.6         20.0        16.9   \n",
       "..                 ...                 ...          ...         ...   \n",
       "87                76.0                66.1         15.5        23.2   \n",
       "88                78.2                76.0         13.9         2.4   \n",
       "89                82.8                79.0         17.7        23.9   \n",
       "90                81.2                76.5         18.9        21.5   \n",
       "91                80.3                70.7         23.1        11.1   \n",
       "\n",
       "    Last Temperature  Previous Temperature  Min temperature  Max Temperature  \n",
       "0               2.88                  7.73            -4.55            28.53  \n",
       "1              13.35                 18.21             9.53            35.83  \n",
       "2               7.08                  9.76            -0.92            24.31  \n",
       "3              20.31                 17.27             4.80            23.29  \n",
       "4              -4.14                  2.94           -10.28            25.29  \n",
       "..               ...                   ...              ...              ...  \n",
       "87              1.52                  5.15           -14.72            24.30  \n",
       "88             20.76                 24.98            15.74            37.75  \n",
       "89              6.92                  8.21            -1.47            17.29  \n",
       "90             -1.42                  2.45            -7.58            23.01  \n",
       "91             22.08                 24.76            16.56            28.56  \n",
       "\n",
       "[91 rows x 18 columns]"
      ]
     },
     "execution_count": 261,
     "metadata": {},
     "output_type": "execute_result"
    }
   ],
   "source": [
    "XX.head(10)\n",
    "country_names\n"
   ]
  },
  {
   "cell_type": "code",
   "execution_count": 219,
   "metadata": {},
   "outputs": [],
   "source": [
    "#train values\n",
    "XX2_data=XX2.iloc[:,4:]\n",
    "column_names=XX2.iloc[:,4:].columns.values\n",
    "#Label values\n",
    "XX2_labels=XX2['Deaths']"
   ]
  },
  {
   "cell_type": "code",
   "execution_count": 220,
   "metadata": {},
   "outputs": [
    {
     "name": "stdout",
     "output_type": "stream",
     "text": [
      "Coefficients: [-1.23975798e-03  1.59495629e-04 -4.96452151e-01  1.04778246e-01\n",
      " -4.67002211e-03  4.19843630e+00  3.56981360e-01  9.32336869e-01\n",
      " -1.57538476e+00 -6.32225700e-01 -1.09144899e+00 -4.05418703e+00\n",
      "  4.13493455e+00  1.29429382e+00 -1.05098570e+00]\n",
      "Intercept: 73.42912234435389\n",
      "MSE =  1.613160371337941\n",
      "R2s =  0.9197285687579345\n"
     ]
    }
   ],
   "source": [
    "coef = LinearReg(XX2_data,XX2_labels)\n",
    "coef = pd.DataFrame(coef.reshape(1,15))\n",
    "coef.columns=colnamesX"
   ]
  },
  {
   "cell_type": "code",
   "execution_count": 221,
   "metadata": {},
   "outputs": [
    {
     "data": {
      "image/png": "[encoded data removed]",
      "text/plain": [
       "<Figure size 8640x1080 with 1 Axes>"
      ]
     },
     "metadata": {},
     "output_type": "display_data"
    }
   ],
   "source": [
    "rc={'font.size': 32, 'axes.labelsize': 32, 'legend.fontsize': 32.0, \n",
    "    'axes.titlesize': 32, 'xtick.labelsize': 20, 'ytick.labelsize': 20}\n",
    "sns.set(rc=rc)\n",
    "#coef.columns=colnames\n",
    "\n",
    "coef = coef\n",
    "coef=coef.sort_values(by=0, ascending=False, axis=1)\n",
    "plt.figure(figsize=(120, 15))\n",
    "\n",
    "\n",
    "ax = sns.barplot(data=coef,palette=\"Blues_d\")\n",
    "plt.savefig(\"plots/Corona_confirmed.png\")"
   ]
  },
  {
   "cell_type": "code",
   "execution_count": 222,
   "metadata": {},
   "outputs": [
    {
     "data": {
      "text/plain": [
       "(17, 15)"
      ]
     },
     "execution_count": 222,
     "metadata": {},
     "output_type": "execute_result"
    }
   ],
   "source": [
    "XX2_data.shape"
   ]
  },
  {
   "cell_type": "code",
   "execution_count": 223,
   "metadata": {},
   "outputs": [
    {
     "data": {
      "text/plain": [
       "17"
      ]
     },
     "execution_count": 223,
     "metadata": {},
     "output_type": "execute_result"
    }
   ],
   "source": [
    "XX2_labels.shape[0]"
   ]
  },
  {
   "cell_type": "code",
   "execution_count": null,
   "metadata": {},
   "outputs": [],
   "source": []
  }
 ],
 "metadata": {
  "kernelspec": {
   "display_name": "Python 3",
   "language": "python",
   "name": "python3"
  },
  "language_info": {
   "codemirror_mode": {
    "name": "ipython",
    "version": 3
   },
   "file_extension": ".py",
   "mimetype": "text/x-python",
   "name": "python",
   "nbconvert_exporter": "python",
   "pygments_lexer": "ipython3",
   "version": "3.7.4"
  }
 },
 "nbformat": 4,
 "nbformat_minor": 2
}
